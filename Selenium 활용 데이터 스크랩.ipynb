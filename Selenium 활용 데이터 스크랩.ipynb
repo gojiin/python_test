{
 "cells": [
  {
   "cell_type": "markdown",
   "metadata": {},
   "source": [
    "## Step1. 라이브러리 및 드라이버 등록"
   ]
  },
  {
   "cell_type": "code",
   "execution_count": 85,
   "metadata": {},
   "outputs": [],
   "source": [
    "from selenium import webdriver \n",
    "from bs4 import BeautifulSoup \n",
    "import os \n",
    "from os.path import join, dirname\n",
    "\n",
    "if os.name == 'nt': \n",
    "    os_name = 'nt' \n",
    "elif os.name == 'mac': \n",
    "    os_name = 'mac' \n",
    "else : \n",
    "    os_name = 'linux'\n",
    "        \n",
    "if os_name == 'nt': \n",
    "    driver_loc = \"C:/Users/KoJiIn/Downloads/chromedriver_win32/chromedriver.exe\" \n",
    "else: \n",
    "    driver_loc = \"C:/Users/KoJiIn/Downloads/chromedriver_win32/chromedriver.exe\""
   ]
  },
  {
   "cell_type": "code",
   "execution_count": 86,
   "metadata": {},
   "outputs": [],
   "source": [
    "#크롬 옵션 설정\n",
    "options = webdriver.ChromeOptions()\n",
    "\n",
    "#헤드리스 설정 시 리눅스 같이 웹화면 없는 경우에도 웹페이지 실행 가능\n",
    "# options.add_argument('headless')\n",
    "options.add_argument(\"disable-gpu\")\n",
    "\n",
    "#웹 드라이버 정의\n",
    "driver = webdriver.Chrome(driver_loc, options=options)"
   ]
  },
  {
   "cell_type": "markdown",
   "metadata": {},
   "source": [
    "## Step2. 웹페이지 이동"
   ]
  },
  {
   "cell_type": "code",
   "execution_count": 22,
   "metadata": {},
   "outputs": [],
   "source": [
    "# URL 정의\n",
    "base_url = 'https://sparkkorea.com'\n",
    "\n",
    "# URL 이동\n",
    "driver.get(base_url)\n",
    "\n",
    "# 퀴즈메뉴 클릭 : 해당 아이콘 마우스 오른쪽 버튼 ->검사 -> 해당 element 마우스 오른쪽버튼 -> copy xpath\n",
    "driver.find_element_by_xpath('//*[@id=\"menu-item-106\"]/a').click()"
   ]
  },
  {
   "cell_type": "markdown",
   "metadata": {},
   "source": [
    "## Step3. 웹 페이지 소스 가져오기"
   ]
  },
  {
   "cell_type": "code",
   "execution_count": 23,
   "metadata": {},
   "outputs": [],
   "source": [
    "# 현재 페이지 소스 가져오기\n",
    "html = driver.page_source\n",
    "\n",
    "# BeautifulSoup로 페이지 소스 파싱\n",
    "soup = BeautifulSoup(html, \"html.parser\")"
   ]
  },
  {
   "cell_type": "markdown",
   "metadata": {},
   "source": [
    "### 실습1. 리스트 2개 -> [nameList, linkList]에 각각 데이터 담기"
   ]
  },
  {
   "cell_type": "code",
   "execution_count": 30,
   "metadata": {},
   "outputs": [],
   "source": [
    "find_div = soup.find(\"div\",{\"id\":\"id_py_quiz\"})"
   ]
  },
  {
   "cell_type": "code",
   "execution_count": 31,
   "metadata": {},
   "outputs": [
    {
     "data": {
      "text/plain": [
       "<div class=\"class_py_quiz\" id=\"id_py_quiz\">\n",
       "<h1>Python 퀴즈 </h1>\n",
       "<a href=\"https://goo.gl/forms/BLiJDnHCC8MDoHr82\"> 1. 빅데이터 분석개요 및 파이썬프로그래밍</a>\n",
       "<p></p>\n",
       "<a href=\"https://goo.gl/forms/bTvHsy0PY3am0BCq2\"> 2. 파이썬 자료형 및 파일 데이터 불러오기 </a>\n",
       "<p></p>\n",
       "<a href=\"https://goo.gl/forms/ylZZiZUHfMxm7etJ3\"> 3. 파이썬 자료형 복습 </a>\n",
       "<p></p>\n",
       "<a href=\"https://goo.gl/forms/bGl0bgpmmqLKyEHI3\"> 4. 파이썬 문법 및 데이터 불러오기 </a>\n",
       "<p></p>\n",
       "<a href=\"https://goo.gl/forms/TtbUdSHNSOmFdIUN2\"> 5. 파이썬 문법 응용 </a>\n",
       "<p></p>\n",
       "<a href=\"https://forms.gle/SMgrtcifZLKr5JNZA\"> 파이썬 코드리뷰 </a>\n",
       "<p></p>\n",
       "<a href=\"https://forms.gle/Ep3PTfsTmk3pkdhK7\"> 파이썬 스크랩관련 설문 </a>\n",
       "<p></p>\n",
       "</div>"
      ]
     },
     "execution_count": 31,
     "metadata": {},
     "output_type": "execute_result"
    }
   ],
   "source": [
    "find_div"
   ]
  },
  {
   "cell_type": "code",
   "execution_count": 32,
   "metadata": {},
   "outputs": [],
   "source": [
    "find_name = find_div.findAll(\"a\")"
   ]
  },
  {
   "cell_type": "code",
   "execution_count": 35,
   "metadata": {},
   "outputs": [
    {
     "data": {
      "text/plain": [
       "' 1. 빅데이터 분석개요 및 파이썬프로그래밍'"
      ]
     },
     "execution_count": 35,
     "metadata": {},
     "output_type": "execute_result"
    }
   ],
   "source": [
    "find_name[0].text"
   ]
  },
  {
   "cell_type": "code",
   "execution_count": 39,
   "metadata": {},
   "outputs": [
    {
     "data": {
      "text/plain": [
       "'https://goo.gl/forms/BLiJDnHCC8MDoHr82'"
      ]
     },
     "execution_count": 39,
     "metadata": {},
     "output_type": "execute_result"
    }
   ],
   "source": [
    "find_name[0].attrs['href']"
   ]
  },
  {
   "cell_type": "code",
   "execution_count": 51,
   "metadata": {},
   "outputs": [
    {
     "data": {
      "text/plain": [
       "7"
      ]
     },
     "execution_count": 51,
     "metadata": {},
     "output_type": "execute_result"
    }
   ],
   "source": [
    "len(find_name)"
   ]
  },
  {
   "cell_type": "code",
   "execution_count": 52,
   "metadata": {},
   "outputs": [],
   "source": [
    "nameList = []\n",
    "linkList = []\n",
    "\n",
    "for i in range(len(find_name)) :\n",
    "    nameList.append(find_name[i].text)\n",
    "    linkList.append(find_name[i].attrs['href'])"
   ]
  },
  {
   "cell_type": "code",
   "execution_count": 53,
   "metadata": {},
   "outputs": [
    {
     "data": {
      "text/plain": [
       "[' 1. 빅데이터 분석개요 및 파이썬프로그래밍',\n",
       " ' 2. 파이썬 자료형 및 파일 데이터 불러오기 ',\n",
       " ' 3. 파이썬 자료형 복습 ',\n",
       " ' 4. 파이썬 문법 및 데이터 불러오기 ',\n",
       " ' 5. 파이썬 문법 응용 ',\n",
       " ' 파이썬 코드리뷰 ',\n",
       " ' 파이썬 스크랩관련 설문 ']"
      ]
     },
     "execution_count": 53,
     "metadata": {},
     "output_type": "execute_result"
    }
   ],
   "source": [
    "nameList"
   ]
  },
  {
   "cell_type": "code",
   "execution_count": 54,
   "metadata": {},
   "outputs": [
    {
     "data": {
      "text/plain": [
       "['https://goo.gl/forms/BLiJDnHCC8MDoHr82',\n",
       " 'https://goo.gl/forms/bTvHsy0PY3am0BCq2',\n",
       " 'https://goo.gl/forms/ylZZiZUHfMxm7etJ3',\n",
       " 'https://goo.gl/forms/bGl0bgpmmqLKyEHI3',\n",
       " 'https://goo.gl/forms/TtbUdSHNSOmFdIUN2',\n",
       " 'https://forms.gle/SMgrtcifZLKr5JNZA',\n",
       " 'https://forms.gle/Ep3PTfsTmk3pkdhK7']"
      ]
     },
     "execution_count": 54,
     "metadata": {},
     "output_type": "execute_result"
    }
   ],
   "source": [
    "linkList"
   ]
  },
  {
   "cell_type": "markdown",
   "metadata": {},
   "source": [
    "## Step4. 데이터프레임 변환 및 저장"
   ]
  },
  {
   "cell_type": "code",
   "execution_count": 56,
   "metadata": {},
   "outputs": [],
   "source": [
    "import pandas as pd"
   ]
  },
  {
   "cell_type": "code",
   "execution_count": 57,
   "metadata": {},
   "outputs": [],
   "source": [
    "# 데이터 프레임 변환\n",
    "finalResult = pd.DataFrame(zip(nameList,linkList), columns=[\"title\",\"link\"])"
   ]
  },
  {
   "cell_type": "code",
   "execution_count": 58,
   "metadata": {},
   "outputs": [
    {
     "data": {
      "text/html": [
       "<div>\n",
       "<style scoped>\n",
       "    .dataframe tbody tr th:only-of-type {\n",
       "        vertical-align: middle;\n",
       "    }\n",
       "\n",
       "    .dataframe tbody tr th {\n",
       "        vertical-align: top;\n",
       "    }\n",
       "\n",
       "    .dataframe thead th {\n",
       "        text-align: right;\n",
       "    }\n",
       "</style>\n",
       "<table border=\"1\" class=\"dataframe\">\n",
       "  <thead>\n",
       "    <tr style=\"text-align: right;\">\n",
       "      <th></th>\n",
       "      <th>title</th>\n",
       "      <th>link</th>\n",
       "    </tr>\n",
       "  </thead>\n",
       "  <tbody>\n",
       "    <tr>\n",
       "      <th>0</th>\n",
       "      <td>1. 빅데이터 분석개요 및 파이썬프로그래밍</td>\n",
       "      <td>https://goo.gl/forms/BLiJDnHCC8MDoHr82</td>\n",
       "    </tr>\n",
       "    <tr>\n",
       "      <th>1</th>\n",
       "      <td>2. 파이썬 자료형 및 파일 데이터 불러오기</td>\n",
       "      <td>https://goo.gl/forms/bTvHsy0PY3am0BCq2</td>\n",
       "    </tr>\n",
       "    <tr>\n",
       "      <th>2</th>\n",
       "      <td>3. 파이썬 자료형 복습</td>\n",
       "      <td>https://goo.gl/forms/ylZZiZUHfMxm7etJ3</td>\n",
       "    </tr>\n",
       "    <tr>\n",
       "      <th>3</th>\n",
       "      <td>4. 파이썬 문법 및 데이터 불러오기</td>\n",
       "      <td>https://goo.gl/forms/bGl0bgpmmqLKyEHI3</td>\n",
       "    </tr>\n",
       "    <tr>\n",
       "      <th>4</th>\n",
       "      <td>5. 파이썬 문법 응용</td>\n",
       "      <td>https://goo.gl/forms/TtbUdSHNSOmFdIUN2</td>\n",
       "    </tr>\n",
       "    <tr>\n",
       "      <th>5</th>\n",
       "      <td>파이썬 코드리뷰</td>\n",
       "      <td>https://forms.gle/SMgrtcifZLKr5JNZA</td>\n",
       "    </tr>\n",
       "    <tr>\n",
       "      <th>6</th>\n",
       "      <td>파이썬 스크랩관련 설문</td>\n",
       "      <td>https://forms.gle/Ep3PTfsTmk3pkdhK7</td>\n",
       "    </tr>\n",
       "  </tbody>\n",
       "</table>\n",
       "</div>"
      ],
      "text/plain": [
       "                        title                                    link\n",
       "0     1. 빅데이터 분석개요 및 파이썬프로그래밍  https://goo.gl/forms/BLiJDnHCC8MDoHr82\n",
       "1   2. 파이썬 자료형 및 파일 데이터 불러오기   https://goo.gl/forms/bTvHsy0PY3am0BCq2\n",
       "2              3. 파이썬 자료형 복습   https://goo.gl/forms/ylZZiZUHfMxm7etJ3\n",
       "3       4. 파이썬 문법 및 데이터 불러오기   https://goo.gl/forms/bGl0bgpmmqLKyEHI3\n",
       "4               5. 파이썬 문법 응용   https://goo.gl/forms/TtbUdSHNSOmFdIUN2\n",
       "5                   파이썬 코드리뷰      https://forms.gle/SMgrtcifZLKr5JNZA\n",
       "6               파이썬 스크랩관련 설문      https://forms.gle/Ep3PTfsTmk3pkdhK7"
      ]
     },
     "execution_count": 58,
     "metadata": {},
     "output_type": "execute_result"
    }
   ],
   "source": [
    "finalResult"
   ]
  },
  {
   "cell_type": "code",
   "execution_count": 59,
   "metadata": {},
   "outputs": [],
   "source": [
    "# csv 파일로 저장\n",
    "finalResult.to_csv(\"link_scrapign_result.csv\", encoding = \"ms949\", index = False)"
   ]
  },
  {
   "cell_type": "markdown",
   "metadata": {},
   "source": [
    "## Step5. 메일 전송 라이브러리 선언"
   ]
  },
  {
   "cell_type": "code",
   "execution_count": 60,
   "metadata": {},
   "outputs": [],
   "source": [
    "# SMTP 프로토콜 로드\n",
    "import smtplib\n",
    "\n",
    "# 이메일을 간단하게 보낼 수 있는 라이브러리 로드\n",
    "from email.message import EmailMessage"
   ]
  },
  {
   "cell_type": "markdown",
   "metadata": {},
   "source": [
    "## Step6. 메일전송 프로토콜 설정"
   ]
  },
  {
   "cell_type": "code",
   "execution_count": 84,
   "metadata": {},
   "outputs": [
    {
     "data": {
      "text/plain": [
       "(235, b'2.7.0 Accepted')"
      ]
     },
     "execution_count": 84,
     "metadata": {},
     "output_type": "execute_result"
    }
   ],
   "source": [
    "# GMAIL 메일 설정\n",
    "# 보안설정 허용되지 않은 앱 설정 YES -> https://myaccount.google.com/lesssecureapps\n",
    "smtp_gmail = smtplib.SMTP('smtp.gmail.com',587) #보내는 메일에 따라 smtp.naver.com 등\n",
    "\n",
    "# 서버 연결을 설정하는 단계\n",
    "smtp_gmail.ehlo()\n",
    "\n",
    "# 연결을 암호화\n",
    "smtp_gmail.starttls()\n",
    "\n",
    "# 로그인\n",
    " #패스워드 노출 방지 기본\n",
    "import pickle #데이터 입력 및 로드 모듈 #원하는 데이터를 자료형의 변경없이 저장 가능 \n",
    "pw = \"ggwldls23!\"\n",
    "pickle.dump(pw, open(\"pw.pickle\", 'wb')) #pickle.dump(data, file)\n",
    "pw = pickle.load(open(\"pw.pickle\", 'rb')) #pickle.load(file) : 한줄 씩 읽어옴\n",
    "smtp_gmail.login('gojiin23@gmail.com', pw)"
   ]
  },
  {
   "cell_type": "markdown",
   "metadata": {},
   "source": [
    "## Step7. 수신자 목록 정의 및 불러오기"
   ]
  },
  {
   "cell_type": "code",
   "execution_count": 90,
   "metadata": {},
   "outputs": [],
   "source": [
    "# 저장된 csv 파일 불러오기\n",
    "emaliList = pd.read_csv(\"./emaliLIst.csv\")"
   ]
  },
  {
   "cell_type": "code",
   "execution_count": 91,
   "metadata": {},
   "outputs": [
    {
     "data": {
      "text/html": [
       "<div>\n",
       "<style scoped>\n",
       "    .dataframe tbody tr th:only-of-type {\n",
       "        vertical-align: middle;\n",
       "    }\n",
       "\n",
       "    .dataframe tbody tr th {\n",
       "        vertical-align: top;\n",
       "    }\n",
       "\n",
       "    .dataframe thead th {\n",
       "        text-align: right;\n",
       "    }\n",
       "</style>\n",
       "<table border=\"1\" class=\"dataframe\">\n",
       "  <thead>\n",
       "    <tr style=\"text-align: right;\">\n",
       "      <th></th>\n",
       "      <th>이름</th>\n",
       "      <th>이메일</th>\n",
       "    </tr>\n",
       "  </thead>\n",
       "  <tbody>\n",
       "    <tr>\n",
       "      <th>0</th>\n",
       "      <td>고지인</td>\n",
       "      <td>j_i__@naver.com</td>\n",
       "    </tr>\n",
       "    <tr>\n",
       "      <th>1</th>\n",
       "      <td>지경찬</td>\n",
       "      <td>dkgjd277@naver.com</td>\n",
       "    </tr>\n",
       "  </tbody>\n",
       "</table>\n",
       "</div>"
      ],
      "text/plain": [
       "    이름                 이메일\n",
       "0  고지인     j_i__@naver.com\n",
       "1  지경찬  dkgjd277@naver.com"
      ]
     },
     "execution_count": 91,
     "metadata": {},
     "output_type": "execute_result"
    }
   ],
   "source": [
    "emaliList"
   ]
  },
  {
   "cell_type": "code",
   "execution_count": 94,
   "metadata": {},
   "outputs": [],
   "source": [
    "# 이메일 주소정보 리스트 변환\n",
    "to = emaliList['이메일'].tolist()"
   ]
  },
  {
   "cell_type": "code",
   "execution_count": 95,
   "metadata": {},
   "outputs": [
    {
     "data": {
      "text/plain": [
       "['j_i__@naver.com', 'dkgjd277@naver.com']"
      ]
     },
     "execution_count": 95,
     "metadata": {},
     "output_type": "execute_result"
    }
   ],
   "source": [
    "to"
   ]
  },
  {
   "cell_type": "markdown",
   "metadata": {},
   "source": [
    "## Step8. 메일전송"
   ]
  },
  {
   "cell_type": "code",
   "execution_count": 98,
   "metadata": {},
   "outputs": [
    {
     "data": {
      "text/plain": [
       "{}"
      ]
     },
     "execution_count": 98,
     "metadata": {},
     "output_type": "execute_result"
    }
   ],
   "source": [
    "msg = EmailMessage()\n",
    "\n",
    "# 제목 입력\n",
    "msg['Subject'] = \"김철수\"\n",
    "\n",
    "# 내용 입력\n",
    "msg.set_content(\"공부해 임마\")\n",
    "\n",
    "# 보내는 사람\n",
    "msg['From'] = 'gojiin23@gmail.com'\n",
    "\n",
    "# 받는 사람\n",
    "msg['To'] = \",\".join(to)\n",
    "\n",
    "file = 'link_scrapign_result.csv'\n",
    "fp = open(file,'rb')\n",
    "file_data = fp.read()\n",
    "msg.add_attachment(file_data, maintype='text', subtype='plain', filename = 'test.csv')\n",
    "smtp_gmail.send_message(msg)"
   ]
  },
  {
   "cell_type": "code",
   "execution_count": 97,
   "metadata": {},
   "outputs": [
    {
     "data": {
      "text/plain": [
       "'j_i__@naver.com, dkgjd277@naver.com'"
      ]
     },
     "execution_count": 97,
     "metadata": {},
     "output_type": "execute_result"
    }
   ],
   "source": [
    "msg['To']"
   ]
  },
  {
   "cell_type": "markdown",
   "metadata": {},
   "source": [
    "## 실습 - Basic : 쿠팡에 등록되어있는 상품명과 가격 가져오기"
   ]
  },
  {
   "cell_type": "markdown",
   "metadata": {},
   "source": [
    "### step1. selenium 활용을 위한 url과 driver 설정(라이브러리 및 드라이버 등록, load는 상단에 있음)"
   ]
  },
  {
   "cell_type": "code",
   "execution_count": 87,
   "metadata": {},
   "outputs": [],
   "source": [
    "# URL 정의\n",
    "base_url = 'https://www.coupang.com/np/categories/401541'\n",
    "\n",
    "# URL 이동\n",
    "driver.get(base_url)"
   ]
  },
  {
   "cell_type": "markdown",
   "metadata": {},
   "source": [
    "### step2. page source 읽어오기"
   ]
  },
  {
   "cell_type": "code",
   "execution_count": 81,
   "metadata": {},
   "outputs": [],
   "source": [
    "html = driver.page_source"
   ]
  },
  {
   "cell_type": "markdown",
   "metadata": {},
   "source": [
    "### step3. beautifulSoup을 이용하여 html source를 예쁘게 만들어주기"
   ]
  },
  {
   "cell_type": "code",
   "execution_count": 11,
   "metadata": {},
   "outputs": [],
   "source": [
    "soup = BeautifulSoup(html,'html.parser')"
   ]
  },
  {
   "cell_type": "markdown",
   "metadata": {},
   "source": [
    "### step4. 원하는 데이터의 태그를 탐색하고 변수에 담기"
   ]
  },
  {
   "cell_type": "code",
   "execution_count": 14,
   "metadata": {},
   "outputs": [],
   "source": [
    "find_class = soup.find(\"div\",{\"class\":\"newcx-list\"})"
   ]
  },
  {
   "cell_type": "code",
   "execution_count": 19,
   "metadata": {},
   "outputs": [],
   "source": [
    "find_name = find_class.findAll(\"div\",{\"class\":\"name\"})"
   ]
  },
  {
   "cell_type": "code",
   "execution_count": 24,
   "metadata": {},
   "outputs": [
    {
     "data": {
      "text/plain": [
       "'아이비스 5000 5아트 인덱스노트, 화이트, 블랙, 1세트'"
      ]
     },
     "execution_count": 24,
     "metadata": {},
     "output_type": "execute_result"
    }
   ],
   "source": [
    "find_name[0].text.strip()"
   ]
  },
  {
   "cell_type": "code",
   "execution_count": 36,
   "metadata": {},
   "outputs": [],
   "source": [
    "find_price = find_class.findAll(\"em\",{\"class\":\"sale\"})"
   ]
  },
  {
   "cell_type": "code",
   "execution_count": 37,
   "metadata": {},
   "outputs": [
    {
     "data": {
      "text/plain": [
       "'11,250원'"
      ]
     },
     "execution_count": 37,
     "metadata": {},
     "output_type": "execute_result"
    }
   ],
   "source": [
    "find_price[0].text.strip()"
   ]
  },
  {
   "cell_type": "markdown",
   "metadata": {},
   "source": [
    "### step5-1. for문을 이용하여 상품명과 가격을 리스트에 담기 : range함수를 적용한 for문 사용"
   ]
  },
  {
   "cell_type": "code",
   "execution_count": 62,
   "metadata": {},
   "outputs": [],
   "source": [
    "result = []\n",
    "\n",
    "for i in range(len(find_name)) :\n",
    "    productName = find_name[i].text.strip()\n",
    "    productPrice = find_price[i].text.strip()\n",
    "    result.append([productName, productPrice])"
   ]
  },
  {
   "cell_type": "markdown",
   "metadata": {},
   "source": [
    "### step5-2. for문을 이용하여 상품명과 가격을 리스트에 담기 : 전형적인 for문 형식 사용"
   ]
  },
  {
   "cell_type": "code",
   "execution_count": 78,
   "metadata": {},
   "outputs": [],
   "source": [
    "result2 = []\n",
    "\n",
    "for name in find_name :\n",
    "    a = name.text.strip()\n",
    "    for price in find_price :\n",
    "        b = price.text.strip()\n",
    "    result2.append([a, b])"
   ]
  },
  {
   "cell_type": "markdown",
   "metadata": {},
   "source": [
    "### step6. 데이터프레임으로 변환"
   ]
  },
  {
   "cell_type": "code",
   "execution_count": 93,
   "metadata": {},
   "outputs": [],
   "source": [
    "import pandas as pd\n",
    "resultDF = pd.DataFrame(result2, columns=[\"PRODUCT_NAME\", \"PRODUCT_PRICE\"])"
   ]
  },
  {
   "cell_type": "code",
   "execution_count": 94,
   "metadata": {},
   "outputs": [
    {
     "data": {
      "text/html": [
       "<div>\n",
       "<style scoped>\n",
       "    .dataframe tbody tr th:only-of-type {\n",
       "        vertical-align: middle;\n",
       "    }\n",
       "\n",
       "    .dataframe tbody tr th {\n",
       "        vertical-align: top;\n",
       "    }\n",
       "\n",
       "    .dataframe thead th {\n",
       "        text-align: right;\n",
       "    }\n",
       "</style>\n",
       "<table border=\"1\" class=\"dataframe\">\n",
       "  <thead>\n",
       "    <tr style=\"text-align: right;\">\n",
       "      <th></th>\n",
       "      <th>PRODUCT_NAME</th>\n",
       "      <th>PRODUCT_PRICE</th>\n",
       "    </tr>\n",
       "  </thead>\n",
       "  <tbody>\n",
       "    <tr>\n",
       "      <th>0</th>\n",
       "      <td>아이비스 5000 5아트 인덱스노트, 화이트, 블랙, 1세트</td>\n",
       "      <td>4,470원</td>\n",
       "    </tr>\n",
       "    <tr>\n",
       "      <th>1</th>\n",
       "      <td>크라프트패드폴리오 바인더 A5노트패드 50매포함 5개묶음, 1세트</td>\n",
       "      <td>4,470원</td>\n",
       "    </tr>\n",
       "    <tr>\n",
       "      <th>2</th>\n",
       "      <td>포포팬시 힘내요 노트, 랜덤 발송, 8개입</td>\n",
       "      <td>4,470원</td>\n",
       "    </tr>\n",
       "    <tr>\n",
       "      <th>3</th>\n",
       "      <td>투영디자인 엘리트 스프링 유선노트 8종 세트, 혼합 색상, 1세트</td>\n",
       "      <td>4,470원</td>\n",
       "    </tr>\n",
       "    <tr>\n",
       "      <th>4</th>\n",
       "      <td>포포팬시 캠퍼스노트 3, 화이트, 10개</td>\n",
       "      <td>4,470원</td>\n",
       "    </tr>\n",
       "    <tr>\n",
       "      <th>5</th>\n",
       "      <td>포핀스트레이딩 리갈패드 A4 50매, 옐로우, 5개</td>\n",
       "      <td>4,470원</td>\n",
       "    </tr>\n",
       "    <tr>\n",
       "      <th>6</th>\n",
       "      <td>아이비스 3500 4아트 인덱스 노트 SP 2p, 랜덤 발송, 1세트</td>\n",
       "      <td>4,470원</td>\n",
       "    </tr>\n",
       "    <tr>\n",
       "      <th>7</th>\n",
       "      <td>카카오프렌즈 하프 스프링 노트, 라이언, 2개입</td>\n",
       "      <td>4,470원</td>\n",
       "    </tr>\n",
       "    <tr>\n",
       "      <th>8</th>\n",
       "      <td>쓰리엠 포스트잇 알뜰팩 76 x 76 mm 654-5A 500매, 노랑 2p + 애...</td>\n",
       "      <td>4,470원</td>\n",
       "    </tr>\n",
       "    <tr>\n",
       "      <th>9</th>\n",
       "      <td>영아트 그림일기 노트 A4 남아용, 랜덤 발송, 5개입</td>\n",
       "      <td>4,470원</td>\n",
       "    </tr>\n",
       "    <tr>\n",
       "      <th>10</th>\n",
       "      <td>리훈 오늘쓰임 1년용 가계부 스프링, 페퍼, 1개</td>\n",
       "      <td>4,470원</td>\n",
       "    </tr>\n",
       "    <tr>\n",
       "      <th>11</th>\n",
       "      <td>아이비스 4등분 연습장 SP 4p, 블루, 크림, 블랙, 민트, 1세트</td>\n",
       "      <td>4,470원</td>\n",
       "    </tr>\n",
       "    <tr>\n",
       "      <th>12</th>\n",
       "      <td>아이비스 1000 연습장 SP, 랜덤 발송, 10개</td>\n",
       "      <td>4,470원</td>\n",
       "    </tr>\n",
       "    <tr>\n",
       "      <th>13</th>\n",
       "      <td>핑크풋 7000 리미트 원링 대학노트, 블랙, 1개</td>\n",
       "      <td>4,470원</td>\n",
       "    </tr>\n",
       "    <tr>\n",
       "      <th>14</th>\n",
       "      <td>모닝글로리 중고 SP 무제 톤앤무드 노트 8p 세트, 혼합 색상, 1세트</td>\n",
       "      <td>4,470원</td>\n",
       "    </tr>\n",
       "    <tr>\n",
       "      <th>15</th>\n",
       "      <td>영아트 그림일기 노트 A4 여아용, 랜덤 발송, 5개입</td>\n",
       "      <td>4,470원</td>\n",
       "    </tr>\n",
       "    <tr>\n",
       "      <th>16</th>\n",
       "      <td>포스트잇 점착메모지 653-AST 1200매입, 혼합 색상, 1개</td>\n",
       "      <td>4,470원</td>\n",
       "    </tr>\n",
       "    <tr>\n",
       "      <th>17</th>\n",
       "      <td>옥스포드 4000 프로메테우스 스프링노트 A5 80매, 랜덤발송, 1권</td>\n",
       "      <td>4,470원</td>\n",
       "    </tr>\n",
       "    <tr>\n",
       "      <th>18</th>\n",
       "      <td>노란잠수함 3 mm 그리드노트 V.4, 베이지, 2개</td>\n",
       "      <td>4,470원</td>\n",
       "    </tr>\n",
       "    <tr>\n",
       "      <th>19</th>\n",
       "      <td>카카오프렌즈 4단 점착 메모지, 라이언, 2개입</td>\n",
       "      <td>4,470원</td>\n",
       "    </tr>\n",
       "    <tr>\n",
       "      <th>20</th>\n",
       "      <td>퍼니메이드 버튼 오거나이저 V2 A5 다이어리 + 스페셜 내지노트 A5 + 볼펜 세...</td>\n",
       "      <td>4,470원</td>\n",
       "    </tr>\n",
       "    <tr>\n",
       "      <th>21</th>\n",
       "      <td>엠플래그 인덱스 혼합 지그재그 오피스팩 3종, 1세트</td>\n",
       "      <td>4,470원</td>\n",
       "    </tr>\n",
       "    <tr>\n",
       "      <th>22</th>\n",
       "      <td>이든디자인 간직하고픈 노트, 해질녘, 1개</td>\n",
       "      <td>4,470원</td>\n",
       "    </tr>\n",
       "    <tr>\n",
       "      <th>23</th>\n",
       "      <td>스탠다드 800 리갈패드 A5, 옐로우, 15개입</td>\n",
       "      <td>4,470원</td>\n",
       "    </tr>\n",
       "    <tr>\n",
       "      <th>24</th>\n",
       "      <td>펜피아 5칸 깍두기 노트, 랜덤발송, 10권</td>\n",
       "      <td>4,470원</td>\n",
       "    </tr>\n",
       "    <tr>\n",
       "      <th>25</th>\n",
       "      <td>영아트 여아용 영어 넓은칸 스프링노트, 랜덤 발송, 5개</td>\n",
       "      <td>4,470원</td>\n",
       "    </tr>\n",
       "    <tr>\n",
       "      <th>26</th>\n",
       "      <td>카카오프렌즈 인덱스 점착 메모지, 어피치, 4개입</td>\n",
       "      <td>4,470원</td>\n",
       "    </tr>\n",
       "    <tr>\n",
       "      <th>27</th>\n",
       "      <td>미소로 A4 스프링 유선 노트 70매, 랜덤 발송, 2개</td>\n",
       "      <td>4,470원</td>\n",
       "    </tr>\n",
       "    <tr>\n",
       "      <th>28</th>\n",
       "      <td>tobe A4마이그리드 노트V.2, 그레이, 2개입</td>\n",
       "      <td>4,470원</td>\n",
       "    </tr>\n",
       "    <tr>\n",
       "      <th>29</th>\n",
       "      <td>디즈니 캐릭터 기자 수첩, 랜덤 발송, 3개입</td>\n",
       "      <td>4,470원</td>\n",
       "    </tr>\n",
       "    <tr>\n",
       "      <th>30</th>\n",
       "      <td>영아트 초등노트 그림일기, 핑크, 20개입</td>\n",
       "      <td>4,470원</td>\n",
       "    </tr>\n",
       "    <tr>\n",
       "      <th>31</th>\n",
       "      <td>포포팬시 하드커버 인덱스노트, 랜덤 발송, 2개입</td>\n",
       "      <td>4,470원</td>\n",
       "    </tr>\n",
       "    <tr>\n",
       "      <th>32</th>\n",
       "      <td>포포팬시 하드커버 마이노트, 랜덤 발송, 6개입</td>\n",
       "      <td>4,470원</td>\n",
       "    </tr>\n",
       "    <tr>\n",
       "      <th>33</th>\n",
       "      <td>제이밀크 꽃들의 작은 정원 신생아 수유일지, 혼합 색상, 1개</td>\n",
       "      <td>4,470원</td>\n",
       "    </tr>\n",
       "    <tr>\n",
       "      <th>34</th>\n",
       "      <td>아이비스 아이보리노트 해피퍼니, 랜덤 발송, 4개입</td>\n",
       "      <td>4,470원</td>\n",
       "    </tr>\n",
       "    <tr>\n",
       "      <th>35</th>\n",
       "      <td>미소로 3000 수학 연습장, 연두, 파랑, 검정, 민트, 4개입</td>\n",
       "      <td>4,470원</td>\n",
       "    </tr>\n",
       "    <tr>\n",
       "      <th>36</th>\n",
       "      <td>쓰리엠 포스트잇 플래그 알뜰팩 670-5AN-5 5p, 1세트</td>\n",
       "      <td>4,470원</td>\n",
       "    </tr>\n",
       "    <tr>\n",
       "      <th>37</th>\n",
       "      <td>엠포스지 파스텔 점착메모지 76 x 76 mm 500p 세트, 하늘, 백색, 노랑,...</td>\n",
       "      <td>4,470원</td>\n",
       "    </tr>\n",
       "    <tr>\n",
       "      <th>38</th>\n",
       "      <td>투영디자인 엘리트 스프링 유선노트, 모던카키, 5개입</td>\n",
       "      <td>4,470원</td>\n",
       "    </tr>\n",
       "    <tr>\n",
       "      <th>39</th>\n",
       "      <td>아이콘스 카카오 리틀프렌즈 신학기 스프링노트, 랜덤 발송, 16개입</td>\n",
       "      <td>4,470원</td>\n",
       "    </tr>\n",
       "    <tr>\n",
       "      <th>40</th>\n",
       "      <td>스탠다드 1500 리갈패드 A4, 화이트, 10개입</td>\n",
       "      <td>4,470원</td>\n",
       "    </tr>\n",
       "    <tr>\n",
       "      <th>41</th>\n",
       "      <td>톡톡팬시 3500A4 그리드 스프링노트 N-338, 랜덤 발송, 2개</td>\n",
       "      <td>4,470원</td>\n",
       "    </tr>\n",
       "    <tr>\n",
       "      <th>42</th>\n",
       "      <td>톡톡팬시 포 인덱스 스프링노트 N-292, 블랙, 1개</td>\n",
       "      <td>4,470원</td>\n",
       "    </tr>\n",
       "    <tr>\n",
       "      <th>43</th>\n",
       "      <td>디즈니 몬스터 토이스토리 신학기 수학 스프링 노트, 혼합 색상, 8개입</td>\n",
       "      <td>4,470원</td>\n",
       "    </tr>\n",
       "    <tr>\n",
       "      <th>44</th>\n",
       "      <td>리갈패드 Mini 50매 10개묶음, 옐로우</td>\n",
       "      <td>4,470원</td>\n",
       "    </tr>\n",
       "    <tr>\n",
       "      <th>45</th>\n",
       "      <td>쓰리엠 포스트잇 알뜰팩 76 x 76 mm KR330-5 500매, 노랑, 1개</td>\n",
       "      <td>4,470원</td>\n",
       "    </tr>\n",
       "    <tr>\n",
       "      <th>46</th>\n",
       "      <td>아이비스 5000 컬러 PP 노트 SP, 랜덤 발송, 2개입</td>\n",
       "      <td>4,470원</td>\n",
       "    </tr>\n",
       "    <tr>\n",
       "      <th>47</th>\n",
       "      <td>포스트잇 도시 컬렉션팩 654-5SS, 보라보라, 450매</td>\n",
       "      <td>4,470원</td>\n",
       "    </tr>\n",
       "    <tr>\n",
       "      <th>48</th>\n",
       "      <td>포포팬시 반반 수학 연습장, 랜덤 발송, 4개입</td>\n",
       "      <td>4,470원</td>\n",
       "    </tr>\n",
       "    <tr>\n",
       "      <th>49</th>\n",
       "      <td>투비 A4마이그리드 노트 V2, 핑크, 2개입</td>\n",
       "      <td>4,470원</td>\n",
       "    </tr>\n",
       "    <tr>\n",
       "      <th>50</th>\n",
       "      <td>러브시그널, 러브시그널(2권), 1개</td>\n",
       "      <td>4,470원</td>\n",
       "    </tr>\n",
       "    <tr>\n",
       "      <th>51</th>\n",
       "      <td>포스트잇 플래그 683-9KP 20p 9색, 6개입</td>\n",
       "      <td>4,470원</td>\n",
       "    </tr>\n",
       "    <tr>\n",
       "      <th>52</th>\n",
       "      <td>스위트데이 [무료배송]다꾸랜덤박스 인스108장+랩핑지80장+떡메2권+스티커북1개외</td>\n",
       "      <td>4,470원</td>\n",
       "    </tr>\n",
       "    <tr>\n",
       "      <th>53</th>\n",
       "      <td>톡톡팬시 떡메모지 모서리접힌 4종세트, pink, mint, yellow, viol...</td>\n",
       "      <td>4,470원</td>\n",
       "    </tr>\n",
       "    <tr>\n",
       "      <th>54</th>\n",
       "      <td>바른손 그라데이션 PP상철수첩, 랜덤 발송, 4개입</td>\n",
       "      <td>4,470원</td>\n",
       "    </tr>\n",
       "    <tr>\n",
       "      <th>55</th>\n",
       "      <td>펜피아 800 컬러노트A 10p, 랜덤 발송, 1세트</td>\n",
       "      <td>4,470원</td>\n",
       "    </tr>\n",
       "    <tr>\n",
       "      <th>56</th>\n",
       "      <td>아이비스 5000 컬러PP노트 SP, 랜덤 발송, 1개</td>\n",
       "      <td>4,470원</td>\n",
       "    </tr>\n",
       "    <tr>\n",
       "      <th>57</th>\n",
       "      <td>OXFORD 6000 포켓 절취스프링노트 좌철 100매 랜덤 발송 + 리갈패드 A4...</td>\n",
       "      <td>4,470원</td>\n",
       "    </tr>\n",
       "    <tr>\n",
       "      <th>58</th>\n",
       "      <td>아이콘스 카카오프렌즈 프렌즈스쿨 스쿨버스 스프링 수첩, A, 2개입</td>\n",
       "      <td>4,470원</td>\n",
       "    </tr>\n",
       "    <tr>\n",
       "      <th>59</th>\n",
       "      <td>포스트잇 페이지마커 670-MP 45장 10패드, 3개</td>\n",
       "      <td>4,470원</td>\n",
       "    </tr>\n",
       "  </tbody>\n",
       "</table>\n",
       "</div>"
      ],
      "text/plain": [
       "                                         PRODUCT_NAME PRODUCT_PRICE\n",
       "0                   아이비스 5000 5아트 인덱스노트, 화이트, 블랙, 1세트        4,470원\n",
       "1                크라프트패드폴리오 바인더 A5노트패드 50매포함 5개묶음, 1세트        4,470원\n",
       "2                             포포팬시 힘내요 노트, 랜덤 발송, 8개입        4,470원\n",
       "3                투영디자인 엘리트 스프링 유선노트 8종 세트, 혼합 색상, 1세트        4,470원\n",
       "4                              포포팬시 캠퍼스노트 3, 화이트, 10개        4,470원\n",
       "5                        포핀스트레이딩 리갈패드 A4 50매, 옐로우, 5개        4,470원\n",
       "6              아이비스 3500 4아트 인덱스 노트 SP 2p, 랜덤 발송, 1세트        4,470원\n",
       "7                          카카오프렌즈 하프 스프링 노트, 라이언, 2개입        4,470원\n",
       "8   쓰리엠 포스트잇 알뜰팩 76 x 76 mm 654-5A 500매, 노랑 2p + 애...        4,470원\n",
       "9                      영아트 그림일기 노트 A4 남아용, 랜덤 발송, 5개입        4,470원\n",
       "10                        리훈 오늘쓰임 1년용 가계부 스프링, 페퍼, 1개        4,470원\n",
       "11            아이비스 4등분 연습장 SP 4p, 블루, 크림, 블랙, 민트, 1세트        4,470원\n",
       "12                       아이비스 1000 연습장 SP, 랜덤 발송, 10개        4,470원\n",
       "13                       핑크풋 7000 리미트 원링 대학노트, 블랙, 1개        4,470원\n",
       "14           모닝글로리 중고 SP 무제 톤앤무드 노트 8p 세트, 혼합 색상, 1세트        4,470원\n",
       "15                     영아트 그림일기 노트 A4 여아용, 랜덤 발송, 5개입        4,470원\n",
       "16               포스트잇 점착메모지 653-AST 1200매입, 혼합 색상, 1개        4,470원\n",
       "17            옥스포드 4000 프로메테우스 스프링노트 A5 80매, 랜덤발송, 1권        4,470원\n",
       "18                      노란잠수함 3 mm 그리드노트 V.4, 베이지, 2개        4,470원\n",
       "19                         카카오프렌즈 4단 점착 메모지, 라이언, 2개입        4,470원\n",
       "20  퍼니메이드 버튼 오거나이저 V2 A5 다이어리 + 스페셜 내지노트 A5 + 볼펜 세...        4,470원\n",
       "21                      엠플래그 인덱스 혼합 지그재그 오피스팩 3종, 1세트        4,470원\n",
       "22                            이든디자인 간직하고픈 노트, 해질녘, 1개        4,470원\n",
       "23                        스탠다드 800 리갈패드 A5, 옐로우, 15개입        4,470원\n",
       "24                           펜피아 5칸 깍두기 노트, 랜덤발송, 10권        4,470원\n",
       "25                    영아트 여아용 영어 넓은칸 스프링노트, 랜덤 발송, 5개        4,470원\n",
       "26                        카카오프렌즈 인덱스 점착 메모지, 어피치, 4개입        4,470원\n",
       "27                    미소로 A4 스프링 유선 노트 70매, 랜덤 발송, 2개        4,470원\n",
       "28                       tobe A4마이그리드 노트V.2, 그레이, 2개입        4,470원\n",
       "29                          디즈니 캐릭터 기자 수첩, 랜덤 발송, 3개입        4,470원\n",
       "30                            영아트 초등노트 그림일기, 핑크, 20개입        4,470원\n",
       "31                        포포팬시 하드커버 인덱스노트, 랜덤 발송, 2개입        4,470원\n",
       "32                         포포팬시 하드커버 마이노트, 랜덤 발송, 6개입        4,470원\n",
       "33                 제이밀크 꽃들의 작은 정원 신생아 수유일지, 혼합 색상, 1개        4,470원\n",
       "34                       아이비스 아이보리노트 해피퍼니, 랜덤 발송, 4개입        4,470원\n",
       "35               미소로 3000 수학 연습장, 연두, 파랑, 검정, 민트, 4개입        4,470원\n",
       "36                 쓰리엠 포스트잇 플래그 알뜰팩 670-5AN-5 5p, 1세트        4,470원\n",
       "37  엠포스지 파스텔 점착메모지 76 x 76 mm 500p 세트, 하늘, 백색, 노랑,...        4,470원\n",
       "38                      투영디자인 엘리트 스프링 유선노트, 모던카키, 5개입        4,470원\n",
       "39              아이콘스 카카오 리틀프렌즈 신학기 스프링노트, 랜덤 발송, 16개입        4,470원\n",
       "40                       스탠다드 1500 리갈패드 A4, 화이트, 10개입        4,470원\n",
       "41             톡톡팬시 3500A4 그리드 스프링노트 N-338, 랜덤 발송, 2개        4,470원\n",
       "42                     톡톡팬시 포 인덱스 스프링노트 N-292, 블랙, 1개        4,470원\n",
       "43            디즈니 몬스터 토이스토리 신학기 수학 스프링 노트, 혼합 색상, 8개입        4,470원\n",
       "44                           리갈패드 Mini 50매 10개묶음, 옐로우        4,470원\n",
       "45       쓰리엠 포스트잇 알뜰팩 76 x 76 mm KR330-5 500매, 노랑, 1개        4,470원\n",
       "46                  아이비스 5000 컬러 PP 노트 SP, 랜덤 발송, 2개입        4,470원\n",
       "47                   포스트잇 도시 컬렉션팩 654-5SS, 보라보라, 450매        4,470원\n",
       "48                         포포팬시 반반 수학 연습장, 랜덤 발송, 4개입        4,470원\n",
       "49                          투비 A4마이그리드 노트 V2, 핑크, 2개입        4,470원\n",
       "50                               러브시그널, 러브시그널(2권), 1개        4,470원\n",
       "51                       포스트잇 플래그 683-9KP 20p 9색, 6개입        4,470원\n",
       "52      스위트데이 [무료배송]다꾸랜덤박스 인스108장+랩핑지80장+떡메2권+스티커북1개외        4,470원\n",
       "53  톡톡팬시 떡메모지 모서리접힌 4종세트, pink, mint, yellow, viol...        4,470원\n",
       "54                       바른손 그라데이션 PP상철수첩, 랜덤 발송, 4개입        4,470원\n",
       "55                      펜피아 800 컬러노트A 10p, 랜덤 발송, 1세트        4,470원\n",
       "56                     아이비스 5000 컬러PP노트 SP, 랜덤 발송, 1개        4,470원\n",
       "57  OXFORD 6000 포켓 절취스프링노트 좌철 100매 랜덤 발송 + 리갈패드 A4...        4,470원\n",
       "58              아이콘스 카카오프렌즈 프렌즈스쿨 스쿨버스 스프링 수첩, A, 2개입        4,470원\n",
       "59                     포스트잇 페이지마커 670-MP 45장 10패드, 3개        4,470원"
      ]
     },
     "execution_count": 94,
     "metadata": {},
     "output_type": "execute_result"
    }
   ],
   "source": [
    "resultDF"
   ]
  },
  {
   "cell_type": "code",
   "execution_count": null,
   "metadata": {},
   "outputs": [],
   "source": []
  }
 ],
 "metadata": {
  "kernelspec": {
   "display_name": "Python 3",
   "language": "python",
   "name": "python3"
  },
  "language_info": {
   "codemirror_mode": {
    "name": "ipython",
    "version": 3
   },
   "file_extension": ".py",
   "mimetype": "text/x-python",
   "name": "python",
   "nbconvert_exporter": "python",
   "pygments_lexer": "ipython3",
   "version": "3.7.3"
  }
 },
 "nbformat": 4,
 "nbformat_minor": 2
}
