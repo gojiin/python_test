{
 "cells": [
  {
   "cell_type": "code",
   "execution_count": 2,
   "metadata": {},
   "outputs": [],
   "source": [
    "import pandas as pd"
   ]
  },
  {
   "cell_type": "code",
   "execution_count": 3,
   "metadata": {},
   "outputs": [],
   "source": [
    "inputdf = pd.read_csv(\"../dataset/pro_actual_sales.csv\")"
   ]
  },
  {
   "cell_type": "code",
   "execution_count": 4,
   "metadata": {},
   "outputs": [],
   "source": [
    "groupKey =['regionSeg1', 'productSeg2', 'regionSeg2', 'regionSeg3', 'productSeg3']"
   ]
  },
  {
   "cell_type": "code",
   "execution_count": 5,
   "metadata": {},
   "outputs": [],
   "source": [
    "groupData = inputdf.groupby(groupKey)"
   ]
  },
  {
   "cell_type": "code",
   "execution_count": 19,
   "metadata": {},
   "outputs": [],
   "source": [
    "eachData = groupData.get_group(list(groupData.groups)[420])  # 그룹 단위 데이터 중 하나를 가져와서 이상 데이터 여부 확인"
   ]
  },
  {
   "cell_type": "code",
   "execution_count": 20,
   "metadata": {},
   "outputs": [
    {
     "data": {
      "text/html": [
       "<div>\n",
       "<style scoped>\n",
       "    .dataframe tbody tr th:only-of-type {\n",
       "        vertical-align: middle;\n",
       "    }\n",
       "\n",
       "    .dataframe tbody tr th {\n",
       "        vertical-align: top;\n",
       "    }\n",
       "\n",
       "    .dataframe thead th {\n",
       "        text-align: right;\n",
       "    }\n",
       "</style>\n",
       "<table border=\"1\" class=\"dataframe\">\n",
       "  <thead>\n",
       "    <tr style=\"text-align: right;\">\n",
       "      <th></th>\n",
       "      <th>regionSeg1</th>\n",
       "      <th>productSeg1</th>\n",
       "      <th>productSeg2</th>\n",
       "      <th>regionSeg2</th>\n",
       "      <th>regionSeg3</th>\n",
       "      <th>productSeg3</th>\n",
       "      <th>yearweek</th>\n",
       "      <th>year</th>\n",
       "      <th>week</th>\n",
       "      <th>qty</th>\n",
       "    </tr>\n",
       "  </thead>\n",
       "  <tbody>\n",
       "    <tr>\n",
       "      <th>88008</th>\n",
       "      <td>A01</td>\n",
       "      <td>NaN</td>\n",
       "      <td>PG03</td>\n",
       "      <td>SALESID0001</td>\n",
       "      <td>SITEID0001</td>\n",
       "      <td>ITEM0181</td>\n",
       "      <td>201516</td>\n",
       "      <td>2015</td>\n",
       "      <td>16</td>\n",
       "      <td>3</td>\n",
       "    </tr>\n",
       "    <tr>\n",
       "      <th>88009</th>\n",
       "      <td>A01</td>\n",
       "      <td>NaN</td>\n",
       "      <td>PG03</td>\n",
       "      <td>SALESID0001</td>\n",
       "      <td>SITEID0001</td>\n",
       "      <td>ITEM0181</td>\n",
       "      <td>201517</td>\n",
       "      <td>2015</td>\n",
       "      <td>17</td>\n",
       "      <td>4</td>\n",
       "    </tr>\n",
       "    <tr>\n",
       "      <th>88010</th>\n",
       "      <td>A01</td>\n",
       "      <td>NaN</td>\n",
       "      <td>PG03</td>\n",
       "      <td>SALESID0001</td>\n",
       "      <td>SITEID0001</td>\n",
       "      <td>ITEM0181</td>\n",
       "      <td>201518</td>\n",
       "      <td>2015</td>\n",
       "      <td>18</td>\n",
       "      <td>10</td>\n",
       "    </tr>\n",
       "    <tr>\n",
       "      <th>88011</th>\n",
       "      <td>A01</td>\n",
       "      <td>NaN</td>\n",
       "      <td>PG03</td>\n",
       "      <td>SALESID0001</td>\n",
       "      <td>SITEID0001</td>\n",
       "      <td>ITEM0181</td>\n",
       "      <td>201519</td>\n",
       "      <td>2015</td>\n",
       "      <td>19</td>\n",
       "      <td>14</td>\n",
       "    </tr>\n",
       "    <tr>\n",
       "      <th>88012</th>\n",
       "      <td>A01</td>\n",
       "      <td>NaN</td>\n",
       "      <td>PG03</td>\n",
       "      <td>SALESID0001</td>\n",
       "      <td>SITEID0001</td>\n",
       "      <td>ITEM0181</td>\n",
       "      <td>201520</td>\n",
       "      <td>2015</td>\n",
       "      <td>20</td>\n",
       "      <td>12</td>\n",
       "    </tr>\n",
       "  </tbody>\n",
       "</table>\n",
       "</div>"
      ],
      "text/plain": [
       "      regionSeg1  productSeg1 productSeg2   regionSeg2  regionSeg3  \\\n",
       "88008        A01          NaN        PG03  SALESID0001  SITEID0001   \n",
       "88009        A01          NaN        PG03  SALESID0001  SITEID0001   \n",
       "88010        A01          NaN        PG03  SALESID0001  SITEID0001   \n",
       "88011        A01          NaN        PG03  SALESID0001  SITEID0001   \n",
       "88012        A01          NaN        PG03  SALESID0001  SITEID0001   \n",
       "\n",
       "      productSeg3  yearweek  year  week  qty  \n",
       "88008    ITEM0181    201516  2015    16    3  \n",
       "88009    ITEM0181    201517  2015    17    4  \n",
       "88010    ITEM0181    201518  2015    18   10  \n",
       "88011    ITEM0181    201519  2015    19   14  \n",
       "88012    ITEM0181    201520  2015    20   12  "
      ]
     },
     "execution_count": 20,
     "metadata": {},
     "output_type": "execute_result"
    }
   ],
   "source": [
    "eachData.head()"
   ]
  },
  {
   "cell_type": "code",
   "execution_count": null,
   "metadata": {},
   "outputs": [],
   "source": [
    "def minmaxweek(inputdf) :\n",
    "    inputdf.reset_index(drop = True, inplace = True)\n",
    "    \n",
    "    minYW = min(inputdf['yearweek']) \n",
    "    maxYW = 201627 ##전체 ITEM의 확정된 maxYW \n",
    "    fullYearWeek = []\n",
    "    fullYearWeek.append(minYW)\n",
    "    \n",
    "    while(max(fullYearWeek) < maxYW) :\n",
    "        inputYW = int(postWeek(max(fullYearWeek),1))\n",
    "        fullYearWeek.append(inputYW)\n",
    "        \n",
    "    diffYearWeek = list(set(fullYearWeek).difference(set(list(inputdf.yearweek.values)))) #difference는 set형식에서만 사용할 수 있음\n",
    "    \n",
    "\n",
    "    \n",
    "    result = {\n",
    "        'regionSeg1': [],\n",
    "        'productSeg1': [],\n",
    "        'productSeg2': [],\n",
    "        'regionSeg2': [],\n",
    "        'regionSeg3': [],\n",
    "        'productSeg3': [],\n",
    "        'yearweek': [],\n",
    "        'year': [],\n",
    "        'week': [],\n",
    "        'qty': []\n",
    "    }\n",
    "    \n",
    "    result = OrderedDict(result) ## dict형은 입력한 값 순서대로 출력되지 않고 뒤죽박죽 => OrderedDict() 사용하여 보정\n",
    "    \n",
    "    for i in range(len(diffYearWeek)) :\n",
    "        result['regionSeg1'].append(list(inputdf.loc[0].values)[0])\n",
    "        result['productSeg1'].append(list(inputdf.loc[0].values)[1])\n",
    "        result['productSeg2'].append(list(inputdf.loc[0].values)[2])\n",
    "        result['regionSeg2'].append(list(inputdf.loc[0].values)[3])\n",
    "        result['regionSeg3'].append(list(inputdf.loc[0].values)[4])\n",
    "        result['productSeg3'].append(list(inputdf.loc[0].values)[5])\n",
    "        result['yearweek'].append(int(int(diffYearWeek[i])))\n",
    "        result['year'].append(int(diffYearWeek[i]/100))\n",
    "        result['week'].append(int(diffYearWeek[i]%100))\n",
    "        result['qty'].append(int(0))\n",
    "    \n",
    "    resultData = DataFrame(result)\n",
    "    \n",
    "    concatResultData = pd.concat([inputdf, resultData])\n",
    "    concatResultData = concatResultData.reset_index(drop = True)\n",
    "    \n",
    "    concatResultData['qty'] = concatResultData['qty'].astype('int')\n",
    "    concatResultData['yearweek'] = concatResultData['yearweek'].astype('int')\n",
    "    concatResultData['year'] = concatResultData['year'].astype('int')\n",
    "    concatResultData['week'] = concatResultData['week'].astype('int')\n",
    "    \n",
    "    return concatResultData"
   ]
  },
  {
   "cell_type": "code",
   "execution_count": 21,
   "metadata": {},
   "outputs": [],
   "source": [
    "minYW = min(eachData['yearweek'])"
   ]
  },
  {
   "cell_type": "code",
   "execution_count": 22,
   "metadata": {},
   "outputs": [
    {
     "data": {
      "text/plain": [
       "201516"
      ]
     },
     "execution_count": 22,
     "metadata": {},
     "output_type": "execute_result"
    }
   ],
   "source": [
    "minYW"
   ]
  },
  {
   "cell_type": "code",
   "execution_count": 23,
   "metadata": {},
   "outputs": [],
   "source": [
    "maxYW = max(eachData['yearweek'])"
   ]
  },
  {
   "cell_type": "code",
   "execution_count": 24,
   "metadata": {},
   "outputs": [
    {
     "data": {
      "text/plain": [
       "201627"
      ]
     },
     "execution_count": 24,
     "metadata": {},
     "output_type": "execute_result"
    }
   ],
   "source": [
    "maxYW"
   ]
  },
  {
   "cell_type": "code",
   "execution_count": 22,
   "metadata": {},
   "outputs": [],
   "source": [
    "fullYearWeek = []\n",
    "fullYearWeek.append(minYW)"
   ]
  },
  {
   "cell_type": "code",
   "execution_count": 23,
   "metadata": {},
   "outputs": [
    {
     "data": {
      "text/plain": [
       "[(('A01', 'PG01', 'SALESID0001', 'SITEID0001', 'ITEM0001'), 28546    201301\n",
       "  28547    201303\n",
       "  28548    201304\n",
       "  28549    201305\n",
       "  28550    201307\n",
       "  28551    201310\n",
       "  28552    201312\n",
       "  28553    201314\n",
       "  28554    201315\n",
       "  28555    201316\n",
       "  28556    201317\n",
       "  28557    201319\n",
       "  28558    201320\n",
       "  28559    201322\n",
       "  28560    201323\n",
       "  28561    201324\n",
       "  28562    201325\n",
       "  28563    201326\n",
       "  28564    201327\n",
       "  28565    201328\n",
       "  28566    201330\n",
       "  67859    201439\n",
       "  67860    201451\n",
       "  68718    201538\n",
       "  68719    201549\n",
       "  Name: yearweek, dtype: int64)]"
      ]
     },
     "execution_count": 23,
     "metadata": {},
     "output_type": "execute_result"
    }
   ],
   "source": [
    "fullYearWeek"
   ]
  },
  {
   "cell_type": "code",
   "execution_count": 17,
   "metadata": {},
   "outputs": [],
   "source": [
    "from isoweek import Week"
   ]
  },
  {
   "cell_type": "code",
   "execution_count": 19,
   "metadata": {},
   "outputs": [
    {
     "data": {
      "text/plain": [
       "'201612'"
      ]
     },
     "execution_count": 19,
     "metadata": {},
     "output_type": "execute_result"
    }
   ],
   "source": [
    "postWeek(201550, 15)"
   ]
  },
  {
   "cell_type": "code",
   "execution_count": 1,
   "metadata": {},
   "outputs": [],
   "source": [
    "def postWeek(inputYW, gapWeek) :\n",
    "    inputYW = str(inputYW)\n",
    "    inputY = inputYW[0:4]\n",
    "    inputW = inputYW[4:]\n",
    "    \n",
    "    gapWeek = int(gapWeek)\n",
    "    \n",
    "    sumWeek = int(inputW) + gapWeek\n",
    "    \n",
    "    currYear = int(inputY)\n",
    "    lastWeek = Week.last_week_of_year(currYear).week\n",
    "    \n",
    "    while(sumWeek > lastWeek) :\n",
    "        sumWeek -= lastWeek\n",
    "        currYear += 1\n",
    "        lastWeek = Week.last_week_of_year(currYear).week\n",
    "        \n",
    "    if(lastWeek < 10) :\n",
    "        lastAnswer = str(currYear) + \"0\" + str(sumWeek)\n",
    "    else :\n",
    "        lastAnswer = str(currYear) + str(sumWeek)\n",
    "    \n",
    "    return lastAnswer"
   ]
  },
  {
   "cell_type": "code",
   "execution_count": null,
   "metadata": {},
   "outputs": [],
   "source": [
    "# fullyearweek make test\n",
    "\n",
    "yearweekList = [201501,201502,201505]"
   ]
  },
  {
   "cell_type": "code",
   "execution_count": null,
   "metadata": {},
   "outputs": [],
   "source": [
    "itemList = ['item0445','item0445','item0445']"
   ]
  },
  {
   "cell_type": "code",
   "execution_count": null,
   "metadata": {},
   "outputs": [],
   "source": [
    "qtyList = [5,7,4]"
   ]
  },
  {
   "cell_type": "code",
   "execution_count": null,
   "metadata": {},
   "outputs": [],
   "source": [
    "qtydf = pd.DataFrame(qtyList)"
   ]
  },
  {
   "cell_type": "code",
   "execution_count": null,
   "metadata": {},
   "outputs": [],
   "source": [
    "itemdf = pd.DataFrame(itemList)"
   ]
  },
  {
   "cell_type": "code",
   "execution_count": null,
   "metadata": {},
   "outputs": [],
   "source": [
    "yearweekdf = pd.DataFrame(yearweekList)"
   ]
  },
  {
   "cell_type": "code",
   "execution_count": null,
   "metadata": {},
   "outputs": [],
   "source": [
    "a = pd.concat([itemdf,yearweekdf,qtydf],axis=1)"
   ]
  },
  {
   "cell_type": "code",
   "execution_count": null,
   "metadata": {},
   "outputs": [],
   "source": [
    "a.columns"
   ]
  },
  {
   "cell_type": "code",
   "execution_count": null,
   "metadata": {},
   "outputs": [],
   "source": [
    "a.columns = ['items','yearweek','qty']"
   ]
  },
  {
   "cell_type": "code",
   "execution_count": null,
   "metadata": {},
   "outputs": [],
   "source": [
    "a"
   ]
  },
  {
   "cell_type": "code",
   "execution_count": null,
   "metadata": {},
   "outputs": [],
   "source": [
    "a.reset_indexs('yearweek')"
   ]
  },
  {
   "cell_type": "code",
   "execution_count": null,
   "metadata": {},
   "outputs": [],
   "source": [
    "minyearweek = a.yearweek.min()"
   ]
  },
  {
   "cell_type": "code",
   "execution_count": null,
   "metadata": {},
   "outputs": [],
   "source": [
    "maxyearweek = a.yearweek.max()"
   ]
  },
  {
   "cell_type": "code",
   "execution_count": null,
   "metadata": {},
   "outputs": [],
   "source": [
    "minyearweek"
   ]
  },
  {
   "cell_type": "code",
   "execution_count": null,
   "metadata": {},
   "outputs": [],
   "source": [
    "fullyearweek = []"
   ]
  },
  {
   "cell_type": "code",
   "execution_count": null,
   "metadata": {},
   "outputs": [],
   "source": [
    "fullyearweek.append(minyearweek)"
   ]
  },
  {
   "cell_type": "code",
   "execution_count": null,
   "metadata": {},
   "outputs": [],
   "source": [
    "fullyearweek.append(maxyearweek)"
   ]
  },
  {
   "cell_type": "code",
   "execution_count": null,
   "metadata": {},
   "outputs": [],
   "source": [
    "fullyearweek"
   ]
  },
  {
   "cell_type": "code",
   "execution_count": null,
   "metadata": {},
   "outputs": [],
   "source": [
    "fullyearweek= []"
   ]
  },
  {
   "cell_type": "code",
   "execution_count": null,
   "metadata": {},
   "outputs": [],
   "source": [
    "i = minyearweek"
   ]
  },
  {
   "cell_type": "code",
   "execution_count": null,
   "metadata": {},
   "outputs": [],
   "source": [
    "fullyearweek.append(i)"
   ]
  },
  {
   "cell_type": "code",
   "execution_count": null,
   "metadata": {},
   "outputs": [],
   "source": [
    "fullyearweek"
   ]
  },
  {
   "cell_type": "code",
   "execution_count": null,
   "metadata": {},
   "outputs": [],
   "source": [
    "while (max(fullyearweek) < 201505):\n",
    "    fullyearweek.append(i+1)\n",
    "    i = i + 1\n",
    "    "
   ]
  },
  {
   "cell_type": "code",
   "execution_count": null,
   "metadata": {},
   "outputs": [],
   "source": [
    "newyearweekList = list(set(fullyearweek).difference(set(list(a.yearweek.values))))"
   ]
  },
  {
   "cell_type": "code",
   "execution_count": null,
   "metadata": {},
   "outputs": [],
   "source": [
    "a.loc[3] =[\"item0445\",201505,3]"
   ]
  },
  {
   "cell_type": "code",
   "execution_count": null,
   "metadata": {},
   "outputs": [],
   "source": [
    "a.loc[4,'yearweek'] = 201503"
   ]
  },
  {
   "cell_type": "code",
   "execution_count": null,
   "metadata": {},
   "outputs": [],
   "source": [
    "a.loc[len(a)+1,'yearweek'] = 201503"
   ]
  },
  {
   "cell_type": "code",
   "execution_count": null,
   "metadata": {},
   "outputs": [],
   "source": [
    "a.loc[len(a)+1,'yearweek']"
   ]
  }
 ],
 "metadata": {
  "kernelspec": {
   "display_name": "Python 3",
   "language": "python",
   "name": "python3"
  },
  "language_info": {
   "codemirror_mode": {
    "name": "ipython",
    "version": 3
   },
   "file_extension": ".py",
   "mimetype": "text/x-python",
   "name": "python",
   "nbconvert_exporter": "python",
   "pygments_lexer": "ipython3",
   "version": "3.6.4"
  }
 },
 "nbformat": 4,
 "nbformat_minor": 2
}
