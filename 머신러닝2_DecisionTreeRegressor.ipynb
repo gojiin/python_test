{
 "cells": [
  {
   "cell_type": "code",
   "execution_count": 1,
   "metadata": {},
   "outputs": [],
   "source": [
    "import pandas as pd\n",
    "import numpy as np"
   ]
  },
  {
   "cell_type": "markdown",
   "metadata": {},
   "source": [
    "## 데이터 불러오기"
   ]
  },
  {
   "cell_type": "code",
   "execution_count": 4,
   "metadata": {},
   "outputs": [],
   "source": [
    "selloutData = pd.read_csv(\"./dataset/kopo_decision_tree_all_new.csv\")"
   ]
  },
  {
   "cell_type": "markdown",
   "metadata": {},
   "source": [
    "## 1. 지역/상품/아이템별 146개 제품 추출"
   ]
  },
  {
   "cell_type": "code",
   "execution_count": 5,
   "metadata": {},
   "outputs": [
    {
     "data": {
      "text/plain": [
       "Index(['REGIONID', 'PRODUCTGROUP', 'PRODUCT', 'ITEM', 'YEARWEEK', 'YEAR',\n",
       "       'WEEK', 'QTY', 'HOLIDAY', 'HCLUS', 'PROMOTION', 'PRO_PERCENT'],\n",
       "      dtype='object')"
      ]
     },
     "execution_count": 5,
     "metadata": {},
     "output_type": "execute_result"
    }
   ],
   "source": [
    "selloutData.columns"
   ]
  },
  {
   "cell_type": "code",
   "execution_count": 6,
   "metadata": {},
   "outputs": [],
   "source": [
    "groupKey = [\"REGIONID\", \"PRODUCTGROUP\", \"PRODUCT\", \"ITEM\"]"
   ]
  },
  {
   "cell_type": "code",
   "execution_count": 7,
   "metadata": {},
   "outputs": [],
   "source": [
    "groupData = selloutData.\\\n",
    "            groupby(groupKey)[\"YEARWEEK\"].\\\n",
    "            agg([\"size\"]).reset_index()"
   ]
  },
  {
   "cell_type": "code",
   "execution_count": 10,
   "metadata": {},
   "outputs": [],
   "source": [
    "groupData.rename(columns={\"size\":\"KNOB\"}, inplace=True)"
   ]
  },
  {
   "cell_type": "code",
   "execution_count": null,
   "metadata": {},
   "outputs": [],
   "source": [
    "# selloutData와 join\n",
    "mergedData = pd.merge(left=selloutData,\n",
    "            right=groupData,\n",
    "            on=groupKey,\n",
    "            how='left')"
   ]
  },
  {
   "cell_type": "code",
   "execution_count": 16,
   "metadata": {},
   "outputs": [],
   "source": [
    "maxknob = mergedData.KNOB.max()"
   ]
  },
  {
   "cell_type": "code",
   "execution_count": 19,
   "metadata": {},
   "outputs": [],
   "source": [
    "refinedData = mergedData[mergedData.KNOB >= maxknob]"
   ]
  },
  {
   "cell_type": "code",
   "execution_count": 27,
   "metadata": {},
   "outputs": [],
   "source": [
    "sortKey = [\"REGIONID\", \"PRODUCTGROUP\", \"PRODUCT\", \"YEARWEEK\", \"ITEM\"]"
   ]
  },
  {
   "cell_type": "code",
   "execution_count": 28,
   "metadata": {},
   "outputs": [],
   "source": [
    "sortedData = refinedData.sort_values(sortKey).reset_index(drop=True)"
   ]
  },
  {
   "cell_type": "code",
   "execution_count": 29,
   "metadata": {},
   "outputs": [
    {
     "data": {
      "text/html": [
       "<div>\n",
       "<style scoped>\n",
       "    .dataframe tbody tr th:only-of-type {\n",
       "        vertical-align: middle;\n",
       "    }\n",
       "\n",
       "    .dataframe tbody tr th {\n",
       "        vertical-align: top;\n",
       "    }\n",
       "\n",
       "    .dataframe thead th {\n",
       "        text-align: right;\n",
       "    }\n",
       "</style>\n",
       "<table border=\"1\" class=\"dataframe\">\n",
       "  <thead>\n",
       "    <tr style=\"text-align: right;\">\n",
       "      <th></th>\n",
       "      <th>REGIONID</th>\n",
       "      <th>PRODUCTGROUP</th>\n",
       "      <th>PRODUCT</th>\n",
       "      <th>ITEM</th>\n",
       "      <th>YEARWEEK</th>\n",
       "      <th>YEAR</th>\n",
       "      <th>WEEK</th>\n",
       "      <th>QTY</th>\n",
       "      <th>HOLIDAY</th>\n",
       "      <th>HCLUS</th>\n",
       "      <th>PROMOTION</th>\n",
       "      <th>PRO_PERCENT</th>\n",
       "      <th>KNOB</th>\n",
       "    </tr>\n",
       "  </thead>\n",
       "  <tbody>\n",
       "    <tr>\n",
       "      <th>0</th>\n",
       "      <td>A01</td>\n",
       "      <td>PG02</td>\n",
       "      <td>P03</td>\n",
       "      <td>ITEM043</td>\n",
       "      <td>201501</td>\n",
       "      <td>2015</td>\n",
       "      <td>1</td>\n",
       "      <td>87</td>\n",
       "      <td>Y</td>\n",
       "      <td>1</td>\n",
       "      <td>Y</td>\n",
       "      <td>0.197590</td>\n",
       "      <td>146</td>\n",
       "    </tr>\n",
       "    <tr>\n",
       "      <th>1</th>\n",
       "      <td>A01</td>\n",
       "      <td>PG02</td>\n",
       "      <td>P03</td>\n",
       "      <td>ITEM044</td>\n",
       "      <td>201501</td>\n",
       "      <td>2015</td>\n",
       "      <td>1</td>\n",
       "      <td>66</td>\n",
       "      <td>Y</td>\n",
       "      <td>1</td>\n",
       "      <td>Y</td>\n",
       "      <td>0.249246</td>\n",
       "      <td>146</td>\n",
       "    </tr>\n",
       "    <tr>\n",
       "      <th>2</th>\n",
       "      <td>A01</td>\n",
       "      <td>PG02</td>\n",
       "      <td>P03</td>\n",
       "      <td>ITEM051</td>\n",
       "      <td>201501</td>\n",
       "      <td>2015</td>\n",
       "      <td>1</td>\n",
       "      <td>21</td>\n",
       "      <td>Y</td>\n",
       "      <td>1</td>\n",
       "      <td>Y</td>\n",
       "      <td>0.267742</td>\n",
       "      <td>146</td>\n",
       "    </tr>\n",
       "    <tr>\n",
       "      <th>3</th>\n",
       "      <td>A01</td>\n",
       "      <td>PG02</td>\n",
       "      <td>P03</td>\n",
       "      <td>ITEM053</td>\n",
       "      <td>201501</td>\n",
       "      <td>2015</td>\n",
       "      <td>1</td>\n",
       "      <td>348</td>\n",
       "      <td>Y</td>\n",
       "      <td>1</td>\n",
       "      <td>Y</td>\n",
       "      <td>0.316722</td>\n",
       "      <td>146</td>\n",
       "    </tr>\n",
       "    <tr>\n",
       "      <th>4</th>\n",
       "      <td>A01</td>\n",
       "      <td>PG02</td>\n",
       "      <td>P03</td>\n",
       "      <td>ITEM054</td>\n",
       "      <td>201501</td>\n",
       "      <td>2015</td>\n",
       "      <td>1</td>\n",
       "      <td>33</td>\n",
       "      <td>Y</td>\n",
       "      <td>1</td>\n",
       "      <td>Y</td>\n",
       "      <td>0.267742</td>\n",
       "      <td>146</td>\n",
       "    </tr>\n",
       "  </tbody>\n",
       "</table>\n",
       "</div>"
      ],
      "text/plain": [
       "  REGIONID PRODUCTGROUP PRODUCT     ITEM  YEARWEEK  YEAR  WEEK  QTY HOLIDAY  \\\n",
       "0      A01         PG02     P03  ITEM043    201501  2015     1   87       Y   \n",
       "1      A01         PG02     P03  ITEM044    201501  2015     1   66       Y   \n",
       "2      A01         PG02     P03  ITEM051    201501  2015     1   21       Y   \n",
       "3      A01         PG02     P03  ITEM053    201501  2015     1  348       Y   \n",
       "4      A01         PG02     P03  ITEM054    201501  2015     1   33       Y   \n",
       "\n",
       "   HCLUS PROMOTION  PRO_PERCENT  KNOB  \n",
       "0      1         Y     0.197590   146  \n",
       "1      1         Y     0.249246   146  \n",
       "2      1         Y     0.267742   146  \n",
       "3      1         Y     0.316722   146  \n",
       "4      1         Y     0.267742   146  "
      ]
     },
     "execution_count": 29,
     "metadata": {},
     "output_type": "execute_result"
    }
   ],
   "source": [
    "sortedData.head()"
   ]
  },
  {
   "cell_type": "code",
   "execution_count": 30,
   "metadata": {},
   "outputs": [
    {
     "data": {
      "text/plain": [
       "201501"
      ]
     },
     "execution_count": 30,
     "metadata": {},
     "output_type": "execute_result"
    }
   ],
   "source": [
    "sortedData.YEARWEEK.min()"
   ]
  },
  {
   "cell_type": "code",
   "execution_count": 31,
   "metadata": {},
   "outputs": [
    {
     "data": {
      "text/plain": [
       "201741"
      ]
     },
     "execution_count": 31,
     "metadata": {},
     "output_type": "execute_result"
    }
   ],
   "source": [
    "sortedData.YEARWEEK.max()"
   ]
  },
  {
   "cell_type": "markdown",
   "metadata": {},
   "source": [
    "## 2. 그룹별로 나누어서 예측"
   ]
  },
  {
   "cell_type": "code",
   "execution_count": 33,
   "metadata": {},
   "outputs": [],
   "source": [
    "# 2017년 1주차부터 미래예측한다고 가정해보자\n",
    "stdYearweek = 201701"
   ]
  },
  {
   "cell_type": "code",
   "execution_count": 35,
   "metadata": {},
   "outputs": [],
   "source": [
    "groupsData = sortedData.groupby(groupKey)"
   ]
  },
  {
   "cell_type": "code",
   "execution_count": null,
   "metadata": {},
   "outputs": [],
   "source": [
    "# 0을 두개 만큼 반복시키는 로직 생성\n",
    "list(np.repeat(0,20))"
   ]
  },
  {
   "cell_type": "code",
   "execution_count": 79,
   "metadata": {},
   "outputs": [],
   "source": [
    "# 함수화 시키기\n",
    "def dtPredict(onegroup) :\n",
    "\n",
    "    # 하나의 그룹만 보고싶을때 => 그룹데이터의 0번째 그룹만 가져와보자\n",
    "#     onegroup = groupsData.get_group(list(groupsData.groups)[2])\n",
    "\n",
    "    eachgroup = onegroup.reset_index(drop=True)\n",
    "\n",
    "    #### 1. feature(특성) 선별\n",
    "\n",
    "    corrdf = eachgroup.corr()\n",
    "    corrStd = 0.5\n",
    "    #조건을 두개로 주는 멀티조건일때는 각각의 조건을 괄호로 감싸기\n",
    "    features = list(corrdf[(abs(corrdf[\"QTY\"]) >= corrStd) & (corrdf[\"QTY\"] != 1)].index)\n",
    "    \n",
    "    featureslen = len(features)\n",
    "    \n",
    "    # fullDataSet을 하나 마련해두자\n",
    "    testData_all = eachgroup[eachgroup.YEARWEEK >= stdYearweek]\n",
    "    testDataSize = len(testData_all)\n",
    "    \n",
    "    # 만약, features가 없는 그룹이 존재할 경우 예측값을 0으로 산출하기 위해 조건을 건다\n",
    "    if(featureslen == 0) :\n",
    "        # 0을 testDataSize 만큼 반복시키는 로직 생성\n",
    "        predict = list(np.repeat(0,testDataSize))\n",
    "        testData_all[\"PREDICT\"] = predict\n",
    "        \n",
    "    \n",
    "    else :\n",
    "        \n",
    "        label = [\"QTY\"]\n",
    "\n",
    "        #### 2. 데이터분리(훈련/테스트)\n",
    "\n",
    "        trainingData_features = eachgroup[eachgroup.YEARWEEK < stdYearweek][features]\n",
    "        traingData_label = eachgroup[eachgroup.YEARWEEK < stdYearweek][label]\n",
    "        testData_features = eachgroup[eachgroup.YEARWEEK >= stdYearweek][features]\n",
    "        testData_label = eachgroup[eachgroup.YEARWEEK >= stdYearweek][label]\n",
    "       \n",
    "        #### 3. 모델 선언\n",
    "\n",
    "        from sklearn import tree\n",
    "\n",
    "        # random_state : 난수를 발생시켜서 모델을 돌리는데, \n",
    "        # 어떠한 숫자로 고정을 시켜두면 다시 돌렸을 떄 동일한 결과를 나타내게 함으로써 재연이 가능하게 함\n",
    "        model_method = tree.DecisionTreeRegressor(random_state=32)\n",
    "\n",
    "        #### 4. 훈련(훈련데이터 특성/답지 활용)\n",
    "\n",
    "        model = model_method.fit(trainingData_features, traingData_label)\n",
    "        # y: 최종결과값이 나오는 결과값\n",
    "        # x: 거기에 영향을 주는 features로 생각하면됨\n",
    "\n",
    "        # => 훈련의 결과는 현재 model이 가지고 있다고 생각하면 됨\n",
    "\n",
    "        #### 5. 예측(테스트데이터의 feature 활용)\n",
    "\n",
    "        # 예측 = 훈련결과.predict()\n",
    "    #     model.predict(testData_features)\n",
    "\n",
    "        # 정제된 원본 fullDataSet에 \"PREDICT\"라는 컬럼을 만들어 예측결과를 채워두자\n",
    "        # testData_all과 model은 길이가 똑같기 때문에 딱 맞게 들어감\n",
    "        testData_all[\"PREDICT\"] = model.predict(testData_features)\n",
    "    \n",
    "    return testData_all"
   ]
  },
  {
   "cell_type": "code",
   "execution_count": 84,
   "metadata": {},
   "outputs": [],
   "source": [
    "predictResult = sortedData.groupby(groupKey).apply(dtPredict).reset_index(drop=True)"
   ]
  },
  {
   "cell_type": "code",
   "execution_count": 87,
   "metadata": {},
   "outputs": [
    {
     "data": {
      "text/plain": [
       "Index(['REGIONID', 'PRODUCTGROUP', 'PRODUCT', 'ITEM', 'YEARWEEK', 'YEAR',\n",
       "       'WEEK', 'QTY', 'HOLIDAY', 'HCLUS', 'PROMOTION', 'PRO_PERCENT', 'KNOB',\n",
       "       'PREDICT'],\n",
       "      dtype='object')"
      ]
     },
     "execution_count": 87,
     "metadata": {},
     "output_type": "execute_result"
    }
   ],
   "source": [
    "predictResult.columns"
   ]
  },
  {
   "cell_type": "code",
   "execution_count": 89,
   "metadata": {},
   "outputs": [
    {
     "data": {
      "text/plain": [
       "52"
      ]
     },
     "execution_count": 89,
     "metadata": {},
     "output_type": "execute_result"
    }
   ],
   "source": [
    "# drop_duplicates() :  중복된 값들을 drop해줌\n",
    "# \"ITEM\"컬럼에 년도별로 중복되는 값들을 drop해준 뒤 len을 확인해봄으로써 52주차가 모두 생성되었는지 확인가능\n",
    "len(predictResult[\"ITEM\"].drop_duplicates())"
   ]
  },
  {
   "cell_type": "markdown",
   "metadata": {},
   "source": [
    "## 3. 그래프 그리기"
   ]
  },
  {
   "cell_type": "code",
   "execution_count": 90,
   "metadata": {},
   "outputs": [],
   "source": [
    "targetItem = \"ITEM043\""
   ]
  },
  {
   "cell_type": "code",
   "execution_count": 91,
   "metadata": {},
   "outputs": [],
   "source": [
    "targetVisual = predictResult[predictResult.ITEM == targetItem]"
   ]
  },
  {
   "cell_type": "code",
   "execution_count": 92,
   "metadata": {},
   "outputs": [
    {
     "data": {
      "text/plain": [
       "Text(0,0.5,'promotion')"
      ]
     },
     "execution_count": 92,
     "metadata": {},
     "output_type": "execute_result"
    },
    {
     "data": {
      "image/png": "[encoded data removed]",
      "text/plain": [
       "<matplotlib.figure.Figure at 0xc74a240>"
      ]
     },
     "metadata": {},
     "output_type": "display_data"
    }
   ],
   "source": [
    "import matplotlib.pyplot as plt\n",
    "%matplotlib inline\n",
    "\n",
    "#팝업 창 활용하여 차트 시연\n",
    "x= targetVisual.YEARWEEK\n",
    "y= targetVisual.QTY\n",
    "y2= targetVisual.PREDICT\n",
    "\n",
    "feautresData2 = plt.figure(figsize=(10,5))\n",
    "\n",
    "feautersDataAx1 = feautresData2.add_subplot(1,1,1) \n",
    "\n",
    "plt.plot(x,y, 'b--',lw=1.5)\n",
    "plt.plot(x,y, 'o')\n",
    "plt.grid(True)\n",
    "plt.ylabel('qty')\n",
    "plt.title('subplot')\n",
    "feautersDataAx2 = feautersDataAx1.twinx() \n",
    "plt.plot(x,y2, 'g', lw=1.5, label='2nd')\n",
    "plt.legend(loc=0)\n",
    "plt.ylabel('promotion')"
   ]
  }
 ],
 "metadata": {
  "kernelspec": {
   "display_name": "Python 3",
   "language": "python",
   "name": "python3"
  },
  "language_info": {
   "codemirror_mode": {
    "name": "ipython",
    "version": 3
   },
   "file_extension": ".py",
   "mimetype": "text/x-python",
   "name": "python",
   "nbconvert_exporter": "python",
   "pygments_lexer": "ipython3",
   "version": "3.6.4"
  }
 },
 "nbformat": 4,
 "nbformat_minor": 2
}
