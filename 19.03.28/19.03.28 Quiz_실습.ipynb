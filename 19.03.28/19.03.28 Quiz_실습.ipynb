{
 "cells": [
  {
   "cell_type": "code",
   "execution_count": 2,
   "metadata": {},
   "outputs": [],
   "source": [
    "from isoweek import Week"
   ]
  },
  {
   "cell_type": "markdown",
   "metadata": {},
   "source": [
    "##### 입력값"
   ]
  },
  {
   "cell_type": "code",
   "execution_count": 26,
   "metadata": {},
   "outputs": [],
   "source": [
    "inputYearWeek=201701\n",
    "gapWeek=5"
   ]
  },
  {
   "cell_type": "markdown",
   "metadata": {},
   "source": [
    "##### 입력값 자료형 변환 및 입력 gap 인트형 확정"
   ]
  },
  {
   "cell_type": "code",
   "execution_count": 27,
   "metadata": {},
   "outputs": [],
   "source": [
    "inputYearWeek=str(inputYearWeek)\n",
    "inputYear=inputYearWeek[0:4]\n",
    "inputWeek=inputYearWeek[4: ]\n",
    "\n",
    "inputGap=int(gapWeek)\n",
    "\n",
    "dif = int(inputWeek)-gapWeek"
   ]
  },
  {
   "cell_type": "markdown",
   "metadata": {},
   "source": [
    "##### if문 작성"
   ]
  },
  {
   "cell_type": "code",
   "execution_count": 30,
   "metadata": {},
   "outputs": [
    {
     "data": {
      "text/plain": [
       "'201648'"
      ]
     },
     "execution_count": 30,
     "metadata": {},
     "output_type": "execute_result"
    }
   ],
   "source": [
    "if(dif>0) :\n",
    "    if(dif<10) :\n",
    "        lastanswer = str(inputYear) + \"0\" + str(dif)\n",
    "    else :\n",
    "        lastanswer = str(inputYear) + str(dif)\n",
    "\n",
    "else :\n",
    "    preYear = int(inputYear)\n",
    "    lastWeek = dif\n",
    "    while(lastWeek<0) :\n",
    "        preYear = preYear - 1\n",
    "        preWeek = Week.last_week_of_year(preYear).week\n",
    "        lastWeek = lastWeek + preWeek\n",
    "        \n",
    "    if(lastWeek<10) :\n",
    "        lastanswer = str(preYear) + \"0\" + str(lastWeek)\n",
    "    else :\n",
    "        lastanswer = str(preYear) + str(lastWeek)\n",
    "        \n",
    "lastanswer"
   ]
  },
  {
   "cell_type": "markdown",
   "metadata": {},
   "source": [
    "##### 함수에 넣기"
   ]
  },
  {
   "cell_type": "code",
   "execution_count": 51,
   "metadata": {},
   "outputs": [],
   "source": [
    "def preweek(inputYearWeek, gapWeek): \n",
    "    ##입력값 선언\n",
    "    inputYearWeek=str(inputYearWeek) \n",
    "    inputYear=inputYearWeek[0:4]\n",
    "    inputWeek=inputYearWeek[4: ]\n",
    "    \n",
    "    inputGap=int(gapWeek)\n",
    "    \n",
    "    ##구하려는 값 연산방법1\n",
    "    dif = int(inputWeek)-inputGap\n",
    "    \n",
    "    ##값이 0보다 클때 연산방법2 + 길이맞춰주기\n",
    "    if(dif>0) :\n",
    "        if(dif<10):\n",
    "            lastanswer = str(inputYear) + \"0\" + str(dif)\n",
    "        else :\n",
    "            lastanswer = str(inputYear) + str(dif)\n",
    "            \n",
    "    ##값이 0보다 작거나 같을때 연산방법 + 길이맞춰주기       \n",
    "    else :\n",
    "        preYear = int(inputYear)\n",
    "        lastWeek = dif\n",
    "        while(lastWeek<=0) : ##연산 끝나는 조건 만들기\n",
    "            preYear = preYear - 1\n",
    "            preWeek = Week.last_week_of_year(preYear).week\n",
    "            lastWeek = lastWeek + preWeek\n",
    "        \n",
    "        if(lastWeek<10) :\n",
    "            lastanswer = str(preYear) + \"0\" + str(lastWeek)\n",
    "        else :\n",
    "            lastanswer = str(preYear) + str(lastWeek)\n",
    "            \n",
    "    return lastanswer"
   ]
  },
  {
   "cell_type": "code",
   "execution_count": 52,
   "metadata": {},
   "outputs": [
    {
     "data": {
      "text/plain": [
       "'201525'"
      ]
     },
     "execution_count": 52,
     "metadata": {},
     "output_type": "execute_result"
    }
   ],
   "source": [
    "preweek(201720, 100)"
   ]
  }
 ],
 "metadata": {
  "kernelspec": {
   "display_name": "Python 3",
   "language": "python",
   "name": "python3"
  },
  "language_info": {
   "codemirror_mode": {
    "name": "ipython",
    "version": 3
   },
   "file_extension": ".py",
   "mimetype": "text/x-python",
   "name": "python",
   "nbconvert_exporter": "python",
   "pygments_lexer": "ipython3",
   "version": "3.6.4"
  }
 },
 "nbformat": 4,
 "nbformat_minor": 2
}
