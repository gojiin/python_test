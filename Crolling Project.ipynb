{
 "cells": [
  {
   "cell_type": "code",
   "execution_count": 1,
   "metadata": {},
   "outputs": [],
   "source": [
    "from selenium import webdriver \n",
    "from bs4 import BeautifulSoup \n",
    "import os\n",
    "from os.path import join, dirname\n",
    "import pandas as pd"
   ]
  },
  {
   "cell_type": "code",
   "execution_count": 2,
   "metadata": {},
   "outputs": [],
   "source": [
    "if os.name == 'nt': \n",
    "    os_name = 'nt' \n",
    "elif os.name == 'mac': \n",
    "    os_name = 'mac' \n",
    "else: \n",
    "    os_name = 'linux'\n",
    "    \n",
    "if os_name == 'nt': \n",
    "    driver_loc = \"C:/Users/HP/Downloads/chromedriver_win32/chromedriver.exe\" ##내 pc에 chroomdrirver 저장해놓은 경로 적어주기\n",
    "else: \n",
    "    driver_loc = \"C:/Users/HP/Downloads/chromedriver_win32/chromedriver.exe\""
   ]
  },
  {
   "cell_type": "code",
   "execution_count": 3,
   "metadata": {},
   "outputs": [],
   "source": [
    "# 크롬 옵션 설정\n",
    "option = webdriver.ChromeOptions()\n",
    "option.add_argument('window-size=1920*1080')\n",
    "\n",
    "#드라이버 등록\n",
    "driver = webdriver.Chrome(driver_loc, options=option)"
   ]
  },
  {
   "cell_type": "code",
   "execution_count": 4,
   "metadata": {},
   "outputs": [],
   "source": [
    "naver_login = 'https://nid.naver.com/nidlogin.login' \n",
    "cafe_url = 'https://cafe.naver.com/smartpolytech'\n",
    "\n",
    "keyword_list = ['스프링', '웹']\n",
    "result_dic = {}\n",
    "\n",
    "for keyword in keyword_list :\n",
    "    result_dic[keyword] = {\n",
    "        'title' : [],\n",
    "        'writer' : [],\n",
    "        'href' : [],\n",
    "        'date' : []\n",
    "    }\n",
    "    \n",
    "exception_flag = 0 \n",
    "exception_title_keyword_list = ['하둡','빅데이터'] \n",
    "exception_writer_keyword_list = []"
   ]
  },
  {
   "cell_type": "code",
   "execution_count": 5,
   "metadata": {},
   "outputs": [],
   "source": [
    "#Login page \n",
    "driver.get(naver_login)"
   ]
  },
  {
   "cell_type": "code",
   "execution_count": 9,
   "metadata": {},
   "outputs": [],
   "source": [
    "#webdriver로 열린 chrome창에 'id'라는 속성을 찾아서 'ID'라는  값을 입력해줌\n",
    "\n",
    "login_id = 'j_i__'\n",
    "login_pw =   'ggwldls2341!!'\n",
    "# driver.find_element_by_name('id').send_keys(login_id)\n",
    "# driver.find_element_by_name('pw').send_keys(login_pw)"
   ]
  },
  {
   "cell_type": "code",
   "execution_count": 7,
   "metadata": {},
   "outputs": [],
   "source": [
    "#위에서 입력한 정보를 토대로 자동으로 Login 버튼을 클릭\n",
    "#이 방법은 간단하지만 네이버 로그인 정책 바뀐 후로 자동입력 방지 문자를 입력해야한다는 번거로움 생김\n",
    "# driver.find_element_by_css_selector('#frmNIDLogin > fieldset > input').click()"
   ]
  },
  {
   "cell_type": "code",
   "execution_count": 10,
   "metadata": {},
   "outputs": [],
   "source": [
    "#다른 login 방법(javascript 문법 이용)\n",
    "driver.execute_script(\"document.getElementsByName('id')[0].value=\\'\"+login_id+\"\\'\")\n",
    "driver.execute_script(\"document.getElementsByName('pw')[0].value=\\'\"+login_pw+\"\\'\")"
   ]
  },
  {
   "cell_type": "code",
   "execution_count": 11,
   "metadata": {},
   "outputs": [],
   "source": [
    "driver.find_element_by_css_selector('#frmNIDLogin > fieldset > input').click()"
   ]
  },
  {
   "cell_type": "code",
   "execution_count": 12,
   "metadata": {},
   "outputs": [],
   "source": [
    "#크롤링 할 url 접속\n",
    "driver.get(cafe_url)\n",
    "driver.implicitly_wait(3) #웹 지원 load를 위해 3초 기다려주도록"
   ]
  },
  {
   "cell_type": "code",
   "execution_count": 13,
   "metadata": {},
   "outputs": [],
   "source": [
    "#크롤링 할 검색어 입력창 변수처리\n",
    "search_input = driver.find_element_by_xpath('//*[@id=\"topLayerQueryInput\"]')"
   ]
  },
  {
   "cell_type": "code",
   "execution_count": 14,
   "metadata": {},
   "outputs": [
    {
     "data": {
      "text/plain": [
       "True"
      ]
     },
     "execution_count": 14,
     "metadata": {},
     "output_type": "execute_result"
    }
   ],
   "source": [
    "#스크린샷\n",
    "driver.get_screenshot_as_file('naver_main_headless.png')"
   ]
  },
  {
   "cell_type": "code",
   "execution_count": 15,
   "metadata": {},
   "outputs": [],
   "source": [
    "#search_input 창에 위에서 적은 keyword 입력\n",
    "search_input.send_keys(keyword)"
   ]
  },
  {
   "cell_type": "code",
   "execution_count": 16,
   "metadata": {},
   "outputs": [],
   "source": [
    "#검색 버튼 클릭\n",
    "search = driver.find_element_by_xpath('//*[@id=\"info-search\"]/form/button')\n",
    "search.click()\n",
    "driver.implicitly_wait(3)"
   ]
  },
  {
   "cell_type": "code",
   "execution_count": 17,
   "metadata": {},
   "outputs": [],
   "source": [
    "#iframe으로 이루어진 웹사이트의 frame을 cafe_main으로 맞춰주는 역할\n",
    "iframe = driver.find_element_by_css_selector('iframe#cafe_main')"
   ]
  },
  {
   "cell_type": "code",
   "execution_count": 18,
   "metadata": {},
   "outputs": [],
   "source": [
    "driver.switch_to.frame(iframe)"
   ]
  },
  {
   "cell_type": "code",
   "execution_count": 19,
   "metadata": {},
   "outputs": [],
   "source": [
    "#게시글 보기 옵션 selectbox클릭\n",
    "show_element = driver.find_element_by_xpath(\"\"\"//*[@id=\"listSizeSelectDiv\"]/a\"\"\")"
   ]
  },
  {
   "cell_type": "code",
   "execution_count": 20,
   "metadata": {},
   "outputs": [],
   "source": [
    "show_element.click()"
   ]
  },
  {
   "cell_type": "code",
   "execution_count": 21,
   "metadata": {},
   "outputs": [],
   "source": [
    "#50개씩 보기 클릭\n",
    "show_50_element = driver.find_element_by_xpath(\"\"\"//*[@id=\"listSizeSelectDiv\"]/ul/li[7]/a\"\"\") \n",
    "show_50_element.click()"
   ]
  },
  {
   "cell_type": "code",
   "execution_count": 22,
   "metadata": {},
   "outputs": [],
   "source": [
    "req = driver.page_source"
   ]
  },
  {
   "cell_type": "code",
   "execution_count": 23,
   "metadata": {},
   "outputs": [],
   "source": [
    "html = BeautifulSoup(req,'html.parser')"
   ]
  },
  {
   "cell_type": "code",
   "execution_count": 24,
   "metadata": {},
   "outputs": [],
   "source": [
    "find_div = html.find(\"div\",{\"class\":\"article-board result-board m-tcol-c\"})"
   ]
  },
  {
   "cell_type": "code",
   "execution_count": 25,
   "metadata": {},
   "outputs": [],
   "source": [
    "find_table = find_div.find(\"table\").find(\"tbody\")"
   ]
  },
  {
   "cell_type": "code",
   "execution_count": 27,
   "metadata": {},
   "outputs": [],
   "source": [
    "find_tr = find_table.find_all(\"tr\")"
   ]
  },
  {
   "cell_type": "code",
   "execution_count": 66,
   "metadata": {},
   "outputs": [],
   "source": [
    "# find_href = find_tr.find(\"a\",{\"class\":\"article\"}).attrs['href']"
   ]
  },
  {
   "cell_type": "code",
   "execution_count": null,
   "metadata": {},
   "outputs": [],
   "source": [
    "find_title = find_tr.find(\"a\",{\"class\":\"article\"}).text.strip().replace(\"[공지]\\n                                \\n                                \\n\\n                                \\n                                \\n                                    \",\"\")"
   ]
  },
  {
   "cell_type": "code",
   "execution_count": null,
   "metadata": {},
   "outputs": [],
   "source": [
    "find_title"
   ]
  },
  {
   "cell_type": "code",
   "execution_count": 65,
   "metadata": {},
   "outputs": [],
   "source": [
    "# find_writer = find_tr.find(\"div\",{\"class\":\"pers_nick_area\"})"
   ]
  },
  {
   "cell_type": "code",
   "execution_count": 64,
   "metadata": {},
   "outputs": [],
   "source": [
    "# find_date = find_tr.find(\"td\",{\"class\":\"td_date\"})"
   ]
  },
  {
   "cell_type": "code",
   "execution_count": 32,
   "metadata": {},
   "outputs": [
    {
     "data": {
      "text/plain": [
       "{'스프링': {'date': [], 'href': [], 'title': [], 'writer': []},\n",
       " '웹': {'date': ['2019.07.15.',\n",
       "   '2019.07.10.',\n",
       "   '2019.06.28.',\n",
       "   '2019.04.16.',\n",
       "   '2019.03.29.',\n",
       "   '2019.01.01.',\n",
       "   '2018.11.02.',\n",
       "   '2018.09.29.',\n",
       "   '2018.09.17.',\n",
       "   '2018.07.16.',\n",
       "   '2018.06.01.',\n",
       "   '2018.05.22.',\n",
       "   '2018.05.15.',\n",
       "   '2018.05.09.',\n",
       "   '2018.05.02.',\n",
       "   '2018.04.18.',\n",
       "   '2018.04.12.',\n",
       "   '2018.04.10.',\n",
       "   '2018.04.06.',\n",
       "   '2018.03.31.'],\n",
       "  'href': ['/ArticleRead.nhn?clubid=29316181&page=1&userDisplay=50&inCafeSearch=true&searchBy=0&query=%C0%A5&includeAll=&exclude=&include=&exact=&searchdate=all&media=0&sortBy=date&articleid=430&referrerAllArticles=true',\n",
       "   '/ArticleRead.nhn?clubid=29316181&page=1&userDisplay=50&inCafeSearch=true&searchBy=0&query=%C0%A5&includeAll=&exclude=&include=&exact=&searchdate=all&media=0&sortBy=date&articleid=424&referrerAllArticles=true',\n",
       "   '/ArticleRead.nhn?clubid=29316181&page=1&userDisplay=50&inCafeSearch=true&searchBy=0&query=%C0%A5&includeAll=&exclude=&include=&exact=&searchdate=all&media=0&sortBy=date&articleid=413&referrerAllArticles=true',\n",
       "   '/ArticleRead.nhn?clubid=29316181&page=1&userDisplay=50&inCafeSearch=true&searchBy=0&query=%C0%A5&includeAll=&exclude=&include=&exact=&searchdate=all&media=0&sortBy=date&articleid=332&referrerAllArticles=true',\n",
       "   '/ArticleRead.nhn?clubid=29316181&page=1&userDisplay=50&inCafeSearch=true&searchBy=0&query=%C0%A5&includeAll=&exclude=&include=&exact=&searchdate=all&media=0&sortBy=date&articleid=322&referrerAllArticles=true',\n",
       "   '/ArticleRead.nhn?clubid=29316181&page=1&userDisplay=50&inCafeSearch=true&searchBy=0&query=%C0%A5&includeAll=&exclude=&include=&exact=&searchdate=all&media=0&sortBy=date&articleid=280&referrerAllArticles=true',\n",
       "   '/ArticleRead.nhn?clubid=29316181&page=1&userDisplay=50&inCafeSearch=true&searchBy=0&query=%C0%A5&includeAll=&exclude=&include=&exact=&searchdate=all&media=0&sortBy=date&articleid=255&referrerAllArticles=true',\n",
       "   '/ArticleRead.nhn?clubid=29316181&page=1&userDisplay=50&inCafeSearch=true&searchBy=0&query=%C0%A5&includeAll=&exclude=&include=&exact=&searchdate=all&media=0&sortBy=date&articleid=232&referrerAllArticles=true',\n",
       "   '/ArticleRead.nhn?clubid=29316181&page=1&userDisplay=50&inCafeSearch=true&searchBy=0&query=%C0%A5&includeAll=&exclude=&include=&exact=&searchdate=all&media=0&sortBy=date&articleid=222&referrerAllArticles=true',\n",
       "   '/ArticleRead.nhn?clubid=29316181&page=1&userDisplay=50&inCafeSearch=true&searchBy=0&query=%C0%A5&includeAll=&exclude=&include=&exact=&searchdate=all&media=0&sortBy=date&articleid=179&referrerAllArticles=true',\n",
       "   '/ArticleRead.nhn?clubid=29316181&page=1&userDisplay=50&inCafeSearch=true&searchBy=0&query=%C0%A5&includeAll=&exclude=&include=&exact=&searchdate=all&media=0&sortBy=date&articleid=164&referrerAllArticles=true',\n",
       "   '/ArticleRead.nhn?clubid=29316181&page=1&userDisplay=50&inCafeSearch=true&searchBy=0&query=%C0%A5&includeAll=&exclude=&include=&exact=&searchdate=all&media=0&sortBy=date&articleid=153&referrerAllArticles=true',\n",
       "   '/ArticleRead.nhn?clubid=29316181&page=1&userDisplay=50&inCafeSearch=true&searchBy=0&query=%C0%A5&includeAll=&exclude=&include=&exact=&searchdate=all&media=0&sortBy=date&articleid=146&referrerAllArticles=true',\n",
       "   '/ArticleRead.nhn?clubid=29316181&page=1&userDisplay=50&inCafeSearch=true&searchBy=0&query=%C0%A5&includeAll=&exclude=&include=&exact=&searchdate=all&media=0&sortBy=date&articleid=141&referrerAllArticles=true',\n",
       "   '/ArticleRead.nhn?clubid=29316181&page=1&userDisplay=50&inCafeSearch=true&searchBy=0&query=%C0%A5&includeAll=&exclude=&include=&exact=&searchdate=all&media=0&sortBy=date&articleid=135&referrerAllArticles=true',\n",
       "   '/ArticleRead.nhn?clubid=29316181&page=1&userDisplay=50&inCafeSearch=true&searchBy=0&query=%C0%A5&includeAll=&exclude=&include=&exact=&searchdate=all&media=0&sortBy=date&articleid=120&referrerAllArticles=true',\n",
       "   '/ArticleRead.nhn?clubid=29316181&page=1&userDisplay=50&inCafeSearch=true&searchBy=0&query=%C0%A5&includeAll=&exclude=&include=&exact=&searchdate=all&media=0&sortBy=date&articleid=109&referrerAllArticles=true',\n",
       "   '/ArticleRead.nhn?clubid=29316181&page=1&userDisplay=50&inCafeSearch=true&searchBy=0&query=%C0%A5&includeAll=&exclude=&include=&exact=&searchdate=all&media=0&sortBy=date&articleid=107&referrerAllArticles=true',\n",
       "   '/ArticleRead.nhn?clubid=29316181&page=1&userDisplay=50&inCafeSearch=true&searchBy=0&query=%C0%A5&includeAll=&exclude=&include=&exact=&searchdate=all&media=0&sortBy=date&articleid=99&referrerAllArticles=true',\n",
       "   '/ArticleRead.nhn?clubid=29316181&page=1&userDisplay=50&inCafeSearch=true&searchBy=0&query=%C0%A5&includeAll=&exclude=&include=&exact=&searchdate=all&media=0&sortBy=date&articleid=90&referrerAllArticles=true'],\n",
       "  'title': ['[여름방학공지] 2019년도 2기생 여러분 여름방학 잘 보내시길 바랍니다.',\n",
       "   'JAVA/ JSP/ 웹개발 / 소프트웨어개발자 신입',\n",
       "   '[스프링부트] Session 처리',\n",
       "   '자바 개발환경설정 (Java_home) 설정 및 시험문제 힌트',\n",
       "   '[이러닝 공지] 한기대 교육컨텐츠 수강관련 안내',\n",
       "   '[스마트금융과] 교육생 모집 웹페이지 접속자 분석',\n",
       "   '[공지] 2019년도 스마트금융과 신입생 모집 (세부내용)',\n",
       "   '데이터스트림즈 솔루션 매뉴얼 위치',\n",
       "   '성한빈 면접후기 입니다.',\n",
       "   '여름방학 및 교수일정 공지',\n",
       "   'python 웹서버 구축에 대한 라이브러리 설명',\n",
       "   'MyBatis 연동',\n",
       "   '05.15 웹UI 강의자료',\n",
       "   '웹서버 실행 중 200, 403 호출이 동시에 응답할때(파비콘 요청)_업데이트',\n",
       "   '웹UI중간고사 파일',\n",
       "   '[공지] 오라클 XE 설치 후 기본 브라우저 포트 변경 (8080 -> 9191)',\n",
       "   'sql실습, 웹UI프로그래밍 1학기 잔여 강의 일정입니다.',\n",
       "   '아이폰 프로그래밍 - 웹 연결 어플리케이션',\n",
       "   'JavaScript 개발환경 설정 (Encoding 에러 포함)',\n",
       "   '자바 웹 프레임워크 (Spring)'],\n",
       "  'writer': ['김효관교수',\n",
       "   '김효관교수',\n",
       "   '황원용교수',\n",
       "   '김효관교수',\n",
       "   '김효관교수',\n",
       "   '김효관교수',\n",
       "   '김효관교수',\n",
       "   '김효관교수',\n",
       "   '2018성한빈',\n",
       "   '김효관교수',\n",
       "   '2018성한빈',\n",
       "   '김효관교수',\n",
       "   '조준형',\n",
       "   '2018정효재',\n",
       "   '조준형',\n",
       "   '김효관교수',\n",
       "   '조준형',\n",
       "   '황원용교수',\n",
       "   '김효관교수',\n",
       "   '김효관교수']}}"
      ]
     },
     "execution_count": 32,
     "metadata": {},
     "output_type": "execute_result"
    }
   ],
   "source": [
    "title_list = []\n",
    "href_list = []\n",
    "writer_list = []\n",
    "date_list = []\n",
    "\n",
    "for tr in find_tr :\n",
    "    find_title = tr.find_all(\"a\",{\"class\":\"article\"})\n",
    "    find_writer = tr.find_all(\"div\",{\"class\":\"pers_nick_area\"})\n",
    "    find_date = tr.find_all(\"td\",{\"class\":\"td_date\"})\n",
    "    for title in find_title :\n",
    "        title_list.append(title.text.strip().replace(\"[공지]\\n                                \\n                                \\n\\n                                \\n                                \\n                                    \",\"\"))\n",
    "        href_list.append(title.attrs['href'])\n",
    "    for writer in find_writer :\n",
    "        writer_list.append(writer.text.strip())\n",
    "    for date in find_date :\n",
    "        date_list.append(date.text)\n",
    "\n",
    "result_dic['웹']['title'] = title_list\n",
    "result_dic['웹']['href'] = href_list\n",
    "result_dic['웹']['writer'] = writer_list\n",
    "result_dic['웹']['date'] = date_list\n",
    "\n",
    "result_dic"
   ]
  },
  {
   "cell_type": "code",
   "execution_count": 43,
   "metadata": {},
   "outputs": [],
   "source": [
    "import pandas as pd"
   ]
  },
  {
   "cell_type": "code",
   "execution_count": 55,
   "metadata": {},
   "outputs": [],
   "source": [
    "result_data = pd.DataFrame(result_dic['웹'])"
   ]
  },
  {
   "cell_type": "code",
   "execution_count": 56,
   "metadata": {},
   "outputs": [],
   "source": [
    "result_data = pd.DataFrame(result_data, columns=['title', 'writer','href','date'])"
   ]
  },
  {
   "cell_type": "code",
   "execution_count": 62,
   "metadata": {},
   "outputs": [],
   "source": [
    "result_data.columns = [\"title\", \"writer\", \"href\", \"date\"]"
   ]
  },
  {
   "cell_type": "code",
   "execution_count": 63,
   "metadata": {},
   "outputs": [
    {
     "data": {
      "text/html": [
       "<div>\n",
       "<style scoped>\n",
       "    .dataframe tbody tr th:only-of-type {\n",
       "        vertical-align: middle;\n",
       "    }\n",
       "\n",
       "    .dataframe tbody tr th {\n",
       "        vertical-align: top;\n",
       "    }\n",
       "\n",
       "    .dataframe thead th {\n",
       "        text-align: right;\n",
       "    }\n",
       "</style>\n",
       "<table border=\"1\" class=\"dataframe\">\n",
       "  <thead>\n",
       "    <tr style=\"text-align: right;\">\n",
       "      <th></th>\n",
       "      <th>title</th>\n",
       "      <th>writer</th>\n",
       "      <th>href</th>\n",
       "      <th>date</th>\n",
       "    </tr>\n",
       "  </thead>\n",
       "  <tbody>\n",
       "    <tr>\n",
       "      <th>0</th>\n",
       "      <td>[여름방학공지] 2019년도 2기생 여러분 여름방학 잘 보내시길 바랍니다.</td>\n",
       "      <td>김효관교수</td>\n",
       "      <td>/ArticleRead.nhn?clubid=29316181&amp;page=1&amp;userDi...</td>\n",
       "      <td>2019.07.15.</td>\n",
       "    </tr>\n",
       "    <tr>\n",
       "      <th>1</th>\n",
       "      <td>JAVA/ JSP/ 웹개발 / 소프트웨어개발자 신입</td>\n",
       "      <td>김효관교수</td>\n",
       "      <td>/ArticleRead.nhn?clubid=29316181&amp;page=1&amp;userDi...</td>\n",
       "      <td>2019.07.10.</td>\n",
       "    </tr>\n",
       "    <tr>\n",
       "      <th>2</th>\n",
       "      <td>[스프링부트] Session 처리</td>\n",
       "      <td>황원용교수</td>\n",
       "      <td>/ArticleRead.nhn?clubid=29316181&amp;page=1&amp;userDi...</td>\n",
       "      <td>2019.06.28.</td>\n",
       "    </tr>\n",
       "    <tr>\n",
       "      <th>3</th>\n",
       "      <td>자바 개발환경설정 (Java_home) 설정 및 시험문제 힌트</td>\n",
       "      <td>김효관교수</td>\n",
       "      <td>/ArticleRead.nhn?clubid=29316181&amp;page=1&amp;userDi...</td>\n",
       "      <td>2019.04.16.</td>\n",
       "    </tr>\n",
       "    <tr>\n",
       "      <th>4</th>\n",
       "      <td>[이러닝 공지] 한기대 교육컨텐츠 수강관련 안내</td>\n",
       "      <td>김효관교수</td>\n",
       "      <td>/ArticleRead.nhn?clubid=29316181&amp;page=1&amp;userDi...</td>\n",
       "      <td>2019.03.29.</td>\n",
       "    </tr>\n",
       "    <tr>\n",
       "      <th>5</th>\n",
       "      <td>[스마트금융과] 교육생 모집 웹페이지 접속자 분석</td>\n",
       "      <td>김효관교수</td>\n",
       "      <td>/ArticleRead.nhn?clubid=29316181&amp;page=1&amp;userDi...</td>\n",
       "      <td>2019.01.01.</td>\n",
       "    </tr>\n",
       "    <tr>\n",
       "      <th>6</th>\n",
       "      <td>[공지] 2019년도 스마트금융과 신입생 모집 (세부내용)</td>\n",
       "      <td>김효관교수</td>\n",
       "      <td>/ArticleRead.nhn?clubid=29316181&amp;page=1&amp;userDi...</td>\n",
       "      <td>2018.11.02.</td>\n",
       "    </tr>\n",
       "    <tr>\n",
       "      <th>7</th>\n",
       "      <td>데이터스트림즈 솔루션 매뉴얼 위치</td>\n",
       "      <td>김효관교수</td>\n",
       "      <td>/ArticleRead.nhn?clubid=29316181&amp;page=1&amp;userDi...</td>\n",
       "      <td>2018.09.29.</td>\n",
       "    </tr>\n",
       "    <tr>\n",
       "      <th>8</th>\n",
       "      <td>성한빈 면접후기 입니다.</td>\n",
       "      <td>2018성한빈</td>\n",
       "      <td>/ArticleRead.nhn?clubid=29316181&amp;page=1&amp;userDi...</td>\n",
       "      <td>2018.09.17.</td>\n",
       "    </tr>\n",
       "    <tr>\n",
       "      <th>9</th>\n",
       "      <td>여름방학 및 교수일정 공지</td>\n",
       "      <td>김효관교수</td>\n",
       "      <td>/ArticleRead.nhn?clubid=29316181&amp;page=1&amp;userDi...</td>\n",
       "      <td>2018.07.16.</td>\n",
       "    </tr>\n",
       "    <tr>\n",
       "      <th>10</th>\n",
       "      <td>python 웹서버 구축에 대한 라이브러리 설명</td>\n",
       "      <td>2018성한빈</td>\n",
       "      <td>/ArticleRead.nhn?clubid=29316181&amp;page=1&amp;userDi...</td>\n",
       "      <td>2018.06.01.</td>\n",
       "    </tr>\n",
       "    <tr>\n",
       "      <th>11</th>\n",
       "      <td>MyBatis 연동</td>\n",
       "      <td>김효관교수</td>\n",
       "      <td>/ArticleRead.nhn?clubid=29316181&amp;page=1&amp;userDi...</td>\n",
       "      <td>2018.05.22.</td>\n",
       "    </tr>\n",
       "    <tr>\n",
       "      <th>12</th>\n",
       "      <td>05.15 웹UI 강의자료</td>\n",
       "      <td>조준형</td>\n",
       "      <td>/ArticleRead.nhn?clubid=29316181&amp;page=1&amp;userDi...</td>\n",
       "      <td>2018.05.15.</td>\n",
       "    </tr>\n",
       "    <tr>\n",
       "      <th>13</th>\n",
       "      <td>웹서버 실행 중 200, 403 호출이 동시에 응답할때(파비콘 요청)_업데이트</td>\n",
       "      <td>2018정효재</td>\n",
       "      <td>/ArticleRead.nhn?clubid=29316181&amp;page=1&amp;userDi...</td>\n",
       "      <td>2018.05.09.</td>\n",
       "    </tr>\n",
       "    <tr>\n",
       "      <th>14</th>\n",
       "      <td>웹UI중간고사 파일</td>\n",
       "      <td>조준형</td>\n",
       "      <td>/ArticleRead.nhn?clubid=29316181&amp;page=1&amp;userDi...</td>\n",
       "      <td>2018.05.02.</td>\n",
       "    </tr>\n",
       "    <tr>\n",
       "      <th>15</th>\n",
       "      <td>[공지] 오라클 XE 설치 후 기본 브라우저 포트 변경 (8080 -&gt; 9191)</td>\n",
       "      <td>김효관교수</td>\n",
       "      <td>/ArticleRead.nhn?clubid=29316181&amp;page=1&amp;userDi...</td>\n",
       "      <td>2018.04.18.</td>\n",
       "    </tr>\n",
       "    <tr>\n",
       "      <th>16</th>\n",
       "      <td>sql실습, 웹UI프로그래밍 1학기 잔여 강의 일정입니다.</td>\n",
       "      <td>조준형</td>\n",
       "      <td>/ArticleRead.nhn?clubid=29316181&amp;page=1&amp;userDi...</td>\n",
       "      <td>2018.04.12.</td>\n",
       "    </tr>\n",
       "    <tr>\n",
       "      <th>17</th>\n",
       "      <td>아이폰 프로그래밍 - 웹 연결 어플리케이션</td>\n",
       "      <td>황원용교수</td>\n",
       "      <td>/ArticleRead.nhn?clubid=29316181&amp;page=1&amp;userDi...</td>\n",
       "      <td>2018.04.10.</td>\n",
       "    </tr>\n",
       "    <tr>\n",
       "      <th>18</th>\n",
       "      <td>JavaScript 개발환경 설정 (Encoding 에러 포함)</td>\n",
       "      <td>김효관교수</td>\n",
       "      <td>/ArticleRead.nhn?clubid=29316181&amp;page=1&amp;userDi...</td>\n",
       "      <td>2018.04.06.</td>\n",
       "    </tr>\n",
       "    <tr>\n",
       "      <th>19</th>\n",
       "      <td>자바 웹 프레임워크 (Spring)</td>\n",
       "      <td>김효관교수</td>\n",
       "      <td>/ArticleRead.nhn?clubid=29316181&amp;page=1&amp;userDi...</td>\n",
       "      <td>2018.03.31.</td>\n",
       "    </tr>\n",
       "  </tbody>\n",
       "</table>\n",
       "</div>"
      ],
      "text/plain": [
       "                                            title   writer  \\\n",
       "0       [여름방학공지] 2019년도 2기생 여러분 여름방학 잘 보내시길 바랍니다.    김효관교수   \n",
       "1                    JAVA/ JSP/ 웹개발 / 소프트웨어개발자 신입    김효관교수   \n",
       "2                              [스프링부트] Session 처리    황원용교수   \n",
       "3              자바 개발환경설정 (Java_home) 설정 및 시험문제 힌트    김효관교수   \n",
       "4                      [이러닝 공지] 한기대 교육컨텐츠 수강관련 안내    김효관교수   \n",
       "5                     [스마트금융과] 교육생 모집 웹페이지 접속자 분석    김효관교수   \n",
       "6                [공지] 2019년도 스마트금융과 신입생 모집 (세부내용)    김효관교수   \n",
       "7                              데이터스트림즈 솔루션 매뉴얼 위치    김효관교수   \n",
       "8                                   성한빈 면접후기 입니다.  2018성한빈   \n",
       "9                                  여름방학 및 교수일정 공지    김효관교수   \n",
       "10                     python 웹서버 구축에 대한 라이브러리 설명  2018성한빈   \n",
       "11                                     MyBatis 연동    김효관교수   \n",
       "12                                 05.15 웹UI 강의자료      조준형   \n",
       "13    웹서버 실행 중 200, 403 호출이 동시에 응답할때(파비콘 요청)_업데이트  2018정효재   \n",
       "14                                     웹UI중간고사 파일      조준형   \n",
       "15  [공지] 오라클 XE 설치 후 기본 브라우저 포트 변경 (8080 -> 9191)    김효관교수   \n",
       "16               sql실습, 웹UI프로그래밍 1학기 잔여 강의 일정입니다.      조준형   \n",
       "17                        아이폰 프로그래밍 - 웹 연결 어플리케이션    황원용교수   \n",
       "18            JavaScript 개발환경 설정 (Encoding 에러 포함)    김효관교수   \n",
       "19                            자바 웹 프레임워크 (Spring)    김효관교수   \n",
       "\n",
       "                                                 href         date  \n",
       "0   /ArticleRead.nhn?clubid=29316181&page=1&userDi...  2019.07.15.  \n",
       "1   /ArticleRead.nhn?clubid=29316181&page=1&userDi...  2019.07.10.  \n",
       "2   /ArticleRead.nhn?clubid=29316181&page=1&userDi...  2019.06.28.  \n",
       "3   /ArticleRead.nhn?clubid=29316181&page=1&userDi...  2019.04.16.  \n",
       "4   /ArticleRead.nhn?clubid=29316181&page=1&userDi...  2019.03.29.  \n",
       "5   /ArticleRead.nhn?clubid=29316181&page=1&userDi...  2019.01.01.  \n",
       "6   /ArticleRead.nhn?clubid=29316181&page=1&userDi...  2018.11.02.  \n",
       "7   /ArticleRead.nhn?clubid=29316181&page=1&userDi...  2018.09.29.  \n",
       "8   /ArticleRead.nhn?clubid=29316181&page=1&userDi...  2018.09.17.  \n",
       "9   /ArticleRead.nhn?clubid=29316181&page=1&userDi...  2018.07.16.  \n",
       "10  /ArticleRead.nhn?clubid=29316181&page=1&userDi...  2018.06.01.  \n",
       "11  /ArticleRead.nhn?clubid=29316181&page=1&userDi...  2018.05.22.  \n",
       "12  /ArticleRead.nhn?clubid=29316181&page=1&userDi...  2018.05.15.  \n",
       "13  /ArticleRead.nhn?clubid=29316181&page=1&userDi...  2018.05.09.  \n",
       "14  /ArticleRead.nhn?clubid=29316181&page=1&userDi...  2018.05.02.  \n",
       "15  /ArticleRead.nhn?clubid=29316181&page=1&userDi...  2018.04.18.  \n",
       "16  /ArticleRead.nhn?clubid=29316181&page=1&userDi...  2018.04.12.  \n",
       "17  /ArticleRead.nhn?clubid=29316181&page=1&userDi...  2018.04.10.  \n",
       "18  /ArticleRead.nhn?clubid=29316181&page=1&userDi...  2018.04.06.  \n",
       "19  /ArticleRead.nhn?clubid=29316181&page=1&userDi...  2018.03.31.  "
      ]
     },
     "execution_count": 63,
     "metadata": {},
     "output_type": "execute_result"
    }
   ],
   "source": [
    "result_data"
   ]
  },
  {
   "cell_type": "code",
   "execution_count": null,
   "metadata": {},
   "outputs": [],
   "source": []
  }
 ],
 "metadata": {
  "kernelspec": {
   "display_name": "Python 3",
   "language": "python",
   "name": "python3"
  },
  "language_info": {
   "codemirror_mode": {
    "name": "ipython",
    "version": 3
   },
   "file_extension": ".py",
   "mimetype": "text/x-python",
   "name": "python",
   "nbconvert_exporter": "python",
   "pygments_lexer": "ipython3",
   "version": "3.6.4"
  }
 },
 "nbformat": 4,
 "nbformat_minor": 2
}
