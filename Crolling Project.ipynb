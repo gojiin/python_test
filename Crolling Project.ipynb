{
 "cells": [
  {
   "cell_type": "markdown",
   "metadata": {},
   "source": [
    "## 1. 라이브러리 및 드라이버 등록\n"
   ]
  },
  {
   "cell_type": "code",
   "execution_count": 3,
   "metadata": {},
   "outputs": [],
   "source": [
    "from selenium import webdriver \n",
    "from bs4 import BeautifulSoup \n",
    "import os\n",
    "from os.path import join, dirname"
   ]
  },
  {
   "cell_type": "code",
   "execution_count": 9,
   "metadata": {},
   "outputs": [],
   "source": [
    "if os.name == 'nt': \n",
    "    os_name = 'nt' \n",
    "elif os.name == 'mac': \n",
    "    os_name = 'mac' \n",
    "else: \n",
    "    os_name = 'linux'\n",
    "    \n",
    "if os_name == 'nt': \n",
    "    driver_loc = \"C:/Users/KoJiIn/Downloads/chromedriver_win32/chromedriver.exe\" ##내 pc에 chroomdrirver 저장해놓은 경로 적어주기\n",
    "else: \n",
    "    driver_loc = \"C:/Users/KoJiIn/Downloads/chromedriver_win32/chromedriver.exe\""
   ]
  },
  {
   "cell_type": "code",
   "execution_count": 10,
   "metadata": {},
   "outputs": [],
   "source": [
    "# 크롬 옵션 설정\n",
    "option = webdriver.ChromeOptions()\n",
    "option.add_argument('window-size=1920*1080')\n",
    "\n",
    "#드라이버 등록\n",
    "driver = webdriver.Chrome(driver_loc, options=option)"
   ]
  },
  {
   "cell_type": "markdown",
   "metadata": {},
   "source": [
    "## 2. 키워드 등록"
   ]
  },
  {
   "cell_type": "code",
   "execution_count": null,
   "metadata": {},
   "outputs": [],
   "source": [
    "naver_login = 'https://nid.naver.com/nidlogin.login' \n",
    "cafe_url = 'https://cafe.naver.com/smartpolytech'\n",
    "\n",
    "keyword_list = ['스프링', '웹']\n",
    "result_dic = {}\n",
    "\n",
    "for keyword in keyword_list :\n",
    "    result_dic[keyword] = {\n",
    "        'title' = [],\n",
    "        'writer' = [],\n",
    "        'href' = [],\n",
    "        'date' = []\n",
    "    }\n",
    "    \n",
    "exception_flag = 0 \n",
    "exception_title_keyword_list = ['하둡','빅데이터'] \n",
    "exception_writer_keyword_list = []"
   ]
  }
 ],
 "metadata": {
  "kernelspec": {
   "display_name": "Python 3",
   "language": "python",
   "name": "python3"
  },
  "language_info": {
   "codemirror_mode": {
    "name": "ipython",
    "version": 3
   },
   "file_extension": ".py",
   "mimetype": "text/x-python",
   "name": "python",
   "nbconvert_exporter": "python",
   "pygments_lexer": "ipython3",
   "version": "3.7.3"
  }
 },
 "nbformat": 4,
 "nbformat_minor": 2
}
