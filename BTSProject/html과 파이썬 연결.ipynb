{
 "cells": [
  {
   "cell_type": "code",
   "execution_count": null,
   "metadata": {},
   "outputs": [],
   "source": [
    "import urllib"
   ]
  },
  {
   "cell_type": "code",
   "execution_count": null,
   "metadata": {},
   "outputs": [
    {
     "name": "stdout",
     "output_type": "stream",
     "text": [
      "[<class 'http.server.HTTPServer'>, <class 'socketserver.TCPServer'>, <class 'socketserver.BaseServer'>, <class 'object'>]\n",
      "Started httpserver on port  8028\n"
     ]
    }
   ],
   "source": [
    "#!/usr/bin/python\n",
    "# from BaseHTTPServer import BaseHTTPRequestHandler,HTTPServer\n",
    "from http.server import BaseHTTPRequestHandler,HTTPServer\n",
    "from socketserver import ThreadingMixIn\n",
    "import json\n",
    "import re\n",
    "from urllib.parse import parse_qs\n",
    "import cgi\n",
    "import codecs\n",
    "\n",
    "PORT_NUMBER = 8028\n",
    "\n",
    "# This class will handle any incoming request from\n",
    "# a browser\n",
    "class myHandler(BaseHTTPRequestHandler):\n",
    "\n",
    "\n",
    "    # Handler for the GET requests\n",
    "    def do_GET(self):\n",
    "        print(self.path)\n",
    "        # print('Get request received')\n",
    "        if None != re.search('/123123', self.path):\n",
    "            # recordID = self.path\n",
    "            # print(\"recordID = \", recordID)\n",
    "            if True :\n",
    "                self.send_response(200)\n",
    "                self.send_header('Content-type', 'text/html')\n",
    "                self.end_headers()\n",
    "                path = 'C:/Users/HP\\Desktop/강의자료/고지인_sql 실습/19.3.12/BlockChain/login.html'\n",
    "                f = codecs.open(path, 'r', encoding='utf-8').read()\n",
    "                self.wfile.write(bytes(f, 'utf-8'))\n",
    "                return\n",
    "            \n",
    "            else:\n",
    "                self.send_response(400, 'Bad Request: record does not exist')\n",
    "                self.send_header('Content-Type', 'application/json')\n",
    "                self.end_headers()\n",
    "                \n",
    "#         if None != re.search('/', self.path):\n",
    "#             # recordID = self.path\n",
    "#             # print(\"recordID = \", recordID)\n",
    "#             if True :\n",
    "#                 self.send_response(200)\n",
    "#                 self.send_header('Content-type', 'text/html')\n",
    "#                 self.end_headers()\n",
    "            \n",
    "#                 path = 'E:/Git_hub/03. Java Script/2019-05-07/files/select_box.html'\n",
    "#                 f = codecs.open(path, 'r', encoding='utf-8').read()\n",
    "#                 self.wfile.write(bytes(f, 'utf-8'))\n",
    "                \n",
    "#             else:\n",
    "#                 self.send_response(400, 'Bad Request: record does not exist')\n",
    "#                 self.send_header('Content-Type', 'application/json')\n",
    "#                 self.end_headers()\n",
    "\n",
    "\n",
    "try:\n",
    "\n",
    "    # Create a web server and define the handler to manage the\n",
    "    # incoming request\n",
    "    server = HTTPServer(('', PORT_NUMBER), myHandler)\n",
    "    print(HTTPServer.mro())\n",
    "    print ('Started httpserver on port ' , PORT_NUMBER)\n",
    "\n",
    "    # Wait forever for incoming http requests\n",
    "    server.serve_forever()\n",
    "\n",
    "except KeyboardInterrupt:\n",
    "    print ('^C received, shutting down the web server')\n",
    "    server.socket.close()\n"
   ]
  },
  {
   "cell_type": "code",
   "execution_count": null,
   "metadata": {},
   "outputs": [],
   "source": []
  }
 ],
 "metadata": {
  "kernelspec": {
   "display_name": "Python 3",
   "language": "python",
   "name": "python3"
  },
  "language_info": {
   "codemirror_mode": {
    "name": "ipython",
    "version": 3
   },
   "file_extension": ".py",
   "mimetype": "text/x-python",
   "name": "python",
   "nbconvert_exporter": "python",
   "pygments_lexer": "ipython3",
   "version": "3.6.4"
  }
 },
 "nbformat": 4,
 "nbformat_minor": 2
}
