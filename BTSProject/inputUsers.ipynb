{
 "cells": [
  {
   "cell_type": "code",
   "execution_count": 1,
   "metadata": {},
   "outputs": [],
   "source": [
    "from IPython.display import display\n",
    "import ipywidgets as widgets\n",
    "import cx_Oracle as oci\n",
    "from random import *\n",
    "import uuid"
   ]
  },
  {
   "cell_type": "code",
   "execution_count": 4,
   "metadata": {},
   "outputs": [
    {
     "name": "stdout",
     "output_type": "stream",
     "text": [
      "11.2.0.2.0\n",
      "[('김덩춘', '1234', 0), ('고지인', '0004188690', 0), ('김덩춘', '1235', 0), ('선영임선영이', '0005899512', 0), ('킹갓제너럴', '0008395009', 0), ('김통춘', '174', 0), ('김동춤', '1335', 0), ('연습연습', '0006572698', 0), ('임선영', '0007870147', 0), ('김덩춘', '1233', 0)]\n"
     ]
    },
    {
     "data": {
      "text/plain": [
       "<function Connection.close>"
      ]
     },
     "execution_count": 4,
     "metadata": {},
     "output_type": "execute_result"
    }
   ],
   "source": [
    "# Oracle 서버와의연결(Connection 맺기)\n",
    "conn = oci.connect('DJ2019/DJ2019@192.168.110.3:1522/xe')\n",
    "\n",
    "#Connection 확인\n",
    "print(conn.version)\n",
    "\n",
    "# Oracle DB의 test_member 테이블 검색(select)\n",
    "cursor = conn.cursor() # cursor 객체 얻어오기\n",
    "\n",
    "# #BPS_USERS TABLE 생성\n",
    "# print(\"이름\")\n",
    "# inputName = input()\n",
    "# print(\"KEY 생성\")\n",
    "# keyTemp = str(randint(0, 10000000)) #키 값을 난수로 생성\n",
    "# key = keyTemp.zfill(10) #생성된 난수의 자릿값을 10자리로 변경\n",
    "# print(Key)\n",
    "# sql_insert = 'INSERT INTO BPS_USERS VALUES(:NAME, :KEY, :BALENCE)'\n",
    "# cursor.execute(sql_insert, NAME=inputName, KEY = Key, BALENCE=0)\n",
    "# conn.commit()\n",
    "cursor.execute('SELECT * FROM BPS_USERS') #SQL 문장 실행\n",
    "userProfile = cursor.fetchall() \n",
    "print(userProfile)\n",
    "\n",
    "cursor.close() # cursor 객체 닫기\n",
    "\n",
    "# Oracle 서버와 연결 끊기\n",
    "conn.close"
   ]
  },
  {
   "cell_type": "markdown",
   "metadata": {},
   "source": [
    "## KEY 값 중복검사"
   ]
  },
  {
   "cell_type": "code",
   "execution_count": 2,
   "metadata": {},
   "outputs": [],
   "source": [
    "db_id = 'DJ2019'\n",
    "db_pw = 'DJ2019'\n",
    "db_ip = '192.168.110.3'\n",
    "db_port = '1522'\n",
    "db_serviceName = 'xe'\n",
    "connectInfo = db_id + '/' + db_pw + '@' + db_ip + ':' + db_port + '/' + db_serviceName\n",
    "\n",
    "def insertUser(name) :\n",
    "    ##여기부터 예외처리##\n",
    "    connectComplete = False\n",
    "    cursorComplete = False\n",
    "    try:\n",
    "        oracleConnection = oci.connect(connectInfo)\n",
    "        connectComplete = True\n",
    "        oracleCursor = oracleConnection.cursor()\n",
    "        cursorComplete = True\n",
    "    except:\n",
    "        if (cursorComplete == False):\n",
    "            oracleCursor.close()\n",
    "        if (connectComplete == False):\n",
    "            oracleConnection.close\n",
    "        print('DB Connection Error')\n",
    "        return\n",
    "    ##여기까지 예외처리 끝##\n",
    "    \n",
    "    oracleCursor.execute('SELECT * FROM BPS_USERS') \n",
    "    userProfile = oracleCursor.fetchall()\n",
    "    validTest = False\n",
    "    while (validTest == False):\n",
    "        keyTemp = str(randint(0, 10000000)) \n",
    "        key = keyTemp.zfill(10)\n",
    "        for i in userProfile:\n",
    "            if (i[1] == key):\n",
    "                continue\n",
    "        validTest = True\n",
    "    \n",
    "    sql_insert = 'INSERT INTO BPS_USERS VALUES(:NAME, :KEY, :BALENCE)'\n",
    "    oracleCursor.execute(sql_insert, NAME=name, KEY=key, BALENCE=0)\n",
    "    oracleConnection.commit()\n",
    "    oracleCursor.close()\n",
    "    oracleConnection.close"
   ]
  },
  {
   "cell_type": "code",
   "execution_count": 3,
   "metadata": {},
   "outputs": [],
   "source": [
    "insertUser('연습연습')"
   ]
  },
  {
   "cell_type": "markdown",
   "metadata": {},
   "source": [
    "### UUID KEY"
   ]
  },
  {
   "cell_type": "code",
   "execution_count": 8,
   "metadata": {},
   "outputs": [],
   "source": [
    "def personalKey() :\n",
    "    validTest = False\n",
    "    while (validTest == False) :\n",
    "        key = uuid.uuid4()\n",
    "        for i in userProfile:\n",
    "            if (i[1] == key):\n",
    "                continue\n",
    "        validTest = True\n",
    "        \n",
    "        return key"
   ]
  },
  {
   "cell_type": "code",
   "execution_count": 5,
   "metadata": {},
   "outputs": [
    {
     "data": {
      "text/plain": [
       "UUID('86615d88-6ffa-4f71-bd66-a62d3f44e446')"
      ]
     },
     "execution_count": 5,
     "metadata": {},
     "output_type": "execute_result"
    }
   ],
   "source": [
    "uuid.uuid4()"
   ]
  },
  {
   "cell_type": "code",
   "execution_count": 9,
   "metadata": {},
   "outputs": [
    {
     "data": {
      "text/plain": [
       "UUID('2f310ae2-054e-422b-b423-25f9dea39baa')"
      ]
     },
     "execution_count": 9,
     "metadata": {},
     "output_type": "execute_result"
    }
   ],
   "source": [
    "personalKey()"
   ]
  }
 ],
 "metadata": {
  "kernelspec": {
   "display_name": "Python 3",
   "language": "python",
   "name": "python3"
  },
  "language_info": {
   "codemirror_mode": {
    "name": "ipython",
    "version": 3
   },
   "file_extension": ".py",
   "mimetype": "text/x-python",
   "name": "python",
   "nbconvert_exporter": "python",
   "pygments_lexer": "ipython3",
   "version": "3.6.4"
  }
 },
 "nbformat": 4,
 "nbformat_minor": 2
}
