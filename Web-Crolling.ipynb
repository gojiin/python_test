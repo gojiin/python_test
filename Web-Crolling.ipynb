{
 "cells": [
  {
   "cell_type": "markdown",
   "metadata": {},
   "source": [
    "## for문, while문 복습"
   ]
  },
  {
   "cell_type": "markdown",
   "metadata": {},
   "source": [
    "### tvList앞에 제품종류를 붙여주자"
   ]
  },
  {
   "cell_type": "code",
   "execution_count": 18,
   "metadata": {},
   "outputs": [],
   "source": [
    "tvList = ['UN40EN001', 'UN40EN002', 'UN40EN003', 'UN40EN004']"
   ]
  },
  {
   "cell_type": "code",
   "execution_count": 19,
   "metadata": {},
   "outputs": [
    {
     "data": {
      "text/plain": [
       "'UN40EN001'"
      ]
     },
     "execution_count": 19,
     "metadata": {},
     "output_type": "execute_result"
    }
   ],
   "source": [
    "tvList[0]"
   ]
  },
  {
   "cell_type": "code",
   "execution_count": 15,
   "metadata": {},
   "outputs": [],
   "source": [
    "# for문을 활용한 예제\n",
    "preFix = \"LEDTV_\"\n",
    "tvListLen = len(tvList)\n",
    "for i in range(tvListLen) :\n",
    "    tvList[i] = preFix + tvList[i]"
   ]
  },
  {
   "cell_type": "code",
   "execution_count": 16,
   "metadata": {},
   "outputs": [
    {
     "data": {
      "text/plain": [
       "['LEDTV_UN40EN001', 'LEDTV_UN40EN002', 'LEDTV_UN40EN003', 'LEDTV_UN40EN004']"
      ]
     },
     "execution_count": 16,
     "metadata": {},
     "output_type": "execute_result"
    }
   ],
   "source": [
    "tvList"
   ]
  },
  {
   "cell_type": "code",
   "execution_count": 20,
   "metadata": {},
   "outputs": [],
   "source": [
    "# while문을 활용한 예제\n",
    "preFix = \"LEDTV_\"\n",
    "i = 0\n",
    "tvListLen = len(tvList)\n",
    "\n",
    "while(i < tvListLen) :\n",
    "    tvList[i] = preFix + tvList[i]\n",
    "    i += 1"
   ]
  },
  {
   "cell_type": "code",
   "execution_count": 21,
   "metadata": {},
   "outputs": [
    {
     "data": {
      "text/plain": [
       "['LEDTV_UN40EN001', 'LEDTV_UN40EN002', 'LEDTV_UN40EN003', 'LEDTV_UN40EN004']"
      ]
     },
     "execution_count": 21,
     "metadata": {},
     "output_type": "execute_result"
    }
   ],
   "source": [
    "tvList"
   ]
  },
  {
   "cell_type": "markdown",
   "metadata": {},
   "source": [
    "## 조건문(if) 복습"
   ]
  },
  {
   "cell_type": "markdown",
   "metadata": {},
   "source": [
    "### 제품종류가 붙어있는 아이템이 있고 안붙어있는 아이템을 판단하여 모두 제품종류를 붙여주자"
   ]
  },
  {
   "cell_type": "code",
   "execution_count": 30,
   "metadata": {},
   "outputs": [],
   "source": [
    "tvList2 = ['UN40EN001', 'LEDTV_UN40EN002', 'LEDTV_UN40EN003', 'UN40EN004']\n",
    "preFix = \"LEDTV_\""
   ]
  },
  {
   "cell_type": "code",
   "execution_count": 31,
   "metadata": {},
   "outputs": [],
   "source": [
    "tvList2Lengh = len(tvList2)\n",
    "\n",
    "for i in range(tvList2Lengh) :\n",
    "    preFixCount = tvList2[i].count(preFix)\n",
    "    if(preFixCount == 0) :\n",
    "        tvList2[i] = preFix + tvList2[i]\n",
    "    else :\n",
    "        tvList2[i] = tvList2[i]"
   ]
  },
  {
   "cell_type": "code",
   "execution_count": 32,
   "metadata": {},
   "outputs": [
    {
     "data": {
      "text/plain": [
       "['LEDTV_UN40EN001', 'LEDTV_UN40EN002', 'LEDTV_UN40EN003', 'LEDTV_UN40EN004']"
      ]
     },
     "execution_count": 32,
     "metadata": {},
     "output_type": "execute_result"
    }
   ],
   "source": [
    "tvList2"
   ]
  },
  {
   "cell_type": "markdown",
   "metadata": {},
   "source": [
    "## 1. BeautifulSoup 활용 데이터 크롤링"
   ]
  },
  {
   "cell_type": "markdown",
   "metadata": {},
   "source": [
    "### *웹사이트에서 데이터를 추출하는 스크래핑 / html/xml에서 정보를 추출"
   ]
  },
  {
   "cell_type": "markdown",
   "metadata": {},
   "source": [
    "### step1. 라이브러리 선언 및 html 소스 불러오기"
   ]
  },
  {
   "cell_type": "code",
   "execution_count": 1,
   "metadata": {},
   "outputs": [],
   "source": [
    "import requests, bs4\n",
    "import pandas as pd"
   ]
  },
  {
   "cell_type": "code",
   "execution_count": 41,
   "metadata": {},
   "outputs": [],
   "source": [
    "resp = requests.get(\"https://sparkkorea.com/%ed%80%b4%ec%a6%88/\")\n",
    "resp.encoding = 'utf-8'\n",
    "\n",
    "html = resp.text"
   ]
  },
  {
   "cell_type": "code",
   "execution_count": 43,
   "metadata": {},
   "outputs": [],
   "source": [
    "# BeautifulSoup을 활용한 html의 DOM 구조만 남기기\n",
    "bs = bs4.BeautifulSoup(html, 'html.parser')"
   ]
  },
  {
   "cell_type": "code",
   "execution_count": 44,
   "metadata": {},
   "outputs": [
    {
     "data": {
      "text/plain": [
       "<!DOCTYPE html>\n",
       "\n",
       "<html lang=\"ko-KR\">\n",
       "<head>\n",
       "<meta charset=\"utf-8\"/>\n",
       "<meta content=\"width=device-width, initial-scale=1\" name=\"viewport\"/>\n",
       "<link href=\"http://gmpg.org/xfn/11\" rel=\"profile\"/>\n",
       "<link href=\"https://sparkkorea.com/xmlrpc.php\" rel=\"pingback\"/>\n",
       "<title>퀴즈 – 폴리텍대  스마트금융과</title>\n",
       "<!-- Async WordPress.com Remote Login -->\n",
       "<script id=\"wpcom_remote_login_js\">\n",
       "var wpcom_remote_login_extra_auth = '';\n",
       "function wpcom_remote_login_remove_dom_node_id( element_id ) {\n",
       "\tvar dom_node = document.getElementById( element_id );\n",
       "\tif ( dom_node ) { dom_node.remove(); }\n",
       "}\n",
       "function wpcom_remote_login_remove_dom_node_classes( class_name ) {\n",
       "\tvar dom_nodes = document.querySelectorAll( '.' + class_name );\n",
       "\tfor ( var i = 0; i < dom_nodes.length; i++ ) {\n",
       "\t\tdom_nodes[i].remove();\n",
       "\t}\n",
       "}\n",
       "function wpcom_remote_login_final_cleanup() {\n",
       "\twpcom_remote_login_remove_dom_node_classes( \"wpcom_remote_login_msg\" );\n",
       "\twpcom_remote_login_remove_dom_node_id( \"wpcom_remote_login_key\" );\n",
       "\twpcom_remote_login_remove_dom_node_id( \"wpcom_remote_login_validate\" );\n",
       "\twpcom_remote_login_remove_dom_node_id( \"wpcom_remote_login_js\" );\n",
       "\twpcom_remote_login_remove_dom_node_id( \"wpcom_request_access_iframe\" );\n",
       "\twpcom_remote_login_remove_dom_node_id( \"wpcom_request_access_styles\" );\n",
       "}\n",
       "\n",
       "// Watch for messages back from the remote login\n",
       "window.addEventListener( \"message\", function( e ) {\n",
       "\tif ( e.origin === \"https://r-login.wordpress.com\" ) {\n",
       "\t\tvar data = {};\n",
       "\t\ttry {\n",
       "\t\t\tdata = JSON.parse( e.data );\n",
       "\t\t} catch( e ) {\n",
       "\t\t\twpcom_remote_login_final_cleanup();\n",
       "\t\t\treturn;\n",
       "\t\t}\n",
       "\n",
       "\t\tif ( data.msg === 'LOGIN' ) {\n",
       "\t\t\t// Clean up the login check iframe\n",
       "\t\t\twpcom_remote_login_remove_dom_node_id( \"wpcom_remote_login_key\" );\n",
       "\n",
       "\t\t\tvar id_regex = new RegExp( /^[0-9]+$/ );\n",
       "\t\t\tvar token_regex = new RegExp( /^.*|.*|.*$/ );\n",
       "\t\t\tif (\n",
       "\t\t\t\ttoken_regex.test( data.token )\n",
       "\t\t\t\t&& id_regex.test( data.wpcomid )\n",
       "\t\t\t) {\n",
       "\t\t\t\t// We have everything we need to ask for a login\n",
       "\t\t\t\tvar script = document.createElement( \"script\" );\n",
       "\t\t\t\tscript.setAttribute( \"id\", \"wpcom_remote_login_validate\" );\n",
       "\t\t\t\tscript.src = '/remote-login.php?wpcom_remote_login=validate'\n",
       "\t\t\t\t\t+ '&wpcomid=' + data.wpcomid\n",
       "\t\t\t\t\t+ '&token=' + encodeURIComponent( data.token )\n",
       "\t\t\t\t\t+ '&host=' + window.location.protocol\n",
       "\t\t\t\t\t\t+ '//' + window.location.hostname;\n",
       "\t\t\t\tdocument.body.appendChild( script );\n",
       "\t\t\t}\n",
       "\n",
       "\t\t\treturn;\n",
       "\t\t}\n",
       "\n",
       "\t\t// Safari ITP, not logged in, so redirect\n",
       "\t\tif ( data.msg === 'LOGIN-REDIRECT' ) {\n",
       "\t\t\twindow.location = 'https://wordpress.com/log-in?redirect_to=' + window.location.href;\n",
       "\t\t\treturn;\n",
       "\t\t}\n",
       "\n",
       "\t\t// Safari ITP, storage access failed, remove the request\n",
       "\t\tif ( data.msg === 'LOGIN-REMOVE' ) {\n",
       "\t\t\tvar css_zap = 'html { -webkit-transition: margin-top 1s; transition: margin-top 1s; } /* 9001 */ html { margin-top: 0 !important; } * html body { margin-top: 0 !important; } @media screen and ( max-width: 782px ) { html { margin-top: 0 !important; } * html body { margin-top: 0 !important; } }';\n",
       "\t\t\tvar style_zap = document.createElement( 'style' );\n",
       "\t\t\tstyle_zap.type = 'text/css';\n",
       "\t\t\tstyle_zap.appendChild( document.createTextNode( css_zap ) );\n",
       "\t\t\tdocument.body.appendChild( style_zap );\n",
       "\n",
       "\t\t\tvar e = document.getElementById( 'wpcom_request_access_iframe' );\n",
       "\t\t\te.parentNode.removeChild( e );\n",
       "\n",
       "\t\t\tdocument.cookie = 'wordpress_com_login_access=denied; path=/; max-age=31536000';\n",
       "\n",
       "\t\t\treturn;\n",
       "\t\t}\n",
       "\n",
       "\t\t// Safari ITP\n",
       "\t\tif ( data.msg === 'REQUEST_ACCESS' ) {\n",
       "\t\t\tconsole.log( 'request access: safari' );\n",
       "\n",
       "\t\t\t// Check ITP iframe enable/disable knob\n",
       "\t\t\tif ( wpcom_remote_login_extra_auth !== 'safari_itp_iframe' ) {\n",
       "\t\t\t\treturn;\n",
       "\t\t\t}\n",
       "\n",
       "\t\t\t// If we are in a \"private window\" there is no ITP.\n",
       "\t\t\tvar private_window = false;\n",
       "\t\t\ttry {\n",
       "\t\t\t\tvar opendb = window.openDatabase( null, null, null, null );\n",
       "\t\t\t} catch( e ) {\n",
       "\t\t\t\tprivate_window = true;\n",
       "\t\t\t}\n",
       "\n",
       "\t\t\tif ( private_window ) {\n",
       "\t\t\t\tconsole.log( 'private window' );\n",
       "\t\t\t\treturn;\n",
       "\t\t\t}\n",
       "\n",
       "\t\t\tvar iframe = document.createElement( 'iframe' );\n",
       "\t\t\tiframe.id = 'wpcom_request_access_iframe';\n",
       "\t\t\tiframe.setAttribute( 'scrolling', 'no' );\n",
       "\t\t\tiframe.setAttribute( 'sandbox', 'allow-storage-access-by-user-activation allow-scripts allow-same-origin allow-top-navigation-by-user-activation' );\n",
       "\t\t\tiframe.src = 'https://r-login.wordpress.com/remote-login.php?wpcom_remote_login=request_access&origin=' + encodeURIComponent( data.origin ) + '&wpcomid=' + encodeURIComponent( data.wpcomid );\n",
       "\n",
       "\t\t\tvar css = 'html { -webkit-transition: margin-top 1s; transition: margin-top 1s; } /* 9001 */ html { margin-top: 46px !important; } * html body { margin-top: 46px !important; } @media screen and ( max-width: 660px ) { html { margin-top: 71px !important; } * html body { margin-top: 71px !important; } #wpcom_request_access_iframe { display: block; height: 71px !important; } } #wpcom_request_access_iframe { border: 0px; height: 46px; position: fixed; top: 0; left: 0; width: 100%; min-width: 100%; z-index: 99999; background: #23282d; } ';\n",
       "\n",
       "\t\t\tvar style = document.createElement( 'style' );\n",
       "\t\t\tstyle.type = 'text/css';\n",
       "\t\t\tstyle.id = 'wpcom_request_access_styles';\n",
       "\t\t\tstyle.appendChild( document.createTextNode( css ) );\n",
       "\t\t\tdocument.body.appendChild( style );\n",
       "\n",
       "\t\t\tdocument.body.appendChild( iframe );\n",
       "\t\t}\n",
       "\n",
       "\t\tif ( data.msg === 'DONE' ) {\n",
       "\t\t\twpcom_remote_login_final_cleanup();\n",
       "\t\t}\n",
       "\t}\n",
       "}, false );\n",
       "\n",
       "// Inject the remote login iframe after the page has had a chance to load\n",
       "// more critical resources\n",
       "window.addEventListener( \"DOMContentLoaded\", function( e ) {\n",
       "\tvar iframe = document.createElement( \"iframe\" );\n",
       "\tiframe.style.display = \"none\";\n",
       "\tiframe.setAttribute( \"scrolling\", \"no\" );\n",
       "\tiframe.setAttribute( \"id\", \"wpcom_remote_login_key\" );\n",
       "\tiframe.src = \"https://r-login.wordpress.com/remote-login.php\"\n",
       "\t\t+ \"?wpcom_remote_login=key\"\n",
       "\t\t+ \"&origin=aHR0cHM6Ly9zcGFya2tvcmVhLmNvbQ%3D%3D\"\n",
       "\t\t+ \"&wpcomid=163927570\"\n",
       "\t\t+ \"&time=1562996585\";\n",
       "\tdocument.body.appendChild( iframe );\n",
       "}, false );\n",
       "</script>\n",
       "<link href=\"//s2.wp.com\" rel=\"dns-prefetch\">\n",
       "<link href=\"//s1.wp.com\" rel=\"dns-prefetch\">\n",
       "<link href=\"//sparkkorea.wordpress.com\" rel=\"dns-prefetch\"/>\n",
       "<link href=\"//s0.wp.com\" rel=\"dns-prefetch\"/>\n",
       "<link href=\"//wordpress.com\" rel=\"dns-prefetch\"/>\n",
       "<link href=\"//fonts.googleapis.com\" rel=\"dns-prefetch\"/>\n",
       "<link href=\"https://sparkkorea.com/feed/\" rel=\"alternate\" title=\"폴리텍대  스마트금융과 » 피드\" type=\"application/rss+xml\"/>\n",
       "<link href=\"https://sparkkorea.com/comments/feed/\" rel=\"alternate\" title=\"폴리텍대  스마트금융과 » 댓글 피드\" type=\"application/rss+xml\"/>\n",
       "<script type=\"text/javascript\">\n",
       "\t\t/* <![CDATA[ */\n",
       "\t\tfunction addLoadEvent(func) {\n",
       "\t\t\tvar oldonload = window.onload;\n",
       "\t\t\tif (typeof window.onload != 'function') {\n",
       "\t\t\t\twindow.onload = func;\n",
       "\t\t\t} else {\n",
       "\t\t\t\twindow.onload = function () {\n",
       "\t\t\t\t\toldonload();\n",
       "\t\t\t\t\tfunc();\n",
       "\t\t\t\t}\n",
       "\t\t\t}\n",
       "\t\t}\n",
       "\t\t/* ]]> */\n",
       "\t</script>\n",
       "<script type=\"text/javascript\">\n",
       "\t\t\twindow._wpemojiSettings = {\"baseUrl\":\"https:\\/\\/s0.wp.com\\/wp-content\\/mu-plugins\\/wpcom-smileys\\/twemoji\\/2\\/72x72\\/\",\"ext\":\".png\",\"svgUrl\":\"https:\\/\\/s0.wp.com\\/wp-content\\/mu-plugins\\/wpcom-smileys\\/twemoji\\/2\\/svg\\/\",\"svgExt\":\".svg\",\"source\":{\"concatemoji\":\"https:\\/\\/s2.wp.com\\/wp-includes\\/js\\/wp-emoji-release.min.js?m=1556893897h&ver=5.2.2\"}};\n",
       "\t\t\t!function(a,b,c){function d(a,b){var c=String.fromCharCode;l.clearRect(0,0,k.width,k.height),l.fillText(c.apply(this,a),0,0);var d=k.toDataURL();l.clearRect(0,0,k.width,k.height),l.fillText(c.apply(this,b),0,0);var e=k.toDataURL();return d===e}function e(a){var b;if(!l||!l.fillText)return!1;switch(l.textBaseline=\"top\",l.font=\"600 32px Arial\",a){case\"flag\":return!(b=d([55356,56826,55356,56819],[55356,56826,8203,55356,56819]))&&(b=d([55356,57332,56128,56423,56128,56418,56128,56421,56128,56430,56128,56423,56128,56447],[55356,57332,8203,56128,56423,8203,56128,56418,8203,56128,56421,8203,56128,56430,8203,56128,56423,8203,56128,56447]),!b);case\"emoji\":return b=d([55357,56424,55356,57342,8205,55358,56605,8205,55357,56424,55356,57340],[55357,56424,55356,57342,8203,55358,56605,8203,55357,56424,55356,57340]),!b}return!1}function f(a){var c=b.createElement(\"script\");c.src=a,c.defer=c.type=\"text/javascript\",b.getElementsByTagName(\"head\")[0].appendChild(c)}var g,h,i,j,k=b.createElement(\"canvas\"),l=k.getContext&&k.getContext(\"2d\");for(j=Array(\"flag\",\"emoji\"),c.supports={everything:!0,everythingExceptFlag:!0},i=0;i<j.length;i++)c.supports[j[i]]=e(j[i]),c.supports.everything=c.supports.everything&&c.supports[j[i]],\"flag\"!==j[i]&&(c.supports.everythingExceptFlag=c.supports.everythingExceptFlag&&c.supports[j[i]]);c.supports.everythingExceptFlag=c.supports.everythingExceptFlag&&!c.supports.flag,c.DOMReady=!1,c.readyCallback=function(){c.DOMReady=!0},c.supports.everything||(h=function(){c.readyCallback()},b.addEventListener?(b.addEventListener(\"DOMContentLoaded\",h,!1),a.addEventListener(\"load\",h,!1)):(a.attachEvent(\"onload\",h),b.attachEvent(\"onreadystatechange\",function(){\"complete\"===b.readyState&&c.readyCallback()})),g=c.source||{},g.concatemoji?f(g.concatemoji):g.wpemoji&&g.twemoji&&(f(g.twemoji),f(g.wpemoji)))}(window,document,window._wpemojiSettings);\n",
       "\t\t</script>\n",
       "<style type=\"text/css\">\n",
       "img.wp-smiley,\n",
       "img.emoji {\n",
       "\tdisplay: inline !important;\n",
       "\tborder: none !important;\n",
       "\tbox-shadow: none !important;\n",
       "\theight: 1em !important;\n",
       "\twidth: 1em !important;\n",
       "\tmargin: 0 .07em !important;\n",
       "\tvertical-align: -0.1em !important;\n",
       "\tbackground: none !important;\n",
       "\tpadding: 0 !important;\n",
       "}\n",
       "</style>\n",
       "<link href=\"https://s0.wp.com/_static/??-eJyNkdFuwjAMRX9owXQSIB6mfUubemCIk6h2hPr3c1OKBEIVL5Fz7eNcO3DLzqeoGBW4uBzKiaLALfvETpgCji+3jRf5gvdYoCsKXFBz66+u3h7lFH0ovaVNgJ5EoQupVnVDO4wgOgbcMMWPCT0jPxOLpcXPXwnBCSk67Ekpnu5OISdRsUairvac27+qa6P6NKDpnFudKtgeaDGYoahrGOf9Qk3h2fa0utF59V2XBxRxdjIVdnXyVc6oycr8B3WBT8qMEsSkZLQ8ginxyz/Nbnf8bg7NcXv5B/hEzNY=?cssminify=yes\" id=\"all-css-0-1\" media=\"all\" rel=\"stylesheet\" type=\"text/css\"/>\n",
       "<link href=\"https://fonts.googleapis.com/css?family=Lato%3A400%2C400italic%2C700%2C700italic%7CNoto+Serif%3A400%2C400italic%2C700%2C700italic&amp;subset=latin%2Clatin-ext\" id=\"dyad-2-fonts-css\" media=\"all\" rel=\"stylesheet\" type=\"text/css\"/>\n",
       "<link href=\"https://s0.wp.com/_static/??-eJyNj80KwjAQhF/IdRuhqAfxWdJ0jdFkE/JD6ds36kGLtPQ2w843zOIQQHnOxBldgWCLNpxQE1M09bAg9yqlHf6w+U6OEobSYT/KHg6Y8mhpQ64msLNePbeUGlafYhiC8u6PmL3godbKbDzPDNysNHENjVQH6Sr1e93XvqCru4i2bcTpLJrjYwIqr3Yq?cssminify=yes\" id=\"all-css-2-1\" media=\"all\" rel=\"stylesheet\" type=\"text/css\"/>\n",
       "<link href=\"https://s2.wp.com/wp-content/mu-plugins/global-print/global-print.css?m=1465851035h&amp;cssminify=yes\" id=\"print-css-3-1\" media=\"print\" rel=\"stylesheet\" type=\"text/css\"/>\n",
       "<link href=\"https://s1.wp.com/_static/??-eJx9i9EKwjAMRX/IGgfbYA/it2SlayNpUpoMf198EBmKT/dcOAceLUQVT+JQ99B4zyQGGJ1UVuwfOkezE/zWm5qHjZE6WMFOkt/7rzKNhBxYsx7PV+Ql1WRQRsisK/JLuNXrMM2XcV6GZbo/AcVpSbo=?cssminify=yes\" id=\"all-css-4-1\" media=\"all\" rel=\"stylesheet\" type=\"text/css\"/>\n",
       "<script src=\"https://s2.wp.com/_static/??-eJyFztEKwjAMBdAfsisyOnwRv6XWOFKXtDbphn69HeiDMBQC9+EeuLFLNshhqhcQG9vdK5THO7ooO/sLGMKxeIWOkD84JFZgXW1OogQifoSNltIZJzBVoDTA2mauacN9v4Q8Iyx/WQTNPtxMAcHnun6i4965Q++GwfXxBTkPW9k=\" type=\"text/javascript\"></script>\n",
       "<link href=\"https://sparkkorea.wordpress.com/xmlrpc.php?rsd\" rel=\"EditURI\" title=\"RSD\" type=\"application/rsd+xml\"/>\n",
       "<link href=\"https://s1.wp.com/wp-includes/wlwmanifest.xml\" rel=\"wlwmanifest\" type=\"application/wlwmanifest+xml\"/>\n",
       "<meta content=\"WordPress.com\" name=\"generator\">\n",
       "<link href=\"https://sparkkorea.com/%ed%80%b4%ec%a6%88/\" rel=\"canonical\"/>\n",
       "<link href=\"https://wp.me/Pb5P34-1E\" rel=\"shortlink\"/>\n",
       "<link href=\"https://public-api.wordpress.com/oembed/?format=json&amp;url=https%3A%2F%2Fsparkkorea.com%2F%25ed%2580%25b4%25ec%25a6%2588%2F&amp;for=wpcom-auto-discovery\" rel=\"alternate\" type=\"application/json+oembed\"/><link href=\"https://public-api.wordpress.com/oembed/?format=xml&amp;url=https%3A%2F%2Fsparkkorea.com%2F%25ed%2580%25b4%25ec%25a6%2588%2F&amp;for=wpcom-auto-discovery\" rel=\"alternate\" type=\"application/xml+oembed\"/>\n",
       "<!-- Jetpack Open Graph Tags -->\n",
       "<meta content=\"article\" property=\"og:type\">\n",
       "<meta content=\"퀴즈\" property=\"og:title\"/>\n",
       "<meta content=\"https://sparkkorea.com/%ed%80%b4%ec%a6%88/\" property=\"og:url\"/>\n",
       "<meta content=\"크롤링 웹 크롤링 퀴즈 설문 Spark 퀴즈 6/13 Spark 심화과정 6/13 Spark 기본과정 6/18 Spark [MAP_FILTER] 6/18 Spark GroupBy 심화 6/25 Spark RDD 실전 분석 6/27 Spark RDD 실전 분석2 Python 퀴즈 1. 빅데이터 분석개요 및 파이썬프로그래밍 2. 파이썬 자료형 및 파일 데…\" property=\"og:description\"/>\n",
       "<meta content=\"2019-07-08T09:35:27+00:00\" property=\"article:published_time\"/>\n",
       "<meta content=\"2019-07-12T01:13:35+00:00\" property=\"article:modified_time\"/>\n",
       "<meta content=\"폴리텍대  스마트금융과\" property=\"og:site_name\"/>\n",
       "<meta content=\"https://s0.wp.com/i/blank.jpg\" property=\"og:image\"/>\n",
       "<meta content=\"ko_KR\" property=\"og:locale\"/>\n",
       "<meta content=\"@wordpressdotcom\" name=\"twitter:site\"/>\n",
       "<meta content=\"퀴즈\" name=\"twitter:text:title\"/>\n",
       "<meta content=\"summary\" name=\"twitter:card\"/>\n",
       "<meta content=\"https://www.facebook.com/WordPresscom\" property=\"article:publisher\"/>\n",
       "<!-- End Jetpack Open Graph Tags -->\n",
       "<link href=\"https://s1.wp.com/i/favicon.ico\" rel=\"shortcut icon\" sizes=\"16x16 24x24 32x32 48x48\" type=\"image/x-icon\"/>\n",
       "<link href=\"https://s1.wp.com/i/favicon.ico\" rel=\"icon\" sizes=\"16x16 24x24 32x32 48x48\" type=\"image/x-icon\"/>\n",
       "<link href=\"https://s2.wp.com/i/webclip.png\" rel=\"apple-touch-icon-precomposed\"/>\n",
       "<link href=\"https://sparkkorea.com/osd.xml\" rel=\"search\" title=\"폴리텍대  스마트금융과\" type=\"application/opensearchdescription+xml\"/>\n",
       "<link href=\"https://s1.wp.com/opensearch.xml\" rel=\"search\" title=\"WordPress.com\" type=\"application/opensearchdescription+xml\"/>\n",
       "<meta content=\"폴리텍대  스마트금융과\" name=\"application-name\"/><meta content=\"width=device-width;height=device-height\" name=\"msapplication-window\"/><meta content=\"스마트금융과 자료공유\" name=\"msapplication-tooltip\"/><meta content=\"name=구독;action-uri=https://sparkkorea.com/feed/;icon-uri=https://s1.wp.com/i/favicon.ico\" name=\"msapplication-task\"/><meta content=\"name=무료 블로그 등록;action-uri=http://wordpress.com/signup/;icon-uri=https://s1.wp.com/i/favicon.ico\" name=\"msapplication-task\"/><meta content=\"name=WordPress.com 지원;action-uri=http://support.wordpress.com/;icon-uri=https://s1.wp.com/i/favicon.ico\" name=\"msapplication-task\"/><meta content=\"name=WordPress.com 포럼;action-uri=http://forums.wordpress.com/;icon-uri=https://s1.wp.com/i/favicon.ico\" name=\"msapplication-task\"/><meta content=\"크롤링 웹 크롤링 퀴즈 설문 Spark 퀴즈 6/13 Spark 심화과정 6/13 Spark 기본과정 6/18 Spark [MAP_FILTER] 6/18 Spark GroupBy 심화 6/25 Spark RDD 실전 분석 6/27 Spark RDD 실전 분석2 Python 퀴즈 1. 빅데이터 분석개요 및 파이썬프로그래밍 2. 파이썬 자료형 및 파일 데이터 불러오기 3. 파이썬 자료형 복습 4. 파이썬 문법 및 데이터 불러오기 5.…\" name=\"description\"/>\n",
       "<style id=\"syntaxhighlighteranchor\" type=\"text/css\"></style>\n",
       "</meta></meta></link></link></head>\n",
       "<body class=\"page-template-default page page-id-102 wp-embed-responsive mp6 customizer-styles-applied is-singular no-js highlander-enabled highlander-light\">\n",
       "<div class=\"hfeed site\" id=\"page\">\n",
       "<a class=\"skip-link screen-reader-text\" href=\"#content\">컨텐츠로 건너뛰기</a>\n",
       "<header class=\"site-header\" id=\"masthead\" role=\"banner\">\n",
       "<div class=\"site-branding\">\n",
       "<h1 class=\"site-title\">\n",
       "<a href=\"https://sparkkorea.com/\" rel=\"home\">\n",
       "\t\t\t\t\t폴리텍대  스마트금융과\t\t\t\t</a>\n",
       "</h1>\n",
       "<p class=\"site-description\">스마트금융과 자료공유</p>\n",
       "</div><!-- .site-branding -->\n",
       "<nav class=\"main-navigation\" id=\"site-navigation\" role=\"navigation\">\n",
       "<button aria-controls=\"primary-menu\" aria-expanded=\"false\" class=\"menu-toggle\">메뉴</button>\n",
       "<div class=\"primary-menu\"><ul class=\"menu\" id=\"primary-menu\"><li class=\"menu-item menu-item-type-post_type menu-item-object-page menu-item-privacy-policy menu-item-28\" id=\"menu-item-28\"><a href=\"https://sparkkorea.com/%ed%80%b4%ec%a6%88/\">설문</a></li>\n",
       "<li class=\"menu-item menu-item-type-post_type menu-item-object-page menu-item-27\" id=\"menu-item-27\"><a href=\"https://sparkkorea.com/%ec%9e%90%eb%a3%8c%ec%8b%a4/\">자료실</a></li>\n",
       "<li class=\"menu-item menu-item-type-post_type menu-item-object-page current-menu-item page_item page-item-102 current_page_item menu-item-106\" id=\"menu-item-106\"><a aria-current=\"page\" href=\"https://sparkkorea.com/%ed%80%b4%ec%a6%88/\">퀴즈</a></li>\n",
       "<li class=\"menu-item menu-item-type-post_type menu-item-object-page menu-item-121\" id=\"menu-item-121\"><a href=\"https://sparkkorea.com/%ed%85%8c%ec%8a%a4%ed%8a%b8/\">테스트</a></li>\n",
       "</ul></div> </nav>\n",
       "</header><!-- #masthead -->\n",
       "<div class=\"site-inner\">\n",
       "<div class=\"site-content\" id=\"content\">\n",
       "<main class=\"content-area\" id=\"primary\" role=\"main\">\n",
       "<article class=\"post-102 page type-page status-publish hentry\" id=\"post-102\">\n",
       "<div class=\"entry-inner\">\n",
       "<header class=\"entry-header\">\n",
       "<h1 class=\"entry-title\">퀴즈</h1> </header><!-- .entry-header -->\n",
       "<div class=\"entry-content\">\n",
       "<div class=\"class_general_quiz\" id=\"id_general_quiz\">\n",
       "<h1>크롤링 </h1>\n",
       "<a href=\"https://forms.gle/WVhsH6oRdQVndYX59\"> 웹 크롤링 퀴즈 설문 </a>\n",
       "<p></p>\n",
       "<p></p>\n",
       "</div>\n",
       "<div class=\"class_spark_quiz\" id=\"id_spark_quiz\">\n",
       "<h1>Spark 퀴즈 </h1>\n",
       "<a href=\"https://forms.gle/Fw49w9GhWQChDcZm7\"> 6/13 Spark 심화과정 </a>\n",
       "<p></p>\n",
       "<a href=\"https://forms.gle/G4TcXm3fKuHLHA6D6\"> 6/13 Spark 기본과정 </a>\n",
       "<p></p>\n",
       "<a href=\"https://forms.gle/M8gr1kC2ubA3UDVp8\"> 6/18 Spark [MAP_FILTER] </a>\n",
       "<p></p>\n",
       "<a href=\"https://forms.gle/h8w5mZ4MNaPLCPbi6\"> 6/18 Spark GroupBy 심화 </a>\n",
       "<p></p>\n",
       "<a href=\"https://forms.gle/q5yL6QHfueDLM5w27\"> 6/25 Spark RDD 실전 분석 </a>\n",
       "<p></p>\n",
       "<a href=\"https://forms.gle/Gxb4y6LfVYiaLu4M7\"> 6/27 Spark RDD 실전 분석2 </a>\n",
       "<p></p>\n",
       "</div>\n",
       "<div class=\"class_py_quiz\" id=\"id_py_quiz\">\n",
       "<h1>Python 퀴즈 </h1>\n",
       "<a href=\"https://goo.gl/forms/BLiJDnHCC8MDoHr82\"> 1. 빅데이터 분석개요 및 파이썬프로그래밍</a>\n",
       "<p></p>\n",
       "<a href=\"https://goo.gl/forms/bTvHsy0PY3am0BCq2\"> 2. 파이썬 자료형 및 파일 데이터 불러오기 </a>\n",
       "<p></p>\n",
       "<a href=\"https://goo.gl/forms/ylZZiZUHfMxm7etJ3\"> 3. 파이썬 자료형 복습 </a>\n",
       "<p></p>\n",
       "<a href=\"https://goo.gl/forms/bGl0bgpmmqLKyEHI3\"> 4. 파이썬 문법 및 데이터 불러오기 </a>\n",
       "<p></p>\n",
       "<a href=\"https://goo.gl/forms/TtbUdSHNSOmFdIUN2\"> 5. 파이썬 문법 응용 </a>\n",
       "<p></p>\n",
       "<a href=\"https://forms.gle/SMgrtcifZLKr5JNZA\"> 파이썬 코드리뷰 </a>\n",
       "<p></p>\n",
       "<a href=\"https://forms.gle/Ep3PTfsTmk3pkdhK7\"> 파이썬 스크랩관련 설문 </a>\n",
       "<p></p>\n",
       "</div>\n",
       "<div class=\"sharedaddy sd-like-enabled sd-sharing-enabled\" id=\"jp-post-flair\"><div class=\"sharedaddy sd-sharing-enabled\"><div class=\"robots-nocontent sd-block sd-social sd-social-icon-text sd-sharing\"><h3 class=\"sd-title\">이 글 공유하기:</h3><div class=\"sd-content\"><ul><li class=\"share-twitter\"><a class=\"share-twitter sd-button share-icon\" data-shared=\"sharing-twitter-102\" href=\"https://sparkkorea.com/%ed%80%b4%ec%a6%88/?share=twitter\" rel=\"nofollow noopener noreferrer\" target=\"_blank\" title=\"트위터로 공유하기\"><span>Twitter</span></a></li><li class=\"share-facebook\"><a class=\"share-facebook sd-button share-icon\" data-shared=\"sharing-facebook-102\" href=\"https://sparkkorea.com/%ed%80%b4%ec%a6%88/?share=facebook\" rel=\"nofollow noopener noreferrer\" target=\"_blank\" title=\"Click to share on Facebook\"><span>Facebook</span></a></li><li class=\"share-end\"></li></ul></div></div></div><div class=\"sharedaddy sd-block sd-like jetpack-likes-widget-wrapper jetpack-likes-widget-unloaded\" data-name=\"like-post-frame-163927570-102-5d296f69ad999\" data-src=\"//widgets.wp.com/likes/index.html?ver=20190321#blog_id=163927570&amp;post_id=102&amp;origin=sparkkorea.wordpress.com&amp;obj_id=163927570-102-5d296f69ad999&amp;domain=sparkkorea.com\" id=\"like-post-wrapper-163927570-102-5d296f69ad999\"><h3 class=\"sd-title\">이것이 좋아요:</h3><div class=\"likes-widget-placeholder post-likes-widget-placeholder\" style=\"height: 55px;\"><span class=\"button\"><span>좋아요</span></span> <span class=\"loading\">가져오는 중...</span></div><span class=\"sd-text-color\"></span><a class=\"sd-link-color\"></a></div></div> </div><!-- .entry-content -->\n",
       "</div><!-- .entry-inner -->\n",
       "</article><!-- #post-## -->\n",
       "</main><!-- #main -->\n",
       "</div><!-- #content -->\n",
       "<footer class=\"site-footer\" id=\"colophon\" role=\"contentinfo\">\n",
       "<div class=\"footer-bottom-info\">\n",
       "<div class=\"site-info\">\n",
       "<a href=\"https://wordpress.com/?ref=footer_segment_business\">A WordPress.com Website.</a>\n",
       "</div><!-- .site-info -->\n",
       "</div><!-- .footer-bottom-info -->\n",
       "</footer><!-- #colophon -->\n",
       "</div><!-- .site-inner -->\n",
       "</div><!-- #page -->\n",
       "<!-- -->\n",
       "<script src=\"//0.gravatar.com/js/gprofiles.js?ver=201928y\" type=\"text/javascript\"></script>\n",
       "<script type=\"text/javascript\">\n",
       "/* <![CDATA[ */\n",
       "var WPGroHo = {\"my_hash\":\"\"};\n",
       "/* ]]> */\n",
       "</script>\n",
       "<script src=\"https://s1.wp.com/wp-content/mu-plugins/gravatar-hovercards/wpgroho.js?m=1380573781h\" type=\"text/javascript\"></script>\n",
       "<script>\n",
       "\t\t//initialize and attach hovercards to all gravatars\n",
       "\t\tjQuery( document ).ready( function( $ ) {\n",
       "\n",
       "\t\t\tif (typeof Gravatar === \"undefined\"){\n",
       "\t\t\t\treturn;\n",
       "\t\t\t}\n",
       "\n",
       "\t\t\tif ( typeof Gravatar.init !== \"function\" ) {\n",
       "\t\t\t\treturn;\n",
       "\t\t\t}\t\t\t\n",
       "\n",
       "\t\t\tGravatar.profile_cb = function( hash, id ) {\n",
       "\t\t\t\tWPGroHo.syncProfileData( hash, id );\n",
       "\t\t\t};\n",
       "\t\t\tGravatar.my_hash = WPGroHo.my_hash;\n",
       "\t\t\tGravatar.init( 'body', '#wp-admin-bar-my-account' );\n",
       "\t\t});\n",
       "\t</script>\n",
       "<div style=\"display:none\">\n",
       "</div>\n",
       "<script type=\"text/javascript\">\n",
       "\t\twindow.WPCOM_sharing_counts = {\"https:\\/\\/sparkkorea.com\\/%ed%80%b4%ec%a6%88\\/\":102};\n",
       "\t</script>\n",
       "<script type=\"text/javascript\">\n",
       "/* <![CDATA[ */\n",
       "var comment_like_text = {\"loading\":\"\\uac00\\uc838\\uc624\\ub294 \\uc911...\"};\n",
       "/* ]]> */\n",
       "</script>\n",
       "<script type=\"text/javascript\">\n",
       "/* <![CDATA[ */\n",
       "var actionbardata = {\"siteID\":\"163927570\",\"siteName\":\"\\ud3f4\\ub9ac\\ud14d\\ub300  \\uc2a4\\ub9c8\\ud2b8\\uae08\\uc735\\uacfc\",\"siteURL\":\"https:\\/\\/sparkkorea.com\",\"icon\":\"<img alt='' src='https:\\/\\/s2.wp.com\\/i\\/logo\\/wpcom-gray-white.png' class='avatar avatar-50' height='50' width='50' \\/>\",\"canManageOptions\":\"\",\"canCustomizeSite\":\"\",\"isFollowing\":\"\",\"themeSlug\":\"pub\\/dyad-2\",\"signupURL\":\"https:\\/\\/wordpress.com\\/start\\/\",\"loginURL\":\"https:\\/\\/wordpress.com\\/log-in?redirect_to=https%3A%2F%2Fsparkkorea.com%2F%ED%80%B4%EC%A6%88%2F&signup_flow=account&domain=sparkkorea.com\",\"themeURL\":\"https:\\/\\/wordpress.com\\/theme\\/dyad-2\\/\",\"xhrURL\":\"https:\\/\\/sparkkorea.com\\/wp-admin\\/admin-ajax.php\",\"nonce\":\"acb11597e2\",\"isSingular\":\"1\",\"isFolded\":\"\",\"isLoggedIn\":\"\",\"isMobile\":\"\",\"subscribeNonce\":\"<input type=\\\"hidden\\\" id=\\\"_wpnonce\\\" name=\\\"_wpnonce\\\" value=\\\"1d15d5ed21\\\" \\/>\",\"referer\":\"https:\\/\\/sparkkorea.com\\/%ed%80%b4%ec%a6%88\\/\",\"canFollow\":\"\",\"feedID\":\"97558616\",\"statusMessage\":\"\",\"customizeLink\":\"https:\\/\\/sparkkorea.wordpress.com\\/wp-admin\\/customize.php?url=https%3A%2F%2Fsparkkorea.wordpress.com%2F%25ed%2580%25b4%25ec%25a6%2588%2F\",\"postID\":\"102\",\"shortlink\":\"https:\\/\\/wp.me\\/Pb5P34-1E\",\"canEditPost\":\"\",\"editLink\":\"https:\\/\\/wordpress.com\\/page\\/sparkkorea.com\\/102\",\"statsLink\":\"https:\\/\\/wordpress.com\\/stats\\/post\\/102\\/sparkkorea.com\",\"i18n\":{\"view\":\"\\uc0ac\\uc774\\ud2b8 \\ubcf4\\uae30\",\"follow\":\"\\ud314\\ub85c\\uc6b0\",\"following\":\"\\ud314\\ub85c\\uc6b0\\uc911\",\"edit\":\"\\ud3b8\\uc9d1\",\"login\":\"\\ub85c\\uadf8\\uc778\",\"signup\":\"\\uac00\\uc785\",\"customize\":\"\\uc0ac\\uc6a9\\uc790 \\uc815\\uc758\\ud558\\uae30\",\"report\":\"\\uc774 \\ucf58\\ud150\\uce20 \\uc2e0\\uace0\\ud558\\uae30\",\"themeInfo\":\"\\ud14c\\ub9c8 \\uac00\\uc838\\uc624\\uae30: Dyad 2\",\"shortlink\":\"\\ub2e8\\ucd95 \\ub9c1\\ud06c \\ubcf5\\uc0ac\",\"copied\":\"\\ubcf5\\uc0ac\\ub428\",\"followedText\":\"\\uc774 \\uc0ac\\uc774\\ud2b8\\uc758 \\uc0c8 \\uae00\\uc774 \\uc774\\uc81c <a href=\\\"https:\\/\\/wordpress.com\\/\\\">\\ub274\\uc2a4\\ud53c\\ub4dc<\\/a>\\uc5d0 \\ud45c\\uc2dc\\ub429\\ub2c8\\ub2e4.\",\"foldBar\":\"\\uc774 \\ud45c\\uc2dc\\uc904 \\ucd95\\uc18c\",\"unfoldBar\":\"\\uc774 \\ud45c\\uc2dc\\uc904 \\ud655\\uc7a5\",\"editSubs\":\"\\uad6c\\ub3c5 \\uad00\\ub9ac\",\"viewReader\":\"\\ub9ac\\ub354\\uc5d0\\uc11c \\uc0ac\\uc774\\ud2b8 \\ubcf4\\uae30\",\"viewReadPost\":\"View post in Reader\",\"subscribe\":\"\\uac00\\uc785\\ud558\\uae30\",\"enterEmail\":\"\\uc774\\uba54\\uc77c \\uc8fc\\uc18c \\uc785\\ub825\",\"followers\":\"\",\"alreadyUser\":\"\\uc774\\ubbf8 \\uc6cc\\ub4dc\\ud504\\ub808\\uc2a4\\ub2f7\\ucef4 \\uacc4\\uc815\\uc744 \\uac16\\uace0 \\uacc4\\uc138\\uc694? <a href=\\\"https:\\/\\/wordpress.com\\/log-in?redirect_to=https%3A%2F%2Fsparkkorea.com%2F%ED%80%B4%EC%A6%88%2F&signup_flow=account&domain=sparkkorea.com\\\">\\uc9c0\\uae08 \\ub85c\\uadf8\\uc778\\ud558\\uc138\\uc694.<\\/a>\",\"stats\":\"\\ud1b5\\uacc4\"}};\n",
       "/* ]]> */\n",
       "</script>\n",
       "<script type=\"text/javascript\">\n",
       "/* <![CDATA[ */\n",
       "var sharing_js_options = {\"lang\":\"en\",\"counts\":\"1\",\"is_stats_active\":\"1\"};\n",
       "/* ]]> */\n",
       "</script>\n",
       "<script src=\"https://s1.wp.com/_static/??-eJyVkNtuxCAMRH+oLOqqkZqHqt/igEOccCuG7O7fF7RqlF4UdZ+wxnPGaOQlChV8Rp/lzFLjSgrj9TTzk9ytXBHRFkOepaUFWX4ULDiB1xbTgVkF56ok7tDc6EHyhSI+An0TfoJ5QldtsQxS30CLcyM8rGQgU/D/svNCsab7RYxBFRYjbQ2QV7bo+z/IgUG2ATTqkyP/l8cBB59u+/XhaWPDAPagDdA1SgyQWnTGVCcRVkyJ2sVNezAhJ1DLry73kGrtNWibDtwxcBajBUqSJ0jkzddboXf39tx1L33fv3bn+RN6X+ib\" type=\"text/javascript\"></script>\n",
       "<script type=\"text/javascript\">\n",
       "var windowOpen;\n",
       "\t\t\tjQuery( document.body ).on( 'click', 'a.share-twitter', function() {\n",
       "\t\t\t\t// If there's another sharing window open, close it.\n",
       "\t\t\t\tif ( 'undefined' !== typeof windowOpen ) {\n",
       "\t\t\t\t\twindowOpen.close();\n",
       "\t\t\t\t}\n",
       "\t\t\t\twindowOpen = window.open( jQuery( this ).attr( 'href' ), 'wpcomtwitter', 'menubar=1,resizable=1,width=600,height=350' );\n",
       "\t\t\t\treturn false;\n",
       "\t\t\t});\n",
       "var windowOpen;\n",
       "\t\t\tjQuery( document.body ).on( 'click', 'a.share-facebook', function() {\n",
       "\t\t\t\t// If there's another sharing window open, close it.\n",
       "\t\t\t\tif ( 'undefined' !== typeof windowOpen ) {\n",
       "\t\t\t\t\twindowOpen.close();\n",
       "\t\t\t\t}\n",
       "\t\t\t\twindowOpen = window.open( jQuery( this ).attr( 'href' ), 'wpcomfacebook', 'menubar=1,resizable=1,width=600,height=400' );\n",
       "\t\t\t\treturn false;\n",
       "\t\t\t});\n",
       "</script>\n",
       "<script type=\"text/javascript\">\n",
       "// <![CDATA[\n",
       "(function() {\n",
       "try{\n",
       "  if ( window.external &&'msIsSiteMode' in window.external) {\n",
       "    if (window.external.msIsSiteMode()) {\n",
       "      var jl = document.createElement('script');\n",
       "      jl.type='text/javascript';\n",
       "      jl.async=true;\n",
       "      jl.src='/wp-content/plugins/ie-sitemode/custom-jumplist.php';\n",
       "      var s = document.getElementsByTagName('script')[0];\n",
       "      s.parentNode.insertBefore(jl, s);\n",
       "    }\n",
       "  }\n",
       "}catch(e){}\n",
       "})();\n",
       "// ]]>\n",
       "</script> <iframe id=\"likes-master\" name=\"likes-master\" scrolling=\"no\" src=\"https://widgets.wp.com/likes/master.html?ver=20190321#ver=20190321&amp;lang=ko\" style=\"display:none;\"></iframe>\n",
       "<div id=\"likes-other-gravatars\"><div class=\"likes-text\"><span>%d</span> 블로거가 이것을 좋아합니다:</div><ul class=\"wpl-avatars sd-like-gravatars\"></ul></div>\n",
       "<script async=\"\" defer=\"\" src=\"//stats.wp.com/w.js?60\" type=\"text/javascript\"></script>\n",
       "<script type=\"text/javascript\">\n",
       "_tkq = window._tkq || [];\n",
       "_stq = window._stq || [];\n",
       "_tkq.push(['storeContext', {'blog_id':'163927570','blog_tz':'9','user_lang':'ko','blog_lang':'ko','user_id':'0'}]);\n",
       "_stq.push(['view', {'blog':'163927570','v':'wpcom','tz':'9','user_id':'0','post':'102','subd':'sparkkorea'}]);\n",
       "_stq.push(['extra', {'crypt':'UE40eW5QN0p8M2Y/RE1mJVY3bm9aR3VCbS9mWm1pRyZuJS1LX1t5NE84SWQsc2J8a3kvOS9ufHlFc2gmTk9WWlF2Lit2cCVUNnFGN2FKMVkuU2cxa3g1SThLSFg/RDFXUklKMFFmbkR6NERVdkhjWiU9bzF6bz14fj0zdFZCSVE9TVp4TklaX1tScDNHRnVkZWNMPVI1N2p2aUE4TTFFOVByeGVvOTd2WzBXT2pZLS95YTNTb3kyPzBfdEMtb0tLR3ouT2dXMi5KRUpLd1t2dDREWW13dzJZUllXPXIuRUhkS3c1WnM5MWRzbHhLP0xNc0pPRmtPdm5RN3k4Smw1OEVmcmZ0ag=='}]);\n",
       "_stq.push([ 'clickTrackerInit', '163927570', '102' ]);\n",
       "\t</script>\n",
       "<noscript><img alt=\"\" src=\"https://pixel.wp.com/b.gif?v=noscript\" style=\"height:0px;width:0px;overflow:hidden\"/></noscript>\n",
       "<script>\n",
       "if ( 'object' === typeof wpcom_mobile_user_agent_info ) {\n",
       "\n",
       "\twpcom_mobile_user_agent_info.init();\n",
       "\tvar mobileStatsQueryString = \"\";\n",
       "\t\n",
       "\tif( false !== wpcom_mobile_user_agent_info.matchedPlatformName )\n",
       "\t\tmobileStatsQueryString += \"&x_\" + 'mobile_platforms' + '=' + wpcom_mobile_user_agent_info.matchedPlatformName;\n",
       "\t\n",
       "\tif( false !== wpcom_mobile_user_agent_info.matchedUserAgentName )\n",
       "\t\tmobileStatsQueryString += \"&x_\" + 'mobile_devices' + '=' + wpcom_mobile_user_agent_info.matchedUserAgentName;\n",
       "\t\n",
       "\tif( wpcom_mobile_user_agent_info.isIPad() )\n",
       "\t\tmobileStatsQueryString += \"&x_\" + 'ipad_views' + '=' + 'views';\n",
       "\n",
       "\tif( \"\" != mobileStatsQueryString ) {\n",
       "\t\tnew Image().src = document.location.protocol + '//pixel.wp.com/g.gif?v=wpcom-no-pv' + mobileStatsQueryString + '&baba=' + Math.random();\n",
       "\t}\n",
       "\t\n",
       "}\n",
       "</script>\n",
       "</body>\n",
       "</html>"
      ]
     },
     "execution_count": 44,
     "metadata": {},
     "output_type": "execute_result"
    }
   ],
   "source": [
    "bs"
   ]
  },
  {
   "cell_type": "markdown",
   "metadata": {},
   "source": [
    "### step2. 특정 태그정보 가져오기[태그명]"
   ]
  },
  {
   "cell_type": "code",
   "execution_count": 47,
   "metadata": {},
   "outputs": [],
   "source": [
    "# findAll(\"태그명\") : 해당되는 모든 태그 정보 찾기\n",
    "# find(\"태그명\") : 해당되는 태그의 첫번째 태그 정보 찾기\n",
    "find_divs = bs.findAll(\"div\")"
   ]
  },
  {
   "cell_type": "code",
   "execution_count": 49,
   "metadata": {},
   "outputs": [
    {
     "data": {
      "text/plain": [
       "[<div class=\"hfeed site\" id=\"page\">\n",
       " <a class=\"skip-link screen-reader-text\" href=\"#content\">컨텐츠로 건너뛰기</a>\n",
       " <header class=\"site-header\" id=\"masthead\" role=\"banner\">\n",
       " <div class=\"site-branding\">\n",
       " <h1 class=\"site-title\">\n",
       " <a href=\"https://sparkkorea.com/\" rel=\"home\">\n",
       " \t\t\t\t\t폴리텍대  스마트금융과\t\t\t\t</a>\n",
       " </h1>\n",
       " <p class=\"site-description\">스마트금융과 자료공유</p>\n",
       " </div><!-- .site-branding -->\n",
       " <nav class=\"main-navigation\" id=\"site-navigation\" role=\"navigation\">\n",
       " <button aria-controls=\"primary-menu\" aria-expanded=\"false\" class=\"menu-toggle\">메뉴</button>\n",
       " <div class=\"primary-menu\"><ul class=\"menu\" id=\"primary-menu\"><li class=\"menu-item menu-item-type-post_type menu-item-object-page menu-item-privacy-policy menu-item-28\" id=\"menu-item-28\"><a href=\"https://sparkkorea.com/%ed%80%b4%ec%a6%88/\">설문</a></li>\n",
       " <li class=\"menu-item menu-item-type-post_type menu-item-object-page menu-item-27\" id=\"menu-item-27\"><a href=\"https://sparkkorea.com/%ec%9e%90%eb%a3%8c%ec%8b%a4/\">자료실</a></li>\n",
       " <li class=\"menu-item menu-item-type-post_type menu-item-object-page current-menu-item page_item page-item-102 current_page_item menu-item-106\" id=\"menu-item-106\"><a aria-current=\"page\" href=\"https://sparkkorea.com/%ed%80%b4%ec%a6%88/\">퀴즈</a></li>\n",
       " <li class=\"menu-item menu-item-type-post_type menu-item-object-page menu-item-121\" id=\"menu-item-121\"><a href=\"https://sparkkorea.com/%ed%85%8c%ec%8a%a4%ed%8a%b8/\">테스트</a></li>\n",
       " </ul></div> </nav>\n",
       " </header><!-- #masthead -->\n",
       " <div class=\"site-inner\">\n",
       " <div class=\"site-content\" id=\"content\">\n",
       " <main class=\"content-area\" id=\"primary\" role=\"main\">\n",
       " <article class=\"post-102 page type-page status-publish hentry\" id=\"post-102\">\n",
       " <div class=\"entry-inner\">\n",
       " <header class=\"entry-header\">\n",
       " <h1 class=\"entry-title\">퀴즈</h1> </header><!-- .entry-header -->\n",
       " <div class=\"entry-content\">\n",
       " <div class=\"class_general_quiz\" id=\"id_general_quiz\">\n",
       " <h1>크롤링 </h1>\n",
       " <a href=\"https://forms.gle/WVhsH6oRdQVndYX59\"> 웹 크롤링 퀴즈 설문 </a>\n",
       " <p></p>\n",
       " <p></p>\n",
       " </div>\n",
       " <div class=\"class_spark_quiz\" id=\"id_spark_quiz\">\n",
       " <h1>Spark 퀴즈 </h1>\n",
       " <a href=\"https://forms.gle/Fw49w9GhWQChDcZm7\"> 6/13 Spark 심화과정 </a>\n",
       " <p></p>\n",
       " <a href=\"https://forms.gle/G4TcXm3fKuHLHA6D6\"> 6/13 Spark 기본과정 </a>\n",
       " <p></p>\n",
       " <a href=\"https://forms.gle/M8gr1kC2ubA3UDVp8\"> 6/18 Spark [MAP_FILTER] </a>\n",
       " <p></p>\n",
       " <a href=\"https://forms.gle/h8w5mZ4MNaPLCPbi6\"> 6/18 Spark GroupBy 심화 </a>\n",
       " <p></p>\n",
       " <a href=\"https://forms.gle/q5yL6QHfueDLM5w27\"> 6/25 Spark RDD 실전 분석 </a>\n",
       " <p></p>\n",
       " <a href=\"https://forms.gle/Gxb4y6LfVYiaLu4M7\"> 6/27 Spark RDD 실전 분석2 </a>\n",
       " <p></p>\n",
       " </div>\n",
       " <div class=\"class_py_quiz\" id=\"id_py_quiz\">\n",
       " <h1>Python 퀴즈 </h1>\n",
       " <a href=\"https://goo.gl/forms/BLiJDnHCC8MDoHr82\"> 1. 빅데이터 분석개요 및 파이썬프로그래밍</a>\n",
       " <p></p>\n",
       " <a href=\"https://goo.gl/forms/bTvHsy0PY3am0BCq2\"> 2. 파이썬 자료형 및 파일 데이터 불러오기 </a>\n",
       " <p></p>\n",
       " <a href=\"https://goo.gl/forms/ylZZiZUHfMxm7etJ3\"> 3. 파이썬 자료형 복습 </a>\n",
       " <p></p>\n",
       " <a href=\"https://goo.gl/forms/bGl0bgpmmqLKyEHI3\"> 4. 파이썬 문법 및 데이터 불러오기 </a>\n",
       " <p></p>\n",
       " <a href=\"https://goo.gl/forms/TtbUdSHNSOmFdIUN2\"> 5. 파이썬 문법 응용 </a>\n",
       " <p></p>\n",
       " <a href=\"https://forms.gle/SMgrtcifZLKr5JNZA\"> 파이썬 코드리뷰 </a>\n",
       " <p></p>\n",
       " <a href=\"https://forms.gle/Ep3PTfsTmk3pkdhK7\"> 파이썬 스크랩관련 설문 </a>\n",
       " <p></p>\n",
       " </div>\n",
       " <div class=\"sharedaddy sd-like-enabled sd-sharing-enabled\" id=\"jp-post-flair\"><div class=\"sharedaddy sd-sharing-enabled\"><div class=\"robots-nocontent sd-block sd-social sd-social-icon-text sd-sharing\"><h3 class=\"sd-title\">이 글 공유하기:</h3><div class=\"sd-content\"><ul><li class=\"share-twitter\"><a class=\"share-twitter sd-button share-icon\" data-shared=\"sharing-twitter-102\" href=\"https://sparkkorea.com/%ed%80%b4%ec%a6%88/?share=twitter\" rel=\"nofollow noopener noreferrer\" target=\"_blank\" title=\"트위터로 공유하기\"><span>Twitter</span></a></li><li class=\"share-facebook\"><a class=\"share-facebook sd-button share-icon\" data-shared=\"sharing-facebook-102\" href=\"https://sparkkorea.com/%ed%80%b4%ec%a6%88/?share=facebook\" rel=\"nofollow noopener noreferrer\" target=\"_blank\" title=\"Click to share on Facebook\"><span>Facebook</span></a></li><li class=\"share-end\"></li></ul></div></div></div><div class=\"sharedaddy sd-block sd-like jetpack-likes-widget-wrapper jetpack-likes-widget-unloaded\" data-name=\"like-post-frame-163927570-102-5d296f69ad999\" data-src=\"//widgets.wp.com/likes/index.html?ver=20190321#blog_id=163927570&amp;post_id=102&amp;origin=sparkkorea.wordpress.com&amp;obj_id=163927570-102-5d296f69ad999&amp;domain=sparkkorea.com\" id=\"like-post-wrapper-163927570-102-5d296f69ad999\"><h3 class=\"sd-title\">이것이 좋아요:</h3><div class=\"likes-widget-placeholder post-likes-widget-placeholder\" style=\"height: 55px;\"><span class=\"button\"><span>좋아요</span></span> <span class=\"loading\">가져오는 중...</span></div><span class=\"sd-text-color\"></span><a class=\"sd-link-color\"></a></div></div> </div><!-- .entry-content -->\n",
       " </div><!-- .entry-inner -->\n",
       " </article><!-- #post-## -->\n",
       " </main><!-- #main -->\n",
       " </div><!-- #content -->\n",
       " <footer class=\"site-footer\" id=\"colophon\" role=\"contentinfo\">\n",
       " <div class=\"footer-bottom-info\">\n",
       " <div class=\"site-info\">\n",
       " <a href=\"https://wordpress.com/?ref=footer_segment_business\">A WordPress.com Website.</a>\n",
       " </div><!-- .site-info -->\n",
       " </div><!-- .footer-bottom-info -->\n",
       " </footer><!-- #colophon -->\n",
       " </div><!-- .site-inner -->\n",
       " </div>, <div class=\"site-branding\">\n",
       " <h1 class=\"site-title\">\n",
       " <a href=\"https://sparkkorea.com/\" rel=\"home\">\n",
       " \t\t\t\t\t폴리텍대  스마트금융과\t\t\t\t</a>\n",
       " </h1>\n",
       " <p class=\"site-description\">스마트금융과 자료공유</p>\n",
       " </div>, <div class=\"primary-menu\"><ul class=\"menu\" id=\"primary-menu\"><li class=\"menu-item menu-item-type-post_type menu-item-object-page menu-item-privacy-policy menu-item-28\" id=\"menu-item-28\"><a href=\"https://sparkkorea.com/%ed%80%b4%ec%a6%88/\">설문</a></li>\n",
       " <li class=\"menu-item menu-item-type-post_type menu-item-object-page menu-item-27\" id=\"menu-item-27\"><a href=\"https://sparkkorea.com/%ec%9e%90%eb%a3%8c%ec%8b%a4/\">자료실</a></li>\n",
       " <li class=\"menu-item menu-item-type-post_type menu-item-object-page current-menu-item page_item page-item-102 current_page_item menu-item-106\" id=\"menu-item-106\"><a aria-current=\"page\" href=\"https://sparkkorea.com/%ed%80%b4%ec%a6%88/\">퀴즈</a></li>\n",
       " <li class=\"menu-item menu-item-type-post_type menu-item-object-page menu-item-121\" id=\"menu-item-121\"><a href=\"https://sparkkorea.com/%ed%85%8c%ec%8a%a4%ed%8a%b8/\">테스트</a></li>\n",
       " </ul></div>, <div class=\"site-inner\">\n",
       " <div class=\"site-content\" id=\"content\">\n",
       " <main class=\"content-area\" id=\"primary\" role=\"main\">\n",
       " <article class=\"post-102 page type-page status-publish hentry\" id=\"post-102\">\n",
       " <div class=\"entry-inner\">\n",
       " <header class=\"entry-header\">\n",
       " <h1 class=\"entry-title\">퀴즈</h1> </header><!-- .entry-header -->\n",
       " <div class=\"entry-content\">\n",
       " <div class=\"class_general_quiz\" id=\"id_general_quiz\">\n",
       " <h1>크롤링 </h1>\n",
       " <a href=\"https://forms.gle/WVhsH6oRdQVndYX59\"> 웹 크롤링 퀴즈 설문 </a>\n",
       " <p></p>\n",
       " <p></p>\n",
       " </div>\n",
       " <div class=\"class_spark_quiz\" id=\"id_spark_quiz\">\n",
       " <h1>Spark 퀴즈 </h1>\n",
       " <a href=\"https://forms.gle/Fw49w9GhWQChDcZm7\"> 6/13 Spark 심화과정 </a>\n",
       " <p></p>\n",
       " <a href=\"https://forms.gle/G4TcXm3fKuHLHA6D6\"> 6/13 Spark 기본과정 </a>\n",
       " <p></p>\n",
       " <a href=\"https://forms.gle/M8gr1kC2ubA3UDVp8\"> 6/18 Spark [MAP_FILTER] </a>\n",
       " <p></p>\n",
       " <a href=\"https://forms.gle/h8w5mZ4MNaPLCPbi6\"> 6/18 Spark GroupBy 심화 </a>\n",
       " <p></p>\n",
       " <a href=\"https://forms.gle/q5yL6QHfueDLM5w27\"> 6/25 Spark RDD 실전 분석 </a>\n",
       " <p></p>\n",
       " <a href=\"https://forms.gle/Gxb4y6LfVYiaLu4M7\"> 6/27 Spark RDD 실전 분석2 </a>\n",
       " <p></p>\n",
       " </div>\n",
       " <div class=\"class_py_quiz\" id=\"id_py_quiz\">\n",
       " <h1>Python 퀴즈 </h1>\n",
       " <a href=\"https://goo.gl/forms/BLiJDnHCC8MDoHr82\"> 1. 빅데이터 분석개요 및 파이썬프로그래밍</a>\n",
       " <p></p>\n",
       " <a href=\"https://goo.gl/forms/bTvHsy0PY3am0BCq2\"> 2. 파이썬 자료형 및 파일 데이터 불러오기 </a>\n",
       " <p></p>\n",
       " <a href=\"https://goo.gl/forms/ylZZiZUHfMxm7etJ3\"> 3. 파이썬 자료형 복습 </a>\n",
       " <p></p>\n",
       " <a href=\"https://goo.gl/forms/bGl0bgpmmqLKyEHI3\"> 4. 파이썬 문법 및 데이터 불러오기 </a>\n",
       " <p></p>\n",
       " <a href=\"https://goo.gl/forms/TtbUdSHNSOmFdIUN2\"> 5. 파이썬 문법 응용 </a>\n",
       " <p></p>\n",
       " <a href=\"https://forms.gle/SMgrtcifZLKr5JNZA\"> 파이썬 코드리뷰 </a>\n",
       " <p></p>\n",
       " <a href=\"https://forms.gle/Ep3PTfsTmk3pkdhK7\"> 파이썬 스크랩관련 설문 </a>\n",
       " <p></p>\n",
       " </div>\n",
       " <div class=\"sharedaddy sd-like-enabled sd-sharing-enabled\" id=\"jp-post-flair\"><div class=\"sharedaddy sd-sharing-enabled\"><div class=\"robots-nocontent sd-block sd-social sd-social-icon-text sd-sharing\"><h3 class=\"sd-title\">이 글 공유하기:</h3><div class=\"sd-content\"><ul><li class=\"share-twitter\"><a class=\"share-twitter sd-button share-icon\" data-shared=\"sharing-twitter-102\" href=\"https://sparkkorea.com/%ed%80%b4%ec%a6%88/?share=twitter\" rel=\"nofollow noopener noreferrer\" target=\"_blank\" title=\"트위터로 공유하기\"><span>Twitter</span></a></li><li class=\"share-facebook\"><a class=\"share-facebook sd-button share-icon\" data-shared=\"sharing-facebook-102\" href=\"https://sparkkorea.com/%ed%80%b4%ec%a6%88/?share=facebook\" rel=\"nofollow noopener noreferrer\" target=\"_blank\" title=\"Click to share on Facebook\"><span>Facebook</span></a></li><li class=\"share-end\"></li></ul></div></div></div><div class=\"sharedaddy sd-block sd-like jetpack-likes-widget-wrapper jetpack-likes-widget-unloaded\" data-name=\"like-post-frame-163927570-102-5d296f69ad999\" data-src=\"//widgets.wp.com/likes/index.html?ver=20190321#blog_id=163927570&amp;post_id=102&amp;origin=sparkkorea.wordpress.com&amp;obj_id=163927570-102-5d296f69ad999&amp;domain=sparkkorea.com\" id=\"like-post-wrapper-163927570-102-5d296f69ad999\"><h3 class=\"sd-title\">이것이 좋아요:</h3><div class=\"likes-widget-placeholder post-likes-widget-placeholder\" style=\"height: 55px;\"><span class=\"button\"><span>좋아요</span></span> <span class=\"loading\">가져오는 중...</span></div><span class=\"sd-text-color\"></span><a class=\"sd-link-color\"></a></div></div> </div><!-- .entry-content -->\n",
       " </div><!-- .entry-inner -->\n",
       " </article><!-- #post-## -->\n",
       " </main><!-- #main -->\n",
       " </div><!-- #content -->\n",
       " <footer class=\"site-footer\" id=\"colophon\" role=\"contentinfo\">\n",
       " <div class=\"footer-bottom-info\">\n",
       " <div class=\"site-info\">\n",
       " <a href=\"https://wordpress.com/?ref=footer_segment_business\">A WordPress.com Website.</a>\n",
       " </div><!-- .site-info -->\n",
       " </div><!-- .footer-bottom-info -->\n",
       " </footer><!-- #colophon -->\n",
       " </div>, <div class=\"site-content\" id=\"content\">\n",
       " <main class=\"content-area\" id=\"primary\" role=\"main\">\n",
       " <article class=\"post-102 page type-page status-publish hentry\" id=\"post-102\">\n",
       " <div class=\"entry-inner\">\n",
       " <header class=\"entry-header\">\n",
       " <h1 class=\"entry-title\">퀴즈</h1> </header><!-- .entry-header -->\n",
       " <div class=\"entry-content\">\n",
       " <div class=\"class_general_quiz\" id=\"id_general_quiz\">\n",
       " <h1>크롤링 </h1>\n",
       " <a href=\"https://forms.gle/WVhsH6oRdQVndYX59\"> 웹 크롤링 퀴즈 설문 </a>\n",
       " <p></p>\n",
       " <p></p>\n",
       " </div>\n",
       " <div class=\"class_spark_quiz\" id=\"id_spark_quiz\">\n",
       " <h1>Spark 퀴즈 </h1>\n",
       " <a href=\"https://forms.gle/Fw49w9GhWQChDcZm7\"> 6/13 Spark 심화과정 </a>\n",
       " <p></p>\n",
       " <a href=\"https://forms.gle/G4TcXm3fKuHLHA6D6\"> 6/13 Spark 기본과정 </a>\n",
       " <p></p>\n",
       " <a href=\"https://forms.gle/M8gr1kC2ubA3UDVp8\"> 6/18 Spark [MAP_FILTER] </a>\n",
       " <p></p>\n",
       " <a href=\"https://forms.gle/h8w5mZ4MNaPLCPbi6\"> 6/18 Spark GroupBy 심화 </a>\n",
       " <p></p>\n",
       " <a href=\"https://forms.gle/q5yL6QHfueDLM5w27\"> 6/25 Spark RDD 실전 분석 </a>\n",
       " <p></p>\n",
       " <a href=\"https://forms.gle/Gxb4y6LfVYiaLu4M7\"> 6/27 Spark RDD 실전 분석2 </a>\n",
       " <p></p>\n",
       " </div>\n",
       " <div class=\"class_py_quiz\" id=\"id_py_quiz\">\n",
       " <h1>Python 퀴즈 </h1>\n",
       " <a href=\"https://goo.gl/forms/BLiJDnHCC8MDoHr82\"> 1. 빅데이터 분석개요 및 파이썬프로그래밍</a>\n",
       " <p></p>\n",
       " <a href=\"https://goo.gl/forms/bTvHsy0PY3am0BCq2\"> 2. 파이썬 자료형 및 파일 데이터 불러오기 </a>\n",
       " <p></p>\n",
       " <a href=\"https://goo.gl/forms/ylZZiZUHfMxm7etJ3\"> 3. 파이썬 자료형 복습 </a>\n",
       " <p></p>\n",
       " <a href=\"https://goo.gl/forms/bGl0bgpmmqLKyEHI3\"> 4. 파이썬 문법 및 데이터 불러오기 </a>\n",
       " <p></p>\n",
       " <a href=\"https://goo.gl/forms/TtbUdSHNSOmFdIUN2\"> 5. 파이썬 문법 응용 </a>\n",
       " <p></p>\n",
       " <a href=\"https://forms.gle/SMgrtcifZLKr5JNZA\"> 파이썬 코드리뷰 </a>\n",
       " <p></p>\n",
       " <a href=\"https://forms.gle/Ep3PTfsTmk3pkdhK7\"> 파이썬 스크랩관련 설문 </a>\n",
       " <p></p>\n",
       " </div>\n",
       " <div class=\"sharedaddy sd-like-enabled sd-sharing-enabled\" id=\"jp-post-flair\"><div class=\"sharedaddy sd-sharing-enabled\"><div class=\"robots-nocontent sd-block sd-social sd-social-icon-text sd-sharing\"><h3 class=\"sd-title\">이 글 공유하기:</h3><div class=\"sd-content\"><ul><li class=\"share-twitter\"><a class=\"share-twitter sd-button share-icon\" data-shared=\"sharing-twitter-102\" href=\"https://sparkkorea.com/%ed%80%b4%ec%a6%88/?share=twitter\" rel=\"nofollow noopener noreferrer\" target=\"_blank\" title=\"트위터로 공유하기\"><span>Twitter</span></a></li><li class=\"share-facebook\"><a class=\"share-facebook sd-button share-icon\" data-shared=\"sharing-facebook-102\" href=\"https://sparkkorea.com/%ed%80%b4%ec%a6%88/?share=facebook\" rel=\"nofollow noopener noreferrer\" target=\"_blank\" title=\"Click to share on Facebook\"><span>Facebook</span></a></li><li class=\"share-end\"></li></ul></div></div></div><div class=\"sharedaddy sd-block sd-like jetpack-likes-widget-wrapper jetpack-likes-widget-unloaded\" data-name=\"like-post-frame-163927570-102-5d296f69ad999\" data-src=\"//widgets.wp.com/likes/index.html?ver=20190321#blog_id=163927570&amp;post_id=102&amp;origin=sparkkorea.wordpress.com&amp;obj_id=163927570-102-5d296f69ad999&amp;domain=sparkkorea.com\" id=\"like-post-wrapper-163927570-102-5d296f69ad999\"><h3 class=\"sd-title\">이것이 좋아요:</h3><div class=\"likes-widget-placeholder post-likes-widget-placeholder\" style=\"height: 55px;\"><span class=\"button\"><span>좋아요</span></span> <span class=\"loading\">가져오는 중...</span></div><span class=\"sd-text-color\"></span><a class=\"sd-link-color\"></a></div></div> </div><!-- .entry-content -->\n",
       " </div><!-- .entry-inner -->\n",
       " </article><!-- #post-## -->\n",
       " </main><!-- #main -->\n",
       " </div>, <div class=\"entry-inner\">\n",
       " <header class=\"entry-header\">\n",
       " <h1 class=\"entry-title\">퀴즈</h1> </header><!-- .entry-header -->\n",
       " <div class=\"entry-content\">\n",
       " <div class=\"class_general_quiz\" id=\"id_general_quiz\">\n",
       " <h1>크롤링 </h1>\n",
       " <a href=\"https://forms.gle/WVhsH6oRdQVndYX59\"> 웹 크롤링 퀴즈 설문 </a>\n",
       " <p></p>\n",
       " <p></p>\n",
       " </div>\n",
       " <div class=\"class_spark_quiz\" id=\"id_spark_quiz\">\n",
       " <h1>Spark 퀴즈 </h1>\n",
       " <a href=\"https://forms.gle/Fw49w9GhWQChDcZm7\"> 6/13 Spark 심화과정 </a>\n",
       " <p></p>\n",
       " <a href=\"https://forms.gle/G4TcXm3fKuHLHA6D6\"> 6/13 Spark 기본과정 </a>\n",
       " <p></p>\n",
       " <a href=\"https://forms.gle/M8gr1kC2ubA3UDVp8\"> 6/18 Spark [MAP_FILTER] </a>\n",
       " <p></p>\n",
       " <a href=\"https://forms.gle/h8w5mZ4MNaPLCPbi6\"> 6/18 Spark GroupBy 심화 </a>\n",
       " <p></p>\n",
       " <a href=\"https://forms.gle/q5yL6QHfueDLM5w27\"> 6/25 Spark RDD 실전 분석 </a>\n",
       " <p></p>\n",
       " <a href=\"https://forms.gle/Gxb4y6LfVYiaLu4M7\"> 6/27 Spark RDD 실전 분석2 </a>\n",
       " <p></p>\n",
       " </div>\n",
       " <div class=\"class_py_quiz\" id=\"id_py_quiz\">\n",
       " <h1>Python 퀴즈 </h1>\n",
       " <a href=\"https://goo.gl/forms/BLiJDnHCC8MDoHr82\"> 1. 빅데이터 분석개요 및 파이썬프로그래밍</a>\n",
       " <p></p>\n",
       " <a href=\"https://goo.gl/forms/bTvHsy0PY3am0BCq2\"> 2. 파이썬 자료형 및 파일 데이터 불러오기 </a>\n",
       " <p></p>\n",
       " <a href=\"https://goo.gl/forms/ylZZiZUHfMxm7etJ3\"> 3. 파이썬 자료형 복습 </a>\n",
       " <p></p>\n",
       " <a href=\"https://goo.gl/forms/bGl0bgpmmqLKyEHI3\"> 4. 파이썬 문법 및 데이터 불러오기 </a>\n",
       " <p></p>\n",
       " <a href=\"https://goo.gl/forms/TtbUdSHNSOmFdIUN2\"> 5. 파이썬 문법 응용 </a>\n",
       " <p></p>\n",
       " <a href=\"https://forms.gle/SMgrtcifZLKr5JNZA\"> 파이썬 코드리뷰 </a>\n",
       " <p></p>\n",
       " <a href=\"https://forms.gle/Ep3PTfsTmk3pkdhK7\"> 파이썬 스크랩관련 설문 </a>\n",
       " <p></p>\n",
       " </div>\n",
       " <div class=\"sharedaddy sd-like-enabled sd-sharing-enabled\" id=\"jp-post-flair\"><div class=\"sharedaddy sd-sharing-enabled\"><div class=\"robots-nocontent sd-block sd-social sd-social-icon-text sd-sharing\"><h3 class=\"sd-title\">이 글 공유하기:</h3><div class=\"sd-content\"><ul><li class=\"share-twitter\"><a class=\"share-twitter sd-button share-icon\" data-shared=\"sharing-twitter-102\" href=\"https://sparkkorea.com/%ed%80%b4%ec%a6%88/?share=twitter\" rel=\"nofollow noopener noreferrer\" target=\"_blank\" title=\"트위터로 공유하기\"><span>Twitter</span></a></li><li class=\"share-facebook\"><a class=\"share-facebook sd-button share-icon\" data-shared=\"sharing-facebook-102\" href=\"https://sparkkorea.com/%ed%80%b4%ec%a6%88/?share=facebook\" rel=\"nofollow noopener noreferrer\" target=\"_blank\" title=\"Click to share on Facebook\"><span>Facebook</span></a></li><li class=\"share-end\"></li></ul></div></div></div><div class=\"sharedaddy sd-block sd-like jetpack-likes-widget-wrapper jetpack-likes-widget-unloaded\" data-name=\"like-post-frame-163927570-102-5d296f69ad999\" data-src=\"//widgets.wp.com/likes/index.html?ver=20190321#blog_id=163927570&amp;post_id=102&amp;origin=sparkkorea.wordpress.com&amp;obj_id=163927570-102-5d296f69ad999&amp;domain=sparkkorea.com\" id=\"like-post-wrapper-163927570-102-5d296f69ad999\"><h3 class=\"sd-title\">이것이 좋아요:</h3><div class=\"likes-widget-placeholder post-likes-widget-placeholder\" style=\"height: 55px;\"><span class=\"button\"><span>좋아요</span></span> <span class=\"loading\">가져오는 중...</span></div><span class=\"sd-text-color\"></span><a class=\"sd-link-color\"></a></div></div> </div><!-- .entry-content -->\n",
       " </div>, <div class=\"entry-content\">\n",
       " <div class=\"class_general_quiz\" id=\"id_general_quiz\">\n",
       " <h1>크롤링 </h1>\n",
       " <a href=\"https://forms.gle/WVhsH6oRdQVndYX59\"> 웹 크롤링 퀴즈 설문 </a>\n",
       " <p></p>\n",
       " <p></p>\n",
       " </div>\n",
       " <div class=\"class_spark_quiz\" id=\"id_spark_quiz\">\n",
       " <h1>Spark 퀴즈 </h1>\n",
       " <a href=\"https://forms.gle/Fw49w9GhWQChDcZm7\"> 6/13 Spark 심화과정 </a>\n",
       " <p></p>\n",
       " <a href=\"https://forms.gle/G4TcXm3fKuHLHA6D6\"> 6/13 Spark 기본과정 </a>\n",
       " <p></p>\n",
       " <a href=\"https://forms.gle/M8gr1kC2ubA3UDVp8\"> 6/18 Spark [MAP_FILTER] </a>\n",
       " <p></p>\n",
       " <a href=\"https://forms.gle/h8w5mZ4MNaPLCPbi6\"> 6/18 Spark GroupBy 심화 </a>\n",
       " <p></p>\n",
       " <a href=\"https://forms.gle/q5yL6QHfueDLM5w27\"> 6/25 Spark RDD 실전 분석 </a>\n",
       " <p></p>\n",
       " <a href=\"https://forms.gle/Gxb4y6LfVYiaLu4M7\"> 6/27 Spark RDD 실전 분석2 </a>\n",
       " <p></p>\n",
       " </div>\n",
       " <div class=\"class_py_quiz\" id=\"id_py_quiz\">\n",
       " <h1>Python 퀴즈 </h1>\n",
       " <a href=\"https://goo.gl/forms/BLiJDnHCC8MDoHr82\"> 1. 빅데이터 분석개요 및 파이썬프로그래밍</a>\n",
       " <p></p>\n",
       " <a href=\"https://goo.gl/forms/bTvHsy0PY3am0BCq2\"> 2. 파이썬 자료형 및 파일 데이터 불러오기 </a>\n",
       " <p></p>\n",
       " <a href=\"https://goo.gl/forms/ylZZiZUHfMxm7etJ3\"> 3. 파이썬 자료형 복습 </a>\n",
       " <p></p>\n",
       " <a href=\"https://goo.gl/forms/bGl0bgpmmqLKyEHI3\"> 4. 파이썬 문법 및 데이터 불러오기 </a>\n",
       " <p></p>\n",
       " <a href=\"https://goo.gl/forms/TtbUdSHNSOmFdIUN2\"> 5. 파이썬 문법 응용 </a>\n",
       " <p></p>\n",
       " <a href=\"https://forms.gle/SMgrtcifZLKr5JNZA\"> 파이썬 코드리뷰 </a>\n",
       " <p></p>\n",
       " <a href=\"https://forms.gle/Ep3PTfsTmk3pkdhK7\"> 파이썬 스크랩관련 설문 </a>\n",
       " <p></p>\n",
       " </div>\n",
       " <div class=\"sharedaddy sd-like-enabled sd-sharing-enabled\" id=\"jp-post-flair\"><div class=\"sharedaddy sd-sharing-enabled\"><div class=\"robots-nocontent sd-block sd-social sd-social-icon-text sd-sharing\"><h3 class=\"sd-title\">이 글 공유하기:</h3><div class=\"sd-content\"><ul><li class=\"share-twitter\"><a class=\"share-twitter sd-button share-icon\" data-shared=\"sharing-twitter-102\" href=\"https://sparkkorea.com/%ed%80%b4%ec%a6%88/?share=twitter\" rel=\"nofollow noopener noreferrer\" target=\"_blank\" title=\"트위터로 공유하기\"><span>Twitter</span></a></li><li class=\"share-facebook\"><a class=\"share-facebook sd-button share-icon\" data-shared=\"sharing-facebook-102\" href=\"https://sparkkorea.com/%ed%80%b4%ec%a6%88/?share=facebook\" rel=\"nofollow noopener noreferrer\" target=\"_blank\" title=\"Click to share on Facebook\"><span>Facebook</span></a></li><li class=\"share-end\"></li></ul></div></div></div><div class=\"sharedaddy sd-block sd-like jetpack-likes-widget-wrapper jetpack-likes-widget-unloaded\" data-name=\"like-post-frame-163927570-102-5d296f69ad999\" data-src=\"//widgets.wp.com/likes/index.html?ver=20190321#blog_id=163927570&amp;post_id=102&amp;origin=sparkkorea.wordpress.com&amp;obj_id=163927570-102-5d296f69ad999&amp;domain=sparkkorea.com\" id=\"like-post-wrapper-163927570-102-5d296f69ad999\"><h3 class=\"sd-title\">이것이 좋아요:</h3><div class=\"likes-widget-placeholder post-likes-widget-placeholder\" style=\"height: 55px;\"><span class=\"button\"><span>좋아요</span></span> <span class=\"loading\">가져오는 중...</span></div><span class=\"sd-text-color\"></span><a class=\"sd-link-color\"></a></div></div> </div>, <div class=\"class_general_quiz\" id=\"id_general_quiz\">\n",
       " <h1>크롤링 </h1>\n",
       " <a href=\"https://forms.gle/WVhsH6oRdQVndYX59\"> 웹 크롤링 퀴즈 설문 </a>\n",
       " <p></p>\n",
       " <p></p>\n",
       " </div>, <div class=\"class_spark_quiz\" id=\"id_spark_quiz\">\n",
       " <h1>Spark 퀴즈 </h1>\n",
       " <a href=\"https://forms.gle/Fw49w9GhWQChDcZm7\"> 6/13 Spark 심화과정 </a>\n",
       " <p></p>\n",
       " <a href=\"https://forms.gle/G4TcXm3fKuHLHA6D6\"> 6/13 Spark 기본과정 </a>\n",
       " <p></p>\n",
       " <a href=\"https://forms.gle/M8gr1kC2ubA3UDVp8\"> 6/18 Spark [MAP_FILTER] </a>\n",
       " <p></p>\n",
       " <a href=\"https://forms.gle/h8w5mZ4MNaPLCPbi6\"> 6/18 Spark GroupBy 심화 </a>\n",
       " <p></p>\n",
       " <a href=\"https://forms.gle/q5yL6QHfueDLM5w27\"> 6/25 Spark RDD 실전 분석 </a>\n",
       " <p></p>\n",
       " <a href=\"https://forms.gle/Gxb4y6LfVYiaLu4M7\"> 6/27 Spark RDD 실전 분석2 </a>\n",
       " <p></p>\n",
       " </div>, <div class=\"class_py_quiz\" id=\"id_py_quiz\">\n",
       " <h1>Python 퀴즈 </h1>\n",
       " <a href=\"https://goo.gl/forms/BLiJDnHCC8MDoHr82\"> 1. 빅데이터 분석개요 및 파이썬프로그래밍</a>\n",
       " <p></p>\n",
       " <a href=\"https://goo.gl/forms/bTvHsy0PY3am0BCq2\"> 2. 파이썬 자료형 및 파일 데이터 불러오기 </a>\n",
       " <p></p>\n",
       " <a href=\"https://goo.gl/forms/ylZZiZUHfMxm7etJ3\"> 3. 파이썬 자료형 복습 </a>\n",
       " <p></p>\n",
       " <a href=\"https://goo.gl/forms/bGl0bgpmmqLKyEHI3\"> 4. 파이썬 문법 및 데이터 불러오기 </a>\n",
       " <p></p>\n",
       " <a href=\"https://goo.gl/forms/TtbUdSHNSOmFdIUN2\"> 5. 파이썬 문법 응용 </a>\n",
       " <p></p>\n",
       " <a href=\"https://forms.gle/SMgrtcifZLKr5JNZA\"> 파이썬 코드리뷰 </a>\n",
       " <p></p>\n",
       " <a href=\"https://forms.gle/Ep3PTfsTmk3pkdhK7\"> 파이썬 스크랩관련 설문 </a>\n",
       " <p></p>\n",
       " </div>, <div class=\"sharedaddy sd-like-enabled sd-sharing-enabled\" id=\"jp-post-flair\"><div class=\"sharedaddy sd-sharing-enabled\"><div class=\"robots-nocontent sd-block sd-social sd-social-icon-text sd-sharing\"><h3 class=\"sd-title\">이 글 공유하기:</h3><div class=\"sd-content\"><ul><li class=\"share-twitter\"><a class=\"share-twitter sd-button share-icon\" data-shared=\"sharing-twitter-102\" href=\"https://sparkkorea.com/%ed%80%b4%ec%a6%88/?share=twitter\" rel=\"nofollow noopener noreferrer\" target=\"_blank\" title=\"트위터로 공유하기\"><span>Twitter</span></a></li><li class=\"share-facebook\"><a class=\"share-facebook sd-button share-icon\" data-shared=\"sharing-facebook-102\" href=\"https://sparkkorea.com/%ed%80%b4%ec%a6%88/?share=facebook\" rel=\"nofollow noopener noreferrer\" target=\"_blank\" title=\"Click to share on Facebook\"><span>Facebook</span></a></li><li class=\"share-end\"></li></ul></div></div></div><div class=\"sharedaddy sd-block sd-like jetpack-likes-widget-wrapper jetpack-likes-widget-unloaded\" data-name=\"like-post-frame-163927570-102-5d296f69ad999\" data-src=\"//widgets.wp.com/likes/index.html?ver=20190321#blog_id=163927570&amp;post_id=102&amp;origin=sparkkorea.wordpress.com&amp;obj_id=163927570-102-5d296f69ad999&amp;domain=sparkkorea.com\" id=\"like-post-wrapper-163927570-102-5d296f69ad999\"><h3 class=\"sd-title\">이것이 좋아요:</h3><div class=\"likes-widget-placeholder post-likes-widget-placeholder\" style=\"height: 55px;\"><span class=\"button\"><span>좋아요</span></span> <span class=\"loading\">가져오는 중...</span></div><span class=\"sd-text-color\"></span><a class=\"sd-link-color\"></a></div></div>, <div class=\"sharedaddy sd-sharing-enabled\"><div class=\"robots-nocontent sd-block sd-social sd-social-icon-text sd-sharing\"><h3 class=\"sd-title\">이 글 공유하기:</h3><div class=\"sd-content\"><ul><li class=\"share-twitter\"><a class=\"share-twitter sd-button share-icon\" data-shared=\"sharing-twitter-102\" href=\"https://sparkkorea.com/%ed%80%b4%ec%a6%88/?share=twitter\" rel=\"nofollow noopener noreferrer\" target=\"_blank\" title=\"트위터로 공유하기\"><span>Twitter</span></a></li><li class=\"share-facebook\"><a class=\"share-facebook sd-button share-icon\" data-shared=\"sharing-facebook-102\" href=\"https://sparkkorea.com/%ed%80%b4%ec%a6%88/?share=facebook\" rel=\"nofollow noopener noreferrer\" target=\"_blank\" title=\"Click to share on Facebook\"><span>Facebook</span></a></li><li class=\"share-end\"></li></ul></div></div></div>, <div class=\"robots-nocontent sd-block sd-social sd-social-icon-text sd-sharing\"><h3 class=\"sd-title\">이 글 공유하기:</h3><div class=\"sd-content\"><ul><li class=\"share-twitter\"><a class=\"share-twitter sd-button share-icon\" data-shared=\"sharing-twitter-102\" href=\"https://sparkkorea.com/%ed%80%b4%ec%a6%88/?share=twitter\" rel=\"nofollow noopener noreferrer\" target=\"_blank\" title=\"트위터로 공유하기\"><span>Twitter</span></a></li><li class=\"share-facebook\"><a class=\"share-facebook sd-button share-icon\" data-shared=\"sharing-facebook-102\" href=\"https://sparkkorea.com/%ed%80%b4%ec%a6%88/?share=facebook\" rel=\"nofollow noopener noreferrer\" target=\"_blank\" title=\"Click to share on Facebook\"><span>Facebook</span></a></li><li class=\"share-end\"></li></ul></div></div>, <div class=\"sd-content\"><ul><li class=\"share-twitter\"><a class=\"share-twitter sd-button share-icon\" data-shared=\"sharing-twitter-102\" href=\"https://sparkkorea.com/%ed%80%b4%ec%a6%88/?share=twitter\" rel=\"nofollow noopener noreferrer\" target=\"_blank\" title=\"트위터로 공유하기\"><span>Twitter</span></a></li><li class=\"share-facebook\"><a class=\"share-facebook sd-button share-icon\" data-shared=\"sharing-facebook-102\" href=\"https://sparkkorea.com/%ed%80%b4%ec%a6%88/?share=facebook\" rel=\"nofollow noopener noreferrer\" target=\"_blank\" title=\"Click to share on Facebook\"><span>Facebook</span></a></li><li class=\"share-end\"></li></ul></div>, <div class=\"sharedaddy sd-block sd-like jetpack-likes-widget-wrapper jetpack-likes-widget-unloaded\" data-name=\"like-post-frame-163927570-102-5d296f69ad999\" data-src=\"//widgets.wp.com/likes/index.html?ver=20190321#blog_id=163927570&amp;post_id=102&amp;origin=sparkkorea.wordpress.com&amp;obj_id=163927570-102-5d296f69ad999&amp;domain=sparkkorea.com\" id=\"like-post-wrapper-163927570-102-5d296f69ad999\"><h3 class=\"sd-title\">이것이 좋아요:</h3><div class=\"likes-widget-placeholder post-likes-widget-placeholder\" style=\"height: 55px;\"><span class=\"button\"><span>좋아요</span></span> <span class=\"loading\">가져오는 중...</span></div><span class=\"sd-text-color\"></span><a class=\"sd-link-color\"></a></div>, <div class=\"likes-widget-placeholder post-likes-widget-placeholder\" style=\"height: 55px;\"><span class=\"button\"><span>좋아요</span></span> <span class=\"loading\">가져오는 중...</span></div>, <div class=\"footer-bottom-info\">\n",
       " <div class=\"site-info\">\n",
       " <a href=\"https://wordpress.com/?ref=footer_segment_business\">A WordPress.com Website.</a>\n",
       " </div><!-- .site-info -->\n",
       " </div>, <div class=\"site-info\">\n",
       " <a href=\"https://wordpress.com/?ref=footer_segment_business\">A WordPress.com Website.</a>\n",
       " </div>, <div style=\"display:none\">\n",
       " </div>, <div id=\"likes-other-gravatars\"><div class=\"likes-text\"><span>%d</span> 블로거가 이것을 좋아합니다:</div><ul class=\"wpl-avatars sd-like-gravatars\"></ul></div>, <div class=\"likes-text\"><span>%d</span> 블로거가 이것을 좋아합니다:</div>]"
      ]
     },
     "execution_count": 49,
     "metadata": {},
     "output_type": "execute_result"
    }
   ],
   "source": [
    "find_divs"
   ]
  },
  {
   "cell_type": "markdown",
   "metadata": {},
   "source": [
    "### step3. 특정 태그정보 가져오기[속성 활용]"
   ]
  },
  {
   "cell_type": "code",
   "execution_count": 66,
   "metadata": {},
   "outputs": [],
   "source": [
    "# bs.findAll(\"태그명\", {\"속성아이디\" : \"속성 아이디 값\"})\n",
    "find_attr = bs.find(\"div\", {\"id\" : \"id_py_quiz\"})"
   ]
  },
  {
   "cell_type": "code",
   "execution_count": 67,
   "metadata": {},
   "outputs": [
    {
     "data": {
      "text/plain": [
       "<div class=\"class_py_quiz\" id=\"id_py_quiz\">\n",
       "<h1>Python 퀴즈 </h1>\n",
       "<a href=\"https://goo.gl/forms/BLiJDnHCC8MDoHr82\"> 1. 빅데이터 분석개요 및 파이썬프로그래밍</a>\n",
       "<p></p>\n",
       "<a href=\"https://goo.gl/forms/bTvHsy0PY3am0BCq2\"> 2. 파이썬 자료형 및 파일 데이터 불러오기 </a>\n",
       "<p></p>\n",
       "<a href=\"https://goo.gl/forms/ylZZiZUHfMxm7etJ3\"> 3. 파이썬 자료형 복습 </a>\n",
       "<p></p>\n",
       "<a href=\"https://goo.gl/forms/bGl0bgpmmqLKyEHI3\"> 4. 파이썬 문법 및 데이터 불러오기 </a>\n",
       "<p></p>\n",
       "<a href=\"https://goo.gl/forms/TtbUdSHNSOmFdIUN2\"> 5. 파이썬 문법 응용 </a>\n",
       "<p></p>\n",
       "<a href=\"https://forms.gle/SMgrtcifZLKr5JNZA\"> 파이썬 코드리뷰 </a>\n",
       "<p></p>\n",
       "<a href=\"https://forms.gle/Ep3PTfsTmk3pkdhK7\"> 파이썬 스크랩관련 설문 </a>\n",
       "<p></p>\n",
       "</div>"
      ]
     },
     "execution_count": 67,
     "metadata": {},
     "output_type": "execute_result"
    }
   ],
   "source": [
    "find_attr"
   ]
  },
  {
   "cell_type": "markdown",
   "metadata": {},
   "source": [
    "### step4. 특정 태그정보 가져오기[부분 구조 가져오기]"
   ]
  },
  {
   "cell_type": "code",
   "execution_count": 70,
   "metadata": {},
   "outputs": [],
   "source": [
    "find_part = find_attr.findAll(\"a\")"
   ]
  },
  {
   "cell_type": "code",
   "execution_count": 71,
   "metadata": {},
   "outputs": [
    {
     "data": {
      "text/plain": [
       "[<a href=\"https://goo.gl/forms/BLiJDnHCC8MDoHr82\"> 1. 빅데이터 분석개요 및 파이썬프로그래밍</a>,\n",
       " <a href=\"https://goo.gl/forms/bTvHsy0PY3am0BCq2\"> 2. 파이썬 자료형 및 파일 데이터 불러오기 </a>,\n",
       " <a href=\"https://goo.gl/forms/ylZZiZUHfMxm7etJ3\"> 3. 파이썬 자료형 복습 </a>,\n",
       " <a href=\"https://goo.gl/forms/bGl0bgpmmqLKyEHI3\"> 4. 파이썬 문법 및 데이터 불러오기 </a>,\n",
       " <a href=\"https://goo.gl/forms/TtbUdSHNSOmFdIUN2\"> 5. 파이썬 문법 응용 </a>,\n",
       " <a href=\"https://forms.gle/SMgrtcifZLKr5JNZA\"> 파이썬 코드리뷰 </a>,\n",
       " <a href=\"https://forms.gle/Ep3PTfsTmk3pkdhK7\"> 파이썬 스크랩관련 설문 </a>]"
      ]
     },
     "execution_count": 71,
     "metadata": {},
     "output_type": "execute_result"
    }
   ],
   "source": [
    "find_part"
   ]
  },
  {
   "cell_type": "markdown",
   "metadata": {},
   "source": [
    "### step5. 특정 태그정보 가져오기[DOM구조 내 속성 가져오기]"
   ]
  },
  {
   "cell_type": "code",
   "execution_count": 80,
   "metadata": {},
   "outputs": [],
   "source": [
    "find_href = find_attr.find(\"a\").attrs['href']"
   ]
  },
  {
   "cell_type": "code",
   "execution_count": 81,
   "metadata": {},
   "outputs": [
    {
     "data": {
      "text/plain": [
       "'https://goo.gl/forms/BLiJDnHCC8MDoHr82'"
      ]
     },
     "execution_count": 81,
     "metadata": {},
     "output_type": "execute_result"
    }
   ],
   "source": [
    "find_href"
   ]
  },
  {
   "cell_type": "markdown",
   "metadata": {},
   "source": [
    "### step6. 디버깅하기 - 반복적인 패턴을 찾는다!"
   ]
  },
  {
   "cell_type": "code",
   "execution_count": 82,
   "metadata": {},
   "outputs": [],
   "source": [
    "a_links = find_attr.findAll(\"a\")"
   ]
  },
  {
   "cell_type": "code",
   "execution_count": 92,
   "metadata": {},
   "outputs": [
    {
     "data": {
      "text/plain": [
       "[<a href=\"https://goo.gl/forms/BLiJDnHCC8MDoHr82\"> 1. 빅데이터 분석개요 및 파이썬프로그래밍</a>,\n",
       " <a href=\"https://goo.gl/forms/bTvHsy0PY3am0BCq2\"> 2. 파이썬 자료형 및 파일 데이터 불러오기 </a>,\n",
       " <a href=\"https://goo.gl/forms/ylZZiZUHfMxm7etJ3\"> 3. 파이썬 자료형 복습 </a>,\n",
       " <a href=\"https://goo.gl/forms/bGl0bgpmmqLKyEHI3\"> 4. 파이썬 문법 및 데이터 불러오기 </a>,\n",
       " <a href=\"https://goo.gl/forms/TtbUdSHNSOmFdIUN2\"> 5. 파이썬 문법 응용 </a>,\n",
       " <a href=\"https://forms.gle/SMgrtcifZLKr5JNZA\"> 파이썬 코드리뷰 </a>,\n",
       " <a href=\"https://forms.gle/Ep3PTfsTmk3pkdhK7\"> 파이썬 스크랩관련 설문 </a>]"
      ]
     },
     "execution_count": 92,
     "metadata": {},
     "output_type": "execute_result"
    }
   ],
   "source": [
    "a_links"
   ]
  },
  {
   "cell_type": "code",
   "execution_count": 84,
   "metadata": {},
   "outputs": [
    {
     "data": {
      "text/plain": [
       "<a href=\"https://goo.gl/forms/BLiJDnHCC8MDoHr82\"> 1. 빅데이터 분석개요 및 파이썬프로그래밍</a>"
      ]
     },
     "execution_count": 84,
     "metadata": {},
     "output_type": "execute_result"
    }
   ],
   "source": [
    "# 가져온 특정 태그 정보 중 첫번째 행을 가져와본다\n",
    "a_links[0]"
   ]
  },
  {
   "cell_type": "code",
   "execution_count": 85,
   "metadata": {},
   "outputs": [
    {
     "data": {
      "text/plain": [
       "' 1. 빅데이터 분석개요 및 파이썬프로그래밍'"
      ]
     },
     "execution_count": 85,
     "metadata": {},
     "output_type": "execute_result"
    }
   ],
   "source": [
    "# 가져온 특정 태그 정보의 첫번째 행에 있는 text 값을 가져와본다\n",
    "a_links[0].text"
   ]
  },
  {
   "cell_type": "code",
   "execution_count": 91,
   "metadata": {},
   "outputs": [
    {
     "data": {
      "text/plain": [
       "'https://goo.gl/forms/BLiJDnHCC8MDoHr82'"
      ]
     },
     "execution_count": 91,
     "metadata": {},
     "output_type": "execute_result"
    }
   ],
   "source": [
    "# 가져온 특정 태그 정보의 첫번째 행에 있는 속성중 'href'에 해당하는 값을 가져와본다\n",
    "a_links[0].attrs['href']"
   ]
  },
  {
   "cell_type": "markdown",
   "metadata": {},
   "source": [
    "## 실습1. sparkkorea.com 사이트내 퀴즈 페이지 에서 스파크 퀴즈 링크 정보 스크랩 -> 데이터프레임으로 변환"
   ]
  },
  {
   "cell_type": "code",
   "execution_count": 114,
   "metadata": {},
   "outputs": [],
   "source": [
    "find_divs = bs.find(\"div\", {\"id\":\"id_spark_quiz\"}).findAll(\"a\")"
   ]
  },
  {
   "cell_type": "code",
   "execution_count": 115,
   "metadata": {},
   "outputs": [
    {
     "data": {
      "text/plain": [
       "[<a href=\"https://forms.gle/Fw49w9GhWQChDcZm7\"> 6/13 Spark 심화과정 </a>,\n",
       " <a href=\"https://forms.gle/G4TcXm3fKuHLHA6D6\"> 6/13 Spark 기본과정 </a>,\n",
       " <a href=\"https://forms.gle/M8gr1kC2ubA3UDVp8\"> 6/18 Spark [MAP_FILTER] </a>,\n",
       " <a href=\"https://forms.gle/h8w5mZ4MNaPLCPbi6\"> 6/18 Spark GroupBy 심화 </a>,\n",
       " <a href=\"https://forms.gle/q5yL6QHfueDLM5w27\"> 6/25 Spark RDD 실전 분석 </a>,\n",
       " <a href=\"https://forms.gle/Gxb4y6LfVYiaLu4M7\"> 6/27 Spark RDD 실전 분석2 </a>]"
      ]
     },
     "execution_count": 115,
     "metadata": {},
     "output_type": "execute_result"
    }
   ],
   "source": [
    "find_divs"
   ]
  },
  {
   "cell_type": "code",
   "execution_count": 116,
   "metadata": {},
   "outputs": [
    {
     "data": {
      "text/plain": [
       "bs4.element.ResultSet"
      ]
     },
     "execution_count": 116,
     "metadata": {},
     "output_type": "execute_result"
    }
   ],
   "source": [
    "type(find_divs)"
   ]
  },
  {
   "cell_type": "code",
   "execution_count": 120,
   "metadata": {},
   "outputs": [
    {
     "data": {
      "text/plain": [
       "'https://forms.gle/Fw49w9GhWQChDcZm7'"
      ]
     },
     "execution_count": 120,
     "metadata": {},
     "output_type": "execute_result"
    }
   ],
   "source": [
    "find_divs[0].attrs['href']"
   ]
  },
  {
   "cell_type": "code",
   "execution_count": 121,
   "metadata": {},
   "outputs": [
    {
     "data": {
      "text/plain": [
       "' 6/13 Spark 심화과정 '"
      ]
     },
     "execution_count": 121,
     "metadata": {},
     "output_type": "execute_result"
    }
   ],
   "source": [
    "find_divs[0].text"
   ]
  },
  {
   "cell_type": "code",
   "execution_count": 129,
   "metadata": {},
   "outputs": [
    {
     "data": {
      "text/plain": [
       "6"
      ]
     },
     "execution_count": 129,
     "metadata": {},
     "output_type": "execute_result"
    }
   ],
   "source": [
    "len(find_divs)"
   ]
  },
  {
   "cell_type": "code",
   "execution_count": 144,
   "metadata": {},
   "outputs": [],
   "source": [
    "link_name = []"
   ]
  },
  {
   "cell_type": "code",
   "execution_count": 147,
   "metadata": {},
   "outputs": [],
   "source": [
    "link_address = []"
   ]
  },
  {
   "cell_type": "code",
   "execution_count": 149,
   "metadata": {},
   "outputs": [],
   "source": [
    "result = []\n",
    "# link_name = []\n",
    "# link_address = []\n",
    "\n",
    "for i in range(len(find_divs)) :\n",
    "    link_name = find_divs[i].text\n",
    "    link_address= find_divs[i].attrs['href']\n",
    "    result.append([link_name, link_address])"
   ]
  },
  {
   "cell_type": "code",
   "execution_count": 150,
   "metadata": {},
   "outputs": [
    {
     "data": {
      "text/plain": [
       "[[' 6/13 Spark 심화과정 ', 'https://forms.gle/Fw49w9GhWQChDcZm7'],\n",
       " [' 6/13 Spark 기본과정 ', 'https://forms.gle/G4TcXm3fKuHLHA6D6'],\n",
       " [' 6/18 Spark [MAP_FILTER] ', 'https://forms.gle/M8gr1kC2ubA3UDVp8'],\n",
       " [' 6/18 Spark GroupBy 심화 ', 'https://forms.gle/h8w5mZ4MNaPLCPbi6'],\n",
       " [' 6/25 Spark RDD 실전 분석 ', 'https://forms.gle/q5yL6QHfueDLM5w27'],\n",
       " [' 6/27 Spark RDD 실전 분석2 ', 'https://forms.gle/Gxb4y6LfVYiaLu4M7']]"
      ]
     },
     "execution_count": 150,
     "metadata": {},
     "output_type": "execute_result"
    }
   ],
   "source": [
    "result"
   ]
  },
  {
   "cell_type": "code",
   "execution_count": 155,
   "metadata": {},
   "outputs": [],
   "source": [
    "df = pd.DataFrame(result, columns = {\"link_nake\", \"link_address\"})"
   ]
  },
  {
   "cell_type": "code",
   "execution_count": 156,
   "metadata": {},
   "outputs": [
    {
     "data": {
      "text/html": [
       "<div>\n",
       "<style scoped>\n",
       "    .dataframe tbody tr th:only-of-type {\n",
       "        vertical-align: middle;\n",
       "    }\n",
       "\n",
       "    .dataframe tbody tr th {\n",
       "        vertical-align: top;\n",
       "    }\n",
       "\n",
       "    .dataframe thead th {\n",
       "        text-align: right;\n",
       "    }\n",
       "</style>\n",
       "<table border=\"1\" class=\"dataframe\">\n",
       "  <thead>\n",
       "    <tr style=\"text-align: right;\">\n",
       "      <th></th>\n",
       "      <th>link_nake</th>\n",
       "      <th>link_address</th>\n",
       "    </tr>\n",
       "  </thead>\n",
       "  <tbody>\n",
       "    <tr>\n",
       "      <th>0</th>\n",
       "      <td>6/13 Spark 심화과정</td>\n",
       "      <td>https://forms.gle/Fw49w9GhWQChDcZm7</td>\n",
       "    </tr>\n",
       "    <tr>\n",
       "      <th>1</th>\n",
       "      <td>6/13 Spark 기본과정</td>\n",
       "      <td>https://forms.gle/G4TcXm3fKuHLHA6D6</td>\n",
       "    </tr>\n",
       "    <tr>\n",
       "      <th>2</th>\n",
       "      <td>6/18 Spark [MAP_FILTER]</td>\n",
       "      <td>https://forms.gle/M8gr1kC2ubA3UDVp8</td>\n",
       "    </tr>\n",
       "    <tr>\n",
       "      <th>3</th>\n",
       "      <td>6/18 Spark GroupBy 심화</td>\n",
       "      <td>https://forms.gle/h8w5mZ4MNaPLCPbi6</td>\n",
       "    </tr>\n",
       "    <tr>\n",
       "      <th>4</th>\n",
       "      <td>6/25 Spark RDD 실전 분석</td>\n",
       "      <td>https://forms.gle/q5yL6QHfueDLM5w27</td>\n",
       "    </tr>\n",
       "    <tr>\n",
       "      <th>5</th>\n",
       "      <td>6/27 Spark RDD 실전 분석2</td>\n",
       "      <td>https://forms.gle/Gxb4y6LfVYiaLu4M7</td>\n",
       "    </tr>\n",
       "  </tbody>\n",
       "</table>\n",
       "</div>"
      ],
      "text/plain": [
       "                   link_nake                         link_address\n",
       "0           6/13 Spark 심화과정   https://forms.gle/Fw49w9GhWQChDcZm7\n",
       "1           6/13 Spark 기본과정   https://forms.gle/G4TcXm3fKuHLHA6D6\n",
       "2   6/18 Spark [MAP_FILTER]   https://forms.gle/M8gr1kC2ubA3UDVp8\n",
       "3     6/18 Spark GroupBy 심화   https://forms.gle/h8w5mZ4MNaPLCPbi6\n",
       "4      6/25 Spark RDD 실전 분석   https://forms.gle/q5yL6QHfueDLM5w27\n",
       "5     6/27 Spark RDD 실전 분석2   https://forms.gle/Gxb4y6LfVYiaLu4M7"
      ]
     },
     "execution_count": 156,
     "metadata": {},
     "output_type": "execute_result"
    }
   ],
   "source": [
    "df"
   ]
  },
  {
   "cell_type": "markdown",
   "metadata": {},
   "source": [
    "## 실습2. 쿠팡 페이지에서 상품명과 가격 가져와 DF로 변환"
   ]
  },
  {
   "cell_type": "markdown",
   "metadata": {},
   "source": [
    "### step1. html소스 가져와서 beautifulSoup 입히기"
   ]
  },
  {
   "cell_type": "code",
   "execution_count": 3,
   "metadata": {},
   "outputs": [],
   "source": [
    "# 쿠팡 웹페이지 html 소스 가져오기\n",
    "\n",
    "#막혀있는 웹페이지 뚫는 포인트 : headers(나는 python이 아니라 Chrome이야라고 인식시켜주는거)\n",
    "headers = {'User-Agent': 'Mozilla/5.0 (Macintosh; Intel Mac OS X 10_13_6) AppleWebKit/537.36 (KHTML, like Gecko) Chrome/68.0.3440.106 Safari/537.36',}\n",
    "\n",
    "resp = requests.get(\"https://www.coupang.com/np/categories/194810\", headers=headers)\n",
    "resp.encoding = 'utf-8'\n",
    "html = resp.text\n",
    "bs = bs4.BeautifulSoup(html, 'html.parser')"
   ]
  },
  {
   "cell_type": "markdown",
   "metadata": {},
   "source": [
    "### step2. 디버깅(name과 price를 찾아 for문 돌리기 위한 과정)"
   ]
  },
  {
   "cell_type": "code",
   "execution_count": 65,
   "metadata": {},
   "outputs": [],
   "source": [
    "# find_list = find_div.find(\"ul\", {\"class\":\"baby-product-list\"})"
   ]
  },
  {
   "cell_type": "code",
   "execution_count": 66,
   "metadata": {},
   "outputs": [],
   "source": [
    "# find_list"
   ]
  },
  {
   "cell_type": "code",
   "execution_count": 67,
   "metadata": {},
   "outputs": [],
   "source": [
    "# find_li = find_list.find(\"li\",{\"class\":\"baby-product renew-badge\"})"
   ]
  },
  {
   "cell_type": "code",
   "execution_count": 68,
   "metadata": {},
   "outputs": [],
   "source": [
    "# find_li"
   ]
  },
  {
   "cell_type": "code",
   "execution_count": 69,
   "metadata": {},
   "outputs": [],
   "source": [
    "# find_a = find_li.find(\"a\",{\"class\":\"baby-product-link\"})"
   ]
  },
  {
   "cell_type": "code",
   "execution_count": 70,
   "metadata": {},
   "outputs": [],
   "source": [
    "# find_a"
   ]
  },
  {
   "cell_type": "code",
   "execution_count": 71,
   "metadata": {},
   "outputs": [],
   "source": [
    "# find_dl = find_a.find(\"dl\",{\"class\":\"baby-product-wrap\"})"
   ]
  },
  {
   "cell_type": "code",
   "execution_count": 72,
   "metadata": {},
   "outputs": [],
   "source": [
    "# find_dl"
   ]
  },
  {
   "cell_type": "code",
   "execution_count": 121,
   "metadata": {},
   "outputs": [],
   "source": [
    "# find_name = find_div.find(\"div\",{\"class\":\"name\"}).text.strip() #strip() 사용 이유 : 앞,뒤 공백 제거"
   ]
  },
  {
   "cell_type": "code",
   "execution_count": 122,
   "metadata": {},
   "outputs": [],
   "source": [
    "# find_name"
   ]
  },
  {
   "cell_type": "code",
   "execution_count": 123,
   "metadata": {},
   "outputs": [],
   "source": [
    "# find_price = find_div.find(\"strong\",{\"class\":\"price-value\"}).text"
   ]
  },
  {
   "cell_type": "code",
   "execution_count": 124,
   "metadata": {
    "scrolled": true
   },
   "outputs": [],
   "source": [
    "# find_price"
   ]
  },
  {
   "cell_type": "markdown",
   "metadata": {},
   "source": [
    "### step3. name과 price 뽑기"
   ]
  },
  {
   "cell_type": "code",
   "execution_count": 126,
   "metadata": {},
   "outputs": [],
   "source": [
    "# 상품명 뽑기 : 샘플로 0번째만 뽑지 않고 전체 상품명에서 .text와 .strip() 키워드를 썼더니 먹지 않음\n",
    "find_name = bs.find(\"div\", {\"class\":\"newcx-list\"}).findAll(\"div\",{\"class\":\"name\"})[0].text.strip()"
   ]
  },
  {
   "cell_type": "code",
   "execution_count": 127,
   "metadata": {},
   "outputs": [
    {
     "data": {
      "text/plain": [
       "'더마시나 무항생제 구운계란60구, 1개, 2,100g'"
      ]
     },
     "execution_count": 127,
     "metadata": {},
     "output_type": "execute_result"
    }
   ],
   "source": [
    "find_name"
   ]
  },
  {
   "cell_type": "code",
   "execution_count": 128,
   "metadata": {},
   "outputs": [
    {
     "data": {
      "text/plain": [
       "29"
      ]
     },
     "execution_count": 128,
     "metadata": {},
     "output_type": "execute_result"
    }
   ],
   "source": [
    "# for문 돌리기 전에 name들어간 변수의 길이 확인하기(샘플로 0번째 이름만 뽑았더니 말 그대로 텍스트의 길이가 나와버림)\n",
    "len(find_name)"
   ]
  },
  {
   "cell_type": "code",
   "execution_count": 131,
   "metadata": {},
   "outputs": [],
   "source": [
    "# 상품가격 뽑기\n",
    "find_price = bs.find(\"div\",{\"class\":\"newcx-list\"}).findAll(\"strong\",{\"class\":\"price-value\"})[0].text"
   ]
  },
  {
   "cell_type": "code",
   "execution_count": 133,
   "metadata": {},
   "outputs": [
    {
     "data": {
      "text/plain": [
       "'10,300'"
      ]
     },
     "execution_count": 133,
     "metadata": {},
     "output_type": "execute_result"
    }
   ],
   "source": [
    "find_price"
   ]
  },
  {
   "cell_type": "markdown",
   "metadata": {},
   "source": [
    "### step4. for문을 사용하여 result변수(리스트)에 담고 데이터프레임으로 변환"
   ]
  },
  {
   "cell_type": "code",
   "execution_count": 135,
   "metadata": {},
   "outputs": [],
   "source": [
    "find_name = bs.find(\"div\", {\"class\":\"newcx-list\"}).findAll(\"div\",{\"class\":\"name\"})\n",
    "find_price = bs.find(\"div\",{\"class\":\"newcx-list\"}).findAll(\"strong\",{\"class\":\"price-value\"})\n",
    "\n",
    "result = []\n",
    "\n",
    "for i in range(len(find_name)) :\n",
    "    name = find_name[i].text.strip()\n",
    "    price = find_price[i].text\n",
    "    result.append([name, price])    "
   ]
  },
  {
   "cell_type": "code",
   "execution_count": 137,
   "metadata": {},
   "outputs": [],
   "source": [
    "resultFrame = pd.DataFrame(result, columns=['product','price'])"
   ]
  },
  {
   "cell_type": "code",
   "execution_count": 138,
   "metadata": {},
   "outputs": [
    {
     "data": {
      "text/html": [
       "<div>\n",
       "<style scoped>\n",
       "    .dataframe tbody tr th:only-of-type {\n",
       "        vertical-align: middle;\n",
       "    }\n",
       "\n",
       "    .dataframe tbody tr th {\n",
       "        vertical-align: top;\n",
       "    }\n",
       "\n",
       "    .dataframe thead th {\n",
       "        text-align: right;\n",
       "    }\n",
       "</style>\n",
       "<table border=\"1\" class=\"dataframe\">\n",
       "  <thead>\n",
       "    <tr style=\"text-align: right;\">\n",
       "      <th></th>\n",
       "      <th>product</th>\n",
       "      <th>price</th>\n",
       "    </tr>\n",
       "  </thead>\n",
       "  <tbody>\n",
       "    <tr>\n",
       "      <th>0</th>\n",
       "      <td>더마시나 무항생제 구운계란60구, 1개, 2,100g</td>\n",
       "      <td>10,300</td>\n",
       "    </tr>\n",
       "    <tr>\n",
       "      <th>1</th>\n",
       "      <td>오복유통 HACCP인증 구운계란 2판60구, 60구, 2판</td>\n",
       "      <td>13,900</td>\n",
       "    </tr>\n",
       "    <tr>\n",
       "      <th>2</th>\n",
       "      <td>맛군 촉촉 쫄깃 구운 계란, 30알, 1박스</td>\n",
       "      <td>7,900</td>\n",
       "    </tr>\n",
       "    <tr>\n",
       "      <th>3</th>\n",
       "      <td>[ 계란사랑 ] 맥반석 구운계란 구운란 60구 (2판), 2700g</td>\n",
       "      <td>10,900</td>\n",
       "    </tr>\n",
       "    <tr>\n",
       "      <th>4</th>\n",
       "      <td>참나무촌 무염훈제계란, 30개입, 1.2kg(한판)</td>\n",
       "      <td>6,200</td>\n",
       "    </tr>\n",
       "    <tr>\n",
       "      <th>5</th>\n",
       "      <td>에그에그 무항생제 맥반석 구운계란 1+1 대란 2판 총60구 훈제, 1개, 구운란3...</td>\n",
       "      <td>14,900</td>\n",
       "    </tr>\n",
       "    <tr>\n",
       "      <th>6</th>\n",
       "      <td>감동란 간이베어 있는 촉촉한 반숙계란, 50g, 30개입</td>\n",
       "      <td>16,900</td>\n",
       "    </tr>\n",
       "    <tr>\n",
       "      <th>7</th>\n",
       "      <td>진주햄 오마이 포켓 메추리알 5p, 25g, 10개입</td>\n",
       "      <td>9,440</td>\n",
       "    </tr>\n",
       "    <tr>\n",
       "      <th>8</th>\n",
       "      <td>이엔에프푸드 반숙란 촉촉하게 간이배어 방금삶은것처럼 고소한 뉴반숙란 30구 20구,...</td>\n",
       "      <td>13,800</td>\n",
       "    </tr>\n",
       "    <tr>\n",
       "      <th>9</th>\n",
       "      <td>에그에그 무항생제 맥반석 구운계란 1+1 대란 2판 총60구 훈제, 2개, 구운계란...</td>\n",
       "      <td>11,900</td>\n",
       "    </tr>\n",
       "    <tr>\n",
       "      <th>10</th>\n",
       "      <td>더마시나 영양간식 구운계란30구, 30구, 1,050g</td>\n",
       "      <td>4,200</td>\n",
       "    </tr>\n",
       "    <tr>\n",
       "      <th>11</th>\n",
       "      <td>맥반석 구운계란30 망있음 소금포함 훈제란바다종합유통 구운계란30구 훈제란, 30개</td>\n",
       "      <td>5,700</td>\n",
       "    </tr>\n",
       "    <tr>\n",
       "      <th>12</th>\n",
       "      <td>가농 금계란 1+등급 특란, 40개, 60g</td>\n",
       "      <td>12,900</td>\n",
       "    </tr>\n",
       "    <tr>\n",
       "      <th>13</th>\n",
       "      <td>[명품구운란] 구운계란 맥반석계란 구운란 대란 30구</td>\n",
       "      <td>6,500</td>\n",
       "    </tr>\n",
       "    <tr>\n",
       "      <th>14</th>\n",
       "      <td>[호유란] 짜지않고 촉촉한 반숙계란 30개입, 1개, 1500g</td>\n",
       "      <td>15,660</td>\n",
       "    </tr>\n",
       "    <tr>\n",
       "      <th>15</th>\n",
       "      <td>꾼란 맥반석 구운계란 30구 1판, 30개입, 1.2kg</td>\n",
       "      <td>7,900</td>\n",
       "    </tr>\n",
       "    <tr>\n",
       "      <th>16</th>\n",
       "      <td>빛고을장터 [데이타임특가] 참숯 구운계란 HACCP 구운란 30구 60구 간식 다이...</td>\n",
       "      <td>4,900</td>\n",
       "    </tr>\n",
       "    <tr>\n",
       "      <th>17</th>\n",
       "      <td>농가정보서비스 [나린뜰] 맥반석 구운계란 1+1 [2판 무료배송], 1개, 990g...</td>\n",
       "      <td>10,300</td>\n",
       "    </tr>\n",
       "    <tr>\n",
       "      <th>18</th>\n",
       "      <td>닭대리의 살균난백, 1kg, 2병</td>\n",
       "      <td>11,900</td>\n",
       "    </tr>\n",
       "    <tr>\n",
       "      <th>19</th>\n",
       "      <td>미스터유 참숯 구운란 훈제 맥반석구운계란 30구, 대란</td>\n",
       "      <td>4,900</td>\n",
       "    </tr>\n",
       "    <tr>\n",
       "      <th>20</th>\n",
       "      <td>[행복란] 촉촉하고 부드러운 반숙계란 행복란 30구, 단품</td>\n",
       "      <td>10,900</td>\n",
       "    </tr>\n",
       "    <tr>\n",
       "      <th>21</th>\n",
       "      <td>나린뜰 무항생제 맥반석 구운계란, 30구</td>\n",
       "      <td>4,500</td>\n",
       "    </tr>\n",
       "    <tr>\n",
       "      <th>22</th>\n",
       "      <td>전북김제 맥반석 구운계란 30구 60구 90구 120구, 1box, 김제안심구운란30구</td>\n",
       "      <td>6,900</td>\n",
       "    </tr>\n",
       "    <tr>\n",
       "      <th>23</th>\n",
       "      <td>에그모닝 반숙계란, 1box, 20구</td>\n",
       "      <td>9,860</td>\n",
       "    </tr>\n",
       "    <tr>\n",
       "      <th>24</th>\n",
       "      <td>푸른들농장 영월 동물복지 무항생제 유정란 청란 (청계란)(부화x), 20개</td>\n",
       "      <td>12,900</td>\n",
       "    </tr>\n",
       "    <tr>\n",
       "      <th>25</th>\n",
       "      <td>[오아시스마켓] 10구 한시특가&gt;자연이란-무항생제 동물복지유정란 행복한 닭의 유정란...</td>\n",
       "      <td>3,380</td>\n",
       "    </tr>\n",
       "    <tr>\n",
       "      <th>26</th>\n",
       "      <td>아라리 메추리알15g(3알)x15개 1봉, 15</td>\n",
       "      <td>6,000</td>\n",
       "    </tr>\n",
       "    <tr>\n",
       "      <th>27</th>\n",
       "      <td>[명품구운란] 구운계란 맥반석계란 구운란 대란 60구 (2판)</td>\n",
       "      <td>15,300</td>\n",
       "    </tr>\n",
       "    <tr>\n",
       "      <th>28</th>\n",
       "      <td>자연방사 유기농 야채먹고 자란 유정란 40구, 1박스</td>\n",
       "      <td>22,800</td>\n",
       "    </tr>\n",
       "    <tr>\n",
       "      <th>29</th>\n",
       "      <td>참들식품 푸드버킷 떼구르 구운란 구운계란, 30구, 45g이상</td>\n",
       "      <td>8,800</td>\n",
       "    </tr>\n",
       "    <tr>\n",
       "      <th>30</th>\n",
       "      <td>중국식품 건두부 중국두부 1kg</td>\n",
       "      <td>8,000</td>\n",
       "    </tr>\n",
       "    <tr>\n",
       "      <th>31</th>\n",
       "      <td>푸르젠 참숯돌에서 구운계란 (개당 45~50g 국산 구운소금증정), 30개, (개당...</td>\n",
       "      <td>7,900</td>\n",
       "    </tr>\n",
       "    <tr>\n",
       "      <th>32</th>\n",
       "      <td>산누리애 동물복지 청란 유정란 20구, 1개</td>\n",
       "      <td>12,900</td>\n",
       "    </tr>\n",
       "    <tr>\n",
       "      <th>33</th>\n",
       "      <td>자연건조 구운계란 구운란 구운달걀 30구 60구 90구 120구, 1box, 구운란...</td>\n",
       "      <td>6,900</td>\n",
       "    </tr>\n",
       "    <tr>\n",
       "      <th>34</th>\n",
       "      <td>꾼란 맥반석 구운계란 30구+30구 총2판, 60개입, 1.2kg</td>\n",
       "      <td>11,900</td>\n",
       "    </tr>\n",
       "    <tr>\n",
       "      <th>35</th>\n",
       "      <td>영일 아라리 계란 30g(1통-50개), 1박스</td>\n",
       "      <td>23,200</td>\n",
       "    </tr>\n",
       "    <tr>\n",
       "      <th>36</th>\n",
       "      <td>알찬유정란 무항생제 농장직송 유정란30구, 알찬(무항생제)농장직송 유정란30구</td>\n",
       "      <td>16,900</td>\n",
       "    </tr>\n",
       "    <tr>\n",
       "      <th>37</th>\n",
       "      <td>반찬단지 삶아서깐 메추리알, 1개, 1kg</td>\n",
       "      <td>5,900</td>\n",
       "    </tr>\n",
       "    <tr>\n",
       "      <th>38</th>\n",
       "      <td>에코팜 금에그 30팩 깐계란 구운달걀 구운계란 구운란</td>\n",
       "      <td>14,700</td>\n",
       "    </tr>\n",
       "    <tr>\n",
       "      <th>39</th>\n",
       "      <td>계림농장 무항생제 반숙란 30구 1판, 1세트</td>\n",
       "      <td>11,900</td>\n",
       "    </tr>\n",
       "    <tr>\n",
       "      <th>40</th>\n",
       "      <td>계림농장 아산맑은 반숙란, 1개</td>\n",
       "      <td>11,900</td>\n",
       "    </tr>\n",
       "    <tr>\n",
       "      <th>41</th>\n",
       "      <td>지쿱 유현종 농부의 무농약 인증 무항생제 자연방사 유정란, 1박스, 30구</td>\n",
       "      <td>16,050</td>\n",
       "    </tr>\n",
       "    <tr>\n",
       "      <th>42</th>\n",
       "      <td>소원농장 무항생제 동물복지 유정란 계란 달걀, 20구</td>\n",
       "      <td>10,900</td>\n",
       "    </tr>\n",
       "    <tr>\n",
       "      <th>43</th>\n",
       "      <td>자연애찬 반숙이, 반숙란 30개입 × 1개, 1개, 1350g</td>\n",
       "      <td>13,900</td>\n",
       "    </tr>\n",
       "    <tr>\n",
       "      <th>44</th>\n",
       "      <td>선비찬 구운계란 30구+30구 HACCP 무항생제 구운란, 60구</td>\n",
       "      <td>11,500</td>\n",
       "    </tr>\n",
       "    <tr>\n",
       "      <th>45</th>\n",
       "      <td>오복유통 HACCP인증 구운계란 1판 30구</td>\n",
       "      <td>5,700</td>\n",
       "    </tr>\n",
       "    <tr>\n",
       "      <th>46</th>\n",
       "      <td>행복담기 참나무로 쫄깃하게 훈제 메추리알, 단품</td>\n",
       "      <td>9,700</td>\n",
       "    </tr>\n",
       "    <tr>\n",
       "      <th>47</th>\n",
       "      <td>훈제 메추리알 15g*30입 2개 아침대용으로 간편한 야식으로 안성맞춤, 60입</td>\n",
       "      <td>23,500</td>\n",
       "    </tr>\n",
       "    <tr>\n",
       "      <th>48</th>\n",
       "      <td>참나무촌 참맛훈제계란, 30개입, 1.2kg(한판)</td>\n",
       "      <td>7,200</td>\n",
       "    </tr>\n",
       "    <tr>\n",
       "      <th>49</th>\n",
       "      <td>[호유란] 짜지않고 촉촉한 반숙계란 20개 (2개입 X 10개), 1개, 1000g</td>\n",
       "      <td>13,410</td>\n",
       "    </tr>\n",
       "    <tr>\n",
       "      <th>50</th>\n",
       "      <td>더마시나 무항생제 구운계란30구(1 050g), 1개</td>\n",
       "      <td>4,200</td>\n",
       "    </tr>\n",
       "    <tr>\n",
       "      <th>51</th>\n",
       "      <td>훈민정과 꿀머금 무항생제 구운란, 30구</td>\n",
       "      <td>8,700</td>\n",
       "    </tr>\n",
       "    <tr>\n",
       "      <th>52</th>\n",
       "      <td>맛조은란 [맛조은란] 간이배어있는 촉촉한 반숙계란(30개), 30개입, 1500g</td>\n",
       "      <td>11,500</td>\n",
       "    </tr>\n",
       "    <tr>\n",
       "      <th>53</th>\n",
       "      <td>영일 아라리 계란 (훈제란) 30g, 50개</td>\n",
       "      <td>21,500</td>\n",
       "    </tr>\n",
       "    <tr>\n",
       "      <th>54</th>\n",
       "      <td>중국식품 푸주 훠궈재료 압착중국두부 163g</td>\n",
       "      <td>2,850</td>\n",
       "    </tr>\n",
       "    <tr>\n",
       "      <th>55</th>\n",
       "      <td>[참나무촌] HACCP인증 무항생제 무염훈제란 60구, 2.4kg</td>\n",
       "      <td>14,500</td>\n",
       "    </tr>\n",
       "    <tr>\n",
       "      <th>56</th>\n",
       "      <td>우체국쇼핑 맥반석 구운계란 꾼란, 30개입</td>\n",
       "      <td>8,900</td>\n",
       "    </tr>\n",
       "    <tr>\n",
       "      <th>57</th>\n",
       "      <td>[나린뜰] 맥반석 구운계란(당일출고), 1개</td>\n",
       "      <td>6,900</td>\n",
       "    </tr>\n",
       "    <tr>\n",
       "      <th>58</th>\n",
       "      <td>더마시나 무항생제 구운계란(대란)30구망, 1개</td>\n",
       "      <td>5,200</td>\n",
       "    </tr>\n",
       "    <tr>\n",
       "      <th>59</th>\n",
       "      <td>더마시나 무항생제 구운계란60구망(대란), 1개</td>\n",
       "      <td>12,500</td>\n",
       "    </tr>\n",
       "  </tbody>\n",
       "</table>\n",
       "</div>"
      ],
      "text/plain": [
       "                                              product   price\n",
       "0                       더마시나 무항생제 구운계란60구, 1개, 2,100g  10,300\n",
       "1                    오복유통 HACCP인증 구운계란 2판60구, 60구, 2판  13,900\n",
       "2                            맛군 촉촉 쫄깃 구운 계란, 30알, 1박스   7,900\n",
       "3               [ 계란사랑 ] 맥반석 구운계란 구운란 60구 (2판), 2700g  10,900\n",
       "4                        참나무촌 무염훈제계란, 30개입, 1.2kg(한판)   6,200\n",
       "5   에그에그 무항생제 맥반석 구운계란 1+1 대란 2판 총60구 훈제, 1개, 구운란3...  14,900\n",
       "6                     감동란 간이베어 있는 촉촉한 반숙계란, 50g, 30개입  16,900\n",
       "7                       진주햄 오마이 포켓 메추리알 5p, 25g, 10개입   9,440\n",
       "8   이엔에프푸드 반숙란 촉촉하게 간이배어 방금삶은것처럼 고소한 뉴반숙란 30구 20구,...  13,800\n",
       "9   에그에그 무항생제 맥반석 구운계란 1+1 대란 2판 총60구 훈제, 2개, 구운계란...  11,900\n",
       "10                     더마시나 영양간식 구운계란30구, 30구, 1,050g   4,200\n",
       "11     맥반석 구운계란30 망있음 소금포함 훈제란바다종합유통 구운계란30구 훈제란, 30개   5,700\n",
       "12                           가농 금계란 1+등급 특란, 40개, 60g  12,900\n",
       "13                      [명품구운란] 구운계란 맥반석계란 구운란 대란 30구   6,500\n",
       "14                [호유란] 짜지않고 촉촉한 반숙계란 30개입, 1개, 1500g  15,660\n",
       "15                    꾼란 맥반석 구운계란 30구 1판, 30개입, 1.2kg   7,900\n",
       "16  빛고을장터 [데이타임특가] 참숯 구운계란 HACCP 구운란 30구 60구 간식 다이...   4,900\n",
       "17  농가정보서비스 [나린뜰] 맥반석 구운계란 1+1 [2판 무료배송], 1개, 990g...  10,300\n",
       "18                                 닭대리의 살균난백, 1kg, 2병  11,900\n",
       "19                     미스터유 참숯 구운란 훈제 맥반석구운계란 30구, 대란   4,900\n",
       "20                   [행복란] 촉촉하고 부드러운 반숙계란 행복란 30구, 단품  10,900\n",
       "21                             나린뜰 무항생제 맥반석 구운계란, 30구   4,500\n",
       "22   전북김제 맥반석 구운계란 30구 60구 90구 120구, 1box, 김제안심구운란30구   6,900\n",
       "23                               에그모닝 반숙계란, 1box, 20구   9,860\n",
       "24          푸른들농장 영월 동물복지 무항생제 유정란 청란 (청계란)(부화x), 20개  12,900\n",
       "25  [오아시스마켓] 10구 한시특가>자연이란-무항생제 동물복지유정란 행복한 닭의 유정란...   3,380\n",
       "26                         아라리 메추리알15g(3알)x15개 1봉, 15   6,000\n",
       "27                 [명품구운란] 구운계란 맥반석계란 구운란 대란 60구 (2판)  15,300\n",
       "28                      자연방사 유기농 야채먹고 자란 유정란 40구, 1박스  22,800\n",
       "29                 참들식품 푸드버킷 떼구르 구운란 구운계란, 30구, 45g이상   8,800\n",
       "30                                  중국식품 건두부 중국두부 1kg   8,000\n",
       "31  푸르젠 참숯돌에서 구운계란 (개당 45~50g 국산 구운소금증정), 30개, (개당...   7,900\n",
       "32                           산누리애 동물복지 청란 유정란 20구, 1개  12,900\n",
       "33  자연건조 구운계란 구운란 구운달걀 30구 60구 90구 120구, 1box, 구운란...   6,900\n",
       "34               꾼란 맥반석 구운계란 30구+30구 총2판, 60개입, 1.2kg  11,900\n",
       "35                         영일 아라리 계란 30g(1통-50개), 1박스  23,200\n",
       "36        알찬유정란 무항생제 농장직송 유정란30구, 알찬(무항생제)농장직송 유정란30구  16,900\n",
       "37                            반찬단지 삶아서깐 메추리알, 1개, 1kg   5,900\n",
       "38                      에코팜 금에그 30팩 깐계란 구운달걀 구운계란 구운란  14,700\n",
       "39                          계림농장 무항생제 반숙란 30구 1판, 1세트  11,900\n",
       "40                                  계림농장 아산맑은 반숙란, 1개  11,900\n",
       "41          지쿱 유현종 농부의 무농약 인증 무항생제 자연방사 유정란, 1박스, 30구  16,050\n",
       "42                      소원농장 무항생제 동물복지 유정란 계란 달걀, 20구  10,900\n",
       "43                 자연애찬 반숙이, 반숙란 30개입 × 1개, 1개, 1350g  13,900\n",
       "44               선비찬 구운계란 30구+30구 HACCP 무항생제 구운란, 60구  11,500\n",
       "45                           오복유통 HACCP인증 구운계란 1판 30구   5,700\n",
       "46                         행복담기 참나무로 쫄깃하게 훈제 메추리알, 단품   9,700\n",
       "47       훈제 메추리알 15g*30입 2개 아침대용으로 간편한 야식으로 안성맞춤, 60입  23,500\n",
       "48                       참나무촌 참맛훈제계란, 30개입, 1.2kg(한판)   7,200\n",
       "49     [호유란] 짜지않고 촉촉한 반숙계란 20개 (2개입 X 10개), 1개, 1000g  13,410\n",
       "50                      더마시나 무항생제 구운계란30구(1 050g), 1개   4,200\n",
       "51                             훈민정과 꿀머금 무항생제 구운란, 30구   8,700\n",
       "52      맛조은란 [맛조은란] 간이배어있는 촉촉한 반숙계란(30개), 30개입, 1500g  11,500\n",
       "53                           영일 아라리 계란 (훈제란) 30g, 50개  21,500\n",
       "54                           중국식품 푸주 훠궈재료 압착중국두부 163g   2,850\n",
       "55               [참나무촌] HACCP인증 무항생제 무염훈제란 60구, 2.4kg  14,500\n",
       "56                            우체국쇼핑 맥반석 구운계란 꾼란, 30개입   8,900\n",
       "57                           [나린뜰] 맥반석 구운계란(당일출고), 1개   6,900\n",
       "58                         더마시나 무항생제 구운계란(대란)30구망, 1개   5,200\n",
       "59                         더마시나 무항생제 구운계란60구망(대란), 1개  12,500"
      ]
     },
     "execution_count": 138,
     "metadata": {},
     "output_type": "execute_result"
    }
   ],
   "source": [
    "resultFrame"
   ]
  },
  {
   "cell_type": "markdown",
   "metadata": {},
   "source": [
    "## 실습3. 웹페이지의 테이블 정보 가져와서 DataFrame으로 변환"
   ]
  },
  {
   "cell_type": "code",
   "execution_count": 140,
   "metadata": {},
   "outputs": [],
   "source": [
    "resp = requests.get(\"https://sparkkorea.com/테스트/\")\n",
    "resp.encoding='utf-8'\n",
    "html = resp.text\n",
    "bs = bs4.BeautifulSoup(html, 'html.parser')"
   ]
  },
  {
   "cell_type": "code",
   "execution_count": 141,
   "metadata": {},
   "outputs": [
    {
     "data": {
      "text/plain": [
       "<!DOCTYPE html>\n",
       "\n",
       "<html lang=\"ko-KR\">\n",
       "<head>\n",
       "<meta charset=\"utf-8\"/>\n",
       "<meta content=\"width=device-width, initial-scale=1\" name=\"viewport\"/>\n",
       "<link href=\"http://gmpg.org/xfn/11\" rel=\"profile\"/>\n",
       "<link href=\"https://sparkkorea.com/xmlrpc.php\" rel=\"pingback\"/>\n",
       "<title>테스트 – 폴리텍대  스마트금융과</title>\n",
       "<!-- Async WordPress.com Remote Login -->\n",
       "<script id=\"wpcom_remote_login_js\">\n",
       "var wpcom_remote_login_extra_auth = '';\n",
       "function wpcom_remote_login_remove_dom_node_id( element_id ) {\n",
       "\tvar dom_node = document.getElementById( element_id );\n",
       "\tif ( dom_node ) { dom_node.remove(); }\n",
       "}\n",
       "function wpcom_remote_login_remove_dom_node_classes( class_name ) {\n",
       "\tvar dom_nodes = document.querySelectorAll( '.' + class_name );\n",
       "\tfor ( var i = 0; i < dom_nodes.length; i++ ) {\n",
       "\t\tdom_nodes[i].remove();\n",
       "\t}\n",
       "}\n",
       "function wpcom_remote_login_final_cleanup() {\n",
       "\twpcom_remote_login_remove_dom_node_classes( \"wpcom_remote_login_msg\" );\n",
       "\twpcom_remote_login_remove_dom_node_id( \"wpcom_remote_login_key\" );\n",
       "\twpcom_remote_login_remove_dom_node_id( \"wpcom_remote_login_validate\" );\n",
       "\twpcom_remote_login_remove_dom_node_id( \"wpcom_remote_login_js\" );\n",
       "\twpcom_remote_login_remove_dom_node_id( \"wpcom_request_access_iframe\" );\n",
       "\twpcom_remote_login_remove_dom_node_id( \"wpcom_request_access_styles\" );\n",
       "}\n",
       "\n",
       "// Watch for messages back from the remote login\n",
       "window.addEventListener( \"message\", function( e ) {\n",
       "\tif ( e.origin === \"https://r-login.wordpress.com\" ) {\n",
       "\t\tvar data = {};\n",
       "\t\ttry {\n",
       "\t\t\tdata = JSON.parse( e.data );\n",
       "\t\t} catch( e ) {\n",
       "\t\t\twpcom_remote_login_final_cleanup();\n",
       "\t\t\treturn;\n",
       "\t\t}\n",
       "\n",
       "\t\tif ( data.msg === 'LOGIN' ) {\n",
       "\t\t\t// Clean up the login check iframe\n",
       "\t\t\twpcom_remote_login_remove_dom_node_id( \"wpcom_remote_login_key\" );\n",
       "\n",
       "\t\t\tvar id_regex = new RegExp( /^[0-9]+$/ );\n",
       "\t\t\tvar token_regex = new RegExp( /^.*|.*|.*$/ );\n",
       "\t\t\tif (\n",
       "\t\t\t\ttoken_regex.test( data.token )\n",
       "\t\t\t\t&& id_regex.test( data.wpcomid )\n",
       "\t\t\t) {\n",
       "\t\t\t\t// We have everything we need to ask for a login\n",
       "\t\t\t\tvar script = document.createElement( \"script\" );\n",
       "\t\t\t\tscript.setAttribute( \"id\", \"wpcom_remote_login_validate\" );\n",
       "\t\t\t\tscript.src = '/remote-login.php?wpcom_remote_login=validate'\n",
       "\t\t\t\t\t+ '&wpcomid=' + data.wpcomid\n",
       "\t\t\t\t\t+ '&token=' + encodeURIComponent( data.token )\n",
       "\t\t\t\t\t+ '&host=' + window.location.protocol\n",
       "\t\t\t\t\t\t+ '//' + window.location.hostname;\n",
       "\t\t\t\tdocument.body.appendChild( script );\n",
       "\t\t\t}\n",
       "\n",
       "\t\t\treturn;\n",
       "\t\t}\n",
       "\n",
       "\t\t// Safari ITP, not logged in, so redirect\n",
       "\t\tif ( data.msg === 'LOGIN-REDIRECT' ) {\n",
       "\t\t\twindow.location = 'https://wordpress.com/log-in?redirect_to=' + window.location.href;\n",
       "\t\t\treturn;\n",
       "\t\t}\n",
       "\n",
       "\t\t// Safari ITP, storage access failed, remove the request\n",
       "\t\tif ( data.msg === 'LOGIN-REMOVE' ) {\n",
       "\t\t\tvar css_zap = 'html { -webkit-transition: margin-top 1s; transition: margin-top 1s; } /* 9001 */ html { margin-top: 0 !important; } * html body { margin-top: 0 !important; } @media screen and ( max-width: 782px ) { html { margin-top: 0 !important; } * html body { margin-top: 0 !important; } }';\n",
       "\t\t\tvar style_zap = document.createElement( 'style' );\n",
       "\t\t\tstyle_zap.type = 'text/css';\n",
       "\t\t\tstyle_zap.appendChild( document.createTextNode( css_zap ) );\n",
       "\t\t\tdocument.body.appendChild( style_zap );\n",
       "\n",
       "\t\t\tvar e = document.getElementById( 'wpcom_request_access_iframe' );\n",
       "\t\t\te.parentNode.removeChild( e );\n",
       "\n",
       "\t\t\tdocument.cookie = 'wordpress_com_login_access=denied; path=/; max-age=31536000';\n",
       "\n",
       "\t\t\treturn;\n",
       "\t\t}\n",
       "\n",
       "\t\t// Safari ITP\n",
       "\t\tif ( data.msg === 'REQUEST_ACCESS' ) {\n",
       "\t\t\tconsole.log( 'request access: safari' );\n",
       "\n",
       "\t\t\t// Check ITP iframe enable/disable knob\n",
       "\t\t\tif ( wpcom_remote_login_extra_auth !== 'safari_itp_iframe' ) {\n",
       "\t\t\t\treturn;\n",
       "\t\t\t}\n",
       "\n",
       "\t\t\t// If we are in a \"private window\" there is no ITP.\n",
       "\t\t\tvar private_window = false;\n",
       "\t\t\ttry {\n",
       "\t\t\t\tvar opendb = window.openDatabase( null, null, null, null );\n",
       "\t\t\t} catch( e ) {\n",
       "\t\t\t\tprivate_window = true;\n",
       "\t\t\t}\n",
       "\n",
       "\t\t\tif ( private_window ) {\n",
       "\t\t\t\tconsole.log( 'private window' );\n",
       "\t\t\t\treturn;\n",
       "\t\t\t}\n",
       "\n",
       "\t\t\tvar iframe = document.createElement( 'iframe' );\n",
       "\t\t\tiframe.id = 'wpcom_request_access_iframe';\n",
       "\t\t\tiframe.setAttribute( 'scrolling', 'no' );\n",
       "\t\t\tiframe.setAttribute( 'sandbox', 'allow-storage-access-by-user-activation allow-scripts allow-same-origin allow-top-navigation-by-user-activation' );\n",
       "\t\t\tiframe.src = 'https://r-login.wordpress.com/remote-login.php?wpcom_remote_login=request_access&origin=' + encodeURIComponent( data.origin ) + '&wpcomid=' + encodeURIComponent( data.wpcomid );\n",
       "\n",
       "\t\t\tvar css = 'html { -webkit-transition: margin-top 1s; transition: margin-top 1s; } /* 9001 */ html { margin-top: 46px !important; } * html body { margin-top: 46px !important; } @media screen and ( max-width: 660px ) { html { margin-top: 71px !important; } * html body { margin-top: 71px !important; } #wpcom_request_access_iframe { display: block; height: 71px !important; } } #wpcom_request_access_iframe { border: 0px; height: 46px; position: fixed; top: 0; left: 0; width: 100%; min-width: 100%; z-index: 99999; background: #23282d; } ';\n",
       "\n",
       "\t\t\tvar style = document.createElement( 'style' );\n",
       "\t\t\tstyle.type = 'text/css';\n",
       "\t\t\tstyle.id = 'wpcom_request_access_styles';\n",
       "\t\t\tstyle.appendChild( document.createTextNode( css ) );\n",
       "\t\t\tdocument.body.appendChild( style );\n",
       "\n",
       "\t\t\tdocument.body.appendChild( iframe );\n",
       "\t\t}\n",
       "\n",
       "\t\tif ( data.msg === 'DONE' ) {\n",
       "\t\t\twpcom_remote_login_final_cleanup();\n",
       "\t\t}\n",
       "\t}\n",
       "}, false );\n",
       "\n",
       "// Inject the remote login iframe after the page has had a chance to load\n",
       "// more critical resources\n",
       "window.addEventListener( \"DOMContentLoaded\", function( e ) {\n",
       "\tvar iframe = document.createElement( \"iframe\" );\n",
       "\tiframe.style.display = \"none\";\n",
       "\tiframe.setAttribute( \"scrolling\", \"no\" );\n",
       "\tiframe.setAttribute( \"id\", \"wpcom_remote_login_key\" );\n",
       "\tiframe.src = \"https://r-login.wordpress.com/remote-login.php\"\n",
       "\t\t+ \"?wpcom_remote_login=key\"\n",
       "\t\t+ \"&origin=aHR0cHM6Ly9zcGFya2tvcmVhLmNvbQ%3D%3D\"\n",
       "\t\t+ \"&wpcomid=163927570\"\n",
       "\t\t+ \"&time=1563344017\";\n",
       "\tdocument.body.appendChild( iframe );\n",
       "}, false );\n",
       "</script>\n",
       "<link href=\"//s2.wp.com\" rel=\"dns-prefetch\">\n",
       "<link href=\"//s1.wp.com\" rel=\"dns-prefetch\">\n",
       "<link href=\"//sparkkorea.wordpress.com\" rel=\"dns-prefetch\"/>\n",
       "<link href=\"//s0.wp.com\" rel=\"dns-prefetch\"/>\n",
       "<link href=\"//wordpress.com\" rel=\"dns-prefetch\"/>\n",
       "<link href=\"//fonts.googleapis.com\" rel=\"dns-prefetch\"/>\n",
       "<link href=\"https://sparkkorea.com/feed/\" rel=\"alternate\" title=\"폴리텍대  스마트금융과 » 피드\" type=\"application/rss+xml\"/>\n",
       "<link href=\"https://sparkkorea.com/comments/feed/\" rel=\"alternate\" title=\"폴리텍대  스마트금융과 » 댓글 피드\" type=\"application/rss+xml\"/>\n",
       "<script type=\"text/javascript\">\n",
       "\t\t/* <![CDATA[ */\n",
       "\t\tfunction addLoadEvent(func) {\n",
       "\t\t\tvar oldonload = window.onload;\n",
       "\t\t\tif (typeof window.onload != 'function') {\n",
       "\t\t\t\twindow.onload = func;\n",
       "\t\t\t} else {\n",
       "\t\t\t\twindow.onload = function () {\n",
       "\t\t\t\t\toldonload();\n",
       "\t\t\t\t\tfunc();\n",
       "\t\t\t\t}\n",
       "\t\t\t}\n",
       "\t\t}\n",
       "\t\t/* ]]> */\n",
       "\t</script>\n",
       "<script type=\"text/javascript\">\n",
       "\t\t\twindow._wpemojiSettings = {\"baseUrl\":\"https:\\/\\/s0.wp.com\\/wp-content\\/mu-plugins\\/wpcom-smileys\\/twemoji\\/2\\/72x72\\/\",\"ext\":\".png\",\"svgUrl\":\"https:\\/\\/s0.wp.com\\/wp-content\\/mu-plugins\\/wpcom-smileys\\/twemoji\\/2\\/svg\\/\",\"svgExt\":\".svg\",\"source\":{\"concatemoji\":\"https:\\/\\/s2.wp.com\\/wp-includes\\/js\\/wp-emoji-release.min.js?m=1556893897h&ver=5.2.2\"}};\n",
       "\t\t\t!function(a,b,c){function d(a,b){var c=String.fromCharCode;l.clearRect(0,0,k.width,k.height),l.fillText(c.apply(this,a),0,0);var d=k.toDataURL();l.clearRect(0,0,k.width,k.height),l.fillText(c.apply(this,b),0,0);var e=k.toDataURL();return d===e}function e(a){var b;if(!l||!l.fillText)return!1;switch(l.textBaseline=\"top\",l.font=\"600 32px Arial\",a){case\"flag\":return!(b=d([55356,56826,55356,56819],[55356,56826,8203,55356,56819]))&&(b=d([55356,57332,56128,56423,56128,56418,56128,56421,56128,56430,56128,56423,56128,56447],[55356,57332,8203,56128,56423,8203,56128,56418,8203,56128,56421,8203,56128,56430,8203,56128,56423,8203,56128,56447]),!b);case\"emoji\":return b=d([55357,56424,55356,57342,8205,55358,56605,8205,55357,56424,55356,57340],[55357,56424,55356,57342,8203,55358,56605,8203,55357,56424,55356,57340]),!b}return!1}function f(a){var c=b.createElement(\"script\");c.src=a,c.defer=c.type=\"text/javascript\",b.getElementsByTagName(\"head\")[0].appendChild(c)}var g,h,i,j,k=b.createElement(\"canvas\"),l=k.getContext&&k.getContext(\"2d\");for(j=Array(\"flag\",\"emoji\"),c.supports={everything:!0,everythingExceptFlag:!0},i=0;i<j.length;i++)c.supports[j[i]]=e(j[i]),c.supports.everything=c.supports.everything&&c.supports[j[i]],\"flag\"!==j[i]&&(c.supports.everythingExceptFlag=c.supports.everythingExceptFlag&&c.supports[j[i]]);c.supports.everythingExceptFlag=c.supports.everythingExceptFlag&&!c.supports.flag,c.DOMReady=!1,c.readyCallback=function(){c.DOMReady=!0},c.supports.everything||(h=function(){c.readyCallback()},b.addEventListener?(b.addEventListener(\"DOMContentLoaded\",h,!1),a.addEventListener(\"load\",h,!1)):(a.attachEvent(\"onload\",h),b.attachEvent(\"onreadystatechange\",function(){\"complete\"===b.readyState&&c.readyCallback()})),g=c.source||{},g.concatemoji?f(g.concatemoji):g.wpemoji&&g.twemoji&&(f(g.twemoji),f(g.wpemoji)))}(window,document,window._wpemojiSettings);\n",
       "\t\t</script>\n",
       "<style type=\"text/css\">\n",
       "img.wp-smiley,\n",
       "img.emoji {\n",
       "\tdisplay: inline !important;\n",
       "\tborder: none !important;\n",
       "\tbox-shadow: none !important;\n",
       "\theight: 1em !important;\n",
       "\twidth: 1em !important;\n",
       "\tmargin: 0 .07em !important;\n",
       "\tvertical-align: -0.1em !important;\n",
       "\tbackground: none !important;\n",
       "\tpadding: 0 !important;\n",
       "}\n",
       "</style>\n",
       "<link href=\"https://s0.wp.com/_static/??-eJyNkdFuwjAMRX9owXQSIB6mfUubemCIk6h2hPr3c1OKBEIVL5Fz7eNcO3DLzqeoGBW4uBzKiaLALfvETpgCji+3jRf5gvdYoCsKXFBz66+u3h7lFH0ovaVNgJ5EoQupVnVDO4wgOgbcMMWPCT0jPxOLpcXPXwnBCSk67Ekpnu5OISdRsUairvac27+qa6P6NKDpnFudKtgeaDGYoahrGOf9Qk3h2fa0utF59V2XBxRxdjIVdnXyVc6oycr8B3WBT8qMEsSkZLQ8ginxyz/Nbnf8bg7NcXv5B/hEzNY=?cssminify=yes\" id=\"all-css-0-1\" media=\"all\" rel=\"stylesheet\" type=\"text/css\"/>\n",
       "<link href=\"https://fonts.googleapis.com/css?family=Lato%3A400%2C400italic%2C700%2C700italic%7CNoto+Serif%3A400%2C400italic%2C700%2C700italic&amp;subset=latin%2Clatin-ext\" id=\"dyad-2-fonts-css\" media=\"all\" rel=\"stylesheet\" type=\"text/css\"/>\n",
       "<link href=\"https://s0.wp.com/_static/??-eJyNj80KwjAQhF/IdRuhqAfxWdJ0jdFkE/JD6ds36kGLtPQ2w843zOIQQHnOxBldgWCLNpxQE1M09bAg9yqlHf6w+U6OEobSYT/KHg6Y8mhpQ64msLNePbeUGlafYhiC8u6PmL3godbKbDzPDNysNHENjVQH6Sr1e93XvqCru4i2bcTpLJrjYwIqr3Yq?cssminify=yes\" id=\"all-css-2-1\" media=\"all\" rel=\"stylesheet\" type=\"text/css\"/>\n",
       "<link href=\"https://s2.wp.com/wp-content/mu-plugins/global-print/global-print.css?m=1465851035h&amp;cssminify=yes\" id=\"print-css-3-1\" media=\"print\" rel=\"stylesheet\" type=\"text/css\"/>\n",
       "<link href=\"https://s1.wp.com/_static/??-eJx9i9EKwjAMRX/IGgfbYA/it2SlayNpUpoMf198EBmKT/dcOAceLUQVT+JQ99B4zyQGGJ1UVuwfOkezE/zWm5qHjZE6WMFOkt/7rzKNhBxYsx7PV+Ql1WRQRsisK/JLuNXrMM2XcV6GZbo/AcVpSbo=?cssminify=yes\" id=\"all-css-4-1\" media=\"all\" rel=\"stylesheet\" type=\"text/css\"/>\n",
       "<script src=\"https://s2.wp.com/_static/??-eJyFztEKwjAMBdAfsisyOnwRv6XWOFKXtDbphn69HeiDMBQC9+EeuLFLNshhqhcQG9vdK5THO7ooO/sLGMKxeIWOkD84JFZgXW1OogQifoSNltIZJzBVoDTA2mauacN9v4Q8Iyx/WQTNPtxMAcHnun6i4965Q++GwfXxBTkPW9k=\" type=\"text/javascript\"></script>\n",
       "<link href=\"https://sparkkorea.wordpress.com/xmlrpc.php?rsd\" rel=\"EditURI\" title=\"RSD\" type=\"application/rsd+xml\"/>\n",
       "<link href=\"https://s1.wp.com/wp-includes/wlwmanifest.xml\" rel=\"wlwmanifest\" type=\"application/wlwmanifest+xml\"/>\n",
       "<meta content=\"WordPress.com\" name=\"generator\">\n",
       "<link href=\"https://sparkkorea.com/%ed%85%8c%ec%8a%a4%ed%8a%b8/\" rel=\"canonical\"/>\n",
       "<link href=\"https://wp.me/Pb5P34-1Q\" rel=\"shortlink\"/>\n",
       "<link href=\"https://public-api.wordpress.com/oembed/?format=json&amp;url=https%3A%2F%2Fsparkkorea.com%2F%25ed%2585%258c%25ec%258a%25a4%25ed%258a%25b8%2F&amp;for=wpcom-auto-discovery\" rel=\"alternate\" type=\"application/json+oembed\"/><link href=\"https://public-api.wordpress.com/oembed/?format=xml&amp;url=https%3A%2F%2Fsparkkorea.com%2F%25ed%2585%258c%25ec%258a%25a4%25ed%258a%25b8%2F&amp;for=wpcom-auto-discovery\" rel=\"alternate\" type=\"application/xml+oembed\"/>\n",
       "<!-- Jetpack Open Graph Tags -->\n",
       "<meta content=\"article\" property=\"og:type\">\n",
       "<meta content=\"테스트\" property=\"og:title\"/>\n",
       "<meta content=\"https://sparkkorea.com/%ed%85%8c%ec%8a%a4%ed%8a%b8/\" property=\"og:url\"/>\n",
       "<meta content=\"학번 이름 101 김효관 102 이순신 103 김어진\" property=\"og:description\"/>\n",
       "<meta content=\"2019-07-11T12:47:37+00:00\" property=\"article:published_time\"/>\n",
       "<meta content=\"2019-07-11T13:33:47+00:00\" property=\"article:modified_time\"/>\n",
       "<meta content=\"폴리텍대  스마트금융과\" property=\"og:site_name\"/>\n",
       "<meta content=\"https://s0.wp.com/i/blank.jpg\" property=\"og:image\"/>\n",
       "<meta content=\"ko_KR\" property=\"og:locale\"/>\n",
       "<meta content=\"@wordpressdotcom\" name=\"twitter:site\"/>\n",
       "<meta content=\"테스트\" name=\"twitter:text:title\"/>\n",
       "<meta content=\"summary\" name=\"twitter:card\"/>\n",
       "<meta content=\"https://www.facebook.com/WordPresscom\" property=\"article:publisher\"/>\n",
       "<!-- End Jetpack Open Graph Tags -->\n",
       "<link href=\"https://s1.wp.com/i/favicon.ico\" rel=\"shortcut icon\" sizes=\"16x16 24x24 32x32 48x48\" type=\"image/x-icon\"/>\n",
       "<link href=\"https://s1.wp.com/i/favicon.ico\" rel=\"icon\" sizes=\"16x16 24x24 32x32 48x48\" type=\"image/x-icon\"/>\n",
       "<link href=\"https://s2.wp.com/i/webclip.png\" rel=\"apple-touch-icon-precomposed\"/>\n",
       "<link href=\"https://sparkkorea.com/osd.xml\" rel=\"search\" title=\"폴리텍대  스마트금융과\" type=\"application/opensearchdescription+xml\"/>\n",
       "<link href=\"https://s1.wp.com/opensearch.xml\" rel=\"search\" title=\"WordPress.com\" type=\"application/opensearchdescription+xml\"/>\n",
       "<meta content=\"폴리텍대  스마트금융과\" name=\"application-name\"/><meta content=\"width=device-width;height=device-height\" name=\"msapplication-window\"/><meta content=\"스마트금융과 자료공유\" name=\"msapplication-tooltip\"/><meta content=\"name=구독;action-uri=https://sparkkorea.com/feed/;icon-uri=https://s1.wp.com/i/favicon.ico\" name=\"msapplication-task\"/><meta content=\"name=무료 블로그 등록;action-uri=http://wordpress.com/signup/;icon-uri=https://s1.wp.com/i/favicon.ico\" name=\"msapplication-task\"/><meta content=\"name=WordPress.com 지원;action-uri=http://support.wordpress.com/;icon-uri=https://s1.wp.com/i/favicon.ico\" name=\"msapplication-task\"/><meta content=\"name=WordPress.com 포럼;action-uri=http://forums.wordpress.com/;icon-uri=https://s1.wp.com/i/favicon.ico\" name=\"msapplication-task\"/><meta content=\"학번 이름 101 김효관 102 이순신 103 김어진\" name=\"description\"/>\n",
       "<style id=\"syntaxhighlighteranchor\" type=\"text/css\"></style>\n",
       "</meta></meta></link></link></head>\n",
       "<body class=\"page-template-default page page-id-114 wp-embed-responsive mp6 customizer-styles-applied is-singular no-js highlander-enabled highlander-light\">\n",
       "<div class=\"hfeed site\" id=\"page\">\n",
       "<a class=\"skip-link screen-reader-text\" href=\"#content\">컨텐츠로 건너뛰기</a>\n",
       "<header class=\"site-header\" id=\"masthead\" role=\"banner\">\n",
       "<div class=\"site-branding\">\n",
       "<h1 class=\"site-title\">\n",
       "<a href=\"https://sparkkorea.com/\" rel=\"home\">\n",
       "\t\t\t\t\t폴리텍대  스마트금융과\t\t\t\t</a>\n",
       "</h1>\n",
       "<p class=\"site-description\">스마트금융과 자료공유</p>\n",
       "</div><!-- .site-branding -->\n",
       "<nav class=\"main-navigation\" id=\"site-navigation\" role=\"navigation\">\n",
       "<button aria-controls=\"primary-menu\" aria-expanded=\"false\" class=\"menu-toggle\">메뉴</button>\n",
       "<div class=\"primary-menu\"><ul class=\"menu\" id=\"primary-menu\"><li class=\"menu-item menu-item-type-post_type menu-item-object-page menu-item-privacy-policy menu-item-28\" id=\"menu-item-28\"><a href=\"https://sparkkorea.com/%ed%85%8c%ec%8a%a4%ed%8a%b8/\">설문</a></li>\n",
       "<li class=\"menu-item menu-item-type-post_type menu-item-object-page menu-item-27\" id=\"menu-item-27\"><a href=\"https://sparkkorea.com/%ec%9e%90%eb%a3%8c%ec%8b%a4/\">자료실</a></li>\n",
       "<li class=\"menu-item menu-item-type-post_type menu-item-object-page menu-item-106\" id=\"menu-item-106\"><a href=\"https://sparkkorea.com/%ed%80%b4%ec%a6%88/\">퀴즈</a></li>\n",
       "<li class=\"menu-item menu-item-type-post_type menu-item-object-page current-menu-item page_item page-item-114 current_page_item menu-item-121\" id=\"menu-item-121\"><a aria-current=\"page\" href=\"https://sparkkorea.com/%ed%85%8c%ec%8a%a4%ed%8a%b8/\">테스트</a></li>\n",
       "</ul></div> </nav>\n",
       "</header><!-- #masthead -->\n",
       "<div class=\"site-inner\">\n",
       "<div class=\"site-content\" id=\"content\">\n",
       "<main class=\"content-area\" id=\"primary\" role=\"main\">\n",
       "<article class=\"post-114 page type-page status-publish hentry\" id=\"post-114\">\n",
       "<div class=\"entry-inner\">\n",
       "<header class=\"entry-header\">\n",
       "<h1 class=\"entry-title\">테스트</h1> </header><!-- .entry-header -->\n",
       "<div class=\"entry-content\">\n",
       "<table class=\"type07\" id=\"test_table\">\n",
       "<thead>\n",
       "<tr>\n",
       "<th scope=\"cols\">학번</th>\n",
       "<th scope=\"cols\">이름</th>\n",
       "</tr>\n",
       "</thead>\n",
       "<tbody>\n",
       "<tr>\n",
       "<td>101</td>\n",
       "<td>김효관</td>\n",
       "</tr>\n",
       "<tr>\n",
       "<td>102</td>\n",
       "<td>이순신</td>\n",
       "</tr>\n",
       "<tr>\n",
       "<td>103</td>\n",
       "<td>김어진</td>\n",
       "</tr>\n",
       "</tbody>\n",
       "</table>\n",
       "<p></p>\n",
       "<div class=\"sharedaddy sd-like-enabled sd-sharing-enabled\" id=\"jp-post-flair\"><div class=\"sharedaddy sd-sharing-enabled\"><div class=\"robots-nocontent sd-block sd-social sd-social-icon-text sd-sharing\"><h3 class=\"sd-title\">이 글 공유하기:</h3><div class=\"sd-content\"><ul><li class=\"share-twitter\"><a class=\"share-twitter sd-button share-icon\" data-shared=\"sharing-twitter-114\" href=\"https://sparkkorea.com/%ed%85%8c%ec%8a%a4%ed%8a%b8/?share=twitter\" rel=\"nofollow noopener noreferrer\" target=\"_blank\" title=\"트위터로 공유하기\"><span>Twitter</span></a></li><li class=\"share-facebook\"><a class=\"share-facebook sd-button share-icon\" data-shared=\"sharing-facebook-114\" href=\"https://sparkkorea.com/%ed%85%8c%ec%8a%a4%ed%8a%b8/?share=facebook\" rel=\"nofollow noopener noreferrer\" target=\"_blank\" title=\"Click to share on Facebook\"><span>Facebook</span></a></li><li class=\"share-end\"></li></ul></div></div></div><div class=\"sharedaddy sd-block sd-like jetpack-likes-widget-wrapper jetpack-likes-widget-unloaded\" data-name=\"like-post-frame-163927570-114-5d2ebc912e9f2\" data-src=\"//widgets.wp.com/likes/index.html?ver=20190321#blog_id=163927570&amp;post_id=114&amp;origin=sparkkorea.wordpress.com&amp;obj_id=163927570-114-5d2ebc912e9f2&amp;domain=sparkkorea.com\" id=\"like-post-wrapper-163927570-114-5d2ebc912e9f2\"><h3 class=\"sd-title\">이것이 좋아요:</h3><div class=\"likes-widget-placeholder post-likes-widget-placeholder\" style=\"height: 55px;\"><span class=\"button\"><span>좋아요</span></span> <span class=\"loading\">가져오는 중...</span></div><span class=\"sd-text-color\"></span><a class=\"sd-link-color\"></a></div></div> </div><!-- .entry-content -->\n",
       "</div><!-- .entry-inner -->\n",
       "</article><!-- #post-## -->\n",
       "</main><!-- #main -->\n",
       "</div><!-- #content -->\n",
       "<footer class=\"site-footer\" id=\"colophon\" role=\"contentinfo\">\n",
       "<div class=\"footer-bottom-info\">\n",
       "<div class=\"site-info\">\n",
       "<a href=\"https://wordpress.com/?ref=footer_segment_business\">A WordPress.com Website.</a>\n",
       "</div><!-- .site-info -->\n",
       "</div><!-- .footer-bottom-info -->\n",
       "</footer><!-- #colophon -->\n",
       "</div><!-- .site-inner -->\n",
       "</div><!-- #page -->\n",
       "<!-- -->\n",
       "<script src=\"//0.gravatar.com/js/gprofiles.js?ver=201929y\" type=\"text/javascript\"></script>\n",
       "<script type=\"text/javascript\">\n",
       "/* <![CDATA[ */\n",
       "var WPGroHo = {\"my_hash\":\"\"};\n",
       "/* ]]> */\n",
       "</script>\n",
       "<script src=\"https://s1.wp.com/wp-content/mu-plugins/gravatar-hovercards/wpgroho.js?m=1380573781h\" type=\"text/javascript\"></script>\n",
       "<script>\n",
       "\t\t//initialize and attach hovercards to all gravatars\n",
       "\t\tjQuery( document ).ready( function( $ ) {\n",
       "\n",
       "\t\t\tif (typeof Gravatar === \"undefined\"){\n",
       "\t\t\t\treturn;\n",
       "\t\t\t}\n",
       "\n",
       "\t\t\tif ( typeof Gravatar.init !== \"function\" ) {\n",
       "\t\t\t\treturn;\n",
       "\t\t\t}\t\t\t\n",
       "\n",
       "\t\t\tGravatar.profile_cb = function( hash, id ) {\n",
       "\t\t\t\tWPGroHo.syncProfileData( hash, id );\n",
       "\t\t\t};\n",
       "\t\t\tGravatar.my_hash = WPGroHo.my_hash;\n",
       "\t\t\tGravatar.init( 'body', '#wp-admin-bar-my-account' );\n",
       "\t\t});\n",
       "\t</script>\n",
       "<div style=\"display:none\">\n",
       "</div>\n",
       "<script type=\"text/javascript\">\n",
       "\t\twindow.WPCOM_sharing_counts = {\"https:\\/\\/sparkkorea.com\\/%ed%85%8c%ec%8a%a4%ed%8a%b8\\/\":114};\n",
       "\t</script>\n",
       "<script type=\"text/javascript\">\n",
       "/* <![CDATA[ */\n",
       "var comment_like_text = {\"loading\":\"\\uac00\\uc838\\uc624\\ub294 \\uc911...\"};\n",
       "/* ]]> */\n",
       "</script>\n",
       "<script type=\"text/javascript\">\n",
       "/* <![CDATA[ */\n",
       "var actionbardata = {\"siteID\":\"163927570\",\"siteName\":\"\\ud3f4\\ub9ac\\ud14d\\ub300  \\uc2a4\\ub9c8\\ud2b8\\uae08\\uc735\\uacfc\",\"siteURL\":\"https:\\/\\/sparkkorea.com\",\"icon\":\"<img alt='' src='https:\\/\\/s2.wp.com\\/i\\/logo\\/wpcom-gray-white.png' class='avatar avatar-50' height='50' width='50' \\/>\",\"canManageOptions\":\"\",\"canCustomizeSite\":\"\",\"isFollowing\":\"\",\"themeSlug\":\"pub\\/dyad-2\",\"signupURL\":\"https:\\/\\/wordpress.com\\/start\\/\",\"loginURL\":\"https:\\/\\/wordpress.com\\/log-in?redirect_to=https%3A%2F%2Fsparkkorea.com%2F%ED%85%8C%EC%8A%A4%ED%8A%B8%2F&signup_flow=account&domain=sparkkorea.com\",\"themeURL\":\"https:\\/\\/wordpress.com\\/theme\\/dyad-2\\/\",\"xhrURL\":\"https:\\/\\/sparkkorea.com\\/wp-admin\\/admin-ajax.php\",\"nonce\":\"5d5df24f65\",\"isSingular\":\"1\",\"isFolded\":\"\",\"isLoggedIn\":\"\",\"isMobile\":\"\",\"subscribeNonce\":\"<input type=\\\"hidden\\\" id=\\\"_wpnonce\\\" name=\\\"_wpnonce\\\" value=\\\"a921c6eb2b\\\" \\/>\",\"referer\":\"https:\\/\\/sparkkorea.com\\/%ED%85%8C%EC%8A%A4%ED%8A%B8\\/\",\"canFollow\":\"\",\"feedID\":\"97558616\",\"statusMessage\":\"\",\"customizeLink\":\"https:\\/\\/sparkkorea.wordpress.com\\/wp-admin\\/customize.php?url=https%3A%2F%2Fsparkkorea.wordpress.com%2F%25ED%2585%258C%25EC%258A%25A4%25ED%258A%25B8%2F\",\"postID\":\"114\",\"shortlink\":\"https:\\/\\/wp.me\\/Pb5P34-1Q\",\"canEditPost\":\"\",\"editLink\":\"https:\\/\\/wordpress.com\\/page\\/sparkkorea.com\\/114\",\"statsLink\":\"https:\\/\\/wordpress.com\\/stats\\/post\\/114\\/sparkkorea.com\",\"i18n\":{\"view\":\"\\uc0ac\\uc774\\ud2b8 \\ubcf4\\uae30\",\"follow\":\"\\ud314\\ub85c\\uc6b0\",\"following\":\"\\ud314\\ub85c\\uc6b0\\uc911\",\"edit\":\"\\ud3b8\\uc9d1\",\"login\":\"\\ub85c\\uadf8\\uc778\",\"signup\":\"\\uac00\\uc785\",\"customize\":\"\\uc0ac\\uc6a9\\uc790 \\uc815\\uc758\\ud558\\uae30\",\"report\":\"\\uc774 \\ucf58\\ud150\\uce20 \\uc2e0\\uace0\\ud558\\uae30\",\"themeInfo\":\"\\ud14c\\ub9c8 \\uac00\\uc838\\uc624\\uae30: Dyad 2\",\"shortlink\":\"\\ub2e8\\ucd95 \\ub9c1\\ud06c \\ubcf5\\uc0ac\",\"copied\":\"\\ubcf5\\uc0ac\\ub428\",\"followedText\":\"\\uc774 \\uc0ac\\uc774\\ud2b8\\uc758 \\uc0c8 \\uae00\\uc774 \\uc774\\uc81c <a href=\\\"https:\\/\\/wordpress.com\\/\\\">\\ub274\\uc2a4\\ud53c\\ub4dc<\\/a>\\uc5d0 \\ud45c\\uc2dc\\ub429\\ub2c8\\ub2e4.\",\"foldBar\":\"\\uc774 \\ud45c\\uc2dc\\uc904 \\ucd95\\uc18c\",\"unfoldBar\":\"\\uc774 \\ud45c\\uc2dc\\uc904 \\ud655\\uc7a5\",\"editSubs\":\"\\uad6c\\ub3c5 \\uad00\\ub9ac\",\"viewReader\":\"\\ub9ac\\ub354\\uc5d0\\uc11c \\uc0ac\\uc774\\ud2b8 \\ubcf4\\uae30\",\"viewReadPost\":\"View post in Reader\",\"subscribe\":\"\\uac00\\uc785\\ud558\\uae30\",\"enterEmail\":\"\\uc774\\uba54\\uc77c \\uc8fc\\uc18c \\uc785\\ub825\",\"followers\":\"\",\"alreadyUser\":\"\\uc774\\ubbf8 \\uc6cc\\ub4dc\\ud504\\ub808\\uc2a4\\ub2f7\\ucef4 \\uacc4\\uc815\\uc744 \\uac16\\uace0 \\uacc4\\uc138\\uc694? <a href=\\\"https:\\/\\/wordpress.com\\/log-in?redirect_to=https%3A%2F%2Fsparkkorea.com%2F%ED%85%8C%EC%8A%A4%ED%8A%B8%2F&signup_flow=account&domain=sparkkorea.com\\\">\\uc9c0\\uae08 \\ub85c\\uadf8\\uc778\\ud558\\uc138\\uc694.<\\/a>\",\"stats\":\"\\ud1b5\\uacc4\"}};\n",
       "/* ]]> */\n",
       "</script>\n",
       "<script type=\"text/javascript\">\n",
       "/* <![CDATA[ */\n",
       "var sharing_js_options = {\"lang\":\"en\",\"counts\":\"1\",\"is_stats_active\":\"1\"};\n",
       "/* ]]> */\n",
       "</script>\n",
       "<script src=\"https://s1.wp.com/_static/??-eJyVkNtuxCAMRH+oLOqqkZqHqt/igEOccCuG7O7fF7RqlF4UdZ+wxnPGaOQlChV8Rp/lzFLjSgrj9TTzk9ytXBHRFkOepaUFWX4ULDiB1xbTgVkF56ok7tDc6EHyhSI+An0TfoJ5QldtsQxS30CLcyM8rGQgU/D/svNCsab7RYxBFRYjbQ2QV7bo+z/IgUG2ATTqkyP/l8cBB59u+/XhaWPDAPagDdA1SgyQWnTGVCcRVkyJ2sVNezAhJ1DLry73kGrtNWibDtwxcBajBUqSJ0jkzddboXf39tx1L33fv3bn+RN6X+ib\" type=\"text/javascript\"></script>\n",
       "<script type=\"text/javascript\">\n",
       "var windowOpen;\n",
       "\t\t\tjQuery( document.body ).on( 'click', 'a.share-twitter', function() {\n",
       "\t\t\t\t// If there's another sharing window open, close it.\n",
       "\t\t\t\tif ( 'undefined' !== typeof windowOpen ) {\n",
       "\t\t\t\t\twindowOpen.close();\n",
       "\t\t\t\t}\n",
       "\t\t\t\twindowOpen = window.open( jQuery( this ).attr( 'href' ), 'wpcomtwitter', 'menubar=1,resizable=1,width=600,height=350' );\n",
       "\t\t\t\treturn false;\n",
       "\t\t\t});\n",
       "var windowOpen;\n",
       "\t\t\tjQuery( document.body ).on( 'click', 'a.share-facebook', function() {\n",
       "\t\t\t\t// If there's another sharing window open, close it.\n",
       "\t\t\t\tif ( 'undefined' !== typeof windowOpen ) {\n",
       "\t\t\t\t\twindowOpen.close();\n",
       "\t\t\t\t}\n",
       "\t\t\t\twindowOpen = window.open( jQuery( this ).attr( 'href' ), 'wpcomfacebook', 'menubar=1,resizable=1,width=600,height=400' );\n",
       "\t\t\t\treturn false;\n",
       "\t\t\t});\n",
       "</script>\n",
       "<script type=\"text/javascript\">\n",
       "// <![CDATA[\n",
       "(function() {\n",
       "try{\n",
       "  if ( window.external &&'msIsSiteMode' in window.external) {\n",
       "    if (window.external.msIsSiteMode()) {\n",
       "      var jl = document.createElement('script');\n",
       "      jl.type='text/javascript';\n",
       "      jl.async=true;\n",
       "      jl.src='/wp-content/plugins/ie-sitemode/custom-jumplist.php';\n",
       "      var s = document.getElementsByTagName('script')[0];\n",
       "      s.parentNode.insertBefore(jl, s);\n",
       "    }\n",
       "  }\n",
       "}catch(e){}\n",
       "})();\n",
       "// ]]>\n",
       "</script> <iframe id=\"likes-master\" name=\"likes-master\" scrolling=\"no\" src=\"https://widgets.wp.com/likes/master.html?ver=20190321#ver=20190321&amp;lang=ko\" style=\"display:none;\"></iframe>\n",
       "<div id=\"likes-other-gravatars\"><div class=\"likes-text\"><span>%d</span> 블로거가 이것을 좋아합니다:</div><ul class=\"wpl-avatars sd-like-gravatars\"></ul></div>\n",
       "<script async=\"\" defer=\"\" src=\"//stats.wp.com/w.js?60\" type=\"text/javascript\"></script>\n",
       "<script type=\"text/javascript\">\n",
       "_tkq = window._tkq || [];\n",
       "_stq = window._stq || [];\n",
       "_tkq.push(['storeContext', {'blog_id':'163927570','blog_tz':'9','user_lang':'ko','blog_lang':'ko','user_id':'0'}]);\n",
       "_stq.push(['view', {'blog':'163927570','v':'wpcom','tz':'9','user_id':'0','post':'114','subd':'sparkkorea'}]);\n",
       "_stq.push(['extra', {'crypt':'UE40eW5QN0p8M2Y/RE1mJVY3bm9aR3VCbS9mWm1pRyZuJS1LX1t5NE84SWQsc2J8a3kvOS9ufHlFc2gmTk9WWlF2Lit2cCVUNnFGN2FKMVkuU2cxa3g1SThLSFg/RDFXUklKMFFmbkR6NERVdkhjWiU9bzF6bz14fj0zdFZCSVE9TVp4TklaX1tScDNHRnVkZWNMPVI1N2pFaWxvXXkuVHQlOGpWU1FTfjRIUGVIbVZHZ3ctL0MleXhDSjFTTV9HYkljV0U1PTVuNWV6JWtNNT1UdWk0THhhVWVhTGhFSGFDTn5Qdm0vTmJRQ1tVeThRdllnVzJuL1BNaXx3V3FzUktOdjBoQg=='}]);\n",
       "_stq.push([ 'clickTrackerInit', '163927570', '114' ]);\n",
       "\t</script>\n",
       "<noscript><img alt=\"\" src=\"https://pixel.wp.com/b.gif?v=noscript\" style=\"height:0px;width:0px;overflow:hidden\"/></noscript>\n",
       "<script>\n",
       "if ( 'object' === typeof wpcom_mobile_user_agent_info ) {\n",
       "\n",
       "\twpcom_mobile_user_agent_info.init();\n",
       "\tvar mobileStatsQueryString = \"\";\n",
       "\t\n",
       "\tif( false !== wpcom_mobile_user_agent_info.matchedPlatformName )\n",
       "\t\tmobileStatsQueryString += \"&x_\" + 'mobile_platforms' + '=' + wpcom_mobile_user_agent_info.matchedPlatformName;\n",
       "\t\n",
       "\tif( false !== wpcom_mobile_user_agent_info.matchedUserAgentName )\n",
       "\t\tmobileStatsQueryString += \"&x_\" + 'mobile_devices' + '=' + wpcom_mobile_user_agent_info.matchedUserAgentName;\n",
       "\t\n",
       "\tif( wpcom_mobile_user_agent_info.isIPad() )\n",
       "\t\tmobileStatsQueryString += \"&x_\" + 'ipad_views' + '=' + 'views';\n",
       "\n",
       "\tif( \"\" != mobileStatsQueryString ) {\n",
       "\t\tnew Image().src = document.location.protocol + '//pixel.wp.com/g.gif?v=wpcom-no-pv' + mobileStatsQueryString + '&baba=' + Math.random();\n",
       "\t}\n",
       "\t\n",
       "}\n",
       "</script>\n",
       "</body>\n",
       "</html>"
      ]
     },
     "execution_count": 141,
     "metadata": {},
     "output_type": "execute_result"
    }
   ],
   "source": [
    "bs"
   ]
  },
  {
   "cell_type": "code",
   "execution_count": 146,
   "metadata": {},
   "outputs": [],
   "source": [
    "find_table = bs.find(\"table\",{\"id\":\"test_table\"})"
   ]
  },
  {
   "cell_type": "code",
   "execution_count": 149,
   "metadata": {},
   "outputs": [],
   "source": [
    "find_tbody = find_table.find(\"tbody\")"
   ]
  },
  {
   "cell_type": "code",
   "execution_count": 150,
   "metadata": {},
   "outputs": [
    {
     "data": {
      "text/plain": [
       "<tbody>\n",
       "<tr>\n",
       "<td>101</td>\n",
       "<td>김효관</td>\n",
       "</tr>\n",
       "<tr>\n",
       "<td>102</td>\n",
       "<td>이순신</td>\n",
       "</tr>\n",
       "<tr>\n",
       "<td>103</td>\n",
       "<td>김어진</td>\n",
       "</tr>\n",
       "</tbody>"
      ]
     },
     "execution_count": 150,
     "metadata": {},
     "output_type": "execute_result"
    }
   ],
   "source": [
    "find_tbody"
   ]
  },
  {
   "cell_type": "code",
   "execution_count": 175,
   "metadata": {},
   "outputs": [],
   "source": [
    "iter_tr = find_tbody.findAll(\"tr\")"
   ]
  },
  {
   "cell_type": "code",
   "execution_count": 176,
   "metadata": {},
   "outputs": [
    {
     "data": {
      "text/plain": [
       "[<tr>\n",
       " <td>101</td>\n",
       " <td>김효관</td>\n",
       " </tr>, <tr>\n",
       " <td>102</td>\n",
       " <td>이순신</td>\n",
       " </tr>, <tr>\n",
       " <td>103</td>\n",
       " <td>김어진</td>\n",
       " </tr>]"
      ]
     },
     "execution_count": 176,
     "metadata": {},
     "output_type": "execute_result"
    }
   ],
   "source": [
    "iter_tr"
   ]
  },
  {
   "cell_type": "code",
   "execution_count": 185,
   "metadata": {},
   "outputs": [],
   "source": [
    "contents = []\n",
    "allContents = []\n",
    "\n",
    "#그냥 rows라고 임의의 이름을 정하고 그 안에 iter_tr의 내용을 담는다는 뜻 같음 => iterm_tr의 내용이 rows에 모두 담길때까지 for문 실행(?)\n",
    "for rows in iter_tr : \n",
    "    tds = rows.find_all(\"td\")\n",
    "    for td in tds :\n",
    "        contents.append(td.text)\n",
    "    allContents.append(contents)\n",
    "    contents = []"
   ]
  },
  {
   "cell_type": "code",
   "execution_count": 186,
   "metadata": {},
   "outputs": [
    {
     "data": {
      "text/plain": [
       "[['101', '김효관'], ['102', '이순신'], ['103', '김어진']]"
      ]
     },
     "execution_count": 186,
     "metadata": {},
     "output_type": "execute_result"
    }
   ],
   "source": [
    "allContents"
   ]
  },
  {
   "cell_type": "code",
   "execution_count": 187,
   "metadata": {},
   "outputs": [],
   "source": [
    "result = pd.DataFrame(allContents, columns=['number', 'name'])"
   ]
  },
  {
   "cell_type": "code",
   "execution_count": 188,
   "metadata": {},
   "outputs": [
    {
     "data": {
      "text/html": [
       "<div>\n",
       "<style scoped>\n",
       "    .dataframe tbody tr th:only-of-type {\n",
       "        vertical-align: middle;\n",
       "    }\n",
       "\n",
       "    .dataframe tbody tr th {\n",
       "        vertical-align: top;\n",
       "    }\n",
       "\n",
       "    .dataframe thead th {\n",
       "        text-align: right;\n",
       "    }\n",
       "</style>\n",
       "<table border=\"1\" class=\"dataframe\">\n",
       "  <thead>\n",
       "    <tr style=\"text-align: right;\">\n",
       "      <th></th>\n",
       "      <th>number</th>\n",
       "      <th>name</th>\n",
       "    </tr>\n",
       "  </thead>\n",
       "  <tbody>\n",
       "    <tr>\n",
       "      <th>0</th>\n",
       "      <td>101</td>\n",
       "      <td>김효관</td>\n",
       "    </tr>\n",
       "    <tr>\n",
       "      <th>1</th>\n",
       "      <td>102</td>\n",
       "      <td>이순신</td>\n",
       "    </tr>\n",
       "    <tr>\n",
       "      <th>2</th>\n",
       "      <td>103</td>\n",
       "      <td>김어진</td>\n",
       "    </tr>\n",
       "  </tbody>\n",
       "</table>\n",
       "</div>"
      ],
      "text/plain": [
       "  number name\n",
       "0    101  김효관\n",
       "1    102  이순신\n",
       "2    103  김어진"
      ]
     },
     "execution_count": 188,
     "metadata": {},
     "output_type": "execute_result"
    }
   ],
   "source": [
    "result"
   ]
  },
  {
   "cell_type": "markdown",
   "metadata": {},
   "source": [
    "## 실습4. 홀리데이정보 페이지 크롤링하기"
   ]
  },
  {
   "cell_type": "code",
   "execution_count": 2,
   "metadata": {},
   "outputs": [],
   "source": [
    "resp = requests.get(\"https://www.timeanddate.com/holidays/south-korea/\")\n",
    "resp.encoding = 'utf-8'\n",
    "html = resp.text\n",
    "bs = bs4.BeautifulSoup(html, 'html.parser')"
   ]
  },
  {
   "cell_type": "code",
   "execution_count": 3,
   "metadata": {},
   "outputs": [
    {
     "data": {
      "text/plain": [
       "<!DOCTYPE html>\n",
       "<!--\n",
       "scripts and programs that download content transparent to the user are not allowed without permission\n",
       "--><html lang=\"en\"><head><meta content=\"text/html; charset=utf-8\" http-equiv=\"Content-Type\"/><title>Holidays and observances in South Korea in 2019</title><meta content=\"Overview of holidays and many observances in South Korea during the year 2019\" name=\"description\"/><meta content=\"holidays,holiday,observance,observation,obseranse,holyday,day,off,free,work,2019,South Korea,Republic of Korea\" name=\"keywords\"/><meta content=\"https://www.timeanddate.com/scripts/cityog.php?title=Holidays%20%26%20Observations&amp;tint=0xB53E38&amp;country=2019&amp;state=South%20Korea&amp;image=seoul1\" property=\"og:image\"/><meta content=\"website\" property=\"og:type\"/><style>\n",
       "@font-face{font-family:iconfont;src:url(\"/common/fonts/iconfont.woff2?v7\") format(\"woff2\"),url(\"/common/fonts/iconfont.woff?v7\") format(\"woff\"),url(\"/common/fonts/iconfont.ttf?v7\") format(\"truetype\"),url(\"/common/fonts/iconfont.svg?v7#iconfont\") format(\"svg\");font-weight:400;font-style:normal}\n",
       "</style>\n",
       "<link as=\"font\" crossorigin=\"\" href=\"/common/fonts/iconfont.woff2?v7\" rel=\"preload\" type=\"font/woff2\"/>\n",
       "<link crossorigin=\"\" href=\"https://c.tadst.com\" rel=\"preconnect\"/>\n",
       "<script>\n",
       "// prebid 2\n",
       "var hbbids={},adUnits=[{code:'div-gpt-com-728x90',mediaTypes:{banner:{sizes:[[728,90]]}},bids:[{bidder:'appnexus',params:{placementId:'11439172'}},{bidder:'sovrn',params:{tagid:'422101'}},{bidder:'pubmatic',params:{publisherId:'157610',adSlot:'com728@728x90'}},{bidder:'rubicon',params:{accountId:'16448',siteId:'127484',zoneId:'601634'}}]},{code:'div-gpt-com-300x250',mediaTypes:{banner:{sizes:[[300,250]]}},bids:[{bidder:'appnexus',params:{placementId:'11439174'}},{bidder:'sovrn',params:{tagid:'422098'}},{bidder:'pubmatic',params:{publisherId:'157610',adSlot:'com_300@300x250'}},{bidder:'rubicon',params:{accountId:'16448',siteId:'127484',zoneId:'601640'}}]}];\n",
       ";\n",
       "var pbjs=pbjs||{};pbjs.que=pbjs.que||[];\n",
       "var googletag=googletag||{};\n",
       "googletag.cmd=googletag.cmd||[];\n",
       "googletag.cmd.push(function(){googletag.pubads().disableInitialLoad();});\n",
       "pbjs.que.push(function(){\n",
       "pbjs.setConfig({\n",
       "debug:false,\n",
       "priceGranularity:\"high\",\n",
       "enableSendAllBids:true,\n",
       "bidderTimeout:1000,\n",
       "publisherDomain: \"https://www.timeanddate.com\"\n",
       "});\n",
       "pbjs.addAdUnits(adUnits);\n",
       "pbjs.requestBids({bidsBackHandler:prebidDone});\n",
       "});\n",
       "function prebidDone(){\n",
       "hbbids.prebid=1;\n",
       "if(hbbids.ox){sendAdserverRequest()}\n",
       "}\n",
       "function oxDone(){hbbids.ox=1;if(hbbids.prebid){sendAdserverRequest()}};\n",
       "\n",
       "function sendAdserverRequest(){\n",
       "if(pbjs.adserverRequestSent)return;\n",
       "pbjs.adserverRequestSent=true;\n",
       "googletag.cmd.push(function(){\n",
       "pbjs.que.push(function(){\n",
       "var c=0,a,b,r=pbjs.getBidResponses();\n",
       "var ox=window.OX;if(ox&&ox.dfp_bidder){ox.dfp_bidder.setOxTargeting();try{var pm=ox.dfp_bidder.getPriceMap();for(i=0;i<pm.length;i++){if(pm[i].price){c++}}}catch(e){};}\n",
       "pbjs.setTargetingForGPTAsync();\n",
       "for(a in r){\n",
       "if(r.hasOwnProperty(a)){\n",
       "b=r[a].bids;for(var i=0;i<b.length;i++){if(b[i].cpm){c++;}}\n",
       "}\n",
       "}\n",
       "googletag.pubads().setTargeting(\"tadbid\",\"\"+c).refresh();\n",
       "});\n",
       "});\n",
       "}\n",
       "setTimeout(function(){\n",
       "sendAdserverRequest();\n",
       "},3000);\n",
       "var OX_dfp_options={prefetch:true};\n",
       "var OX_dfp_ads=[[\"/1004254/com728\",[\"728x90\"],\"div-gpt-com-728x90\"],[\"/1004254/com_300\",[\"300x250\"],\"div-gpt-com-300x250\"]];\n",
       "function loadjs(u,i){\n",
       "var d=document,g=d.createElement('script'),n=d.getElementsByTagName('script')[0];\n",
       "if(i){g.id=i}g.async=true;g.type='text/javascript';g.src='https://'+u;\n",
       "n.parentNode.insertBefore(g,n);\n",
       "}\n",
       "var googletag=googletag||{};\n",
       "googletag.cmd=googletag.cmd||[];\n",
       "loadjs('timeanddate-d.openx.net/w/1.0/jstag?nc=1004254-timeanddate');\n",
       "loadjs('www.googletagservices.com/tag/js/gpt.js');\n",
       "googletag.cmd.push(function() {googletag.defineSlot('/1004254/com728',[728,90],'div-gpt-com-728x90').addService(googletag.pubads());\n",
       "googletag.defineSlot('/1004254/com_300',[300,250],'div-gpt-com-300x250').addService(googletag.pubads());\n",
       "googletag.pubads().setTargeting('ab','b').setTargeting('art','3782').setTargeting('hr','09').setTargeting('tadhb','10').setTargeting('gdpr','na').enableSingleRequest();googletag.enableServices();});\n",
       "</script>\n",
       "<script async=\"\" src=\"/common/prebidtadone_0.js\" type=\"text/javascript\"></script>\n",
       "<link href=\"https://www.timeanddate.de/feiertage/suedkorea/\" hreflang=\"de\" rel=\"alternate\"><link href=\"/site.webmanifest\" rel=\"manifest\"/><link href=\"/favicon-48x48.png\" rel=\"icon\" sizes=\"48x48\" type=\"image/png\"/><link href=\"/favicon-16x16.png\" rel=\"icon\" sizes=\"16x16\" type=\"image/png\"/><link href=\"/favicon-32x32.png\" rel=\"icon\" sizes=\"32x32\" type=\"image/png\"/><link href=\"/common/global_97.css\" rel=\"stylesheet\" type=\"text/css\"/><link href=\"/common/index_holiday_3.css\" rel=\"stylesheet\" type=\"text/css\"/><link href=\"/common/articles_30.css\" rel=\"stylesheet\" type=\"text/css\"/><style>\n",
       ".pager {\n",
       "margin-top: 12px;\n",
       "text-align: left;\n",
       "}\n",
       ".jumplist__options {\n",
       "display: inline;\n",
       "}\n",
       ".jumplist__item {\n",
       "padding-right: 2px;\n",
       "}\n",
       "</style></link></head><body class=\"tpl-custom_bc\"><div class=\"wrapper\">\n",
       "<div class=\"header__wrapper\" id=\"header__wrapper\">\n",
       "<div class=\"header__inner\" id=\"header__inner\">\n",
       "<div class=\"banner\" id=\"header\">\n",
       "<div class=\"fixed\">\n",
       "<div id=\"logo\">\n",
       "<a href=\"/\" rel=\"home\"><img alt=\"timeanddate.com\" src=\"//c.tadst.com/gfx/n/tad-logo-com3.png\" title=\"Home page timeanddate.com\"/></a>\n",
       "</div>\n",
       "</div>\n",
       "</div>\n",
       "<div id=\"ad-wrap\"><div class=\"fixed\" id=\"ad-wrap2\"><div id=\"ad7\"><div id=\"div-gpt-com-728x90\" style=\"width:728px;height:90px;\"><script type=\"text/javascript\">\n",
       "googletag.cmd.push(function(){googletag.display('div-gpt-com-728x90'); });\n",
       "</script>\n",
       "</div></div></div></div><div id=\"naw\"><div class=\"fixed\" id=\"nav\"><div class=\"nav-bar\"><button id=\"navButton\"><span>Menu</span></button><a class=\"mobLogo\" href=\"/\" role=\"presentation\">timeanddate.com</a><button aria-label=\"Search\" id=\"searchButton\"><span></span></button><button aria-label=\"Social\" id=\"socialButton\"></button></div><div id=\"searchMenu\"><div class=\"searchHead\">Search <button aria-label=\"Close\" class=\"close\" id=\"closeSearch\" type=\"button\">×</button></div><div class=\"searchBody\"><h3>Site / Articles</h3><div class=\"searchBox\"><form action=\"/search/results.html\" method=\"get\"><input aria-label=\"Search site\" id=\"query_site\" name=\"query\" placeholder=\"Site / Articles\" type=\"text\"/><input aria-label=\"Search\" type=\"submit\" value=\"\"/></form></div><h3>City / Country</h3><div class=\"searchBox\"><form action=\"/worldclock/results.html\" method=\"get\"><input aria-label=\"Search cities\" id=\"query_city\" name=\"query\" placeholder=\"City / Country\" type=\"text\"/><input aria-label=\"Search\" type=\"submit\" value=\"\"/></form></div></div></div><div id=\"socialMenu\" role=\"presentation\"><div class=\"socialHead\">Social  <button class=\"close\" id=\"closeSocial\" type=\"button\">×</button></div><div class=\"socialBody\"><h3>Share this page / Follow us on:</h3><div class=\"social\" data-social=\"facebook\"><div class=\"links\"><div class=\"fb-like\" data-action=\"like\" data-layout=\"button_count\" data-share=\"true\" data-show-faces=\"true\"></div><div class=\"fb-follow\" data-href=\"https://www.facebook.com/timeanddate\" data-layout=\"button_count\" data-show-faces=\"false\"></div></div><div class=\"reveal\">Facebook</div><div class=\"logo\"></div></div><div class=\"social\" data-social=\"twitter\"><div class=\"links\"><a class=\"twitter-share-button\" data-lang=\"en\" data-via=\"twitterapi\" href=\"https://twitter.com/share\">Tweet</a><a class=\"twitter-follow-button\" data-show-count=\"false\" data-show-screen-name=\"false\" href=\"https://twitter.com/timeanddate\">Follow</a></div><div class=\"reveal\">Twitter</div><div class=\"logo\"></div></div><h3>Visit us on:</h3><div class=\"followus\"><a class=\"facebook\" href=\"https://www.facebook.com/timeanddate\">Facebook</a><a class=\"twitter\" href=\"https://twitter.com/timeanddate\">Twitter</a></div></div></div> <ul id=\"navMenu\"><li class=\"c-my\"><a class=\"nav-back\" href=\"#\">Back</a><a class=\"navMenu__item\" href=\"/custom/\">My account</a><ul><li><a href=\"/custom/location.html\" id=\"popchi\">My Location</a><li><a href=\"/custom/site.html\">My Units</a><li><a href=\"/calendar/events/\">My Events</a><li><a href=\"/worldclock/personal.html\">My World Clock</a><li><a href=\"/custom/privacy.html\">My Privacy</a><li><a href=\"/services/\">Paid Services</a><li><a href=\"/custom/login.html\" id=\"poplogin\">Sign in</a><li><a href=\"/custom/create.html\" id=\"popreg\">Register</a></li></li></li></li></li></li></li></li></ul></li><li class=\"c-hm\"><a class=\"nav-back\" href=\"#\">Back</a><a class=\"navMenu__item\" href=\"/\">Home</a><ul><li><a href=\"/newsletter/\">Newsletter</a><li><a href=\"/information/\">About Us</a><li><a href=\"/sitemap.html\">Site Map</a><li><a href=\"/custom/\">Account/Settings</a><li><a href=\"/topics/\">Article Topics</a></li></li></li></li></li></ul></li><li class=\"c-wc\"><a class=\"nav-back\" href=\"#\">Back</a><a class=\"navMenu__item\" href=\"/worldclock/\">World Clock</a><ul><li><a href=\"/worldclock/\">Main World Clock</a><li><a href=\"/worldclock/full.html\">Extended World Clock</a><li><a href=\"/worldclock/personal.html\">Personal World Clock</a><li><a href=\"/worldclock/search.html\">World Time Lookup </a><li><a href=\"/topics/timekeeping\">Time Articles</a></li></li></li></li></li></ul></li><li class=\"c-tz\"><a class=\"nav-back\" href=\"#\">Back</a><a class=\"navMenu__item\" href=\"/time/\">Time Zones</a><ul><li><a href=\"/worldclock/converter.html\">Time Zone Converter</a><li><a href=\"/worldclock/meeting.html\">International Meeting Planner</a><li><a href=\"/worldclock/fixedform.html\">Event Time Announcer</a><li><a href=\"/time/map/\">Time Zone Map</a><li><a href=\"/time/zones/\">Time Zone Abbreviations</a><li><a href=\"/news/time/\">Time Zone News</a><li><a href=\"/time/dst/\">Daylight Saving Time</a><li><a href=\"/time/change/\">Time Changes Worldwide</a><li><a href=\"/worldclock/difference.html\">Time Difference</a><li><a href=\"/topics/time-zone\">Time Zone Articles</a></li></li></li></li></li></li></li></li></li></li></ul></li><li class=\"c-cl active\"><a class=\"nav-back\" href=\"#\">Back</a><a class=\"navMenu__item\" href=\"/calendar/\">Calendar</a><ul><li><a href=\"/calendar/info.html\">Calendar Info</a><li><a href=\"/calendar/\">Calendar 2019</a><li><a href=\"/calendar/?year=2020\">Calendar 2020</a><li><a href=\"/calendar/monthly.html\">Monthly Calendar</a><li><a href=\"/calendar/create.html\">Printable Calendar (PDF)</a><li><a href=\"/calendar/events/\">Add Your Own Calendar Events</a><li><a href=\"/calendar/basic.html\">Calendar Creator</a><li><a href=\"/calendar/custommenu.html\">Advanced Calendar Creator</a><li><a href=\"/holidays/\">Holidays Worldwide</a><li><a href=\"/on-this-day/\">On This Day in History</a><li><a href=\"/topics/calendar\">Calendar Articles</a></li></li></li></li></li></li></li></li></li></li></li></ul></li><li class=\"c-wt\"><a class=\"nav-back\" href=\"#\">Back</a><a class=\"navMenu__item\" href=\"/weather/\">Weather</a><ul><li><a href=\"/weather/\">Worldwide</a><li><a href=\"/scripts/go.php\">Local Weather</a><li><a href=\"/scripts/goweather.php?type=ext\">2-Week Forecast</a><li><a href=\"/scripts/go.php?type=hourly\">Hour-by-Hour</a><li><a href=\"/scripts/go.php?type=historic\">Past Week</a><li><a href=\"/scripts/go.php?type=climate\">Climate</a></li></li></li></li></li></li></ul></li><li class=\"c-sm\"><a class=\"nav-back\" href=\"#\">Back</a><a class=\"navMenu__item\" href=\"/astronomy/\">Sun &amp; Moon</a><ul><li><a href=\"/sun/\">Sun Calculator</a><li><a href=\"/moon/\">Moon Calculator</a><li><a href=\"/moon/phases/\">Moon Phases</a><li><a href=\"/calendar/seasons.html\">Seasons</a><li><a href=\"/eclipse/\">Eclipses</a><li><a href=\"/astronomy/night/\">Night Sky</a><li><a href=\"/worldclock/sunearth.html\">Day and Night Map</a><li><a href=\"/astronomy/moon/light.html\">Moon Light World Map</a><li><a href=\"/astronomy/meteor-shower/\">Meteor Showers</a><li><a href=\"/topics/astronomy\">Astronomy Articles</a></li></li></li></li></li></li></li></li></li></li></ul></li><li class=\"c-tm\"><a class=\"nav-back\" href=\"#\">Back</a><a class=\"navMenu__item\" href=\"/counters/\">Timers</a><ul><li><a href=\"/stopwatch/\">Stopwatch</a><li><a href=\"/timer/\">Timer</a><li><a href=\"/countdown/create\">Countdown to Any Date</a><li><a href=\"/countdown/newyear\">New Year Countdown</a><li><a href=\"/counters/new-year-trivia.html\">New Year Trivia</a></li></li></li></li></li></ul></li><li class=\"c-cc\"><a class=\"nav-back\" href=\"#\">Back</a><a class=\"navMenu__item\" href=\"/date/\">Calculators</a><ul><li><a href=\"/date/duration.html\">Date to Date Calculator (duration)</a><li><a href=\"/date/workdays.html\">Business Date to Date (exclude holidays)</a><li><a href=\"/date/dateadd.html\">Date Calculator (add / subtract)</a><li><a href=\"/date/weekdayadd.html\">Business Date (exclude holidays)</a><li><a href=\"/worldclock/dialing.html\">International Dialing Codes</a><li><a href=\"/worldclock/distance.html\">Distance Calculator</a><li><a href=\"/worldclock/distances.html\">Distance Signpost</a><li><a href=\"/time/travel.html\">Travel Time Calculator</a><li><a href=\"/date/weekday.html\">Weekday Calculator</a><li><a href=\"/date/weeknumber.html\">Week Number Calculator</a></li></li></li></li></li></li></li></li></li></li></ul></li><li class=\"c-ap\"><a class=\"nav-back\" href=\"#\">Back</a><a class=\"navMenu__item\" href=\"/extra/\">Apps &amp; API</a><ul><li><a href=\"/ios/\">iOS Apps</a><li><a href=\"/android/\">Android Apps</a><li><a href=\"/windows/\">Windows App</a><li><a href=\"/clocks/free.html\">Free Clock</a><li><a href=\"/clocks/freecountdown.html\">Free Countdown</a><li><a href=\"/services/api/\">API for Developers</a></li></li></li></li></li></li></ul></li><li class=\"c-ff\"><a class=\"nav-back\" href=\"#\">Back</a><a class=\"navMenu__item\" href=\"/fun/\">Free Fun</a><ul><li><a href=\"/clocks/free.html\">Free Clock for Your Site</a><li><a href=\"/clocks/freecountdown.html\">Free Countdown for Your Site</a><li><a href=\"/wordclock/\">Word Clock</a><li><a href=\"/holidays/fun/\">Fun Holidays</a><li><a href=\"/date/birthday.html\">Alternative Age Calculator</a><li><a href=\"/date/pattern.html\">Date Pattern Calculator</a><li><a href=\"/topics/fun\">Fun Fact Articles</a></li></li></li></li></li></li></li></ul></li></ul></div></div></div></div><div class=\"po\" id=\"po1\"></div><div id=\"mpo\"></div><div class=\"alert-notice__wrap\" id=\"anw\"></div><div class=\"dn\" id=\"privacybanner\"></div><div class=\"main-content-div\"><div class=\"fixed\"></div><script>window.TAD = window.TAD || {}; TAD.country = 160; TAD.year = 2019;</script><div class=\"main-content-div\"><header class=\"bn-header bn-header--holiday\"><div class=\"row socrow\"><div class=\"fixed\" id=\"bc\"><div id=\"bct\"><a class=\"fx\" href=\"/\" target=\"_top\">Home</a>   <a class=\"fx\" href=\"/calendar/\" target=\"_top\">Calendar</a>   <a class=\"fx\" href=\"/holidays/\" target=\"_top\">Holidays</a>   South Korea</div></div></div><div class=\"bn-header__wrap fixed\"><div class=\"headline-banner\"><section class=\"headline-banner__wrap\"><img alt=\"Flag for South Korea\" class=\"headline-banner__flag\" height=\"32\" src=\"//c.tadst.com/gfx/n/fl/48/kr.png\" width=\"48\"/><div class=\"headline-banner__content\"><h1 class=\"headline-banner__title\">Holidays and Observances in South Korea in 2019</h1></div></section><section class=\"headline-banner__extra\"><form action=\"/holidays/search.html\" class=\"bn-header__searchbox picker-city noprint\"><input autocomplete=\"off\" class=\"picker-city__input\" name=\"query\" onfocus=\"ifc(this, 'hol', 1 )\" placeholder=\"Search holiday name or country…\" type=\"search\"><button class=\"picker-city__button\" type=\"submit\"><i class=\"i-font i-search\"></i></button></input></form></section></div></div><section class=\"bn-header__extra\"><div class=\"fixed\"><strong>Suggested countries: </strong><a href=\"/holidays/australia/\">Australia</a> | <a href=\"/holidays/canada/\">Canada</a> | <a href=\"/holidays/uk/\">United Kingdom</a> | <a href=\"/holidays/us/\">United States</a> | <a href=\"/holidays/\">List of all countries</a></div></section></header><main class=\"content__main pdflexi\"><div class=\"fixed\"><section class=\"content__body content__body--has-sidebar\"><article class=\"table-data\"><section class=\"table-data__config\"><label>Showing (<span data-tad-control=\"HolidayCountry.Count\">all</span>): <select data-tad-control=\"HolidayCountry.Filter\" data-tad-options=\"{table:'holidays-table'}\" id=\"hol\" name=\"hol\"><option value=\"1\">Official holidays</option><option value=\"9\">Official holidays and non-working days</option><option value=\"25\">Holidays and some observances</option><option value=\"4194329\">Holidays (incl. some local) and observances</option><option value=\"313\">Holidays and many observances</option><option selected=\"\" value=\"4194617\">All holidays/observances</option><option data-showcustom=\"\" value=\"nojs\">Custom – choose holidays...</option></select></label><label>For: <select data-tad-control=\"HolidayCountry.Year\" data-tad-options=\"{baseURL:'/holidays/south-korea/'}\" id=\"year\" name=\"year\"><option value=\"2000\">2000</option><option value=\"2001\">2001</option><option value=\"2002\">2002</option><option value=\"2003\">2003</option><option value=\"2004\">2004</option><option value=\"2005\">2005</option><option value=\"2006\">2006</option><option value=\"2007\">2007</option><option value=\"2008\">2008</option><option value=\"2009\">2009</option><option value=\"2010\">2010</option><option value=\"2011\">2011</option><option value=\"2012\">2012</option><option value=\"2013\">2013</option><option value=\"2014\">2014</option><option value=\"2015\">2015</option><option value=\"2016\">2016</option><option value=\"2017\">2017</option><option value=\"2018\">2018</option><option selected=\"\" value=\"2019\">2019</option><option value=\"2020\">2020</option><option value=\"2021\">2021</option><option value=\"2022\">2022</option><option value=\"2023\">2023</option><option value=\"2024\">2024</option><option value=\"2025\">2025</option><option value=\"2026\">2026</option><option value=\"2027\">2027</option><option value=\"2028\">2028</option><option value=\"2029\">2029</option><option value=\"2030\">2030</option></select></label></section><section class=\"custom-holidays\" data-tad-control=\"HolidayCountry.FilterCustom\" style=\"display: none\"><section class=\"quick-selection\"><span class=\"quick-selection__item\"><a data-tad-control=\"HolidayCountry.TriggerEvent\" data-tad-options=\"{event: 'selectAll'}\" href=\"#\">Select All</a></span><span class=\"quick-selection__item\"><a data-tad-control=\"HolidayCountry.TriggerEvent\" data-tad-options=\"{event: 'selectNone'}\" href=\"#\">Clear All</a></span><span class=\"quick-selection__item\" data-tad-control=\"HolidayCountry.Reset\" data-tad-options=\"{ defaultValue: TAD.chm}\"><a href=\"#\">Reset to Default</a></span></section><section class=\"custom-holidays__options\"><label><input type=\"checkbox\" value=\"0\"/>Federal/National Holidays (17)</label><label><input type=\"checkbox\" value=\"4\"/>Important Observances (7)</label><label><input type=\"checkbox\" value=\"5\"/>Common Observances (2)</label><label><input type=\"checkbox\" value=\"8\"/>Seasons (4)</label><label><input type=\"checkbox\" value=\"22\"/>Common Local Holidays (1)</label></section></section><nav class=\"jumplist\"><span class=\"jumplist__label\"><i class=\"i-font i-jump_down\"></i> Jump to: </span><span class=\"jumplist__item\" data-tad-control=\"HolidayCountry.Next\" data-tad-options=\"{date: TAD.local_sod * 1000}\"><a href=\"#hol_next\">Next</a></span><span class=\"jumplist__options\" data-tad-control=\"HolidayCountry.JumpList\"><a href=\"#hol_jan\">JAN</a> | <a href=\"#hol_feb\">FEB</a> | <a href=\"#hol_mar\">MAR</a> | <a href=\"#hol_apr\">APR</a> | <a href=\"#hol_may\">MAY</a> | <a href=\"#hol_jun\">JUN</a> | <a href=\"#hol_jul\">JUL</a> | <a href=\"#hol_aug\">AUG</a> | <a href=\"#hol_sep\">SEP</a> | <a href=\"#hol_oct\">OCT</a> | <a href=\"#hol_nov\">NOV</a> | <a href=\"#hol_dec\">DEC</a></span></nav><section class=\"table-data__table\">\n",
       "<h2 id=\"holidays\">Holidays and Observances in South Korea in 2019</h2><table class=\"table table--left table--inner-borders-rows table--full-width table--sticky table--holidaycountry\" id=\"holidays-table\"><thead><tr><th rowspan=\"2\">Date</th><th rowspan=\"2\"> </th><th rowspan=\"2\">Name</th><th rowspan=\"2\">Type</th></tr><tr></tr></thead><tbody><tr id=\"hol_jan\"></tr><tr data-date=\"1546300800000\" data-mask=\"1\" id=\"tr1\"><th class=\"nw\">1월 1일</th><td class=\"nw\">화요일</td><td><a href=\"/holidays/south-korea/new-year-day\">New Year's Day</a></td><td>Public Holiday</td></tr><tr id=\"hol_feb\"></tr><tr data-date=\"1549238400000\" data-mask=\"1\" id=\"tr3\"><th class=\"nw\">2월 4일</th><td class=\"nw\">월요일</td><td><a href=\"/holidays/south-korea/seollal-holiday-1\">Seollal Holiday</a></td><td>Public Holiday</td></tr><tr data-date=\"1549324800000\" data-mask=\"1\" id=\"tr4\"><th class=\"nw\">2월 5일</th><td class=\"nw\">화요일</td><td><a href=\"/holidays/south-korea/seollal-holiday-2\">Seollal</a></td><td>Public Holiday</td></tr><tr data-date=\"1549411200000\" data-mask=\"1\" id=\"tr5\"><th class=\"nw\">2월 6일</th><td class=\"nw\">수요일</td><td><a href=\"/holidays/south-korea/seollal-holiday-3\">Seollal Holiday</a></td><td>Public Holiday</td></tr><tr data-date=\"1550102400000\" data-mask=\"32\" id=\"tr6\"><th class=\"nw\">2월 14일</th><td class=\"nw\">목요일</td><td><a href=\"/holidays/south-korea/valentines-day\">Valentine's Day</a></td><td>Observance</td></tr><tr id=\"hol_mar\"></tr><tr data-date=\"1551398400000\" data-mask=\"1\" id=\"tr8\"><th class=\"nw\">3월 1일</th><td class=\"nw\">금요일</td><td><a href=\"/holidays/south-korea/independence-movement-day\">Independence Movement Day</a></td><td>National holiday</td></tr><tr data-date=\"1553151512000\" data-mask=\"256\" id=\"tr9\"><th class=\"nw\">3월 21일</th><td class=\"nw\">목요일</td><td><a href=\"/calendar/march-equinox.html\">March Equinox</a></td><td>Season</td></tr><tr id=\"hol_apr\"></tr><tr data-date=\"1554422400000\" data-mask=\"16\" id=\"tr11\"><th class=\"nw\">4월 5일</th><td class=\"nw\">금요일</td><td><a href=\"/holidays/south-korea/arbor-day\">Arbor Day</a></td><td>Observance</td></tr><tr id=\"hol_may\"></tr><tr data-date=\"1556668800000\" data-mask=\"4194304\" id=\"tr13\"><th class=\"nw\">5월 1일</th><td class=\"nw\">수요일</td><td><a href=\"/holidays/south-korea/labor-day\">Labor Day</a></td><td>Bank Holiday</td></tr><tr data-date=\"1557014400000\" data-mask=\"1\" id=\"tr14\"><th class=\"nw\">5월 5일</th><td class=\"nw\">일요일</td><td><a href=\"/holidays/south-korea/childrens-day\">Children's Day</a></td><td>Public Holiday</td></tr><tr data-date=\"1557100800000\" data-mask=\"1\" id=\"tr15\"><th class=\"nw\">5월 6일</th><td class=\"nw\">월요일</td><td><a href=\"/holidays/south-korea/childrens-day\">Children's Day observed</a></td><td>Public Holiday</td></tr><tr data-date=\"1557273600000\" data-mask=\"16\" id=\"tr16\"><th class=\"nw\">5월 8일</th><td class=\"nw\">수요일</td><td><a href=\"/holidays/south-korea/parents-day\">Parents' Day</a></td><td>Observance</td></tr><tr data-date=\"1557619200000\" data-mask=\"1\" id=\"tr17\"><th class=\"nw\">5월 12일</th><td class=\"nw\">일요일</td><td><a href=\"/holidays/south-korea/buddha-birthday\">Buddha's Birthday</a></td><td>Public Holiday</td></tr><tr data-date=\"1557878400000\" data-mask=\"16\" id=\"tr18\"><th class=\"nw\">5월 15일</th><td class=\"nw\">수요일</td><td><a href=\"/holidays/south-korea/teachers-day\">Teacher's Day</a></td><td>Observance</td></tr><tr id=\"hol_jun\"></tr><tr data-date=\"1559779200000\" data-mask=\"1\" id=\"tr20\"><th class=\"nw\">6월 6일</th><td class=\"nw\">목요일</td><td><a href=\"/holidays/south-korea/memorial-day\">Memorial Day</a></td><td>Public Holiday</td></tr><tr data-date=\"1561164854000\" data-mask=\"256\" id=\"tr21\"><th class=\"nw\">6월 22일</th><td class=\"nw\">토요일</td><td><a href=\"/calendar/june-solstice.html\">June Solstice</a></td><td>Season</td></tr><tr id=\"hol_jul\"></tr><tr data-date=\"1563321600000\" data-mask=\"16\" id=\"tr23\"><th class=\"nw\">7월 17일</th><td class=\"nw\">수요일</td><td><a href=\"/holidays/south-korea/constitution-day\">Constitution Day</a></td><td>Observance</td></tr><tr id=\"hol_aug\"></tr><tr data-date=\"1565827200000\" data-mask=\"1\" id=\"tr25\"><th class=\"nw\">8월 15일</th><td class=\"nw\">목요일</td><td><a href=\"/holidays/south-korea/liberation-day\">Liberation Day</a></td><td>National holiday</td></tr><tr id=\"hol_sep\"></tr><tr data-date=\"1568246400000\" data-mask=\"1\" id=\"tr27\"><th class=\"nw\">9월 12일</th><td class=\"nw\">목요일</td><td><a href=\"/holidays/south-korea/mid-autumn-festival-day-1\">Chuseok Holiday</a></td><td>Public Holiday</td></tr><tr data-date=\"1568332800000\" data-mask=\"1\" id=\"tr28\"><th class=\"nw\">9월 13일</th><td class=\"nw\">금요일</td><td><a href=\"/holidays/south-korea/mid-autumn-festival-day-2\">Chuseok</a></td><td>Public Holiday</td></tr><tr data-date=\"1568419200000\" data-mask=\"1\" id=\"tr29\"><th class=\"nw\">9월 14일</th><td class=\"nw\">토요일</td><td><a href=\"/holidays/south-korea/mid-autumn-festival-day-3\">Chuseok Holiday</a></td><td>Public Holiday</td></tr><tr data-date=\"1569257413000\" data-mask=\"256\" id=\"tr30\"><th class=\"nw\">9월 23일</th><td class=\"nw\">월요일</td><td><a href=\"/calendar/september-equinox.html\">September Equinox</a></td><td>Season</td></tr><tr id=\"hol_oct\"></tr><tr data-date=\"1569888000000\" data-mask=\"16\" id=\"tr32\"><th class=\"nw\">10월 1일</th><td class=\"nw\">화요일</td><td><a href=\"/holidays/south-korea/armed-forces-day\">Armed Forces Day</a></td><td>Observance</td></tr><tr data-date=\"1570060800000\" data-mask=\"1\" id=\"tr33\"><th class=\"nw\">10월 3일</th><td class=\"nw\">목요일</td><td><a href=\"/holidays/south-korea/national-foundation-day\">National Foundation Day</a></td><td>National holiday</td></tr><tr data-date=\"1570579200000\" data-mask=\"1\" id=\"tr34\"><th class=\"nw\">10월 9일</th><td class=\"nw\">수요일</td><td><a href=\"/holidays/south-korea/hangeul-day\">Hangeul Proclamation Day</a></td><td>National holiday</td></tr><tr data-date=\"1572480000000\" data-mask=\"32\" id=\"tr35\"><th class=\"nw\">10월 31일</th><td class=\"nw\">목요일</td><td><a href=\"/holidays/south-korea/halloween\">Halloween</a></td><td>Observance</td></tr><tr id=\"hol_nov\"></tr><tr id=\"hol_dec\"></tr><tr data-date=\"1577020766000\" data-mask=\"256\" id=\"tr38\"><th class=\"nw\">12월 22일</th><td class=\"nw\">일요일</td><td><a href=\"/calendar/december-solstice.html\">December Solstice</a></td><td>Season</td></tr><tr data-date=\"1577145600000\" data-mask=\"16\" id=\"tr39\"><th class=\"nw\">12월 24일</th><td class=\"nw\">화요일</td><td><a href=\"/holidays/south-korea/christmas-eve\">Christmas Eve</a></td><td>Observance</td></tr><tr data-date=\"1577232000000\" data-mask=\"1\" id=\"tr40\"><th class=\"nw\">12월 25일</th><td class=\"nw\">수요일</td><td><a href=\"/holidays/south-korea/christmas-day\">Christmas Day</a></td><td>Public Holiday</td></tr><tr data-date=\"1577750400000\" data-mask=\"16\" id=\"tr41\"><th class=\"nw\">12월 31일</th><td class=\"nw\">화요일</td><td><a href=\"/holidays/south-korea/new-year-eve\">New Year's Eve</a></td><td>Observance</td></tr></tbody></table><script type=\"text/javascript\">\n",
       "TAD=window.TAD||{};TAD.year=2019;TAD.has_next=1;TAD.country=70;TAD.chm=4194609;TAD.local_sod=1563840000;\n",
       "</script>\n",
       "<p class=\"holiday-country__no-holidays\">No holidays shown? That's because you didn't select any holiday types. Please check at least one of the boxes.</p><p class=\"holiday-country__disclaimer\"><em>We diligently research and continuously update our holiday dates and information. If you find a mistake, please <a alt=\"Send feedback to us\" href=\"/information/feedback.html?url=/holidays/\" onclick=\"return bls(this)\">let us know</a>.</em></p><ul class=\"pager\"><li class=\"pager__prev\"><a href=\"/holidays/south-korea/2018\">2018</a></li><li class=\"pager__current--dropdown pager__current\"><select data-tad-control=\"HolidayCountry.Year\" data-tad-options=\"{baseURL:'/holidays/south-korea/'}\" id=\"year\" name=\"year\"><option value=\"2000\">2000</option><option value=\"2001\">2001</option><option value=\"2002\">2002</option><option value=\"2003\">2003</option><option value=\"2004\">2004</option><option value=\"2005\">2005</option><option value=\"2006\">2006</option><option value=\"2007\">2007</option><option value=\"2008\">2008</option><option value=\"2009\">2009</option><option value=\"2010\">2010</option><option value=\"2011\">2011</option><option value=\"2012\">2012</option><option value=\"2013\">2013</option><option value=\"2014\">2014</option><option value=\"2015\">2015</option><option value=\"2016\">2016</option><option value=\"2017\">2017</option><option value=\"2018\">2018</option><option selected=\"\" value=\"2019\">2019</option><option value=\"2020\">2020</option><option value=\"2021\">2021</option><option value=\"2022\">2022</option><option value=\"2023\">2023</option><option value=\"2024\">2024</option><option value=\"2025\">2025</option><option value=\"2026\">2026</option><option value=\"2027\">2027</option><option value=\"2028\">2028</option><option value=\"2029\">2029</option><option value=\"2030\">2030</option></select></li><li class=\"pager__next\"><a href=\"/holidays/south-korea/2020\">2020</a></li></ul></section><section class=\"calendar-links\"><a class=\"calendar-links__item\" data-tad-control=\"HolidayCountry.Link\" data-tad-options=\"{ url: '/calendar/custom.html', year: TAD.year, country: TAD.country }\" href=\"#\"><i class=\"i-font i-cal_tick mgr5\"></i> Show holidays on a calendar </a><span>|</span><a class=\"calendar-links__item\" data-tad-control=\"HolidayCountry.Link\" data-tad-options=\"{ url: '/calendar/create.html', year: TAD.year, country: TAD.country }\" href=\"#\"><i class=\"i-font i-print mgr5\"></i> Print holidays to PDF </a></section></article><article class=\"unknown-country\"><h3>Unable to find that country</h3> Please check your spelling and try again or select one of the <a href=\"/holidays/\">available countries</a>. </article></section><aside class=\"content__sidebar\"><div id=\"ad300\">Advertising<br/><div id=\"div-gpt-com-300x250\" style=\"width:300px;height:250px;\"><script type=\"text/javascript\">\n",
       "googletag.cmd.push(function(){googletag.display('div-gpt-com-300x250'); });\n",
       "</script>\n",
       "</div></div><div id=\"blksocial\"><div class=\"social\" data-social=\"facebook\"><div class=\"links\"><div class=\"fb-like\" data-action=\"like\" data-layout=\"button_count\" data-share=\"true\" data-show-faces=\"true\"></div></div><div class=\"reveal\"> Share on Facebook </div><div class=\"logo\"></div></div><div class=\"social\" data-social=\"twitter\"><div class=\"links\"><a class=\"twitter-share-button\" data-lang=\"en\" data-via=\"twitterapi\" href=\"https://twitter.com/share\">Tweet</a></div><div class=\"reveal\"> Share on Twitter </div><div class=\"logo\"></div></div></div><img class=\"fr\" src=\"//c.tadst.com/gfx/n/i/sb-cal.png\"/><h3 class=\"mgt0\">Create Calendar With Holidays</h3><form action=\"/scripts/createcal2.php\" class=\"small ten\" id=\"cf\" method=\"get\" name=\"cf\"><div class=\"form-row\"><label class=\"inline six\"><input checked=\"\" name=\"typ\" type=\"radio\" value=\"0\"/>Full year</label><input autocomplete=\"off\" class=\"six\" id=\"boxyear\" maxlength=\"4\" name=\"year\" onfocus=\"ifc(this,'y')\" pattern=\"[0-9]*\" placeholder=\"yyyy\" size=\"9\" tad-va=\"date\" title=\"Enter year as a 4-digit number.\" type=\"text\" value=\"2019\"/></div><div class=\"form-row\"><label class=\"inline six\"><input name=\"typ\" type=\"radio\" value=\"1\"/>Month</label><select class=\"inline six\" id=\"month\" name=\"month\" onchange=\"document.cf.typ[1].checked=true\"><option value=\"1\">1월</option><option value=\"2\">2월</option><option value=\"3\">3월</option><option value=\"4\">4월</option><option value=\"5\">5월</option><option value=\"6\">6월</option><option selected=\"\" value=\"7\">7월</option><option value=\"8\">8월</option><option value=\"9\">9월</option><option value=\"10\">10월</option><option value=\"11\">11월</option><option value=\"12\">12월</option></select></div><div class=\"form-row\"><select class=\"inline twelve\" id=\"country\" name=\"country\" title=\"Select country\"><option value=\"29\">Australia</option><option value=\"27\">Canada</option><option value=\"35\">India</option><option value=\"32\">Ireland</option><option value=\"30\">New Zealand</option><option value=\"9\">United Kingdom</option><option value=\"1\">United States</option><option value=\"160\">Afghanistan</option><option value=\"93\">Albania</option><option value=\"123\">Algeria</option><option value=\"207\">American Samoa</option><option value=\"97\">Andorra</option><option value=\"127\">Angola</option><option value=\"217\">Anguilla</option><option value=\"221\">Antigua and Barbuda</option><option value=\"37\">Argentina</option><option value=\"102\">Armenia</option><option value=\"177\">Aruba</option><option value=\"29\">Australia</option><option value=\"36\">Austria</option><option value=\"85\">Azerbaijan</option><option value=\"110\">Bahamas</option><option value=\"133\">Bahrain</option><option value=\"233\">Bangladesh</option><option value=\"112\">Barbados</option><option value=\"83\">Belarus</option><option value=\"31\">Belgium</option><option value=\"193\">Belize</option><option value=\"148\">Benin</option><option value=\"113\">Bermuda</option><option value=\"198\">Bhutan</option><option value=\"53\">Bolivia</option><option value=\"86\">Bosnia and Herzegovina</option><option value=\"144\">Botswana</option><option value=\"33\">Brazil</option><option value=\"224\">British Virgin Islands</option><option value=\"79\">Brunei</option><option value=\"73\">Bulgaria</option><option value=\"165\">Burkina Faso</option><option value=\"166\">Burundi</option><option value=\"140\">Cambodia</option><option value=\"134\">Cameroon</option><option value=\"27\">Canada</option><option value=\"157\">Cape Verde</option><option value=\"111\">Cayman Islands</option><option value=\"167\">Central African Republic</option><option value=\"161\">Chad</option><option value=\"43\">Chile</option><option value=\"41\">China</option><option value=\"46\">Colombia</option><option value=\"172\">Comoros</option><option value=\"84\">Congo DR</option><option value=\"208\">Cook Islands</option><option value=\"58\">Costa Rica</option><option value=\"28\">Croatia</option><option value=\"51\">Cuba</option><option value=\"189\">Curaçao</option><option value=\"94\">Cyprus</option><option value=\"3\">Czech Republic</option><option value=\"2\">Denmark</option><option value=\"153\">Djibouti</option><option value=\"229\">Dominica</option><option value=\"52\">Dominican Republic</option><option value=\"49\">Ecuador</option><option value=\"80\">Egypt</option><option value=\"55\">El Salvador</option><option value=\"61\">Equatorial Guinea</option><option value=\"168\">Eritrea</option><option value=\"72\">Estonia</option><option value=\"81\">Ethiopia</option><option value=\"219\">Falkland Islands</option><option value=\"175\">Faroe Islands</option><option value=\"180\">Fiji</option><option value=\"24\">Finland</option><option value=\"5\">France</option><option value=\"235\">French Guiana</option><option value=\"205\">French Polynesia</option><option value=\"150\">Gabon</option><option value=\"149\">Gambia</option><option value=\"87\">Georgia</option><option value=\"8\">Germany</option><option value=\"118\">Ghana</option><option value=\"119\">Gibraltar</option><option value=\"11\">Greece</option><option value=\"138\">Greenland</option><option value=\"22\">Gregorian calendar</option><option value=\"182\">Grenada</option><option value=\"188\">Guam</option><option value=\"50\">Guatemala</option><option value=\"191\">Guernsey</option><option value=\"169\">Guinea</option><option value=\"173\">Guinea-Bissau</option><option value=\"227\">Guyana</option><option value=\"103\">Haiti</option><option value=\"54\">Honduras</option><option value=\"42\">Hong Kong</option><option value=\"12\">Hungary</option><option value=\"88\">Iceland</option><option value=\"35\">India</option><option value=\"65\">Indonesia</option><option value=\"75\">Iran</option><option value=\"109\">Iraq</option><option value=\"32\">Ireland</option><option value=\"234\">Isle of Man</option><option value=\"34\">Israel</option><option value=\"13\">Italy</option><option value=\"125\">Ivory Coast</option><option value=\"117\">Jamaica</option><option value=\"26\">Japan</option><option value=\"192\">Jersey</option><option value=\"44\">Jordan</option><option value=\"23\">Julian calendar</option><option value=\"82\">Kazakhstan</option><option value=\"105\">Kenya</option><option value=\"194\">Kiribati</option><option value=\"120\">Kosovo</option><option value=\"108\">Kuwait</option><option value=\"136\">Kyrgyzstan</option><option value=\"176\">La Réunion</option><option value=\"200\">Laos</option><option value=\"89\">Latvia</option><option value=\"121\">Lebanon</option><option value=\"163\">Lesotho</option><option value=\"129\">Liberia</option><option value=\"124\">Libya</option><option value=\"96\">Liechtenstein</option><option value=\"90\">Lithuania</option><option value=\"17\">Luxembourg</option><option value=\"186\">Macau</option><option value=\"92\">Macedonia, Republic of</option><option value=\"156\">Madagascar</option><option value=\"162\">Malawi</option><option value=\"69\">Malaysia</option><option value=\"201\">Maldives</option><option value=\"152\">Mali</option><option value=\"95\">Malta</option><option value=\"213\">Marshall Islands</option><option value=\"181\">Martinique</option><option value=\"210\">Mauritania</option><option value=\"143\">Mauritius</option><option value=\"171\">Mayotte</option><option value=\"40\">Mexico</option><option value=\"211\">Micronesia</option><option value=\"91\">Moldova</option><option value=\"99\">Monaco</option><option value=\"185\">Mongolia</option><option value=\"101\">Montenegro</option><option value=\"220\">Montserrat</option><option value=\"106\">Morocco</option><option value=\"126\">Mozambique</option><option value=\"190\">Myanmar</option><option value=\"130\">Namibia</option><option value=\"215\">Nauru</option><option value=\"187\">Nepal</option><option value=\"204\">New Caledonia</option><option value=\"30\">New Zealand</option><option value=\"57\">Nicaragua</option><option value=\"158\">Niger</option><option value=\"77\">Nigeria</option><option value=\"183\">North Korea</option><option value=\"225\">Northern Mariana Islands</option><option value=\"18\">Norway</option><option value=\"135\">Oman</option><option value=\"64\">Pakistan</option><option value=\"212\">Palau</option><option value=\"60\">Panama</option><option value=\"202\">Papua New Guinea</option><option value=\"56\">Paraguay</option><option value=\"47\">Peru</option><option value=\"67\">Philippines</option><option value=\"14\">Poland</option><option value=\"15\">Portugal</option><option value=\"114\">Puerto Rico</option><option value=\"107\">Qatar</option><option value=\"151\">Republic of the Congo</option><option value=\"19\">Romania</option><option value=\"20\">Russia</option><option value=\"128\">Rwanda</option><option value=\"232\">Saint Barthélemy</option><option value=\"170\">Saint Helena</option><option value=\"226\">Saint Kitts and Nevis</option><option value=\"218\">Saint Lucia</option><option value=\"231\">Saint Martin</option><option value=\"228\">Saint Pierre and Miquelon</option><option value=\"222\">Saint Vincent and the Grenadines</option><option value=\"206\">Samoa</option><option value=\"98\">San Marino</option><option value=\"174\">São Tomé and Príncipe</option><option value=\"74\">Saudi Arabia</option><option value=\"147\">Senegal</option><option value=\"38\">Serbia</option><option value=\"154\">Seychelles</option><option value=\"164\">Sierra Leone</option><option value=\"63\">Singapore</option><option value=\"230\">Sint Maarten</option><option value=\"39\">Slovakia</option><option value=\"45\">Slovenia</option><option value=\"209\">Solomon Islands</option><option value=\"137\">Somalia</option><option value=\"62\">South Africa</option><option selected=\"\" value=\"70\">South Korea</option><option value=\"146\">South Sudan</option><option value=\"16\">Spain</option><option value=\"116\">Sri Lanka</option><option value=\"145\">Sudan</option><option value=\"178\">Suriname</option><option value=\"155\">Swaziland</option><option value=\"21\">Sweden</option><option value=\"10\">Switzerland</option><option value=\"132\">Syria</option><option value=\"71\">Taiwan</option><option value=\"197\">Tajikistan</option><option value=\"115\">Tanzania</option><option value=\"68\">Thailand</option><option value=\"25\">The Netherlands</option><option value=\"199\">Timor-Leste</option><option value=\"159\">Togo</option><option value=\"195\">Tonga</option><option value=\"104\">Trinidad and Tobago</option><option value=\"122\">Tunisia</option><option value=\"4\">Turkey</option><option value=\"196\">Turkmenistan</option><option value=\"223\">Turks and Caicos Islands</option><option value=\"214\">Tuvalu</option><option value=\"179\">U.S. Virgin Islands</option><option value=\"139\">Uganda</option><option value=\"76\">Ukraine</option><option value=\"66\">United Arab Emirates</option><option value=\"9\">United Kingdom</option><option value=\"1\">United States</option><option value=\"59\">Uruguay</option><option value=\"184\">Uzbekistan</option><option value=\"203\">Vanuatu</option><option value=\"100\">Vatican City</option><option value=\"48\">Venezuela</option><option value=\"78\">Vietnam</option><option value=\"216\">Wallis and Futuna</option><option value=\"131\">Yemen</option><option value=\"142\">Zambia</option><option value=\"141\">Zimbabwe</option></select></div><div class=\"form-row\"><input type=\"submit\" value=\"View Calendar\"/></div></form><div class=\"botlnk\"><h2>Other Calendars</h2><ul><li><a href=\"/calendar/\">Calendar for 2019</a></li><li><a href=\"/calendar/generate.html\">Calendar Generator</a> – Create a calendar for any year.</li><li><a href=\"/calendar/create.html\">Printable Calendar (PDF)</a> – Calendars especially made for printing</li></ul><h2>Related Links</h2><ul><li><a href=\"/moon/phases/\">Moon Phase Calendar</a> – Calculate moon phases for any year.</li><li><a href=\"/date/duration.html\">Duration Between Two Dates</a> – Calculates number of days.</li><li><a href=\"/date/dateadd.html\">Date Calculator</a> – Add or subtract days, months, years</li><li><a href=\"/countdown/newyear\">Countdown to New Year</a></li></ul></div><p class=\"help-link noprint\"><a href=\"/holidays/help.html\"> Need some help?</a></p></aside></div></main></div><section class=\"rel-posts\" id=\"rel-posts\"><div class=\"pdflexi\"><div class=\"fixed\"><h2 class=\"rel-posts__title\" id=\"translateyou\">You might also like</h2> <article class=\"three columns\"><a href=\"/holidays/un/hepatitis-day\"><img alt=\"\" height=\"126\" src=\"/gfx/190x126/world-hepatitis-day.jpg\" width=\"190\"/></a><h3><a href=\"/holidays/un/hepatitis-day\">World Hepatitis Day</a></h3><p>World Hepatitis Day is observed on July 28 every year to raise awareness of hepatitis and encourage prevention and treatment.   <a class=\"read-more\" href=\"/holidays/un/hepatitis-day\">more</a></p></article><article class=\"three columns\"><a href=\"/holidays/un/world-day-against-trafficking-in-persons\"><img alt=\"Bar code with people silhouetted between the bars.\" height=\"126\" src=\"/gfx/190x126/bar-code-human-trafficking.jpg\" width=\"190\"/></a><h3><a href=\"/holidays/un/world-day-against-trafficking-in-persons\">World Day against Trafficking in Persons</a></h3><p>July 30 is the UN World Day against Trafficking in Persons <a class=\"read-more\" href=\"/holidays/un/world-day-against-trafficking-in-persons\">more</a></p></article><article class=\"three columns\"><a href=\"/holidays/un/friendship-day\"><img alt=\"\" height=\"126\" src=\"/gfx/190x126/friendship-day.jpg\" width=\"190\"/></a><h3><a href=\"/holidays/un/friendship-day\">International Day of Friendship</a></h3><p>The International Day of Friendship is annually held on July 30 to celebrate friendships worldwide.  <a class=\"read-more\" href=\"/holidays/un/friendship-day\">more</a></p></article><article class=\"three columns\"><a href=\"/holidays/south-korea/halloween\"><img alt=\"Group of children Trick or Treating during Halloween.\" height=\"126\" src=\"/gfx/190x126/halloween-global.jpg\" width=\"190\"/></a><h3><a href=\"/holidays/south-korea/halloween\">Halloween</a></h3><p>Halloween is a festive occasion that is celebrated in many countries on October 31 each year.   <a class=\"read-more\" href=\"/holidays/south-korea/halloween\">more</a></p></article></div></div></section><script src=\"/common/wcommon_114.js\"></script><script src=\"/common/page_holiday_country_2.js\"></script></div>\n",
       "</div>\n",
       "</body></html>\n",
       "<div id=\"footer\">\n",
       "<div class=\"fixed\">\n",
       "<div class=\"six columns\">\n",
       "<a href=\"/\" id=\"footer-logo\"><img alt=\"timeanddate.com Logo\" src=\"//c.tadst.com/gfx/n/tad-logo-com3.png\" title=\"Go to homepage\"/></a>\n",
       "<p id=\"footer-copy\"><a href=\"/information/copyright.html\">Copyright © Time and Date AS 1995–2019. All rights reserved.</a></p>\n",
       "</div>\n",
       "<div class=\"six columns\">\n",
       "<div id=\"footer-links\">\n",
       "<script>\n",
       "bli();main();\n",
       " \n",
       "</script>\n",
       "<noscript><a href=\"/information/feedback.html\" id=\"LRFL\">Feedback</a> | </noscript>\n",
       "<a href=\"/holidays/help.html\" id=\"helppage\" target=\"_blank\">FAQ</a> | \n",
       "<a href=\"/information/\">About Us</a> | <a href=\"/information/advertising.html\">Advertising</a> | <a href=\"/information/disclaimer.html\">Disclaimer</a> | <a href=\"/information/privacy.html\">Privacy</a> | <a href=\"/sitemap.html\">Sitemap</a>\n",
       "</div>\n",
       "</div>\n",
       "</div>\n",
       "</div>\n",
       "<div class=\"wfc\" id=\"FBD\" style=\"display:none\"></div>"
      ]
     },
     "execution_count": 3,
     "metadata": {},
     "output_type": "execute_result"
    }
   ],
   "source": [
    "bs"
   ]
  },
  {
   "cell_type": "code",
   "execution_count": 4,
   "metadata": {},
   "outputs": [],
   "source": [
    "find_table = bs.find(\"table\", {\"id\":\"holidays-table\"}).find(\"tbody\")"
   ]
  },
  {
   "cell_type": "code",
   "execution_count": 5,
   "metadata": {},
   "outputs": [
    {
     "data": {
      "text/plain": [
       "<tbody><tr id=\"hol_jan\"></tr><tr data-date=\"1546300800000\" data-mask=\"1\" id=\"tr1\"><th class=\"nw\">1월 1일</th><td class=\"nw\">화요일</td><td><a href=\"/holidays/south-korea/new-year-day\">New Year's Day</a></td><td>Public Holiday</td></tr><tr id=\"hol_feb\"></tr><tr data-date=\"1549238400000\" data-mask=\"1\" id=\"tr3\"><th class=\"nw\">2월 4일</th><td class=\"nw\">월요일</td><td><a href=\"/holidays/south-korea/seollal-holiday-1\">Seollal Holiday</a></td><td>Public Holiday</td></tr><tr data-date=\"1549324800000\" data-mask=\"1\" id=\"tr4\"><th class=\"nw\">2월 5일</th><td class=\"nw\">화요일</td><td><a href=\"/holidays/south-korea/seollal-holiday-2\">Seollal</a></td><td>Public Holiday</td></tr><tr data-date=\"1549411200000\" data-mask=\"1\" id=\"tr5\"><th class=\"nw\">2월 6일</th><td class=\"nw\">수요일</td><td><a href=\"/holidays/south-korea/seollal-holiday-3\">Seollal Holiday</a></td><td>Public Holiday</td></tr><tr data-date=\"1550102400000\" data-mask=\"32\" id=\"tr6\"><th class=\"nw\">2월 14일</th><td class=\"nw\">목요일</td><td><a href=\"/holidays/south-korea/valentines-day\">Valentine's Day</a></td><td>Observance</td></tr><tr id=\"hol_mar\"></tr><tr data-date=\"1551398400000\" data-mask=\"1\" id=\"tr8\"><th class=\"nw\">3월 1일</th><td class=\"nw\">금요일</td><td><a href=\"/holidays/south-korea/independence-movement-day\">Independence Movement Day</a></td><td>National holiday</td></tr><tr data-date=\"1553151512000\" data-mask=\"256\" id=\"tr9\"><th class=\"nw\">3월 21일</th><td class=\"nw\">목요일</td><td><a href=\"/calendar/march-equinox.html\">March Equinox</a></td><td>Season</td></tr><tr id=\"hol_apr\"></tr><tr data-date=\"1554422400000\" data-mask=\"16\" id=\"tr11\"><th class=\"nw\">4월 5일</th><td class=\"nw\">금요일</td><td><a href=\"/holidays/south-korea/arbor-day\">Arbor Day</a></td><td>Observance</td></tr><tr id=\"hol_may\"></tr><tr data-date=\"1556668800000\" data-mask=\"4194304\" id=\"tr13\"><th class=\"nw\">5월 1일</th><td class=\"nw\">수요일</td><td><a href=\"/holidays/south-korea/labor-day\">Labor Day</a></td><td>Bank Holiday</td></tr><tr data-date=\"1557014400000\" data-mask=\"1\" id=\"tr14\"><th class=\"nw\">5월 5일</th><td class=\"nw\">일요일</td><td><a href=\"/holidays/south-korea/childrens-day\">Children's Day</a></td><td>Public Holiday</td></tr><tr data-date=\"1557100800000\" data-mask=\"1\" id=\"tr15\"><th class=\"nw\">5월 6일</th><td class=\"nw\">월요일</td><td><a href=\"/holidays/south-korea/childrens-day\">Children's Day observed</a></td><td>Public Holiday</td></tr><tr data-date=\"1557273600000\" data-mask=\"16\" id=\"tr16\"><th class=\"nw\">5월 8일</th><td class=\"nw\">수요일</td><td><a href=\"/holidays/south-korea/parents-day\">Parents' Day</a></td><td>Observance</td></tr><tr data-date=\"1557619200000\" data-mask=\"1\" id=\"tr17\"><th class=\"nw\">5월 12일</th><td class=\"nw\">일요일</td><td><a href=\"/holidays/south-korea/buddha-birthday\">Buddha's Birthday</a></td><td>Public Holiday</td></tr><tr data-date=\"1557878400000\" data-mask=\"16\" id=\"tr18\"><th class=\"nw\">5월 15일</th><td class=\"nw\">수요일</td><td><a href=\"/holidays/south-korea/teachers-day\">Teacher's Day</a></td><td>Observance</td></tr><tr id=\"hol_jun\"></tr><tr data-date=\"1559779200000\" data-mask=\"1\" id=\"tr20\"><th class=\"nw\">6월 6일</th><td class=\"nw\">목요일</td><td><a href=\"/holidays/south-korea/memorial-day\">Memorial Day</a></td><td>Public Holiday</td></tr><tr data-date=\"1561164854000\" data-mask=\"256\" id=\"tr21\"><th class=\"nw\">6월 22일</th><td class=\"nw\">토요일</td><td><a href=\"/calendar/june-solstice.html\">June Solstice</a></td><td>Season</td></tr><tr id=\"hol_jul\"></tr><tr data-date=\"1563321600000\" data-mask=\"16\" id=\"tr23\"><th class=\"nw\">7월 17일</th><td class=\"nw\">수요일</td><td><a href=\"/holidays/south-korea/constitution-day\">Constitution Day</a></td><td>Observance</td></tr><tr id=\"hol_aug\"></tr><tr data-date=\"1565827200000\" data-mask=\"1\" id=\"tr25\"><th class=\"nw\">8월 15일</th><td class=\"nw\">목요일</td><td><a href=\"/holidays/south-korea/liberation-day\">Liberation Day</a></td><td>National holiday</td></tr><tr id=\"hol_sep\"></tr><tr data-date=\"1568246400000\" data-mask=\"1\" id=\"tr27\"><th class=\"nw\">9월 12일</th><td class=\"nw\">목요일</td><td><a href=\"/holidays/south-korea/mid-autumn-festival-day-1\">Chuseok Holiday</a></td><td>Public Holiday</td></tr><tr data-date=\"1568332800000\" data-mask=\"1\" id=\"tr28\"><th class=\"nw\">9월 13일</th><td class=\"nw\">금요일</td><td><a href=\"/holidays/south-korea/mid-autumn-festival-day-2\">Chuseok</a></td><td>Public Holiday</td></tr><tr data-date=\"1568419200000\" data-mask=\"1\" id=\"tr29\"><th class=\"nw\">9월 14일</th><td class=\"nw\">토요일</td><td><a href=\"/holidays/south-korea/mid-autumn-festival-day-3\">Chuseok Holiday</a></td><td>Public Holiday</td></tr><tr data-date=\"1569257413000\" data-mask=\"256\" id=\"tr30\"><th class=\"nw\">9월 23일</th><td class=\"nw\">월요일</td><td><a href=\"/calendar/september-equinox.html\">September Equinox</a></td><td>Season</td></tr><tr id=\"hol_oct\"></tr><tr data-date=\"1569888000000\" data-mask=\"16\" id=\"tr32\"><th class=\"nw\">10월 1일</th><td class=\"nw\">화요일</td><td><a href=\"/holidays/south-korea/armed-forces-day\">Armed Forces Day</a></td><td>Observance</td></tr><tr data-date=\"1570060800000\" data-mask=\"1\" id=\"tr33\"><th class=\"nw\">10월 3일</th><td class=\"nw\">목요일</td><td><a href=\"/holidays/south-korea/national-foundation-day\">National Foundation Day</a></td><td>National holiday</td></tr><tr data-date=\"1570579200000\" data-mask=\"1\" id=\"tr34\"><th class=\"nw\">10월 9일</th><td class=\"nw\">수요일</td><td><a href=\"/holidays/south-korea/hangeul-day\">Hangeul Proclamation Day</a></td><td>National holiday</td></tr><tr data-date=\"1572480000000\" data-mask=\"32\" id=\"tr35\"><th class=\"nw\">10월 31일</th><td class=\"nw\">목요일</td><td><a href=\"/holidays/south-korea/halloween\">Halloween</a></td><td>Observance</td></tr><tr id=\"hol_nov\"></tr><tr id=\"hol_dec\"></tr><tr data-date=\"1577020766000\" data-mask=\"256\" id=\"tr38\"><th class=\"nw\">12월 22일</th><td class=\"nw\">일요일</td><td><a href=\"/calendar/december-solstice.html\">December Solstice</a></td><td>Season</td></tr><tr data-date=\"1577145600000\" data-mask=\"16\" id=\"tr39\"><th class=\"nw\">12월 24일</th><td class=\"nw\">화요일</td><td><a href=\"/holidays/south-korea/christmas-eve\">Christmas Eve</a></td><td>Observance</td></tr><tr data-date=\"1577232000000\" data-mask=\"1\" id=\"tr40\"><th class=\"nw\">12월 25일</th><td class=\"nw\">수요일</td><td><a href=\"/holidays/south-korea/christmas-day\">Christmas Day</a></td><td>Public Holiday</td></tr><tr data-date=\"1577750400000\" data-mask=\"16\" id=\"tr41\"><th class=\"nw\">12월 31일</th><td class=\"nw\">화요일</td><td><a href=\"/holidays/south-korea/new-year-eve\">New Year's Eve</a></td><td>Observance</td></tr></tbody>"
      ]
     },
     "execution_count": 5,
     "metadata": {},
     "output_type": "execute_result"
    }
   ],
   "source": [
    "find_table"
   ]
  },
  {
   "cell_type": "code",
   "execution_count": 6,
   "metadata": {},
   "outputs": [],
   "source": [
    "find_date = find_table.findAll(\"th\")"
   ]
  },
  {
   "cell_type": "code",
   "execution_count": 11,
   "metadata": {},
   "outputs": [
    {
     "data": {
      "text/plain": [
       "[<th class=\"nw\">1월 1일</th>,\n",
       " <th class=\"nw\">2월 4일</th>,\n",
       " <th class=\"nw\">2월 5일</th>,\n",
       " <th class=\"nw\">2월 6일</th>,\n",
       " <th class=\"nw\">2월 14일</th>,\n",
       " <th class=\"nw\">3월 1일</th>,\n",
       " <th class=\"nw\">3월 21일</th>,\n",
       " <th class=\"nw\">4월 5일</th>,\n",
       " <th class=\"nw\">5월 1일</th>,\n",
       " <th class=\"nw\">5월 5일</th>,\n",
       " <th class=\"nw\">5월 6일</th>,\n",
       " <th class=\"nw\">5월 8일</th>,\n",
       " <th class=\"nw\">5월 12일</th>,\n",
       " <th class=\"nw\">5월 15일</th>,\n",
       " <th class=\"nw\">6월 6일</th>,\n",
       " <th class=\"nw\">6월 22일</th>,\n",
       " <th class=\"nw\">7월 17일</th>,\n",
       " <th class=\"nw\">8월 15일</th>,\n",
       " <th class=\"nw\">9월 12일</th>,\n",
       " <th class=\"nw\">9월 13일</th>,\n",
       " <th class=\"nw\">9월 14일</th>,\n",
       " <th class=\"nw\">9월 23일</th>,\n",
       " <th class=\"nw\">10월 1일</th>,\n",
       " <th class=\"nw\">10월 3일</th>,\n",
       " <th class=\"nw\">10월 9일</th>,\n",
       " <th class=\"nw\">10월 31일</th>,\n",
       " <th class=\"nw\">12월 22일</th>,\n",
       " <th class=\"nw\">12월 24일</th>,\n",
       " <th class=\"nw\">12월 25일</th>,\n",
       " <th class=\"nw\">12월 31일</th>]"
      ]
     },
     "execution_count": 11,
     "metadata": {},
     "output_type": "execute_result"
    }
   ],
   "source": [
    "find_date"
   ]
  },
  {
   "cell_type": "code",
   "execution_count": 9,
   "metadata": {},
   "outputs": [],
   "source": [
    "find_week = find_table.findAll(\"td\",{\"class\":\"nw\"})"
   ]
  },
  {
   "cell_type": "code",
   "execution_count": 10,
   "metadata": {},
   "outputs": [
    {
     "data": {
      "text/plain": [
       "[<td class=\"nw\">화요일</td>,\n",
       " <td class=\"nw\">월요일</td>,\n",
       " <td class=\"nw\">화요일</td>,\n",
       " <td class=\"nw\">수요일</td>,\n",
       " <td class=\"nw\">목요일</td>,\n",
       " <td class=\"nw\">금요일</td>,\n",
       " <td class=\"nw\">목요일</td>,\n",
       " <td class=\"nw\">금요일</td>,\n",
       " <td class=\"nw\">수요일</td>,\n",
       " <td class=\"nw\">일요일</td>,\n",
       " <td class=\"nw\">월요일</td>,\n",
       " <td class=\"nw\">수요일</td>,\n",
       " <td class=\"nw\">일요일</td>,\n",
       " <td class=\"nw\">수요일</td>,\n",
       " <td class=\"nw\">목요일</td>,\n",
       " <td class=\"nw\">토요일</td>,\n",
       " <td class=\"nw\">수요일</td>,\n",
       " <td class=\"nw\">목요일</td>,\n",
       " <td class=\"nw\">목요일</td>,\n",
       " <td class=\"nw\">금요일</td>,\n",
       " <td class=\"nw\">토요일</td>,\n",
       " <td class=\"nw\">월요일</td>,\n",
       " <td class=\"nw\">화요일</td>,\n",
       " <td class=\"nw\">목요일</td>,\n",
       " <td class=\"nw\">수요일</td>,\n",
       " <td class=\"nw\">목요일</td>,\n",
       " <td class=\"nw\">일요일</td>,\n",
       " <td class=\"nw\">화요일</td>,\n",
       " <td class=\"nw\">수요일</td>,\n",
       " <td class=\"nw\">화요일</td>]"
      ]
     },
     "execution_count": 10,
     "metadata": {},
     "output_type": "execute_result"
    }
   ],
   "source": [
    "find_week"
   ]
  },
  {
   "cell_type": "code",
   "execution_count": 348,
   "metadata": {},
   "outputs": [],
   "source": [
    "find_name = find_table.findAll(\"td\", )."
   ]
  },
  {
   "cell_type": "code",
   "execution_count": 349,
   "metadata": {},
   "outputs": [
    {
     "data": {
      "text/plain": [
       "[<td class=\"nw\">화요일</td>,\n",
       " <td><a href=\"/holidays/south-korea/new-year-day\">New Year's Day</a></td>,\n",
       " <td>Public Holiday</td>,\n",
       " <td class=\"nw\">월요일</td>,\n",
       " <td><a href=\"/holidays/south-korea/seollal-holiday-1\">Seollal Holiday</a></td>,\n",
       " <td>Public Holiday</td>,\n",
       " <td class=\"nw\">화요일</td>,\n",
       " <td><a href=\"/holidays/south-korea/seollal-holiday-2\">Seollal</a></td>,\n",
       " <td>Public Holiday</td>,\n",
       " <td class=\"nw\">수요일</td>,\n",
       " <td><a href=\"/holidays/south-korea/seollal-holiday-3\">Seollal Holiday</a></td>,\n",
       " <td>Public Holiday</td>,\n",
       " <td class=\"nw\">목요일</td>,\n",
       " <td><a href=\"/holidays/south-korea/valentines-day\">Valentine's Day</a></td>,\n",
       " <td>Observance</td>,\n",
       " <td class=\"nw\">금요일</td>,\n",
       " <td><a href=\"/holidays/south-korea/independence-movement-day\">Independence Movement Day</a></td>,\n",
       " <td>National holiday</td>,\n",
       " <td class=\"nw\">목요일</td>,\n",
       " <td><a href=\"/calendar/march-equinox.html\">March Equinox</a></td>,\n",
       " <td>Season</td>,\n",
       " <td class=\"nw\">금요일</td>,\n",
       " <td><a href=\"/holidays/south-korea/arbor-day\">Arbor Day</a></td>,\n",
       " <td>Observance</td>,\n",
       " <td class=\"nw\">수요일</td>,\n",
       " <td><a href=\"/holidays/south-korea/labor-day\">Labor Day</a></td>,\n",
       " <td>Bank Holiday</td>,\n",
       " <td class=\"nw\">일요일</td>,\n",
       " <td><a href=\"/holidays/south-korea/childrens-day\">Children's Day</a></td>,\n",
       " <td>Public Holiday</td>,\n",
       " <td class=\"nw\">월요일</td>,\n",
       " <td><a href=\"/holidays/south-korea/childrens-day\">Children's Day observed</a></td>,\n",
       " <td>Public Holiday</td>,\n",
       " <td class=\"nw\">수요일</td>,\n",
       " <td><a href=\"/holidays/south-korea/parents-day\">Parents' Day</a></td>,\n",
       " <td>Observance</td>,\n",
       " <td class=\"nw\">일요일</td>,\n",
       " <td><a href=\"/holidays/south-korea/buddha-birthday\">Buddha's Birthday</a></td>,\n",
       " <td>Public Holiday</td>,\n",
       " <td class=\"nw\">수요일</td>,\n",
       " <td><a href=\"/holidays/south-korea/teachers-day\">Teacher's Day</a></td>,\n",
       " <td>Observance</td>,\n",
       " <td class=\"nw\">목요일</td>,\n",
       " <td><a href=\"/holidays/south-korea/memorial-day\">Memorial Day</a></td>,\n",
       " <td>Public Holiday</td>,\n",
       " <td class=\"nw\">토요일</td>,\n",
       " <td><a href=\"/calendar/june-solstice.html\">June Solstice</a></td>,\n",
       " <td>Season</td>,\n",
       " <td class=\"nw\">수요일</td>,\n",
       " <td><a href=\"/holidays/south-korea/constitution-day\">Constitution Day</a></td>,\n",
       " <td>Observance</td>,\n",
       " <td class=\"nw\">목요일</td>,\n",
       " <td><a href=\"/holidays/south-korea/liberation-day\">Liberation Day</a></td>,\n",
       " <td>National holiday</td>,\n",
       " <td class=\"nw\">목요일</td>,\n",
       " <td><a href=\"/holidays/south-korea/mid-autumn-festival-day-1\">Chuseok Holiday</a></td>,\n",
       " <td>Public Holiday</td>,\n",
       " <td class=\"nw\">금요일</td>,\n",
       " <td><a href=\"/holidays/south-korea/mid-autumn-festival-day-2\">Chuseok</a></td>,\n",
       " <td>Public Holiday</td>,\n",
       " <td class=\"nw\">토요일</td>,\n",
       " <td><a href=\"/holidays/south-korea/mid-autumn-festival-day-3\">Chuseok Holiday</a></td>,\n",
       " <td>Public Holiday</td>,\n",
       " <td class=\"nw\">월요일</td>,\n",
       " <td><a href=\"/calendar/september-equinox.html\">September Equinox</a></td>,\n",
       " <td>Season</td>,\n",
       " <td class=\"nw\">화요일</td>,\n",
       " <td><a href=\"/holidays/south-korea/armed-forces-day\">Armed Forces Day</a></td>,\n",
       " <td>Observance</td>,\n",
       " <td class=\"nw\">목요일</td>,\n",
       " <td><a href=\"/holidays/south-korea/national-foundation-day\">National Foundation Day</a></td>,\n",
       " <td>National holiday</td>,\n",
       " <td class=\"nw\">수요일</td>,\n",
       " <td><a href=\"/holidays/south-korea/hangeul-day\">Hangeul Proclamation Day</a></td>,\n",
       " <td>National holiday</td>,\n",
       " <td class=\"nw\">목요일</td>,\n",
       " <td><a href=\"/holidays/south-korea/halloween\">Halloween</a></td>,\n",
       " <td>Observance</td>,\n",
       " <td class=\"nw\">일요일</td>,\n",
       " <td><a href=\"/calendar/december-solstice.html\">December Solstice</a></td>,\n",
       " <td>Season</td>,\n",
       " <td class=\"nw\">화요일</td>,\n",
       " <td><a href=\"/holidays/south-korea/christmas-eve\">Christmas Eve</a></td>,\n",
       " <td>Observance</td>,\n",
       " <td class=\"nw\">수요일</td>,\n",
       " <td><a href=\"/holidays/south-korea/christmas-day\">Christmas Day</a></td>,\n",
       " <td>Public Holiday</td>,\n",
       " <td class=\"nw\">화요일</td>,\n",
       " <td><a href=\"/holidays/south-korea/new-year-eve\">New Year's Eve</a></td>,\n",
       " <td>Observance</td>]"
      ]
     },
     "execution_count": 349,
     "metadata": {},
     "output_type": "execute_result"
    }
   ],
   "source": [
    "find_name"
   ]
  },
  {
   "cell_type": "code",
   "execution_count": 12,
   "metadata": {},
   "outputs": [],
   "source": [
    "find_a = find_table.findAll(\"a\")"
   ]
  },
  {
   "cell_type": "code",
   "execution_count": 15,
   "metadata": {},
   "outputs": [
    {
     "data": {
      "text/plain": [
       "\"New Year's Day\""
      ]
     },
     "execution_count": 15,
     "metadata": {},
     "output_type": "execute_result"
    }
   ],
   "source": [
    "find_a[0].text"
   ]
  },
  {
   "cell_type": "code",
   "execution_count": 16,
   "metadata": {},
   "outputs": [],
   "source": [
    "find_type = find_table.findAll(\"td\")"
   ]
  },
  {
   "cell_type": "code",
   "execution_count": 45,
   "metadata": {},
   "outputs": [
    {
     "data": {
      "text/plain": [
       "'월요일'"
      ]
     },
     "execution_count": 45,
     "metadata": {},
     "output_type": "execute_result"
    }
   ],
   "source": [
    "find_type[3].text"
   ]
  },
  {
   "cell_type": "code",
   "execution_count": 38,
   "metadata": {},
   "outputs": [],
   "source": [
    "find_date = find_table.findAll(\"th\")"
   ]
  },
  {
   "cell_type": "code",
   "execution_count": 41,
   "metadata": {},
   "outputs": [
    {
     "data": {
      "text/plain": [
       "'2월 4일'"
      ]
     },
     "execution_count": 41,
     "metadata": {},
     "output_type": "execute_result"
    }
   ],
   "source": [
    "find_date[1].text"
   ]
  },
  {
   "cell_type": "code",
   "execution_count": 46,
   "metadata": {},
   "outputs": [
    {
     "data": {
      "text/plain": [
       "90"
      ]
     },
     "execution_count": 46,
     "metadata": {},
     "output_type": "execute_result"
    }
   ],
   "source": [
    "len(find_type)"
   ]
  },
  {
   "cell_type": "code",
   "execution_count": 49,
   "metadata": {},
   "outputs": [
    {
     "data": {
      "text/plain": [
       "30"
      ]
     },
     "execution_count": 49,
     "metadata": {},
     "output_type": "execute_result"
    }
   ],
   "source": [
    "len(find_date)"
   ]
  },
  {
   "cell_type": "code",
   "execution_count": 48,
   "metadata": {},
   "outputs": [
    {
     "data": {
      "text/plain": [
       "bs4.element.ResultSet"
      ]
     },
     "execution_count": 48,
     "metadata": {},
     "output_type": "execute_result"
    }
   ],
   "source": [
    "type(find_type)"
   ]
  },
  {
   "cell_type": "code",
   "execution_count": 140,
   "metadata": {},
   "outputs": [],
   "source": [
    "# dateTemp = []\n",
    "# otherTemp = []\n",
    "resultTemp = []\n",
    "result = []\n",
    "\n",
    "for table in find_table :\n",
    "    find_date = table.find_all(\"th\") # find_date : date만 존재\n",
    "    find_other = table.find_all(\"td\") #find_other : week, holiday_name, holiday_type 존재\n",
    "    for date in find_date :\n",
    "#         dateTemp.append(date.text)\n",
    "        resultTemp.append(date.text)\n",
    "#         dateTemp = []\n",
    "        for other in find_other :\n",
    "            resultTemp.append(other.text)\n",
    "#             otherTemp.append(eachOther)\n",
    "#             eachOther = []\n",
    "        result.append(resultTemp)\n",
    "        resultTemp = []"
   ]
  },
  {
   "cell_type": "code",
   "execution_count": 141,
   "metadata": {},
   "outputs": [
    {
     "data": {
      "text/plain": [
       "[['1월 1일', '화요일', \"New Year's Day\", 'Public Holiday'],\n",
       " ['2월 4일', '월요일', 'Seollal Holiday', 'Public Holiday'],\n",
       " ['2월 5일', '화요일', 'Seollal', 'Public Holiday'],\n",
       " ['2월 6일', '수요일', 'Seollal Holiday', 'Public Holiday'],\n",
       " ['2월 14일', '목요일', \"Valentine's Day\", 'Observance'],\n",
       " ['3월 1일', '금요일', 'Independence Movement Day', 'National holiday'],\n",
       " ['3월 21일', '목요일', 'March Equinox', 'Season'],\n",
       " ['4월 5일', '금요일', 'Arbor Day', 'Observance'],\n",
       " ['5월 1일', '수요일', 'Labor Day', 'Bank Holiday'],\n",
       " ['5월 5일', '일요일', \"Children's Day\", 'Public Holiday'],\n",
       " ['5월 6일', '월요일', \"Children's Day observed\", 'Public Holiday'],\n",
       " ['5월 8일', '수요일', \"Parents' Day\", 'Observance'],\n",
       " ['5월 12일', '일요일', \"Buddha's Birthday\", 'Public Holiday'],\n",
       " ['5월 15일', '수요일', \"Teacher's Day\", 'Observance'],\n",
       " ['6월 6일', '목요일', 'Memorial Day', 'Public Holiday'],\n",
       " ['6월 22일', '토요일', 'June Solstice', 'Season'],\n",
       " ['7월 17일', '수요일', 'Constitution Day', 'Observance'],\n",
       " ['8월 15일', '목요일', 'Liberation Day', 'National holiday'],\n",
       " ['9월 12일', '목요일', 'Chuseok Holiday', 'Public Holiday'],\n",
       " ['9월 13일', '금요일', 'Chuseok', 'Public Holiday'],\n",
       " ['9월 14일', '토요일', 'Chuseok Holiday', 'Public Holiday'],\n",
       " ['9월 23일', '월요일', 'September Equinox', 'Season'],\n",
       " ['10월 1일', '화요일', 'Armed Forces Day', 'Observance'],\n",
       " ['10월 3일', '목요일', 'National Foundation Day', 'National holiday'],\n",
       " ['10월 9일', '수요일', 'Hangeul Proclamation Day', 'National holiday'],\n",
       " ['10월 31일', '목요일', 'Halloween', 'Observance'],\n",
       " ['12월 22일', '일요일', 'December Solstice', 'Season'],\n",
       " ['12월 24일', '화요일', 'Christmas Eve', 'Observance'],\n",
       " ['12월 25일', '수요일', 'Christmas Day', 'Public Holiday'],\n",
       " ['12월 31일', '화요일', \"New Year's Eve\", 'Observance']]"
      ]
     },
     "execution_count": 141,
     "metadata": {},
     "output_type": "execute_result"
    }
   ],
   "source": [
    "result"
   ]
  },
  {
   "cell_type": "code",
   "execution_count": 138,
   "metadata": {},
   "outputs": [],
   "source": [
    "resultDF = pd.DataFrame(result, columns = ['DATE', 'WEEK', 'HOLIDAY_NAME', 'HOLIDAY_TYPE'])"
   ]
  },
  {
   "cell_type": "code",
   "execution_count": 139,
   "metadata": {},
   "outputs": [
    {
     "data": {
      "text/html": [
       "<div>\n",
       "<style scoped>\n",
       "    .dataframe tbody tr th:only-of-type {\n",
       "        vertical-align: middle;\n",
       "    }\n",
       "\n",
       "    .dataframe tbody tr th {\n",
       "        vertical-align: top;\n",
       "    }\n",
       "\n",
       "    .dataframe thead th {\n",
       "        text-align: right;\n",
       "    }\n",
       "</style>\n",
       "<table border=\"1\" class=\"dataframe\">\n",
       "  <thead>\n",
       "    <tr style=\"text-align: right;\">\n",
       "      <th></th>\n",
       "      <th>DATE</th>\n",
       "      <th>WEEK</th>\n",
       "      <th>HOLIDAY_NAME</th>\n",
       "      <th>HOLIDAY_TYPE</th>\n",
       "    </tr>\n",
       "  </thead>\n",
       "  <tbody>\n",
       "    <tr>\n",
       "      <th>0</th>\n",
       "      <td>1월 1일</td>\n",
       "      <td>화요일</td>\n",
       "      <td>New Year's Day</td>\n",
       "      <td>Public Holiday</td>\n",
       "    </tr>\n",
       "    <tr>\n",
       "      <th>1</th>\n",
       "      <td>2월 4일</td>\n",
       "      <td>월요일</td>\n",
       "      <td>Seollal Holiday</td>\n",
       "      <td>Public Holiday</td>\n",
       "    </tr>\n",
       "    <tr>\n",
       "      <th>2</th>\n",
       "      <td>2월 5일</td>\n",
       "      <td>화요일</td>\n",
       "      <td>Seollal</td>\n",
       "      <td>Public Holiday</td>\n",
       "    </tr>\n",
       "    <tr>\n",
       "      <th>3</th>\n",
       "      <td>2월 6일</td>\n",
       "      <td>수요일</td>\n",
       "      <td>Seollal Holiday</td>\n",
       "      <td>Public Holiday</td>\n",
       "    </tr>\n",
       "    <tr>\n",
       "      <th>4</th>\n",
       "      <td>2월 14일</td>\n",
       "      <td>목요일</td>\n",
       "      <td>Valentine's Day</td>\n",
       "      <td>Observance</td>\n",
       "    </tr>\n",
       "    <tr>\n",
       "      <th>5</th>\n",
       "      <td>3월 1일</td>\n",
       "      <td>금요일</td>\n",
       "      <td>Independence Movement Day</td>\n",
       "      <td>National holiday</td>\n",
       "    </tr>\n",
       "    <tr>\n",
       "      <th>6</th>\n",
       "      <td>3월 21일</td>\n",
       "      <td>목요일</td>\n",
       "      <td>March Equinox</td>\n",
       "      <td>Season</td>\n",
       "    </tr>\n",
       "    <tr>\n",
       "      <th>7</th>\n",
       "      <td>4월 5일</td>\n",
       "      <td>금요일</td>\n",
       "      <td>Arbor Day</td>\n",
       "      <td>Observance</td>\n",
       "    </tr>\n",
       "    <tr>\n",
       "      <th>8</th>\n",
       "      <td>5월 1일</td>\n",
       "      <td>수요일</td>\n",
       "      <td>Labor Day</td>\n",
       "      <td>Bank Holiday</td>\n",
       "    </tr>\n",
       "    <tr>\n",
       "      <th>9</th>\n",
       "      <td>5월 5일</td>\n",
       "      <td>일요일</td>\n",
       "      <td>Children's Day</td>\n",
       "      <td>Public Holiday</td>\n",
       "    </tr>\n",
       "    <tr>\n",
       "      <th>10</th>\n",
       "      <td>5월 6일</td>\n",
       "      <td>월요일</td>\n",
       "      <td>Children's Day observed</td>\n",
       "      <td>Public Holiday</td>\n",
       "    </tr>\n",
       "    <tr>\n",
       "      <th>11</th>\n",
       "      <td>5월 8일</td>\n",
       "      <td>수요일</td>\n",
       "      <td>Parents' Day</td>\n",
       "      <td>Observance</td>\n",
       "    </tr>\n",
       "    <tr>\n",
       "      <th>12</th>\n",
       "      <td>5월 12일</td>\n",
       "      <td>일요일</td>\n",
       "      <td>Buddha's Birthday</td>\n",
       "      <td>Public Holiday</td>\n",
       "    </tr>\n",
       "    <tr>\n",
       "      <th>13</th>\n",
       "      <td>5월 15일</td>\n",
       "      <td>수요일</td>\n",
       "      <td>Teacher's Day</td>\n",
       "      <td>Observance</td>\n",
       "    </tr>\n",
       "    <tr>\n",
       "      <th>14</th>\n",
       "      <td>6월 6일</td>\n",
       "      <td>목요일</td>\n",
       "      <td>Memorial Day</td>\n",
       "      <td>Public Holiday</td>\n",
       "    </tr>\n",
       "    <tr>\n",
       "      <th>15</th>\n",
       "      <td>6월 22일</td>\n",
       "      <td>토요일</td>\n",
       "      <td>June Solstice</td>\n",
       "      <td>Season</td>\n",
       "    </tr>\n",
       "    <tr>\n",
       "      <th>16</th>\n",
       "      <td>7월 17일</td>\n",
       "      <td>수요일</td>\n",
       "      <td>Constitution Day</td>\n",
       "      <td>Observance</td>\n",
       "    </tr>\n",
       "    <tr>\n",
       "      <th>17</th>\n",
       "      <td>8월 15일</td>\n",
       "      <td>목요일</td>\n",
       "      <td>Liberation Day</td>\n",
       "      <td>National holiday</td>\n",
       "    </tr>\n",
       "    <tr>\n",
       "      <th>18</th>\n",
       "      <td>9월 12일</td>\n",
       "      <td>목요일</td>\n",
       "      <td>Chuseok Holiday</td>\n",
       "      <td>Public Holiday</td>\n",
       "    </tr>\n",
       "    <tr>\n",
       "      <th>19</th>\n",
       "      <td>9월 13일</td>\n",
       "      <td>금요일</td>\n",
       "      <td>Chuseok</td>\n",
       "      <td>Public Holiday</td>\n",
       "    </tr>\n",
       "    <tr>\n",
       "      <th>20</th>\n",
       "      <td>9월 14일</td>\n",
       "      <td>토요일</td>\n",
       "      <td>Chuseok Holiday</td>\n",
       "      <td>Public Holiday</td>\n",
       "    </tr>\n",
       "    <tr>\n",
       "      <th>21</th>\n",
       "      <td>9월 23일</td>\n",
       "      <td>월요일</td>\n",
       "      <td>September Equinox</td>\n",
       "      <td>Season</td>\n",
       "    </tr>\n",
       "    <tr>\n",
       "      <th>22</th>\n",
       "      <td>10월 1일</td>\n",
       "      <td>화요일</td>\n",
       "      <td>Armed Forces Day</td>\n",
       "      <td>Observance</td>\n",
       "    </tr>\n",
       "    <tr>\n",
       "      <th>23</th>\n",
       "      <td>10월 3일</td>\n",
       "      <td>목요일</td>\n",
       "      <td>National Foundation Day</td>\n",
       "      <td>National holiday</td>\n",
       "    </tr>\n",
       "    <tr>\n",
       "      <th>24</th>\n",
       "      <td>10월 9일</td>\n",
       "      <td>수요일</td>\n",
       "      <td>Hangeul Proclamation Day</td>\n",
       "      <td>National holiday</td>\n",
       "    </tr>\n",
       "    <tr>\n",
       "      <th>25</th>\n",
       "      <td>10월 31일</td>\n",
       "      <td>목요일</td>\n",
       "      <td>Halloween</td>\n",
       "      <td>Observance</td>\n",
       "    </tr>\n",
       "    <tr>\n",
       "      <th>26</th>\n",
       "      <td>12월 22일</td>\n",
       "      <td>일요일</td>\n",
       "      <td>December Solstice</td>\n",
       "      <td>Season</td>\n",
       "    </tr>\n",
       "    <tr>\n",
       "      <th>27</th>\n",
       "      <td>12월 24일</td>\n",
       "      <td>화요일</td>\n",
       "      <td>Christmas Eve</td>\n",
       "      <td>Observance</td>\n",
       "    </tr>\n",
       "    <tr>\n",
       "      <th>28</th>\n",
       "      <td>12월 25일</td>\n",
       "      <td>수요일</td>\n",
       "      <td>Christmas Day</td>\n",
       "      <td>Public Holiday</td>\n",
       "    </tr>\n",
       "    <tr>\n",
       "      <th>29</th>\n",
       "      <td>12월 31일</td>\n",
       "      <td>화요일</td>\n",
       "      <td>New Year's Eve</td>\n",
       "      <td>Observance</td>\n",
       "    </tr>\n",
       "  </tbody>\n",
       "</table>\n",
       "</div>"
      ],
      "text/plain": [
       "       DATE WEEK               HOLIDAY_NAME      HOLIDAY_TYPE\n",
       "0     1월 1일  화요일             New Year's Day    Public Holiday\n",
       "1     2월 4일  월요일            Seollal Holiday    Public Holiday\n",
       "2     2월 5일  화요일                    Seollal    Public Holiday\n",
       "3     2월 6일  수요일            Seollal Holiday    Public Holiday\n",
       "4    2월 14일  목요일            Valentine's Day        Observance\n",
       "5     3월 1일  금요일  Independence Movement Day  National holiday\n",
       "6    3월 21일  목요일              March Equinox            Season\n",
       "7     4월 5일  금요일                  Arbor Day        Observance\n",
       "8     5월 1일  수요일                  Labor Day      Bank Holiday\n",
       "9     5월 5일  일요일             Children's Day    Public Holiday\n",
       "10    5월 6일  월요일    Children's Day observed    Public Holiday\n",
       "11    5월 8일  수요일               Parents' Day        Observance\n",
       "12   5월 12일  일요일          Buddha's Birthday    Public Holiday\n",
       "13   5월 15일  수요일              Teacher's Day        Observance\n",
       "14    6월 6일  목요일               Memorial Day    Public Holiday\n",
       "15   6월 22일  토요일              June Solstice            Season\n",
       "16   7월 17일  수요일           Constitution Day        Observance\n",
       "17   8월 15일  목요일             Liberation Day  National holiday\n",
       "18   9월 12일  목요일            Chuseok Holiday    Public Holiday\n",
       "19   9월 13일  금요일                    Chuseok    Public Holiday\n",
       "20   9월 14일  토요일            Chuseok Holiday    Public Holiday\n",
       "21   9월 23일  월요일          September Equinox            Season\n",
       "22   10월 1일  화요일           Armed Forces Day        Observance\n",
       "23   10월 3일  목요일    National Foundation Day  National holiday\n",
       "24   10월 9일  수요일   Hangeul Proclamation Day  National holiday\n",
       "25  10월 31일  목요일                  Halloween        Observance\n",
       "26  12월 22일  일요일          December Solstice            Season\n",
       "27  12월 24일  화요일              Christmas Eve        Observance\n",
       "28  12월 25일  수요일              Christmas Day    Public Holiday\n",
       "29  12월 31일  화요일             New Year's Eve        Observance"
      ]
     },
     "execution_count": 139,
     "metadata": {},
     "output_type": "execute_result"
    }
   ],
   "source": [
    "resultDF"
   ]
  },
  {
   "cell_type": "code",
   "execution_count": null,
   "metadata": {},
   "outputs": [],
   "source": []
  }
 ],
 "metadata": {
  "kernelspec": {
   "display_name": "Python 3",
   "language": "python",
   "name": "python3"
  },
  "language_info": {
   "codemirror_mode": {
    "name": "ipython",
    "version": 3
   },
   "file_extension": ".py",
   "mimetype": "text/x-python",
   "name": "python",
   "nbconvert_exporter": "python",
   "pygments_lexer": "ipython3",
   "version": "3.7.3"
  }
 },
 "nbformat": 4,
 "nbformat_minor": 2
}
